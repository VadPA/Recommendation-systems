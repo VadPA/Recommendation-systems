{
 "cells": [
  {
   "cell_type": "markdown",
   "id": "ac1111f8",
   "metadata": {},
   "source": [
    "# Вебинар 6. Двухуровневые модели рекомендаций"
   ]
  },
  {
   "cell_type": "markdown",
   "id": "788a38eb",
   "metadata": {},
   "source": [
    "### Зачем 2 уровня?\n",
    "- Классические модели классификации (lightgbm) зачастую работают лучше, чем рекоммендательные модели (als, lightfm)\n",
    "- Данных много, предсказаний много (# items * # users) --> с таким объемом lightgbm не справляется\n",
    "- Но рекомендательные модели справляются!\n",
    "\n",
    "Отбираем top-N (200) *кандидатов* с помощью простой модели (als) --> переранжируем их сложной моделью (lightgbm)\n",
    "и выберем top-k (10)."
   ]
  },
  {
   "cell_type": "markdown",
   "id": "9087f8ff",
   "metadata": {},
   "source": [
    "---"
   ]
  },
  {
   "cell_type": "markdown",
   "id": "4c16f429",
   "metadata": {},
   "source": [
    "### Как отбирать кандидатов?\n",
    "\n",
    "Вариантов множество. Тут нам поможет *MainRecommender*. Пока в нем реализованы далеко не все возможные способы генерации кандидатов\n",
    "\n",
    "- Генерируем топ-k кандидатов\n",
    "- Качество кандидатов измеряем через **recall@k**\n",
    "- recall@k показывает какую долю из купленных товаров мы смогли выявить (рекомендовать) нашей моделью"
   ]
  },
  {
   "cell_type": "markdown",
   "id": "3d3f9e55",
   "metadata": {},
   "source": [
    "# Практическая часть"
   ]
  },
  {
   "cell_type": "markdown",
   "id": "549ec281",
   "metadata": {},
   "source": [
    "# Import libs"
   ]
  },
  {
   "cell_type": "code",
   "execution_count": 12,
   "id": "3b488cd5",
   "metadata": {},
   "outputs": [],
   "source": [
    "import pandas as pd\n",
    "import numpy as np\n",
    "import matplotlib.pyplot as plt\n",
    "%matplotlib inline\n",
    "\n",
    "# Для работы с матрицами\n",
    "from scipy.sparse import csr_matrix\n",
    "\n",
    "# Матричная факторизация\n",
    "from implicit import als\n",
    "\n",
    "# Модель второго уровня\n",
    "from lightgbm import LGBMClassifier\n",
    "\n",
    "import os, sys\n",
    "module_path = os.path.abspath(os.path.join(os.pardir))\n",
    "if module_path not in sys.path:\n",
    "    sys.path.append(module_path)"
   ]
  },
  {
   "cell_type": "code",
   "execution_count": 13,
   "id": "524c1367",
   "metadata": {},
   "outputs": [],
   "source": [
    "# Написанные нами функции\n",
    "from metrics import precision_at_k, recall_at_k\n",
    "from utils import prefilter_items\n",
    "from recommenders import MainRecommender"
   ]
  },
  {
   "cell_type": "markdown",
   "id": "b628823f",
   "metadata": {},
   "source": [
    "## Read data"
   ]
  },
  {
   "cell_type": "code",
   "execution_count": 14,
   "id": "77dd22ab",
   "metadata": {},
   "outputs": [],
   "source": [
    "data = pd.read_csv('C:/Users/Вадим/Desktop/GeekBrains/Recommendation-systems/Lectures/Lecture_2/webinar_2/webinar_2'\n",
    "                   '/data/retail_train.csv')\n",
    "item_features = pd.read_csv('C:/Users/Вадим/Desktop/GeekBrains/Recommendation-systems/Lectures/Lecture_2/webinar_2/webinar_2'\n",
    "                   '/data/product.csv')\n",
    "user_features = pd.read_csv('C:/Users/Вадим/Desktop/GeekBrains/Recommendation-systems/Lectures/Lecture_2/webinar_2/webinar_2'\n",
    "                   '/data/hh_demographic.csv')"
   ]
  },
  {
   "cell_type": "code",
   "execution_count": 15,
   "id": "086ee984",
   "metadata": {},
   "outputs": [
    {
     "data": {
      "text/html": [
       "<div>\n",
       "<style scoped>\n",
       "    .dataframe tbody tr th:only-of-type {\n",
       "        vertical-align: middle;\n",
       "    }\n",
       "\n",
       "    .dataframe tbody tr th {\n",
       "        vertical-align: top;\n",
       "    }\n",
       "\n",
       "    .dataframe thead th {\n",
       "        text-align: right;\n",
       "    }\n",
       "</style>\n",
       "<table border=\"1\" class=\"dataframe\">\n",
       "  <thead>\n",
       "    <tr style=\"text-align: right;\">\n",
       "      <th></th>\n",
       "      <th>user_id</th>\n",
       "      <th>basket_id</th>\n",
       "      <th>day</th>\n",
       "      <th>item_id</th>\n",
       "      <th>quantity</th>\n",
       "      <th>sales_value</th>\n",
       "      <th>store_id</th>\n",
       "      <th>retail_disc</th>\n",
       "      <th>trans_time</th>\n",
       "      <th>week_no</th>\n",
       "      <th>coupon_disc</th>\n",
       "      <th>coupon_match_disc</th>\n",
       "    </tr>\n",
       "  </thead>\n",
       "  <tbody>\n",
       "    <tr>\n",
       "      <th>0</th>\n",
       "      <td>2375</td>\n",
       "      <td>26984851472</td>\n",
       "      <td>1</td>\n",
       "      <td>1004906</td>\n",
       "      <td>1</td>\n",
       "      <td>1.39</td>\n",
       "      <td>364</td>\n",
       "      <td>-0.6</td>\n",
       "      <td>1631</td>\n",
       "      <td>1</td>\n",
       "      <td>0.0</td>\n",
       "      <td>0.0</td>\n",
       "    </tr>\n",
       "    <tr>\n",
       "      <th>1</th>\n",
       "      <td>2375</td>\n",
       "      <td>26984851472</td>\n",
       "      <td>1</td>\n",
       "      <td>1033142</td>\n",
       "      <td>1</td>\n",
       "      <td>0.82</td>\n",
       "      <td>364</td>\n",
       "      <td>0.0</td>\n",
       "      <td>1631</td>\n",
       "      <td>1</td>\n",
       "      <td>0.0</td>\n",
       "      <td>0.0</td>\n",
       "    </tr>\n",
       "  </tbody>\n",
       "</table>\n",
       "</div>"
      ],
      "text/plain": [
       "   user_id    basket_id  day  item_id  quantity  sales_value  store_id  \\\n",
       "0     2375  26984851472    1  1004906         1         1.39       364   \n",
       "1     2375  26984851472    1  1033142         1         0.82       364   \n",
       "\n",
       "   retail_disc  trans_time  week_no  coupon_disc  coupon_match_disc  \n",
       "0         -0.6        1631        1          0.0                0.0  \n",
       "1          0.0        1631        1          0.0                0.0  "
      ]
     },
     "execution_count": 15,
     "metadata": {},
     "output_type": "execute_result"
    }
   ],
   "source": [
    "data.head(2)"
   ]
  },
  {
   "cell_type": "markdown",
   "id": "c2aa8c1c",
   "metadata": {},
   "source": [
    "# Process features dataset"
   ]
  },
  {
   "cell_type": "code",
   "execution_count": 16,
   "id": "7ea05735",
   "metadata": {},
   "outputs": [],
   "source": [
    "ITEM_COL = 'item_id'\n",
    "USER_COL = 'user_id'"
   ]
  },
  {
   "cell_type": "code",
   "execution_count": 17,
   "id": "4e302668",
   "metadata": {},
   "outputs": [],
   "source": [
    "# column processing\n",
    "item_features.columns = [col.lower() for col in item_features.columns]\n",
    "user_features.columns = [col.lower() for col in user_features.columns]\n",
    "\n",
    "item_features.rename(columns={'product_id': ITEM_COL}, inplace=True)\n",
    "user_features.rename(columns={'household_key': USER_COL }, inplace=True)"
   ]
  },
  {
   "cell_type": "code",
   "execution_count": 18,
   "id": "828823bb",
   "metadata": {
    "scrolled": true
   },
   "outputs": [
    {
     "data": {
      "text/html": [
       "<div>\n",
       "<style scoped>\n",
       "    .dataframe tbody tr th:only-of-type {\n",
       "        vertical-align: middle;\n",
       "    }\n",
       "\n",
       "    .dataframe tbody tr th {\n",
       "        vertical-align: top;\n",
       "    }\n",
       "\n",
       "    .dataframe thead th {\n",
       "        text-align: right;\n",
       "    }\n",
       "</style>\n",
       "<table border=\"1\" class=\"dataframe\">\n",
       "  <thead>\n",
       "    <tr style=\"text-align: right;\">\n",
       "      <th></th>\n",
       "      <th>item_id</th>\n",
       "      <th>manufacturer</th>\n",
       "      <th>department</th>\n",
       "      <th>brand</th>\n",
       "      <th>commodity_desc</th>\n",
       "      <th>sub_commodity_desc</th>\n",
       "      <th>curr_size_of_product</th>\n",
       "    </tr>\n",
       "  </thead>\n",
       "  <tbody>\n",
       "    <tr>\n",
       "      <th>0</th>\n",
       "      <td>25671</td>\n",
       "      <td>2</td>\n",
       "      <td>GROCERY</td>\n",
       "      <td>National</td>\n",
       "      <td>FRZN ICE</td>\n",
       "      <td>ICE - CRUSHED/CUBED</td>\n",
       "      <td>22 LB</td>\n",
       "    </tr>\n",
       "    <tr>\n",
       "      <th>1</th>\n",
       "      <td>26081</td>\n",
       "      <td>2</td>\n",
       "      <td>MISC. TRANS.</td>\n",
       "      <td>National</td>\n",
       "      <td>NO COMMODITY DESCRIPTION</td>\n",
       "      <td>NO SUBCOMMODITY DESCRIPTION</td>\n",
       "      <td></td>\n",
       "    </tr>\n",
       "  </tbody>\n",
       "</table>\n",
       "</div>"
      ],
      "text/plain": [
       "   item_id  manufacturer    department     brand            commodity_desc  \\\n",
       "0    25671             2       GROCERY  National                  FRZN ICE   \n",
       "1    26081             2  MISC. TRANS.  National  NO COMMODITY DESCRIPTION   \n",
       "\n",
       "            sub_commodity_desc curr_size_of_product  \n",
       "0          ICE - CRUSHED/CUBED                22 LB  \n",
       "1  NO SUBCOMMODITY DESCRIPTION                       "
      ]
     },
     "execution_count": 18,
     "metadata": {},
     "output_type": "execute_result"
    }
   ],
   "source": [
    "item_features.head(2)"
   ]
  },
  {
   "cell_type": "code",
   "execution_count": 19,
   "id": "4576e02f",
   "metadata": {},
   "outputs": [
    {
     "data": {
      "text/plain": [
       "GROCERY            39021\n",
       "DRUG GM            31529\n",
       "PRODUCE             3118\n",
       "COSMETICS           3011\n",
       "NUTRITION           2914\n",
       "MEAT                2544\n",
       "MEAT-PCKGD          2427\n",
       "DELI                2354\n",
       "PASTRY              2149\n",
       "FLORAL               938\n",
       "SEAFOOD-PCKGD        563\n",
       "MISC. TRANS.         490\n",
       "SPIRITS              377\n",
       "SEAFOOD              369\n",
       "GARDEN CENTER        128\n",
       "RESTAURANT           102\n",
       "MISC SALES TRAN       88\n",
       "SALAD BAR             48\n",
       "COUP/STR & MFG        39\n",
       "TRAVEL & LEISUR       28\n",
       "FROZEN GROCERY        23\n",
       "KIOSK-GAS             16\n",
       "                      15\n",
       "CHEF SHOPPE           14\n",
       "RX                     9\n",
       "CNTRL/STORE SUP        4\n",
       "DAIRY DELI             3\n",
       "TOYS                   3\n",
       "POSTAL CENTER          3\n",
       "GM MERCH EXP           3\n",
       "VIDEO RENTAL           3\n",
       "AUTOMOTIVE             2\n",
       "PHOTO                  2\n",
       "VIDEO                  2\n",
       "PROD-WHS SALES         2\n",
       "DELI/SNACK BAR         2\n",
       "CHARITABLE CONT        2\n",
       "GRO BAKERY             2\n",
       "PORK                   1\n",
       "HBC                    1\n",
       "MEAT-WHSE              1\n",
       "HOUSEWARES             1\n",
       "ELECT &PLUMBING        1\n",
       "PHARMACY SUPPLY        1\n",
       "Name: department, dtype: int64"
      ]
     },
     "execution_count": 19,
     "metadata": {},
     "output_type": "execute_result"
    }
   ],
   "source": [
    "item_features.department.value_counts()"
   ]
  },
  {
   "cell_type": "markdown",
   "id": "c19feccb",
   "metadata": {},
   "source": [
    "DRUG General Merchandise - ЛЕКАРСТВЕННЫЕ СРЕДСТВА Общего назначения, GRO BAKERY - ХЛЕБОБУЛОЧНЫЕ ИЗДЕЛИЯ, PORK - СВИНИНА, HBC - ХБК, MEAT-WHSE - МЯСОКОПЧЕНОСТИ, PROD-WHS SALES - ПРОДАЖА ПРОДТОВАРОВ, HOUSEWARES - ТОВАРЫ ДЛЯ ДОМА, PRODUCE - ПРОДУКТЫ, COSMETICS - КОСМЕТИКА, NUTRITION - ПИТАНИЕ, MEAT - МЯСО, MEAT-PACKAGED - МЯСОПРОДУКТЫ, DELI - ДЕЛИКАТЕСЫ, PASTRY - КОНДИТЕРСКИЕ ИЗДЕЛИЯ,"
   ]
  },
  {
   "cell_type": "code",
   "execution_count": 20,
   "id": "497618ad",
   "metadata": {},
   "outputs": [
    {
     "data": {
      "text/plain": [
       "6476"
      ]
     },
     "execution_count": 20,
     "metadata": {},
     "output_type": "execute_result"
    }
   ],
   "source": [
    "len(item_features.manufacturer.unique())"
   ]
  },
  {
   "cell_type": "code",
   "execution_count": 21,
   "id": "00ee2dec",
   "metadata": {},
   "outputs": [
    {
     "data": {
      "text/plain": [
       "69      12676\n",
       "2        1411\n",
       "5423     1376\n",
       "764      1332\n",
       "1407     1210\n",
       "693       979\n",
       "544       915\n",
       "5143      771\n",
       "1046      717\n",
       "1251      685\n",
       "673       682\n",
       "317       669\n",
       "895       642\n",
       "194       641\n",
       "1628      589\n",
       "103       535\n",
       "177       532\n",
       "958       526\n",
       "857       512\n",
       "1075      490\n",
       "794       461\n",
       "1208      445\n",
       "373       415\n",
       "751       382\n",
       "1225      382\n",
       "Name: manufacturer, dtype: int64"
      ]
     },
     "execution_count": 21,
     "metadata": {},
     "output_type": "execute_result"
    }
   ],
   "source": [
    "item_features.manufacturer.value_counts()[:25]"
   ]
  },
  {
   "cell_type": "code",
   "execution_count": 22,
   "id": "70bc1263",
   "metadata": {},
   "outputs": [
    {
     "data": {
      "text/plain": [
       "National    78537\n",
       "Private     13816\n",
       "Name: brand, dtype: int64"
      ]
     },
     "execution_count": 22,
     "metadata": {},
     "output_type": "execute_result"
    }
   ],
   "source": [
    "item_features.brand.value_counts()"
   ]
  },
  {
   "cell_type": "code",
   "execution_count": 23,
   "id": "d09f04d9",
   "metadata": {},
   "outputs": [
    {
     "data": {
      "text/plain": [
       "308"
      ]
     },
     "execution_count": 23,
     "metadata": {},
     "output_type": "execute_result"
    }
   ],
   "source": [
    "len(item_features.commodity_desc.unique())"
   ]
  },
  {
   "cell_type": "code",
   "execution_count": 24,
   "id": "ddd7517b",
   "metadata": {},
   "outputs": [
    {
     "data": {
      "text/plain": [
       "4345"
      ]
     },
     "execution_count": 24,
     "metadata": {},
     "output_type": "execute_result"
    }
   ],
   "source": [
    "len(item_features.curr_size_of_product.unique())"
   ]
  },
  {
   "cell_type": "code",
   "execution_count": 25,
   "id": "e2cc10a9",
   "metadata": {},
   "outputs": [
    {
     "data": {
      "text/plain": [
       "array(['22 LB', ' ', '50 OZ', ..., '6.3 IN', '35 LD', '2 LTR PET'],\n",
       "      dtype=object)"
      ]
     },
     "execution_count": 25,
     "metadata": {},
     "output_type": "execute_result"
    }
   ],
   "source": [
    "item_features.curr_size_of_product.unique()"
   ]
  },
  {
   "cell_type": "code",
   "execution_count": 26,
   "id": "36e14699",
   "metadata": {
    "scrolled": true
   },
   "outputs": [
    {
     "data": {
      "text/html": [
       "<div>\n",
       "<style scoped>\n",
       "    .dataframe tbody tr th:only-of-type {\n",
       "        vertical-align: middle;\n",
       "    }\n",
       "\n",
       "    .dataframe tbody tr th {\n",
       "        vertical-align: top;\n",
       "    }\n",
       "\n",
       "    .dataframe thead th {\n",
       "        text-align: right;\n",
       "    }\n",
       "</style>\n",
       "<table border=\"1\" class=\"dataframe\">\n",
       "  <thead>\n",
       "    <tr style=\"text-align: right;\">\n",
       "      <th></th>\n",
       "      <th>age_desc</th>\n",
       "      <th>marital_status_code</th>\n",
       "      <th>income_desc</th>\n",
       "      <th>homeowner_desc</th>\n",
       "      <th>hh_comp_desc</th>\n",
       "      <th>household_size_desc</th>\n",
       "      <th>kid_category_desc</th>\n",
       "      <th>user_id</th>\n",
       "    </tr>\n",
       "  </thead>\n",
       "  <tbody>\n",
       "    <tr>\n",
       "      <th>0</th>\n",
       "      <td>65+</td>\n",
       "      <td>A</td>\n",
       "      <td>35-49K</td>\n",
       "      <td>Homeowner</td>\n",
       "      <td>2 Adults No Kids</td>\n",
       "      <td>2</td>\n",
       "      <td>None/Unknown</td>\n",
       "      <td>1</td>\n",
       "    </tr>\n",
       "    <tr>\n",
       "      <th>1</th>\n",
       "      <td>45-54</td>\n",
       "      <td>A</td>\n",
       "      <td>50-74K</td>\n",
       "      <td>Homeowner</td>\n",
       "      <td>2 Adults No Kids</td>\n",
       "      <td>2</td>\n",
       "      <td>None/Unknown</td>\n",
       "      <td>7</td>\n",
       "    </tr>\n",
       "  </tbody>\n",
       "</table>\n",
       "</div>"
      ],
      "text/plain": [
       "  age_desc marital_status_code income_desc homeowner_desc      hh_comp_desc  \\\n",
       "0      65+                   A      35-49K      Homeowner  2 Adults No Kids   \n",
       "1    45-54                   A      50-74K      Homeowner  2 Adults No Kids   \n",
       "\n",
       "  household_size_desc kid_category_desc  user_id  \n",
       "0                   2      None/Unknown        1  \n",
       "1                   2      None/Unknown        7  "
      ]
     },
     "execution_count": 26,
     "metadata": {},
     "output_type": "execute_result"
    }
   ],
   "source": [
    "user_features.head(2)"
   ]
  },
  {
   "cell_type": "code",
   "execution_count": 27,
   "id": "91a47f14",
   "metadata": {},
   "outputs": [
    {
     "data": {
      "text/plain": [
       "1440"
      ]
     },
     "execution_count": 27,
     "metadata": {},
     "output_type": "execute_result"
    }
   ],
   "source": [
    "len(data.trans_time.unique())"
   ]
  },
  {
   "cell_type": "code",
   "execution_count": null,
   "id": "64c3178a",
   "metadata": {},
   "outputs": [],
   "source": [
    "categorical_columns = ['department', '']\n",
    "continuous_columns = ['manufacturer','', '', '', '', '']\n",
    "categorical_bin_columns = ['brand',  'HasCrCard', 'IsActiveMember']"
   ]
  },
  {
   "cell_type": "code",
   "execution_count": null,
   "id": "86ab36e9",
   "metadata": {},
   "outputs": [],
   "source": [
    "# ниже надо реализовать, когда соединю все три датасета\n",
    "X = item_features.groupby(['user_id']).agg({\n",
    "    'commodity_desc': lambda x: list(x)\n",
    "})\n"
   ]
  },
  {
   "cell_type": "markdown",
   "id": "764b4604",
   "metadata": {},
   "source": [
    "# Split dataset for train, eval, test"
   ]
  },
  {
   "cell_type": "code",
   "execution_count": 28,
   "id": "dc1e0074",
   "metadata": {},
   "outputs": [],
   "source": [
    "# Важна схема обучения и валидации!\n",
    "# -- давние покупки -- | -- 6 недель -- | -- 3 недель -- \n",
    "# подобрать размер 2-ого датасета (6 недель) --> learning curve (зависимость метрики recall@k от размера датасета)\n",
    "\n",
    "\n",
    "VAL_MATCHER_WEEKS = 6\n",
    "VAL_RANKER_WEEKS = 3"
   ]
  },
  {
   "cell_type": "code",
   "execution_count": 29,
   "id": "54319098",
   "metadata": {},
   "outputs": [],
   "source": [
    "# берем данные для тренировки matching модели\n",
    "data_train_matcher = data[data['week_no'] < data['week_no'].max() - (VAL_MATCHER_WEEKS + VAL_RANKER_WEEKS)]\n",
    "\n",
    "# берем данные для валидации matching модели\n",
    "data_val_matcher = data[(data['week_no'] >= data['week_no'].max() - (VAL_MATCHER_WEEKS + VAL_RANKER_WEEKS)) &\n",
    "                      (data['week_no'] < data['week_no'].max() - (VAL_RANKER_WEEKS))]\n",
    "\n",
    "\n",
    "# берем данные для тренировки ranking модели\n",
    "data_train_ranker = data_val_matcher.copy()  # Для наглядности. Далее мы добавим изменения, и они будут отличаться\n",
    "\n",
    "# берем данные для теста ranking, matching модели\n",
    "data_val_ranker = data[data['week_no'] >= data['week_no'].max() - VAL_RANKER_WEEKS]"
   ]
  },
  {
   "cell_type": "code",
   "execution_count": 30,
   "id": "82956b88",
   "metadata": {},
   "outputs": [],
   "source": [
    "def print_stats_data(df_data, name_df):\n",
    "    print(name_df)\n",
    "    print(f\"Shape: {df_data.shape} Users: {df_data[USER_COL].nunique()} Items: {df_data[ITEM_COL].nunique()}\")"
   ]
  },
  {
   "cell_type": "code",
   "execution_count": 31,
   "id": "3b7d84ab",
   "metadata": {},
   "outputs": [
    {
     "name": "stdout",
     "output_type": "stream",
     "text": [
      "train_matcher\n",
      "Shape: (2108779, 12) Users: 2498 Items: 83685\n",
      "val_matcher\n",
      "Shape: (169711, 12) Users: 2154 Items: 27649\n",
      "train_ranker\n",
      "Shape: (169711, 12) Users: 2154 Items: 27649\n",
      "val_ranker\n",
      "Shape: (118314, 12) Users: 2042 Items: 24329\n"
     ]
    }
   ],
   "source": [
    "print_stats_data(data_train_matcher,'train_matcher')\n",
    "print_stats_data(data_val_matcher,'val_matcher')\n",
    "print_stats_data(data_train_ranker,'train_ranker')\n",
    "print_stats_data(data_val_ranker,'val_ranker')"
   ]
  },
  {
   "cell_type": "markdown",
   "id": "6c24b4db",
   "metadata": {},
   "source": [
    "- видим разброс по пользователям и товарам"
   ]
  },
  {
   "cell_type": "code",
   "execution_count": 32,
   "id": "c5ba4f82",
   "metadata": {},
   "outputs": [
    {
     "data": {
      "text/html": [
       "<div>\n",
       "<style scoped>\n",
       "    .dataframe tbody tr th:only-of-type {\n",
       "        vertical-align: middle;\n",
       "    }\n",
       "\n",
       "    .dataframe tbody tr th {\n",
       "        vertical-align: top;\n",
       "    }\n",
       "\n",
       "    .dataframe thead th {\n",
       "        text-align: right;\n",
       "    }\n",
       "</style>\n",
       "<table border=\"1\" class=\"dataframe\">\n",
       "  <thead>\n",
       "    <tr style=\"text-align: right;\">\n",
       "      <th></th>\n",
       "      <th>user_id</th>\n",
       "      <th>basket_id</th>\n",
       "      <th>day</th>\n",
       "      <th>item_id</th>\n",
       "      <th>quantity</th>\n",
       "      <th>sales_value</th>\n",
       "      <th>store_id</th>\n",
       "      <th>retail_disc</th>\n",
       "      <th>trans_time</th>\n",
       "      <th>week_no</th>\n",
       "      <th>coupon_disc</th>\n",
       "      <th>coupon_match_disc</th>\n",
       "    </tr>\n",
       "  </thead>\n",
       "  <tbody>\n",
       "    <tr>\n",
       "      <th>0</th>\n",
       "      <td>2375</td>\n",
       "      <td>26984851472</td>\n",
       "      <td>1</td>\n",
       "      <td>1004906</td>\n",
       "      <td>1</td>\n",
       "      <td>1.39</td>\n",
       "      <td>364</td>\n",
       "      <td>-0.6</td>\n",
       "      <td>1631</td>\n",
       "      <td>1</td>\n",
       "      <td>0.0</td>\n",
       "      <td>0.0</td>\n",
       "    </tr>\n",
       "    <tr>\n",
       "      <th>1</th>\n",
       "      <td>2375</td>\n",
       "      <td>26984851472</td>\n",
       "      <td>1</td>\n",
       "      <td>1033142</td>\n",
       "      <td>1</td>\n",
       "      <td>0.82</td>\n",
       "      <td>364</td>\n",
       "      <td>0.0</td>\n",
       "      <td>1631</td>\n",
       "      <td>1</td>\n",
       "      <td>0.0</td>\n",
       "      <td>0.0</td>\n",
       "    </tr>\n",
       "  </tbody>\n",
       "</table>\n",
       "</div>"
      ],
      "text/plain": [
       "   user_id    basket_id  day  item_id  quantity  sales_value  store_id  \\\n",
       "0     2375  26984851472    1  1004906         1         1.39       364   \n",
       "1     2375  26984851472    1  1033142         1         0.82       364   \n",
       "\n",
       "   retail_disc  trans_time  week_no  coupon_disc  coupon_match_disc  \n",
       "0         -0.6        1631        1          0.0                0.0  \n",
       "1          0.0        1631        1          0.0                0.0  "
      ]
     },
     "execution_count": 32,
     "metadata": {},
     "output_type": "execute_result"
    }
   ],
   "source": [
    "data_train_matcher.head(2)"
   ]
  },
  {
   "cell_type": "markdown",
   "id": "21b31d4f",
   "metadata": {},
   "source": [
    "# Prefilter items"
   ]
  },
  {
   "cell_type": "code",
   "execution_count": 33,
   "id": "38faeb71",
   "metadata": {},
   "outputs": [
    {
     "name": "stderr",
     "output_type": "stream",
     "text": [
      "C:\\Users\\Вадим\\Desktop\\GeekBrains\\Recommendation-systems\\Homework\\Lesson_6\\utils.py:64: SettingWithCopyWarning: \n",
      "A value is trying to be set on a copy of a slice from a DataFrame.\n",
      "Try using .loc[row_indexer,col_indexer] = value instead\n",
      "\n",
      "See the caveats in the documentation: https://pandas.pydata.org/pandas-docs/stable/user_guide/indexing.html#returning-a-view-versus-a-copy\n",
      "  data['price'] = data['sales_value'] / data['quantity']\n"
     ]
    },
    {
     "name": "stdout",
     "output_type": "stream",
     "text": [
      "Decreased # items from 83685 to 5001\n"
     ]
    }
   ],
   "source": [
    "n_items_before = data_train_matcher['item_id'].nunique()\n",
    "\n",
    "data_train_matcher = prefilter_items(data_train_matcher, item_features=item_features, take_n_popular=5000)\n",
    "\n",
    "n_items_after = data_train_matcher['item_id'].nunique()\n",
    "print('Decreased # items from {} to {}'.format(n_items_before, n_items_after))"
   ]
  },
  {
   "cell_type": "code",
   "execution_count": 34,
   "id": "1bc59ebe",
   "metadata": {},
   "outputs": [
    {
     "data": {
      "text/html": [
       "<div>\n",
       "<style scoped>\n",
       "    .dataframe tbody tr th:only-of-type {\n",
       "        vertical-align: middle;\n",
       "    }\n",
       "\n",
       "    .dataframe tbody tr th {\n",
       "        vertical-align: top;\n",
       "    }\n",
       "\n",
       "    .dataframe thead th {\n",
       "        text-align: right;\n",
       "    }\n",
       "</style>\n",
       "<table border=\"1\" class=\"dataframe\">\n",
       "  <thead>\n",
       "    <tr style=\"text-align: right;\">\n",
       "      <th></th>\n",
       "      <th>user_id</th>\n",
       "      <th>basket_id</th>\n",
       "      <th>day</th>\n",
       "      <th>item_id</th>\n",
       "      <th>quantity</th>\n",
       "      <th>sales_value</th>\n",
       "      <th>store_id</th>\n",
       "      <th>retail_disc</th>\n",
       "      <th>trans_time</th>\n",
       "      <th>week_no</th>\n",
       "      <th>coupon_disc</th>\n",
       "      <th>coupon_match_disc</th>\n",
       "      <th>price</th>\n",
       "    </tr>\n",
       "  </thead>\n",
       "  <tbody>\n",
       "    <tr>\n",
       "      <th>7</th>\n",
       "      <td>2375</td>\n",
       "      <td>26984851516</td>\n",
       "      <td>1</td>\n",
       "      <td>1085983</td>\n",
       "      <td>1</td>\n",
       "      <td>2.99</td>\n",
       "      <td>364</td>\n",
       "      <td>-0.4</td>\n",
       "      <td>1642</td>\n",
       "      <td>1</td>\n",
       "      <td>0.0</td>\n",
       "      <td>0.0</td>\n",
       "      <td>2.99</td>\n",
       "    </tr>\n",
       "    <tr>\n",
       "      <th>11</th>\n",
       "      <td>1364</td>\n",
       "      <td>26984896261</td>\n",
       "      <td>1</td>\n",
       "      <td>999999</td>\n",
       "      <td>1</td>\n",
       "      <td>2.19</td>\n",
       "      <td>31742</td>\n",
       "      <td>0.0</td>\n",
       "      <td>1520</td>\n",
       "      <td>1</td>\n",
       "      <td>0.0</td>\n",
       "      <td>0.0</td>\n",
       "      <td>2.19</td>\n",
       "    </tr>\n",
       "  </tbody>\n",
       "</table>\n",
       "</div>"
      ],
      "text/plain": [
       "    user_id    basket_id  day  item_id  quantity  sales_value  store_id  \\\n",
       "7      2375  26984851516    1  1085983         1         2.99       364   \n",
       "11     1364  26984896261    1   999999         1         2.19     31742   \n",
       "\n",
       "    retail_disc  trans_time  week_no  coupon_disc  coupon_match_disc  price  \n",
       "7          -0.4        1642        1          0.0                0.0   2.99  \n",
       "11          0.0        1520        1          0.0                0.0   2.19  "
      ]
     },
     "execution_count": 34,
     "metadata": {},
     "output_type": "execute_result"
    }
   ],
   "source": [
    "data_train_matcher.head(2)"
   ]
  },
  {
   "cell_type": "markdown",
   "id": "af80cc3b",
   "metadata": {},
   "source": [
    "# Make cold-start to warm-start"
   ]
  },
  {
   "cell_type": "code",
   "execution_count": 35,
   "id": "8ce33d1f",
   "metadata": {},
   "outputs": [
    {
     "name": "stdout",
     "output_type": "stream",
     "text": [
      "train_matcher\n",
      "Shape: (861401, 13) Users: 2495 Items: 5001\n",
      "val_matcher\n",
      "Shape: (169615, 12) Users: 2151 Items: 27644\n",
      "train_ranker\n",
      "Shape: (169615, 12) Users: 2151 Items: 27644\n",
      "val_ranker\n",
      "Shape: (118282, 12) Users: 2040 Items: 24325\n"
     ]
    }
   ],
   "source": [
    "# ищем общих пользователей\n",
    "common_users = data_train_matcher.user_id.values\n",
    "\n",
    "data_val_matcher = data_val_matcher[data_val_matcher.user_id.isin(common_users)]\n",
    "data_train_ranker = data_train_ranker[data_train_ranker.user_id.isin(common_users)]\n",
    "data_val_ranker = data_val_ranker[data_val_ranker.user_id.isin(common_users)]\n",
    "\n",
    "print_stats_data(data_train_matcher,'train_matcher')\n",
    "print_stats_data(data_val_matcher,'val_matcher')\n",
    "print_stats_data(data_train_ranker,'train_ranker')\n",
    "print_stats_data(data_val_ranker,'val_ranker')"
   ]
  },
  {
   "cell_type": "markdown",
   "id": "d12f2f00",
   "metadata": {},
   "source": [
    "#### Теперь warm-start по пользователям"
   ]
  },
  {
   "cell_type": "markdown",
   "id": "324630d4",
   "metadata": {},
   "source": [
    "# Init/train recommender"
   ]
  },
  {
   "cell_type": "code",
   "execution_count": 36,
   "id": "db50b822",
   "metadata": {},
   "outputs": [
    {
     "name": "stderr",
     "output_type": "stream",
     "text": [
      "WARNING:root:Intel MKL BLAS detected. Its highly recommend to set the environment variable 'export MKL_NUM_THREADS=1' to disable its internal multithreading\n"
     ]
    },
    {
     "data": {
      "application/vnd.jupyter.widget-view+json": {
       "model_id": "837ef97146ba4a39b8581b01534057ef",
       "version_major": 2,
       "version_minor": 0
      },
      "text/plain": [
       "  0%|          | 0/15 [00:00<?, ?it/s]"
      ]
     },
     "metadata": {},
     "output_type": "display_data"
    },
    {
     "data": {
      "application/vnd.jupyter.widget-view+json": {
       "model_id": "46d61f09b476498ab53874aa57a45835",
       "version_major": 2,
       "version_minor": 0
      },
      "text/plain": [
       "  0%|          | 0/15 [00:00<?, ?it/s]"
      ]
     },
     "metadata": {},
     "output_type": "display_data"
    },
    {
     "data": {
      "application/vnd.jupyter.widget-view+json": {
       "model_id": "4390a702a5ed4cbd97be06f5592dddd0",
       "version_major": 2,
       "version_minor": 0
      },
      "text/plain": [
       "  0%|          | 0/5001 [00:00<?, ?it/s]"
      ]
     },
     "metadata": {},
     "output_type": "display_data"
    }
   ],
   "source": [
    "recommender = MainRecommender(data_train_matcher)"
   ]
  },
  {
   "cell_type": "markdown",
   "id": "a699f5df",
   "metadata": {},
   "source": [
    "### Варианты, как получить кандидатов\n",
    "\n",
    "Можно потом все эти варианты соединить в один\n",
    "\n",
    "(!) Если модель рекомендует < N товаров, то рекомендации дополняются топ-популярными товарами до N"
   ]
  },
  {
   "cell_type": "markdown",
   "id": "f67c7ff7",
   "metadata": {},
   "source": [
    "#### Берем тестового юзера 2375"
   ]
  },
  {
   "cell_type": "code",
   "execution_count": 37,
   "id": "32e85bae",
   "metadata": {},
   "outputs": [
    {
     "data": {
      "text/plain": [
       "[899624, 1124695, 1106523, 1107420, 871756]"
      ]
     },
     "execution_count": 37,
     "metadata": {},
     "output_type": "execute_result"
    }
   ],
   "source": [
    "recommender.get_als_recommendations(2375, N=5)"
   ]
  },
  {
   "cell_type": "code",
   "execution_count": 38,
   "id": "0248a877",
   "metadata": {},
   "outputs": [
    {
     "data": {
      "text/plain": [
       "[948640, 918046, 847962, 907099, 873980]"
      ]
     },
     "execution_count": 38,
     "metadata": {},
     "output_type": "execute_result"
    }
   ],
   "source": [
    "recommender.get_own_recommendations(2375, N=5)"
   ]
  },
  {
   "cell_type": "code",
   "execution_count": 39,
   "id": "81633a78",
   "metadata": {},
   "outputs": [
    {
     "data": {
      "text/plain": [
       "[1046545, 1044078, 1042907, 999714, 824758]"
      ]
     },
     "execution_count": 39,
     "metadata": {},
     "output_type": "execute_result"
    }
   ],
   "source": [
    "recommender.get_similar_items_recommendation(2375, N=5)"
   ]
  },
  {
   "cell_type": "code",
   "execution_count": 40,
   "id": "24ed606d",
   "metadata": {},
   "outputs": [
    {
     "data": {
      "text/plain": [
       "[1055403, 935578, 1138596, 10198378, 1069256]"
      ]
     },
     "execution_count": 40,
     "metadata": {},
     "output_type": "execute_result"
    }
   ],
   "source": [
    "recommender.get_similar_users_recommendation(2375, N=5)"
   ]
  },
  {
   "cell_type": "markdown",
   "id": "b59012a0",
   "metadata": {},
   "source": [
    "# Eval recall of matching"
   ]
  },
  {
   "cell_type": "markdown",
   "id": "55c354cf",
   "metadata": {},
   "source": [
    "### Измеряем recall@k\n",
    "\n",
    "Это будет в ДЗ: \n",
    "\n",
    "A) Попробуйте различные варианты генерации кандидатов. Какие из них дают наибольший recall@k ?\n",
    "- Пока пробуем отобрать 50 кандидатов (k=50)\n",
    "- Качество измеряем на data_val_matcher: следующие 6 недель после трейна\n",
    "\n",
    "Дают ли own recommendtions + top-popular лучший recall?  \n",
    "\n",
    "B)* Как зависит recall@k от k? Постройте для одной схемы генерации кандидатов эту зависимость для k = {20, 50, 100, 200, 500}  \n",
    "C)* Исходя из прошлого вопроса, как вы думаете, какое значение k является наиболее разумным?\n"
   ]
  },
  {
   "cell_type": "code",
   "execution_count": 41,
   "id": "ecd4c00a",
   "metadata": {},
   "outputs": [],
   "source": [
    "ACTUAL_COL = 'actual'"
   ]
  },
  {
   "cell_type": "code",
   "execution_count": 42,
   "id": "ba581506",
   "metadata": {},
   "outputs": [
    {
     "data": {
      "text/html": [
       "<div>\n",
       "<style scoped>\n",
       "    .dataframe tbody tr th:only-of-type {\n",
       "        vertical-align: middle;\n",
       "    }\n",
       "\n",
       "    .dataframe tbody tr th {\n",
       "        vertical-align: top;\n",
       "    }\n",
       "\n",
       "    .dataframe thead th {\n",
       "        text-align: right;\n",
       "    }\n",
       "</style>\n",
       "<table border=\"1\" class=\"dataframe\">\n",
       "  <thead>\n",
       "    <tr style=\"text-align: right;\">\n",
       "      <th></th>\n",
       "      <th>user_id</th>\n",
       "      <th>actual</th>\n",
       "    </tr>\n",
       "  </thead>\n",
       "  <tbody>\n",
       "    <tr>\n",
       "      <th>0</th>\n",
       "      <td>1</td>\n",
       "      <td>[853529, 865456, 867607, 872137, 874905, 87524...</td>\n",
       "    </tr>\n",
       "    <tr>\n",
       "      <th>1</th>\n",
       "      <td>2</td>\n",
       "      <td>[15830248, 838136, 839656, 861272, 866211, 870...</td>\n",
       "    </tr>\n",
       "  </tbody>\n",
       "</table>\n",
       "</div>"
      ],
      "text/plain": [
       "   user_id                                             actual\n",
       "0        1  [853529, 865456, 867607, 872137, 874905, 87524...\n",
       "1        2  [15830248, 838136, 839656, 861272, 866211, 870..."
      ]
     },
     "execution_count": 42,
     "metadata": {},
     "output_type": "execute_result"
    }
   ],
   "source": [
    "result_eval_matcher = data_val_matcher.groupby(USER_COL)[ITEM_COL].unique().reset_index()\n",
    "result_eval_matcher.columns=[USER_COL, ACTUAL_COL]\n",
    "result_eval_matcher.head(2)"
   ]
  },
  {
   "cell_type": "code",
   "execution_count": 43,
   "id": "7bfab557",
   "metadata": {},
   "outputs": [],
   "source": [
    "# N = Neighbors\n",
    "N_PREDICT = 50 "
   ]
  },
  {
   "cell_type": "code",
   "execution_count": 44,
   "id": "947e0f00",
   "metadata": {},
   "outputs": [],
   "source": [
    "def evalRecall(df_result, result_col_name, target_col_name, recommend_model, N_PREDICT):\n",
    "    df_result[result_col_name] = df_result[target_col_name].apply(lambda x: recommend_model(x, N_PREDICT))\n",
    "    return df_result.apply(lambda row: recall_at_k(row[result_col_name], row[ACTUAL_COL], k=N_PREDICT), axis=1).mean()"
   ]
  },
  {
   "cell_type": "code",
   "execution_count": 45,
   "id": "a32d4fa7",
   "metadata": {},
   "outputs": [
    {
     "data": {
      "text/plain": [
       "0.044119547395835505"
      ]
     },
     "execution_count": 45,
     "metadata": {},
     "output_type": "execute_result"
    }
   ],
   "source": [
    "evalRecall(result_eval_matcher, 'result', USER_COL, recommender.get_own_recommendations, 25)"
   ]
  },
  {
   "cell_type": "code",
   "execution_count": 46,
   "id": "92b5e447",
   "metadata": {},
   "outputs": [],
   "source": [
    "def calc_recall(df_data, top_k):\n",
    "    for col_name in df_data.columns[2:]:\n",
    "        yield col_name, df_data.apply(lambda row: recall_at_k(row[col_name], row[ACTUAL_COL], k=top_k), axis=1).mean()"
   ]
  },
  {
   "cell_type": "code",
   "execution_count": 47,
   "id": "f22a86bc",
   "metadata": {},
   "outputs": [],
   "source": [
    "def calc_precision(df_data, top_k):\n",
    "    for col_name in df_data.columns[2:]:\n",
    "        yield col_name, df_data.apply(lambda row: precision_at_k(row[col_name], row[ACTUAL_COL], k=top_k), axis=1).mean()"
   ]
  },
  {
   "cell_type": "code",
   "execution_count": 58,
   "id": "160f8314",
   "metadata": {},
   "outputs": [],
   "source": [
    "def calc_recall(df_result_eval_matcher, col_name, recommend_model):\n",
    "    list_n = [10, 20, 30, 40, 50, 60, 70, 80, 90, 100, 200, 300, 400, 500, 1000]\n",
    "    res = []\n",
    "    for i in list_n:\n",
    "        N_PREDICT = i\n",
    "        col_name_ = col_name + str(f'_{i}')\n",
    "        res.append(round(evalRecall(df_result_eval_matcher, col_name_, USER_COL, recommend_model, N_PREDICT), 4))\n",
    "    return res           "
   ]
  },
  {
   "cell_type": "code",
   "execution_count": 55,
   "id": "6c716f89",
   "metadata": {},
   "outputs": [
    {
     "data": {
      "text/plain": [
       "[0.0269,\n",
       " 0.0393,\n",
       " 0.0492,\n",
       " 0.0581,\n",
       " 0.0653,\n",
       " 0.072,\n",
       " 0.0788,\n",
       " 0.0852,\n",
       " 0.0906,\n",
       " 0.096,\n",
       " 0.1354,\n",
       " 0.1572,\n",
       " 0.1718,\n",
       " 0.1821,\n",
       " 0.2168]"
      ]
     },
     "execution_count": 55,
     "metadata": {},
     "output_type": "execute_result"
    }
   ],
   "source": [
    "result_own_rec = calc_recall(result_eval_matcher, 'own_rec', recommender.get_own_recommendations)\n",
    "# result_own_rec"
   ]
  },
  {
   "cell_type": "code",
   "execution_count": 59,
   "id": "439b57aa",
   "metadata": {},
   "outputs": [],
   "source": [
    "result_als_rec = calc_recall(result_eval_matcher, 'als_rec', recommender.get_als_recommendations)\n",
    "result_sim_item_rec = calc_recall(result_eval_matcher, 'sim_item_rec', recommender.get_similar_items_recommendation)\n",
    "result_sim_user_rec = calc_recall(result_eval_matcher, 'sim_user_rec', recommender.get_similar_users_recommendation)"
   ]
  },
  {
   "cell_type": "code",
   "execution_count": 60,
   "id": "8b1bf3d3",
   "metadata": {},
   "outputs": [
    {
     "data": {
      "text/plain": [
       "<matplotlib.legend.Legend at 0x17e8ffd1d00>"
      ]
     },
     "execution_count": 60,
     "metadata": {},
     "output_type": "execute_result"
    },
    {
     "data": {
      "image/png": "[encoded data removed]",
      "text/plain": [
       "<Figure size 576x432 with 1 Axes>"
      ]
     },
     "metadata": {
      "needs_background": "light"
     },
     "output_type": "display_data"
    }
   ],
   "source": [
    "list_n = [10, 20, 30, 40, 50, 60, 70, 80, 90, 100, 200, 300, 400, 500, 1000]\n",
    "xticks = [0.01*i for i in range(1,10)]\n",
    "fig, ax = plt.subplots(figsize=(8, 6))\n",
    "ax.plot(list_n, result_own_rec, \"o-\")\n",
    "ax.plot(list_n, result_als_rec, \"x--\")\n",
    "ax.plot(list_n, result_sim_item_rec, \"*-.\")\n",
    "ax.plot(list_n, result_sim_user_rec, \"8-.\")\n",
    "ax.grid()\n",
    "ax.set_title(\"Plot of the data eval Recall\")\n",
    "ax.set_xlabel(\"x axis label\")\n",
    "ax.set_ylabel(\"y axis label\")\n",
    "ax.legend((\"own_rec\", \"als_rec\", \"sim_item_rec\", \"sim_user_rec\"))"
   ]
  },
  {
   "cell_type": "code",
   "execution_count": 63,
   "id": "55e5f4c5",
   "metadata": {},
   "outputs": [],
   "source": [
    "def progress(res_list):\n",
    "    res = []\n",
    "    for i, el in enumerate(res_list):\n",
    "        if i != 0:\n",
    "            progr = round(((el - prev_el) / prev_el) * 100, 1)\n",
    "            res.append(progr)\n",
    "        prev_el = el\n",
    "    return res  "
   ]
  },
  {
   "cell_type": "code",
   "execution_count": 64,
   "id": "8431143d",
   "metadata": {},
   "outputs": [
    {
     "data": {
      "text/plain": [
       "[46.1, 25.2, 18.1, 12.4, 10.3, 9.4, 8.1, 6.3, 6.0, 41.0, 16.1, 9.3, 6.0, 19.1]"
      ]
     },
     "execution_count": 64,
     "metadata": {},
     "output_type": "execute_result"
    }
   ],
   "source": [
    "progress(result_own_rec)"
   ]
  },
  {
   "cell_type": "markdown",
   "id": "af3b4fac",
   "metadata": {},
   "source": []
  },
  {
   "cell_type": "code",
   "execution_count": 66,
   "id": "d0eb97c7",
   "metadata": {},
   "outputs": [
    {
     "data": {
      "text/html": [
       "<div>\n",
       "<style scoped>\n",
       "    .dataframe tbody tr th:only-of-type {\n",
       "        vertical-align: middle;\n",
       "    }\n",
       "\n",
       "    .dataframe tbody tr th {\n",
       "        vertical-align: top;\n",
       "    }\n",
       "\n",
       "    .dataframe thead th {\n",
       "        text-align: right;\n",
       "    }\n",
       "</style>\n",
       "<table border=\"1\" class=\"dataframe\">\n",
       "  <thead>\n",
       "    <tr style=\"text-align: right;\">\n",
       "      <th></th>\n",
       "      <th>user_id</th>\n",
       "      <th>actual</th>\n",
       "      <th>result</th>\n",
       "      <th>own_rec_10</th>\n",
       "      <th>own_rec_20</th>\n",
       "      <th>own_rec_30</th>\n",
       "      <th>own_rec_40</th>\n",
       "      <th>own_rec_50</th>\n",
       "      <th>own_rec_60</th>\n",
       "      <th>own_rec_70</th>\n",
       "      <th>...</th>\n",
       "      <th>sim_user_rec_60</th>\n",
       "      <th>sim_user_rec_70</th>\n",
       "      <th>sim_user_rec_80</th>\n",
       "      <th>sim_user_rec_90</th>\n",
       "      <th>sim_user_rec_100</th>\n",
       "      <th>sim_user_rec_200</th>\n",
       "      <th>sim_user_rec_300</th>\n",
       "      <th>sim_user_rec_400</th>\n",
       "      <th>sim_user_rec_500</th>\n",
       "      <th>sim_user_rec_1000</th>\n",
       "    </tr>\n",
       "  </thead>\n",
       "  <tbody>\n",
       "    <tr>\n",
       "      <th>0</th>\n",
       "      <td>1</td>\n",
       "      <td>[853529, 865456, 867607, 872137, 874905, 87524...</td>\n",
       "      <td>[856942, 9297615, 5577022, 877391, 9655212, 88...</td>\n",
       "      <td>[856942, 9297615, 5577022, 877391, 9655212, 88...</td>\n",
       "      <td>[856942, 9297615, 5577022, 877391, 9655212, 88...</td>\n",
       "      <td>[856942, 9297615, 5577022, 877391, 9655212, 88...</td>\n",
       "      <td>[856942, 9297615, 5577022, 877391, 9655212, 88...</td>\n",
       "      <td>[856942, 9297615, 5577022, 877391, 9655212, 88...</td>\n",
       "      <td>[856942, 9297615, 5577022, 877391, 9655212, 88...</td>\n",
       "      <td>[856942, 9297615, 5577022, 877391, 9655212, 88...</td>\n",
       "      <td>...</td>\n",
       "      <td>[988697, 9526676, 1057168, 1016785, 1036699, 9...</td>\n",
       "      <td>[988697, 9526676, 1057168, 1016785, 1036699, 9...</td>\n",
       "      <td>[988697, 9526676, 1057168, 1016785, 1036699, 9...</td>\n",
       "      <td>[988697, 9526676, 1057168, 1016785, 1036699, 9...</td>\n",
       "      <td>[988697, 9526676, 1057168, 1016785, 1036699, 9...</td>\n",
       "      <td>[988697, 9526676, 1057168, 1016785, 1036699, 9...</td>\n",
       "      <td>[988697, 9526676, 1057168, 1016785, 1036699, 9...</td>\n",
       "      <td>[988697, 9526676, 1057168, 1016785, 1036699, 9...</td>\n",
       "      <td>[988697, 9526676, 1057168, 1016785, 1036699, 9...</td>\n",
       "      <td>[988697, 9526676, 1057168, 1016785, 1036699, 9...</td>\n",
       "    </tr>\n",
       "    <tr>\n",
       "      <th>1</th>\n",
       "      <td>2</td>\n",
       "      <td>[15830248, 838136, 839656, 861272, 866211, 870...</td>\n",
       "      <td>[911974, 1076580, 1103898, 5567582, 1056620, 9...</td>\n",
       "      <td>[911974, 1076580, 1103898, 5567582, 1056620, 9...</td>\n",
       "      <td>[911974, 1076580, 1103898, 5567582, 1056620, 9...</td>\n",
       "      <td>[911974, 1076580, 1103898, 5567582, 1056620, 9...</td>\n",
       "      <td>[911974, 1076580, 1103898, 5567582, 1056620, 9...</td>\n",
       "      <td>[911974, 1076580, 1103898, 5567582, 1056620, 9...</td>\n",
       "      <td>[911974, 1076580, 1103898, 5567582, 1056620, 9...</td>\n",
       "      <td>[911974, 1076580, 1103898, 5567582, 1056620, 9...</td>\n",
       "      <td>...</td>\n",
       "      <td>[1076954, 9419422, 9392700, 1116253, 896666, 9...</td>\n",
       "      <td>[1076954, 9419422, 9392700, 1116253, 896666, 9...</td>\n",
       "      <td>[1076954, 9419422, 9392700, 1116253, 896666, 9...</td>\n",
       "      <td>[1076954, 9419422, 9392700, 1116253, 896666, 9...</td>\n",
       "      <td>[1076954, 9419422, 9392700, 1116253, 896666, 9...</td>\n",
       "      <td>[1076954, 9419422, 9392700, 1116253, 896666, 9...</td>\n",
       "      <td>[1076954, 9419422, 9392700, 1116253, 896666, 9...</td>\n",
       "      <td>[1076954, 9419422, 9392700, 1116253, 896666, 9...</td>\n",
       "      <td>[1076954, 9419422, 9392700, 1116253, 896666, 9...</td>\n",
       "      <td>[1076954, 9419422, 9392700, 1116253, 896666, 9...</td>\n",
       "    </tr>\n",
       "    <tr>\n",
       "      <th>2</th>\n",
       "      <td>4</td>\n",
       "      <td>[883932, 970760, 1035676, 1055863, 1097610, 67...</td>\n",
       "      <td>[6391541, 1052294, 891423, 936470, 1137010, 11...</td>\n",
       "      <td>[6391541, 1052294, 891423, 936470, 1137010, 11...</td>\n",
       "      <td>[6391541, 1052294, 891423, 936470, 1137010, 11...</td>\n",
       "      <td>[6391541, 1052294, 891423, 936470, 1137010, 11...</td>\n",
       "      <td>[6391541, 1052294, 891423, 936470, 1137010, 11...</td>\n",
       "      <td>[6391541, 1052294, 891423, 936470, 1137010, 11...</td>\n",
       "      <td>[6391541, 1052294, 891423, 936470, 1137010, 11...</td>\n",
       "      <td>[6391541, 1052294, 891423, 936470, 1137010, 11...</td>\n",
       "      <td>...</td>\n",
       "      <td>[973016, 894360, 847434, 8019916, 862535, 9365...</td>\n",
       "      <td>[973016, 894360, 847434, 8019916, 862535, 9365...</td>\n",
       "      <td>[973016, 894360, 847434, 8019916, 862535, 9365...</td>\n",
       "      <td>[973016, 894360, 847434, 8019916, 862535, 9365...</td>\n",
       "      <td>[973016, 894360, 847434, 8019916, 862535, 9365...</td>\n",
       "      <td>[973016, 894360, 847434, 8019916, 862535, 9365...</td>\n",
       "      <td>[973016, 894360, 847434, 8019916, 862535, 9365...</td>\n",
       "      <td>[973016, 894360, 847434, 8019916, 862535, 9365...</td>\n",
       "      <td>[973016, 894360, 847434, 8019916, 862535, 9365...</td>\n",
       "      <td>[973016, 894360, 847434, 8019916, 862535, 9365...</td>\n",
       "    </tr>\n",
       "    <tr>\n",
       "      <th>3</th>\n",
       "      <td>6</td>\n",
       "      <td>[1024306, 1102949, 6548453, 835394, 940804, 96...</td>\n",
       "      <td>[13003092, 972416, 995598, 923600, 1138596, 10...</td>\n",
       "      <td>[13003092, 972416, 995598, 923600, 1138596, 10...</td>\n",
       "      <td>[13003092, 972416, 995598, 923600, 1138596, 10...</td>\n",
       "      <td>[13003092, 972416, 995598, 923600, 1138596, 10...</td>\n",
       "      <td>[13003092, 972416, 995598, 923600, 1138596, 10...</td>\n",
       "      <td>[13003092, 972416, 995598, 923600, 1138596, 10...</td>\n",
       "      <td>[13003092, 972416, 995598, 923600, 1138596, 10...</td>\n",
       "      <td>[13003092, 972416, 995598, 923600, 1138596, 10...</td>\n",
       "      <td>...</td>\n",
       "      <td>[893362, 1113675, 825541, 948640, 907099, 1056...</td>\n",
       "      <td>[893362, 1113675, 825541, 948640, 907099, 1056...</td>\n",
       "      <td>[893362, 1113675, 825541, 948640, 907099, 1056...</td>\n",
       "      <td>[893362, 1113675, 825541, 948640, 907099, 1056...</td>\n",
       "      <td>[893362, 1113675, 825541, 948640, 907099, 1056...</td>\n",
       "      <td>[893362, 1113675, 825541, 948640, 907099, 1056...</td>\n",
       "      <td>[893362, 1113675, 825541, 948640, 907099, 1056...</td>\n",
       "      <td>[893362, 1113675, 825541, 948640, 907099, 1056...</td>\n",
       "      <td>[893362, 1113675, 825541, 948640, 907099, 1056...</td>\n",
       "      <td>[893362, 1113675, 825541, 948640, 907099, 1056...</td>\n",
       "    </tr>\n",
       "    <tr>\n",
       "      <th>4</th>\n",
       "      <td>7</td>\n",
       "      <td>[836281, 843306, 845294, 914190, 920456, 93886...</td>\n",
       "      <td>[998519, 894360, 7147142, 9338009, 896666, 939...</td>\n",
       "      <td>[998519, 894360, 7147142, 9338009, 896666, 939...</td>\n",
       "      <td>[998519, 894360, 7147142, 9338009, 896666, 939...</td>\n",
       "      <td>[998519, 894360, 7147142, 9338009, 896666, 939...</td>\n",
       "      <td>[998519, 894360, 7147142, 9338009, 896666, 939...</td>\n",
       "      <td>[998519, 894360, 7147142, 9338009, 896666, 939...</td>\n",
       "      <td>[998519, 894360, 7147142, 9338009, 896666, 939...</td>\n",
       "      <td>[998519, 894360, 7147142, 9338009, 896666, 939...</td>\n",
       "      <td>...</td>\n",
       "      <td>[852015, 6039740, 5591777, 958067, 894570, 890...</td>\n",
       "      <td>[852015, 6039740, 5591777, 958067, 894570, 890...</td>\n",
       "      <td>[852015, 6039740, 5591777, 958067, 894570, 890...</td>\n",
       "      <td>[852015, 6039740, 5591777, 958067, 894570, 890...</td>\n",
       "      <td>[852015, 6039740, 5591777, 958067, 894570, 890...</td>\n",
       "      <td>[852015, 6039740, 5591777, 958067, 894570, 890...</td>\n",
       "      <td>[852015, 6039740, 5591777, 958067, 894570, 890...</td>\n",
       "      <td>[852015, 6039740, 5591777, 958067, 894570, 890...</td>\n",
       "      <td>[852015, 6039740, 5591777, 958067, 894570, 890...</td>\n",
       "      <td>[852015, 6039740, 5591777, 958067, 894570, 890...</td>\n",
       "    </tr>\n",
       "    <tr>\n",
       "      <th>...</th>\n",
       "      <td>...</td>\n",
       "      <td>...</td>\n",
       "      <td>...</td>\n",
       "      <td>...</td>\n",
       "      <td>...</td>\n",
       "      <td>...</td>\n",
       "      <td>...</td>\n",
       "      <td>...</td>\n",
       "      <td>...</td>\n",
       "      <td>...</td>\n",
       "      <td>...</td>\n",
       "      <td>...</td>\n",
       "      <td>...</td>\n",
       "      <td>...</td>\n",
       "      <td>...</td>\n",
       "      <td>...</td>\n",
       "      <td>...</td>\n",
       "      <td>...</td>\n",
       "      <td>...</td>\n",
       "      <td>...</td>\n",
       "      <td>...</td>\n",
       "    </tr>\n",
       "    <tr>\n",
       "      <th>2146</th>\n",
       "      <td>2496</td>\n",
       "      <td>[831509, 867188, 1013623, 1048851, 5592734, 16...</td>\n",
       "      <td>[872826, 983665, 991546, 1134296, 7441210, 974...</td>\n",
       "      <td>[872826, 983665, 991546, 1134296, 7441210, 974...</td>\n",
       "      <td>[872826, 983665, 991546, 1134296, 7441210, 974...</td>\n",
       "      <td>[872826, 983665, 991546, 1134296, 7441210, 974...</td>\n",
       "      <td>[872826, 983665, 991546, 1134296, 7441210, 974...</td>\n",
       "      <td>[872826, 983665, 991546, 1134296, 7441210, 974...</td>\n",
       "      <td>[872826, 983665, 991546, 1134296, 7441210, 974...</td>\n",
       "      <td>[872826, 983665, 991546, 1134296, 7441210, 974...</td>\n",
       "      <td>...</td>\n",
       "      <td>[844179, 12352089, 1057168, 1098719, 7146026, ...</td>\n",
       "      <td>[844179, 12352089, 1057168, 1098719, 7146026, ...</td>\n",
       "      <td>[844179, 12352089, 1057168, 1098719, 7146026, ...</td>\n",
       "      <td>[844179, 12352089, 1057168, 1098719, 7146026, ...</td>\n",
       "      <td>[844179, 12352089, 1057168, 1098719, 7146026, ...</td>\n",
       "      <td>[844179, 12352089, 1057168, 1098719, 7146026, ...</td>\n",
       "      <td>[844179, 12352089, 1057168, 1098719, 7146026, ...</td>\n",
       "      <td>[844179, 12352089, 1057168, 1098719, 7146026, ...</td>\n",
       "      <td>[844179, 12352089, 1057168, 1098719, 7146026, ...</td>\n",
       "      <td>[844179, 12352089, 1057168, 1098719, 7146026, ...</td>\n",
       "    </tr>\n",
       "    <tr>\n",
       "      <th>2147</th>\n",
       "      <td>2497</td>\n",
       "      <td>[820291, 824759, 838797, 859010, 859075, 86077...</td>\n",
       "      <td>[870515, 1117219, 1102207, 1057168, 1135834, 1...</td>\n",
       "      <td>[870515, 1117219, 1102207, 1057168, 1135834, 1...</td>\n",
       "      <td>[870515, 1117219, 1102207, 1057168, 1135834, 1...</td>\n",
       "      <td>[870515, 1117219, 1102207, 1057168, 1135834, 1...</td>\n",
       "      <td>[870515, 1117219, 1102207, 1057168, 1135834, 1...</td>\n",
       "      <td>[870515, 1117219, 1102207, 1057168, 1135834, 1...</td>\n",
       "      <td>[870515, 1117219, 1102207, 1057168, 1135834, 1...</td>\n",
       "      <td>[870515, 1117219, 1102207, 1057168, 1135834, 1...</td>\n",
       "      <td>...</td>\n",
       "      <td>[957951, 916578, 1131634, 1040416, 871514, 108...</td>\n",
       "      <td>[957951, 916578, 1131634, 1040416, 871514, 108...</td>\n",
       "      <td>[957951, 916578, 1131634, 1040416, 871514, 108...</td>\n",
       "      <td>[957951, 916578, 1131634, 1040416, 871514, 108...</td>\n",
       "      <td>[957951, 916578, 1131634, 1040416, 871514, 108...</td>\n",
       "      <td>[957951, 916578, 1131634, 1040416, 871514, 108...</td>\n",
       "      <td>[957951, 916578, 1131634, 1040416, 871514, 108...</td>\n",
       "      <td>[957951, 916578, 1131634, 1040416, 871514, 108...</td>\n",
       "      <td>[957951, 916578, 1131634, 1040416, 871514, 108...</td>\n",
       "      <td>[957951, 916578, 1131634, 1040416, 871514, 108...</td>\n",
       "    </tr>\n",
       "    <tr>\n",
       "      <th>2148</th>\n",
       "      <td>2498</td>\n",
       "      <td>[865511, 962991, 1076374, 1102358, 5564901, 15...</td>\n",
       "      <td>[1022066, 1076580, 1100379, 5565356, 931579, 8...</td>\n",
       "      <td>[1022066, 1076580, 1100379, 5565356, 931579, 8...</td>\n",
       "      <td>[1022066, 1076580, 1100379, 5565356, 931579, 8...</td>\n",
       "      <td>[1022066, 1076580, 1100379, 5565356, 931579, 8...</td>\n",
       "      <td>[1022066, 1076580, 1100379, 5565356, 931579, 8...</td>\n",
       "      <td>[1022066, 1076580, 1100379, 5565356, 931579, 8...</td>\n",
       "      <td>[1022066, 1076580, 1100379, 5565356, 931579, 8...</td>\n",
       "      <td>[1022066, 1076580, 1100379, 5565356, 931579, 8...</td>\n",
       "      <td>...</td>\n",
       "      <td>[872066, 949257, 7146026, 894360, 1121694, 983...</td>\n",
       "      <td>[872066, 949257, 7146026, 894360, 1121694, 983...</td>\n",
       "      <td>[872066, 949257, 7146026, 894360, 1121694, 983...</td>\n",
       "      <td>[872066, 949257, 7146026, 894360, 1121694, 983...</td>\n",
       "      <td>[872066, 949257, 7146026, 894360, 1121694, 983...</td>\n",
       "      <td>[872066, 949257, 7146026, 894360, 1121694, 983...</td>\n",
       "      <td>[872066, 949257, 7146026, 894360, 1121694, 983...</td>\n",
       "      <td>[872066, 949257, 7146026, 894360, 1121694, 983...</td>\n",
       "      <td>[872066, 949257, 7146026, 894360, 1121694, 983...</td>\n",
       "      <td>[872066, 949257, 7146026, 894360, 1121694, 983...</td>\n",
       "    </tr>\n",
       "    <tr>\n",
       "      <th>2149</th>\n",
       "      <td>2499</td>\n",
       "      <td>[861282, 921744, 1050968, 13842089, 828837, 86...</td>\n",
       "      <td>[7168055, 1128395, 6904613, 5570048, 889989, 8...</td>\n",
       "      <td>[7168055, 1128395, 6904613, 5570048, 889989, 8...</td>\n",
       "      <td>[7168055, 1128395, 6904613, 5570048, 889989, 8...</td>\n",
       "      <td>[7168055, 1128395, 6904613, 5570048, 889989, 8...</td>\n",
       "      <td>[7168055, 1128395, 6904613, 5570048, 889989, 8...</td>\n",
       "      <td>[7168055, 1128395, 6904613, 5570048, 889989, 8...</td>\n",
       "      <td>[7168055, 1128395, 6904613, 5570048, 889989, 8...</td>\n",
       "      <td>[7168055, 1128395, 6904613, 5570048, 889989, 8...</td>\n",
       "      <td>...</td>\n",
       "      <td>[910151, 1017739, 977927, 1059080, 997011, 106...</td>\n",
       "      <td>[910151, 1017739, 977927, 1059080, 997011, 106...</td>\n",
       "      <td>[910151, 1017739, 977927, 1059080, 997011, 106...</td>\n",
       "      <td>[910151, 1017739, 977927, 1059080, 997011, 106...</td>\n",
       "      <td>[910151, 1017739, 977927, 1059080, 997011, 106...</td>\n",
       "      <td>[910151, 1017739, 977927, 1059080, 997011, 106...</td>\n",
       "      <td>[910151, 1017739, 977927, 1059080, 997011, 106...</td>\n",
       "      <td>[910151, 1017739, 977927, 1059080, 997011, 106...</td>\n",
       "      <td>[910151, 1017739, 977927, 1059080, 997011, 106...</td>\n",
       "      <td>[910151, 1017739, 977927, 1059080, 997011, 106...</td>\n",
       "    </tr>\n",
       "    <tr>\n",
       "      <th>2150</th>\n",
       "      <td>2500</td>\n",
       "      <td>[856455, 902192, 903476, 931672, 936634, 95170...</td>\n",
       "      <td>[1063739, 12262832, 1086061, 879393, 1065538, ...</td>\n",
       "      <td>[1063739, 12262832, 1086061, 879393, 1065538, ...</td>\n",
       "      <td>[1063739, 12262832, 1086061, 879393, 1065538, ...</td>\n",
       "      <td>[1063739, 12262832, 1086061, 879393, 1065538, ...</td>\n",
       "      <td>[1063739, 12262832, 1086061, 879393, 1065538, ...</td>\n",
       "      <td>[1063739, 12262832, 1086061, 879393, 1065538, ...</td>\n",
       "      <td>[1063739, 12262832, 1086061, 879393, 1065538, ...</td>\n",
       "      <td>[1063739, 12262832, 1086061, 879393, 1065538, ...</td>\n",
       "      <td>...</td>\n",
       "      <td>[955854, 1131634, 939681, 9676938, 1070129, 95...</td>\n",
       "      <td>[955854, 1131634, 939681, 9676938, 1070129, 95...</td>\n",
       "      <td>[955854, 1131634, 939681, 9676938, 1070129, 95...</td>\n",
       "      <td>[955854, 1131634, 939681, 9676938, 1070129, 95...</td>\n",
       "      <td>[955854, 1131634, 939681, 9676938, 1070129, 95...</td>\n",
       "      <td>[955854, 1131634, 939681, 9676938, 1070129, 95...</td>\n",
       "      <td>[955854, 1131634, 939681, 9676938, 1070129, 95...</td>\n",
       "      <td>[955854, 1131634, 939681, 9676938, 1070129, 95...</td>\n",
       "      <td>[955854, 1131634, 939681, 9676938, 1070129, 95...</td>\n",
       "      <td>[955854, 1131634, 939681, 9676938, 1070129, 95...</td>\n",
       "    </tr>\n",
       "  </tbody>\n",
       "</table>\n",
       "<p>2151 rows × 63 columns</p>\n",
       "</div>"
      ],
      "text/plain": [
       "      user_id                                             actual  \\\n",
       "0           1  [853529, 865456, 867607, 872137, 874905, 87524...   \n",
       "1           2  [15830248, 838136, 839656, 861272, 866211, 870...   \n",
       "2           4  [883932, 970760, 1035676, 1055863, 1097610, 67...   \n",
       "3           6  [1024306, 1102949, 6548453, 835394, 940804, 96...   \n",
       "4           7  [836281, 843306, 845294, 914190, 920456, 93886...   \n",
       "...       ...                                                ...   \n",
       "2146     2496  [831509, 867188, 1013623, 1048851, 5592734, 16...   \n",
       "2147     2497  [820291, 824759, 838797, 859010, 859075, 86077...   \n",
       "2148     2498  [865511, 962991, 1076374, 1102358, 5564901, 15...   \n",
       "2149     2499  [861282, 921744, 1050968, 13842089, 828837, 86...   \n",
       "2150     2500  [856455, 902192, 903476, 931672, 936634, 95170...   \n",
       "\n",
       "                                                 result  \\\n",
       "0     [856942, 9297615, 5577022, 877391, 9655212, 88...   \n",
       "1     [911974, 1076580, 1103898, 5567582, 1056620, 9...   \n",
       "2     [6391541, 1052294, 891423, 936470, 1137010, 11...   \n",
       "3     [13003092, 972416, 995598, 923600, 1138596, 10...   \n",
       "4     [998519, 894360, 7147142, 9338009, 896666, 939...   \n",
       "...                                                 ...   \n",
       "2146  [872826, 983665, 991546, 1134296, 7441210, 974...   \n",
       "2147  [870515, 1117219, 1102207, 1057168, 1135834, 1...   \n",
       "2148  [1022066, 1076580, 1100379, 5565356, 931579, 8...   \n",
       "2149  [7168055, 1128395, 6904613, 5570048, 889989, 8...   \n",
       "2150  [1063739, 12262832, 1086061, 879393, 1065538, ...   \n",
       "\n",
       "                                             own_rec_10  \\\n",
       "0     [856942, 9297615, 5577022, 877391, 9655212, 88...   \n",
       "1     [911974, 1076580, 1103898, 5567582, 1056620, 9...   \n",
       "2     [6391541, 1052294, 891423, 936470, 1137010, 11...   \n",
       "3     [13003092, 972416, 995598, 923600, 1138596, 10...   \n",
       "4     [998519, 894360, 7147142, 9338009, 896666, 939...   \n",
       "...                                                 ...   \n",
       "2146  [872826, 983665, 991546, 1134296, 7441210, 974...   \n",
       "2147  [870515, 1117219, 1102207, 1057168, 1135834, 1...   \n",
       "2148  [1022066, 1076580, 1100379, 5565356, 931579, 8...   \n",
       "2149  [7168055, 1128395, 6904613, 5570048, 889989, 8...   \n",
       "2150  [1063739, 12262832, 1086061, 879393, 1065538, ...   \n",
       "\n",
       "                                             own_rec_20  \\\n",
       "0     [856942, 9297615, 5577022, 877391, 9655212, 88...   \n",
       "1     [911974, 1076580, 1103898, 5567582, 1056620, 9...   \n",
       "2     [6391541, 1052294, 891423, 936470, 1137010, 11...   \n",
       "3     [13003092, 972416, 995598, 923600, 1138596, 10...   \n",
       "4     [998519, 894360, 7147142, 9338009, 896666, 939...   \n",
       "...                                                 ...   \n",
       "2146  [872826, 983665, 991546, 1134296, 7441210, 974...   \n",
       "2147  [870515, 1117219, 1102207, 1057168, 1135834, 1...   \n",
       "2148  [1022066, 1076580, 1100379, 5565356, 931579, 8...   \n",
       "2149  [7168055, 1128395, 6904613, 5570048, 889989, 8...   \n",
       "2150  [1063739, 12262832, 1086061, 879393, 1065538, ...   \n",
       "\n",
       "                                             own_rec_30  \\\n",
       "0     [856942, 9297615, 5577022, 877391, 9655212, 88...   \n",
       "1     [911974, 1076580, 1103898, 5567582, 1056620, 9...   \n",
       "2     [6391541, 1052294, 891423, 936470, 1137010, 11...   \n",
       "3     [13003092, 972416, 995598, 923600, 1138596, 10...   \n",
       "4     [998519, 894360, 7147142, 9338009, 896666, 939...   \n",
       "...                                                 ...   \n",
       "2146  [872826, 983665, 991546, 1134296, 7441210, 974...   \n",
       "2147  [870515, 1117219, 1102207, 1057168, 1135834, 1...   \n",
       "2148  [1022066, 1076580, 1100379, 5565356, 931579, 8...   \n",
       "2149  [7168055, 1128395, 6904613, 5570048, 889989, 8...   \n",
       "2150  [1063739, 12262832, 1086061, 879393, 1065538, ...   \n",
       "\n",
       "                                             own_rec_40  \\\n",
       "0     [856942, 9297615, 5577022, 877391, 9655212, 88...   \n",
       "1     [911974, 1076580, 1103898, 5567582, 1056620, 9...   \n",
       "2     [6391541, 1052294, 891423, 936470, 1137010, 11...   \n",
       "3     [13003092, 972416, 995598, 923600, 1138596, 10...   \n",
       "4     [998519, 894360, 7147142, 9338009, 896666, 939...   \n",
       "...                                                 ...   \n",
       "2146  [872826, 983665, 991546, 1134296, 7441210, 974...   \n",
       "2147  [870515, 1117219, 1102207, 1057168, 1135834, 1...   \n",
       "2148  [1022066, 1076580, 1100379, 5565356, 931579, 8...   \n",
       "2149  [7168055, 1128395, 6904613, 5570048, 889989, 8...   \n",
       "2150  [1063739, 12262832, 1086061, 879393, 1065538, ...   \n",
       "\n",
       "                                             own_rec_50  \\\n",
       "0     [856942, 9297615, 5577022, 877391, 9655212, 88...   \n",
       "1     [911974, 1076580, 1103898, 5567582, 1056620, 9...   \n",
       "2     [6391541, 1052294, 891423, 936470, 1137010, 11...   \n",
       "3     [13003092, 972416, 995598, 923600, 1138596, 10...   \n",
       "4     [998519, 894360, 7147142, 9338009, 896666, 939...   \n",
       "...                                                 ...   \n",
       "2146  [872826, 983665, 991546, 1134296, 7441210, 974...   \n",
       "2147  [870515, 1117219, 1102207, 1057168, 1135834, 1...   \n",
       "2148  [1022066, 1076580, 1100379, 5565356, 931579, 8...   \n",
       "2149  [7168055, 1128395, 6904613, 5570048, 889989, 8...   \n",
       "2150  [1063739, 12262832, 1086061, 879393, 1065538, ...   \n",
       "\n",
       "                                             own_rec_60  \\\n",
       "0     [856942, 9297615, 5577022, 877391, 9655212, 88...   \n",
       "1     [911974, 1076580, 1103898, 5567582, 1056620, 9...   \n",
       "2     [6391541, 1052294, 891423, 936470, 1137010, 11...   \n",
       "3     [13003092, 972416, 995598, 923600, 1138596, 10...   \n",
       "4     [998519, 894360, 7147142, 9338009, 896666, 939...   \n",
       "...                                                 ...   \n",
       "2146  [872826, 983665, 991546, 1134296, 7441210, 974...   \n",
       "2147  [870515, 1117219, 1102207, 1057168, 1135834, 1...   \n",
       "2148  [1022066, 1076580, 1100379, 5565356, 931579, 8...   \n",
       "2149  [7168055, 1128395, 6904613, 5570048, 889989, 8...   \n",
       "2150  [1063739, 12262832, 1086061, 879393, 1065538, ...   \n",
       "\n",
       "                                             own_rec_70  ...  \\\n",
       "0     [856942, 9297615, 5577022, 877391, 9655212, 88...  ...   \n",
       "1     [911974, 1076580, 1103898, 5567582, 1056620, 9...  ...   \n",
       "2     [6391541, 1052294, 891423, 936470, 1137010, 11...  ...   \n",
       "3     [13003092, 972416, 995598, 923600, 1138596, 10...  ...   \n",
       "4     [998519, 894360, 7147142, 9338009, 896666, 939...  ...   \n",
       "...                                                 ...  ...   \n",
       "2146  [872826, 983665, 991546, 1134296, 7441210, 974...  ...   \n",
       "2147  [870515, 1117219, 1102207, 1057168, 1135834, 1...  ...   \n",
       "2148  [1022066, 1076580, 1100379, 5565356, 931579, 8...  ...   \n",
       "2149  [7168055, 1128395, 6904613, 5570048, 889989, 8...  ...   \n",
       "2150  [1063739, 12262832, 1086061, 879393, 1065538, ...  ...   \n",
       "\n",
       "                                        sim_user_rec_60  \\\n",
       "0     [988697, 9526676, 1057168, 1016785, 1036699, 9...   \n",
       "1     [1076954, 9419422, 9392700, 1116253, 896666, 9...   \n",
       "2     [973016, 894360, 847434, 8019916, 862535, 9365...   \n",
       "3     [893362, 1113675, 825541, 948640, 907099, 1056...   \n",
       "4     [852015, 6039740, 5591777, 958067, 894570, 890...   \n",
       "...                                                 ...   \n",
       "2146  [844179, 12352089, 1057168, 1098719, 7146026, ...   \n",
       "2147  [957951, 916578, 1131634, 1040416, 871514, 108...   \n",
       "2148  [872066, 949257, 7146026, 894360, 1121694, 983...   \n",
       "2149  [910151, 1017739, 977927, 1059080, 997011, 106...   \n",
       "2150  [955854, 1131634, 939681, 9676938, 1070129, 95...   \n",
       "\n",
       "                                        sim_user_rec_70  \\\n",
       "0     [988697, 9526676, 1057168, 1016785, 1036699, 9...   \n",
       "1     [1076954, 9419422, 9392700, 1116253, 896666, 9...   \n",
       "2     [973016, 894360, 847434, 8019916, 862535, 9365...   \n",
       "3     [893362, 1113675, 825541, 948640, 907099, 1056...   \n",
       "4     [852015, 6039740, 5591777, 958067, 894570, 890...   \n",
       "...                                                 ...   \n",
       "2146  [844179, 12352089, 1057168, 1098719, 7146026, ...   \n",
       "2147  [957951, 916578, 1131634, 1040416, 871514, 108...   \n",
       "2148  [872066, 949257, 7146026, 894360, 1121694, 983...   \n",
       "2149  [910151, 1017739, 977927, 1059080, 997011, 106...   \n",
       "2150  [955854, 1131634, 939681, 9676938, 1070129, 95...   \n",
       "\n",
       "                                        sim_user_rec_80  \\\n",
       "0     [988697, 9526676, 1057168, 1016785, 1036699, 9...   \n",
       "1     [1076954, 9419422, 9392700, 1116253, 896666, 9...   \n",
       "2     [973016, 894360, 847434, 8019916, 862535, 9365...   \n",
       "3     [893362, 1113675, 825541, 948640, 907099, 1056...   \n",
       "4     [852015, 6039740, 5591777, 958067, 894570, 890...   \n",
       "...                                                 ...   \n",
       "2146  [844179, 12352089, 1057168, 1098719, 7146026, ...   \n",
       "2147  [957951, 916578, 1131634, 1040416, 871514, 108...   \n",
       "2148  [872066, 949257, 7146026, 894360, 1121694, 983...   \n",
       "2149  [910151, 1017739, 977927, 1059080, 997011, 106...   \n",
       "2150  [955854, 1131634, 939681, 9676938, 1070129, 95...   \n",
       "\n",
       "                                        sim_user_rec_90  \\\n",
       "0     [988697, 9526676, 1057168, 1016785, 1036699, 9...   \n",
       "1     [1076954, 9419422, 9392700, 1116253, 896666, 9...   \n",
       "2     [973016, 894360, 847434, 8019916, 862535, 9365...   \n",
       "3     [893362, 1113675, 825541, 948640, 907099, 1056...   \n",
       "4     [852015, 6039740, 5591777, 958067, 894570, 890...   \n",
       "...                                                 ...   \n",
       "2146  [844179, 12352089, 1057168, 1098719, 7146026, ...   \n",
       "2147  [957951, 916578, 1131634, 1040416, 871514, 108...   \n",
       "2148  [872066, 949257, 7146026, 894360, 1121694, 983...   \n",
       "2149  [910151, 1017739, 977927, 1059080, 997011, 106...   \n",
       "2150  [955854, 1131634, 939681, 9676938, 1070129, 95...   \n",
       "\n",
       "                                       sim_user_rec_100  \\\n",
       "0     [988697, 9526676, 1057168, 1016785, 1036699, 9...   \n",
       "1     [1076954, 9419422, 9392700, 1116253, 896666, 9...   \n",
       "2     [973016, 894360, 847434, 8019916, 862535, 9365...   \n",
       "3     [893362, 1113675, 825541, 948640, 907099, 1056...   \n",
       "4     [852015, 6039740, 5591777, 958067, 894570, 890...   \n",
       "...                                                 ...   \n",
       "2146  [844179, 12352089, 1057168, 1098719, 7146026, ...   \n",
       "2147  [957951, 916578, 1131634, 1040416, 871514, 108...   \n",
       "2148  [872066, 949257, 7146026, 894360, 1121694, 983...   \n",
       "2149  [910151, 1017739, 977927, 1059080, 997011, 106...   \n",
       "2150  [955854, 1131634, 939681, 9676938, 1070129, 95...   \n",
       "\n",
       "                                       sim_user_rec_200  \\\n",
       "0     [988697, 9526676, 1057168, 1016785, 1036699, 9...   \n",
       "1     [1076954, 9419422, 9392700, 1116253, 896666, 9...   \n",
       "2     [973016, 894360, 847434, 8019916, 862535, 9365...   \n",
       "3     [893362, 1113675, 825541, 948640, 907099, 1056...   \n",
       "4     [852015, 6039740, 5591777, 958067, 894570, 890...   \n",
       "...                                                 ...   \n",
       "2146  [844179, 12352089, 1057168, 1098719, 7146026, ...   \n",
       "2147  [957951, 916578, 1131634, 1040416, 871514, 108...   \n",
       "2148  [872066, 949257, 7146026, 894360, 1121694, 983...   \n",
       "2149  [910151, 1017739, 977927, 1059080, 997011, 106...   \n",
       "2150  [955854, 1131634, 939681, 9676938, 1070129, 95...   \n",
       "\n",
       "                                       sim_user_rec_300  \\\n",
       "0     [988697, 9526676, 1057168, 1016785, 1036699, 9...   \n",
       "1     [1076954, 9419422, 9392700, 1116253, 896666, 9...   \n",
       "2     [973016, 894360, 847434, 8019916, 862535, 9365...   \n",
       "3     [893362, 1113675, 825541, 948640, 907099, 1056...   \n",
       "4     [852015, 6039740, 5591777, 958067, 894570, 890...   \n",
       "...                                                 ...   \n",
       "2146  [844179, 12352089, 1057168, 1098719, 7146026, ...   \n",
       "2147  [957951, 916578, 1131634, 1040416, 871514, 108...   \n",
       "2148  [872066, 949257, 7146026, 894360, 1121694, 983...   \n",
       "2149  [910151, 1017739, 977927, 1059080, 997011, 106...   \n",
       "2150  [955854, 1131634, 939681, 9676938, 1070129, 95...   \n",
       "\n",
       "                                       sim_user_rec_400  \\\n",
       "0     [988697, 9526676, 1057168, 1016785, 1036699, 9...   \n",
       "1     [1076954, 9419422, 9392700, 1116253, 896666, 9...   \n",
       "2     [973016, 894360, 847434, 8019916, 862535, 9365...   \n",
       "3     [893362, 1113675, 825541, 948640, 907099, 1056...   \n",
       "4     [852015, 6039740, 5591777, 958067, 894570, 890...   \n",
       "...                                                 ...   \n",
       "2146  [844179, 12352089, 1057168, 1098719, 7146026, ...   \n",
       "2147  [957951, 916578, 1131634, 1040416, 871514, 108...   \n",
       "2148  [872066, 949257, 7146026, 894360, 1121694, 983...   \n",
       "2149  [910151, 1017739, 977927, 1059080, 997011, 106...   \n",
       "2150  [955854, 1131634, 939681, 9676938, 1070129, 95...   \n",
       "\n",
       "                                       sim_user_rec_500  \\\n",
       "0     [988697, 9526676, 1057168, 1016785, 1036699, 9...   \n",
       "1     [1076954, 9419422, 9392700, 1116253, 896666, 9...   \n",
       "2     [973016, 894360, 847434, 8019916, 862535, 9365...   \n",
       "3     [893362, 1113675, 825541, 948640, 907099, 1056...   \n",
       "4     [852015, 6039740, 5591777, 958067, 894570, 890...   \n",
       "...                                                 ...   \n",
       "2146  [844179, 12352089, 1057168, 1098719, 7146026, ...   \n",
       "2147  [957951, 916578, 1131634, 1040416, 871514, 108...   \n",
       "2148  [872066, 949257, 7146026, 894360, 1121694, 983...   \n",
       "2149  [910151, 1017739, 977927, 1059080, 997011, 106...   \n",
       "2150  [955854, 1131634, 939681, 9676938, 1070129, 95...   \n",
       "\n",
       "                                      sim_user_rec_1000  \n",
       "0     [988697, 9526676, 1057168, 1016785, 1036699, 9...  \n",
       "1     [1076954, 9419422, 9392700, 1116253, 896666, 9...  \n",
       "2     [973016, 894360, 847434, 8019916, 862535, 9365...  \n",
       "3     [893362, 1113675, 825541, 948640, 907099, 1056...  \n",
       "4     [852015, 6039740, 5591777, 958067, 894570, 890...  \n",
       "...                                                 ...  \n",
       "2146  [844179, 12352089, 1057168, 1098719, 7146026, ...  \n",
       "2147  [957951, 916578, 1131634, 1040416, 871514, 108...  \n",
       "2148  [872066, 949257, 7146026, 894360, 1121694, 983...  \n",
       "2149  [910151, 1017739, 977927, 1059080, 997011, 106...  \n",
       "2150  [955854, 1131634, 939681, 9676938, 1070129, 95...  \n",
       "\n",
       "[2151 rows x 63 columns]"
      ]
     },
     "execution_count": 66,
     "metadata": {},
     "output_type": "execute_result"
    }
   ],
   "source": [
    "result_eval_matcher"
   ]
  },
  {
   "cell_type": "code",
   "execution_count": 67,
   "id": "9069a24e",
   "metadata": {},
   "outputs": [],
   "source": [
    "result_eval_matcher['own_rec_25'] = result_eval_matcher[USER_COL].apply(lambda x: recommender.get_own_recommendations(x, 25))\n",
    "result_eval_matcher['als_rec_25'] = result_eval_matcher[USER_COL].apply(lambda x: recommender.get_als_recommendations(x, 25))\n",
    "result_eval_matcher['own_rec_25_+_als_rec_25'] = result_eval_matcher['own_rec_25'] + result_eval_matcher['als_rec_25']"
   ]
  },
  {
   "cell_type": "code",
   "execution_count": 68,
   "id": "af25ab74",
   "metadata": {},
   "outputs": [
    {
     "data": {
      "text/plain": [
       "0.06258596682487529"
      ]
     },
     "execution_count": 68,
     "metadata": {},
     "output_type": "execute_result"
    }
   ],
   "source": [
    "result_eval_matcher.apply(lambda row: recall_at_k(row['own_rec_25_+_als_rec_25'], row[ACTUAL_COL], k=50), axis=1).mean()"
   ]
  },
  {
   "cell_type": "code",
   "execution_count": 69,
   "id": "7d851c5f",
   "metadata": {},
   "outputs": [
    {
     "data": {
      "text/plain": [
       "0.06525657038145175"
      ]
     },
     "execution_count": 69,
     "metadata": {},
     "output_type": "execute_result"
    }
   ],
   "source": [
    "result_eval_matcher.apply(lambda row: recall_at_k(row['own_rec_50'], row[ACTUAL_COL], k=50), axis=1).mean()"
   ]
  },
  {
   "cell_type": "code",
   "execution_count": 70,
   "id": "5c75545a",
   "metadata": {},
   "outputs": [
    {
     "data": {
      "text/plain": [
       "0.056118624860485244"
      ]
     },
     "execution_count": 70,
     "metadata": {},
     "output_type": "execute_result"
    }
   ],
   "source": [
    "result_eval_matcher.apply(lambda row: recall_at_k(row['als_rec_50'], row[ACTUAL_COL], k=50), axis=1).mean()"
   ]
  },
  {
   "cell_type": "markdown",
   "id": "22b1b32b",
   "metadata": {},
   "source": [
    "Вариант own recommendtions + top-popular не дает лучший вариант, но обгоняет второй место, уступая немного первому месту - чистому варианту own_recommendtions."
   ]
  },
  {
   "cell_type": "code",
   "execution_count": 57,
   "id": "784960f1",
   "metadata": {},
   "outputs": [
    {
     "data": {
      "text/plain": [
       "0.055794231211668356"
      ]
     },
     "execution_count": 57,
     "metadata": {},
     "output_type": "execute_result"
    }
   ],
   "source": [
    "evalRecall(result_eval_matcher, 'als_rec', USER_COL, recommender.get_als_recommendations, N_PREDICT)"
   ]
  },
  {
   "cell_type": "code",
   "execution_count": null,
   "id": "65babeb6",
   "metadata": {},
   "outputs": [],
   "source": [
    "evalRecall(result_eval_matcher, 'own_rec', USER_COL, recommender.get_own_recommendations, N_PREDICT)"
   ]
  },
  {
   "cell_type": "code",
   "execution_count": null,
   "id": "f56a62d8",
   "metadata": {},
   "outputs": [],
   "source": [
    "evalRecall(result_eval_matcher, 'sim_item_rec', USER_COL, recommender.get_similar_items_recommendation, N_PREDICT)"
   ]
  },
  {
   "cell_type": "code",
   "execution_count": 60,
   "id": "29d0e644",
   "metadata": {},
   "outputs": [
    {
     "data": {
      "text/plain": [
       "0.007633944741966149"
      ]
     },
     "execution_count": 60,
     "metadata": {},
     "output_type": "execute_result"
    }
   ],
   "source": [
    "evalRecall(result_eval_matcher, 'sim_user_rec', USER_COL, recommender.get_similar_users_recommendation, N_PREDICT)"
   ]
  },
  {
   "cell_type": "markdown",
   "id": "0065be68",
   "metadata": {},
   "source": [
    "### Recall@50 of matching"
   ]
  },
  {
   "cell_type": "code",
   "execution_count": 61,
   "id": "f575dfc8",
   "metadata": {},
   "outputs": [],
   "source": [
    "TOPK_RECALL = 50"
   ]
  },
  {
   "cell_type": "code",
   "execution_count": 62,
   "id": "57a5979b",
   "metadata": {},
   "outputs": [
    {
     "data": {
      "text/plain": [
       "[('own_rec', 0.06525657038145175),\n",
       " ('als_rec', 0.055794231211668356),\n",
       " ('result', 0.044119547395835505),\n",
       " ('sim_item_rec', 0.03893431425089687),\n",
       " ('sim_user_rec', 0.007633944741966149)]"
      ]
     },
     "execution_count": 62,
     "metadata": {},
     "output_type": "execute_result"
    }
   ],
   "source": [
    "sorted(calc_recall(result_eval_matcher, TOPK_RECALL), key=lambda x: x[1],reverse=True)"
   ]
  },
  {
   "cell_type": "markdown",
   "id": "a20967fd",
   "metadata": {},
   "source": [
    "### Precision@5 of matching"
   ]
  },
  {
   "cell_type": "code",
   "execution_count": 63,
   "id": "455cccd4",
   "metadata": {},
   "outputs": [],
   "source": [
    "TOPK_PRECISION = 5"
   ]
  },
  {
   "cell_type": "code",
   "execution_count": 64,
   "id": "637efa24",
   "metadata": {},
   "outputs": [
    {
     "data": {
      "text/plain": [
       "[('result', 0.17712691771268974),\n",
       " ('own_rec', 0.17712691771268974),\n",
       " ('als_rec', 0.1258949325894921),\n",
       " ('sim_item_rec', 0.06992096699209688),\n",
       " ('sim_user_rec', 0.015155741515574118)]"
      ]
     },
     "execution_count": 64,
     "metadata": {},
     "output_type": "execute_result"
    }
   ],
   "source": [
    "sorted(calc_precision(result_eval_matcher, TOPK_PRECISION), key=lambda x: x[1],reverse=True)"
   ]
  },
  {
   "cell_type": "markdown",
   "id": "c25b5e26",
   "metadata": {},
   "source": [
    "# Ranking part"
   ]
  },
  {
   "cell_type": "markdown",
   "id": "5c700281",
   "metadata": {},
   "source": [
    "### Обучаем модель 2-ого уровня на выбранных кандидатах\n",
    "\n",
    "- Обучаем на data_train_ranking\n",
    "- Обучаем *только* на выбранных кандидатах\n",
    "- Я *для примера* сгенерирую топ-50 кадидиатов через get_own_recommendations\n",
    "- (!) Если юзер купил < 50 товаров, то get_own_recommendations дополнит рекоммендации топ-популярными"
   ]
  },
  {
   "cell_type": "code",
   "execution_count": 31,
   "id": "7a5e2ed2",
   "metadata": {},
   "outputs": [],
   "source": [
    "# 3 временных интервала\n",
    "# -- давние покупки -- | -- 6 недель -- | -- 3 недель -- "
   ]
  },
  {
   "cell_type": "markdown",
   "id": "7060bd99",
   "metadata": {},
   "source": [
    "## Подготовка данных для трейна"
   ]
  },
  {
   "cell_type": "code",
   "execution_count": 32,
   "id": "24d86971",
   "metadata": {},
   "outputs": [],
   "source": [
    "# взяли пользователей из трейна для ранжирования\n",
    "df_match_candidates = pd.DataFrame(data_train_ranker[USER_COL].unique())\n",
    "df_match_candidates.columns = [USER_COL]"
   ]
  },
  {
   "cell_type": "code",
   "execution_count": 33,
   "id": "e9c986f7",
   "metadata": {},
   "outputs": [
    {
     "data": {
      "text/html": [
       "<div>\n",
       "<style scoped>\n",
       "    .dataframe tbody tr th:only-of-type {\n",
       "        vertical-align: middle;\n",
       "    }\n",
       "\n",
       "    .dataframe tbody tr th {\n",
       "        vertical-align: top;\n",
       "    }\n",
       "\n",
       "    .dataframe thead th {\n",
       "        text-align: right;\n",
       "    }\n",
       "</style>\n",
       "<table border=\"1\" class=\"dataframe\">\n",
       "  <thead>\n",
       "    <tr style=\"text-align: right;\">\n",
       "      <th></th>\n",
       "      <th>user_id</th>\n",
       "    </tr>\n",
       "  </thead>\n",
       "  <tbody>\n",
       "    <tr>\n",
       "      <th>0</th>\n",
       "      <td>2070</td>\n",
       "    </tr>\n",
       "    <tr>\n",
       "      <th>1</th>\n",
       "      <td>2021</td>\n",
       "    </tr>\n",
       "    <tr>\n",
       "      <th>2</th>\n",
       "      <td>1753</td>\n",
       "    </tr>\n",
       "    <tr>\n",
       "      <th>3</th>\n",
       "      <td>2120</td>\n",
       "    </tr>\n",
       "    <tr>\n",
       "      <th>4</th>\n",
       "      <td>1346</td>\n",
       "    </tr>\n",
       "    <tr>\n",
       "      <th>...</th>\n",
       "      <td>...</td>\n",
       "    </tr>\n",
       "    <tr>\n",
       "      <th>2146</th>\n",
       "      <td>1446</td>\n",
       "    </tr>\n",
       "    <tr>\n",
       "      <th>2147</th>\n",
       "      <td>1784</td>\n",
       "    </tr>\n",
       "    <tr>\n",
       "      <th>2148</th>\n",
       "      <td>436</td>\n",
       "    </tr>\n",
       "    <tr>\n",
       "      <th>2149</th>\n",
       "      <td>1697</td>\n",
       "    </tr>\n",
       "    <tr>\n",
       "      <th>2150</th>\n",
       "      <td>1745</td>\n",
       "    </tr>\n",
       "  </tbody>\n",
       "</table>\n",
       "<p>2151 rows × 1 columns</p>\n",
       "</div>"
      ],
      "text/plain": [
       "      user_id\n",
       "0        2070\n",
       "1        2021\n",
       "2        1753\n",
       "3        2120\n",
       "4        1346\n",
       "...       ...\n",
       "2146     1446\n",
       "2147     1784\n",
       "2148      436\n",
       "2149     1697\n",
       "2150     1745\n",
       "\n",
       "[2151 rows x 1 columns]"
      ]
     },
     "execution_count": 33,
     "metadata": {},
     "output_type": "execute_result"
    }
   ],
   "source": [
    "df_match_candidates"
   ]
  },
  {
   "cell_type": "code",
   "execution_count": 34,
   "id": "c2cb03a7",
   "metadata": {},
   "outputs": [],
   "source": [
    "# собираем кандитатов с первого этапа (matcher)\n",
    "df_match_candidates['candidates'] = df_match_candidates[USER_COL].apply(lambda x: recommender.get_own_recommendations(x, N=N_PREDICT))"
   ]
  },
  {
   "cell_type": "code",
   "execution_count": 35,
   "id": "7eb14f24",
   "metadata": {},
   "outputs": [
    {
     "data": {
      "text/html": [
       "<div>\n",
       "<style scoped>\n",
       "    .dataframe tbody tr th:only-of-type {\n",
       "        vertical-align: middle;\n",
       "    }\n",
       "\n",
       "    .dataframe tbody tr th {\n",
       "        vertical-align: top;\n",
       "    }\n",
       "\n",
       "    .dataframe thead th {\n",
       "        text-align: right;\n",
       "    }\n",
       "</style>\n",
       "<table border=\"1\" class=\"dataframe\">\n",
       "  <thead>\n",
       "    <tr style=\"text-align: right;\">\n",
       "      <th></th>\n",
       "      <th>user_id</th>\n",
       "      <th>candidates</th>\n",
       "    </tr>\n",
       "  </thead>\n",
       "  <tbody>\n",
       "    <tr>\n",
       "      <th>0</th>\n",
       "      <td>2070</td>\n",
       "      <td>[1105426, 1097350, 879194, 948640, 928263, 944...</td>\n",
       "    </tr>\n",
       "    <tr>\n",
       "      <th>1</th>\n",
       "      <td>2021</td>\n",
       "      <td>[950935, 1119454, 835578, 863762, 1019142, 102...</td>\n",
       "    </tr>\n",
       "  </tbody>\n",
       "</table>\n",
       "</div>"
      ],
      "text/plain": [
       "   user_id                                         candidates\n",
       "0     2070  [1105426, 1097350, 879194, 948640, 928263, 944...\n",
       "1     2021  [950935, 1119454, 835578, 863762, 1019142, 102..."
      ]
     },
     "execution_count": 35,
     "metadata": {},
     "output_type": "execute_result"
    }
   ],
   "source": [
    "df_match_candidates.head(2)"
   ]
  },
  {
   "cell_type": "code",
   "execution_count": 36,
   "id": "e1ce0a24",
   "metadata": {},
   "outputs": [
    {
     "data": {
      "text/plain": [
       "0       1105426\n",
       "0       1097350\n",
       "0        879194\n",
       "0        948640\n",
       "0        928263\n",
       "         ...   \n",
       "2150     903454\n",
       "2150    9419888\n",
       "2150    1076769\n",
       "2150    1092588\n",
       "2150    1024051\n",
       "Length: 107550, dtype: int64"
      ]
     },
     "execution_count": 36,
     "metadata": {},
     "output_type": "execute_result"
    }
   ],
   "source": [
    "df_items = df_match_candidates.apply(lambda x: pd.Series(x['candidates']), axis=1).stack().reset_index(level=1, drop=True)\n",
    "df_items"
   ]
  },
  {
   "cell_type": "code",
   "execution_count": 37,
   "id": "42ed4454",
   "metadata": {},
   "outputs": [
    {
     "data": {
      "text/plain": [
       "0       1105426\n",
       "0       1097350\n",
       "0        879194\n",
       "0        948640\n",
       "0        928263\n",
       "         ...   \n",
       "2150     903454\n",
       "2150    9419888\n",
       "2150    1076769\n",
       "2150    1092588\n",
       "2150    1024051\n",
       "Name: item_id, Length: 107550, dtype: int64"
      ]
     },
     "execution_count": 37,
     "metadata": {},
     "output_type": "execute_result"
    }
   ],
   "source": [
    "df_items.name = 'item_id'\n",
    "df_items"
   ]
  },
  {
   "cell_type": "code",
   "execution_count": 38,
   "id": "d4398941",
   "metadata": {},
   "outputs": [],
   "source": [
    "df_match_candidates = df_match_candidates.drop('candidates', axis=1).join(df_items)"
   ]
  },
  {
   "cell_type": "code",
   "execution_count": 39,
   "id": "fca6662e",
   "metadata": {},
   "outputs": [
    {
     "data": {
      "text/html": [
       "<div>\n",
       "<style scoped>\n",
       "    .dataframe tbody tr th:only-of-type {\n",
       "        vertical-align: middle;\n",
       "    }\n",
       "\n",
       "    .dataframe tbody tr th {\n",
       "        vertical-align: top;\n",
       "    }\n",
       "\n",
       "    .dataframe thead th {\n",
       "        text-align: right;\n",
       "    }\n",
       "</style>\n",
       "<table border=\"1\" class=\"dataframe\">\n",
       "  <thead>\n",
       "    <tr style=\"text-align: right;\">\n",
       "      <th></th>\n",
       "      <th>user_id</th>\n",
       "      <th>item_id</th>\n",
       "    </tr>\n",
       "  </thead>\n",
       "  <tbody>\n",
       "    <tr>\n",
       "      <th>0</th>\n",
       "      <td>2070</td>\n",
       "      <td>1105426</td>\n",
       "    </tr>\n",
       "    <tr>\n",
       "      <th>0</th>\n",
       "      <td>2070</td>\n",
       "      <td>1097350</td>\n",
       "    </tr>\n",
       "    <tr>\n",
       "      <th>0</th>\n",
       "      <td>2070</td>\n",
       "      <td>879194</td>\n",
       "    </tr>\n",
       "    <tr>\n",
       "      <th>0</th>\n",
       "      <td>2070</td>\n",
       "      <td>948640</td>\n",
       "    </tr>\n",
       "  </tbody>\n",
       "</table>\n",
       "</div>"
      ],
      "text/plain": [
       "   user_id  item_id\n",
       "0     2070  1105426\n",
       "0     2070  1097350\n",
       "0     2070   879194\n",
       "0     2070   948640"
      ]
     },
     "execution_count": 39,
     "metadata": {},
     "output_type": "execute_result"
    }
   ],
   "source": [
    "df_match_candidates.head(4)"
   ]
  },
  {
   "cell_type": "markdown",
   "id": "e09d3590",
   "metadata": {},
   "source": [
    "### Check warm start"
   ]
  },
  {
   "cell_type": "code",
   "execution_count": 40,
   "id": "f3604d8b",
   "metadata": {},
   "outputs": [
    {
     "name": "stdout",
     "output_type": "stream",
     "text": [
      "match_candidates\n",
      "Shape: (107550, 2) Users: 2151 Items: 4574\n"
     ]
    }
   ],
   "source": [
    "print_stats_data(df_match_candidates, 'match_candidates')"
   ]
  },
  {
   "cell_type": "markdown",
   "id": "b5621840",
   "metadata": {},
   "source": [
    "### Создаем трейн сет для ранжирования с учетом кандидатов с этапа 1 "
   ]
  },
  {
   "cell_type": "code",
   "execution_count": 41,
   "id": "c3d82c66",
   "metadata": {},
   "outputs": [],
   "source": [
    "df_ranker_train = data_train_ranker[[USER_COL, ITEM_COL]].copy()\n",
    "df_ranker_train['target'] = 1  # тут только покупки "
   ]
  },
  {
   "cell_type": "code",
   "execution_count": 42,
   "id": "a0ff7a3a",
   "metadata": {},
   "outputs": [
    {
     "data": {
      "text/html": [
       "<div>\n",
       "<style scoped>\n",
       "    .dataframe tbody tr th:only-of-type {\n",
       "        vertical-align: middle;\n",
       "    }\n",
       "\n",
       "    .dataframe tbody tr th {\n",
       "        vertical-align: top;\n",
       "    }\n",
       "\n",
       "    .dataframe thead th {\n",
       "        text-align: right;\n",
       "    }\n",
       "</style>\n",
       "<table border=\"1\" class=\"dataframe\">\n",
       "  <thead>\n",
       "    <tr style=\"text-align: right;\">\n",
       "      <th></th>\n",
       "      <th>user_id</th>\n",
       "      <th>item_id</th>\n",
       "      <th>target</th>\n",
       "    </tr>\n",
       "  </thead>\n",
       "  <tbody>\n",
       "    <tr>\n",
       "      <th>2104867</th>\n",
       "      <td>2070</td>\n",
       "      <td>1019940</td>\n",
       "      <td>1</td>\n",
       "    </tr>\n",
       "    <tr>\n",
       "      <th>2107468</th>\n",
       "      <td>2021</td>\n",
       "      <td>840361</td>\n",
       "      <td>1</td>\n",
       "    </tr>\n",
       "    <tr>\n",
       "      <th>2107469</th>\n",
       "      <td>2021</td>\n",
       "      <td>856060</td>\n",
       "      <td>1</td>\n",
       "    </tr>\n",
       "    <tr>\n",
       "      <th>2107470</th>\n",
       "      <td>2021</td>\n",
       "      <td>869344</td>\n",
       "      <td>1</td>\n",
       "    </tr>\n",
       "    <tr>\n",
       "      <th>2107471</th>\n",
       "      <td>2021</td>\n",
       "      <td>896862</td>\n",
       "      <td>1</td>\n",
       "    </tr>\n",
       "  </tbody>\n",
       "</table>\n",
       "</div>"
      ],
      "text/plain": [
       "         user_id  item_id  target\n",
       "2104867     2070  1019940       1\n",
       "2107468     2021   840361       1\n",
       "2107469     2021   856060       1\n",
       "2107470     2021   869344       1\n",
       "2107471     2021   896862       1"
      ]
     },
     "execution_count": 42,
     "metadata": {},
     "output_type": "execute_result"
    }
   ],
   "source": [
    "df_ranker_train.head()"
   ]
  },
  {
   "cell_type": "markdown",
   "id": "20767560",
   "metadata": {},
   "source": [
    "#### Не хватает нулей в датасете, поэтому добавляем наших кандитатов в качество нулей"
   ]
  },
  {
   "cell_type": "code",
   "execution_count": 43,
   "id": "44efea1c",
   "metadata": {},
   "outputs": [],
   "source": [
    "df_ranker_train = df_match_candidates.merge(df_ranker_train, on=[USER_COL, ITEM_COL], how='left')\n",
    "\n",
    "# чистим дубликаты\n",
    "df_ranker_train = df_ranker_train.drop_duplicates(subset=[USER_COL, ITEM_COL])\n",
    "\n",
    "df_ranker_train['target'].fillna(0, inplace= True)"
   ]
  },
  {
   "cell_type": "markdown",
   "id": "65ffc177",
   "metadata": {},
   "source": [
    "(!) На каждого юзера 50 item_id-кандидатов"
   ]
  },
  {
   "cell_type": "markdown",
   "id": "e226452c",
   "metadata": {},
   "source": [
    "- Пока для простоты обучения выберем LightGBM c loss = binary. Это классическая бинарная классификация\n",
    "- Это пример *без* генерации фич"
   ]
  },
  {
   "cell_type": "markdown",
   "id": "2a8294a9",
   "metadata": {},
   "source": [
    "## Подготавливаем фичи для обучения модели"
   ]
  },
  {
   "cell_type": "code",
   "execution_count": 44,
   "id": "f889a93a",
   "metadata": {},
   "outputs": [
    {
     "data": {
      "text/html": [
       "<div>\n",
       "<style scoped>\n",
       "    .dataframe tbody tr th:only-of-type {\n",
       "        vertical-align: middle;\n",
       "    }\n",
       "\n",
       "    .dataframe tbody tr th {\n",
       "        vertical-align: top;\n",
       "    }\n",
       "\n",
       "    .dataframe thead th {\n",
       "        text-align: right;\n",
       "    }\n",
       "</style>\n",
       "<table border=\"1\" class=\"dataframe\">\n",
       "  <thead>\n",
       "    <tr style=\"text-align: right;\">\n",
       "      <th></th>\n",
       "      <th>item_id</th>\n",
       "      <th>manufacturer</th>\n",
       "      <th>department</th>\n",
       "      <th>brand</th>\n",
       "      <th>commodity_desc</th>\n",
       "      <th>sub_commodity_desc</th>\n",
       "      <th>curr_size_of_product</th>\n",
       "    </tr>\n",
       "  </thead>\n",
       "  <tbody>\n",
       "    <tr>\n",
       "      <th>0</th>\n",
       "      <td>25671</td>\n",
       "      <td>2</td>\n",
       "      <td>GROCERY</td>\n",
       "      <td>National</td>\n",
       "      <td>FRZN ICE</td>\n",
       "      <td>ICE - CRUSHED/CUBED</td>\n",
       "      <td>22 LB</td>\n",
       "    </tr>\n",
       "    <tr>\n",
       "      <th>1</th>\n",
       "      <td>26081</td>\n",
       "      <td>2</td>\n",
       "      <td>MISC. TRANS.</td>\n",
       "      <td>National</td>\n",
       "      <td>NO COMMODITY DESCRIPTION</td>\n",
       "      <td>NO SUBCOMMODITY DESCRIPTION</td>\n",
       "      <td></td>\n",
       "    </tr>\n",
       "  </tbody>\n",
       "</table>\n",
       "</div>"
      ],
      "text/plain": [
       "   item_id  manufacturer    department     brand            commodity_desc  \\\n",
       "0    25671             2       GROCERY  National                  FRZN ICE   \n",
       "1    26081             2  MISC. TRANS.  National  NO COMMODITY DESCRIPTION   \n",
       "\n",
       "            sub_commodity_desc curr_size_of_product  \n",
       "0          ICE - CRUSHED/CUBED                22 LB  \n",
       "1  NO SUBCOMMODITY DESCRIPTION                       "
      ]
     },
     "execution_count": 44,
     "metadata": {},
     "output_type": "execute_result"
    }
   ],
   "source": [
    "item_features.head(2)"
   ]
  },
  {
   "cell_type": "code",
   "execution_count": 45,
   "id": "43276c5d",
   "metadata": {},
   "outputs": [
    {
     "data": {
      "text/html": [
       "<div>\n",
       "<style scoped>\n",
       "    .dataframe tbody tr th:only-of-type {\n",
       "        vertical-align: middle;\n",
       "    }\n",
       "\n",
       "    .dataframe tbody tr th {\n",
       "        vertical-align: top;\n",
       "    }\n",
       "\n",
       "    .dataframe thead th {\n",
       "        text-align: right;\n",
       "    }\n",
       "</style>\n",
       "<table border=\"1\" class=\"dataframe\">\n",
       "  <thead>\n",
       "    <tr style=\"text-align: right;\">\n",
       "      <th></th>\n",
       "      <th>age_desc</th>\n",
       "      <th>marital_status_code</th>\n",
       "      <th>income_desc</th>\n",
       "      <th>homeowner_desc</th>\n",
       "      <th>hh_comp_desc</th>\n",
       "      <th>household_size_desc</th>\n",
       "      <th>kid_category_desc</th>\n",
       "      <th>user_id</th>\n",
       "    </tr>\n",
       "  </thead>\n",
       "  <tbody>\n",
       "    <tr>\n",
       "      <th>0</th>\n",
       "      <td>65+</td>\n",
       "      <td>A</td>\n",
       "      <td>35-49K</td>\n",
       "      <td>Homeowner</td>\n",
       "      <td>2 Adults No Kids</td>\n",
       "      <td>2</td>\n",
       "      <td>None/Unknown</td>\n",
       "      <td>1</td>\n",
       "    </tr>\n",
       "    <tr>\n",
       "      <th>1</th>\n",
       "      <td>45-54</td>\n",
       "      <td>A</td>\n",
       "      <td>50-74K</td>\n",
       "      <td>Homeowner</td>\n",
       "      <td>2 Adults No Kids</td>\n",
       "      <td>2</td>\n",
       "      <td>None/Unknown</td>\n",
       "      <td>7</td>\n",
       "    </tr>\n",
       "  </tbody>\n",
       "</table>\n",
       "</div>"
      ],
      "text/plain": [
       "  age_desc marital_status_code income_desc homeowner_desc      hh_comp_desc  \\\n",
       "0      65+                   A      35-49K      Homeowner  2 Adults No Kids   \n",
       "1    45-54                   A      50-74K      Homeowner  2 Adults No Kids   \n",
       "\n",
       "  household_size_desc kid_category_desc  user_id  \n",
       "0                   2      None/Unknown        1  \n",
       "1                   2      None/Unknown        7  "
      ]
     },
     "execution_count": 45,
     "metadata": {},
     "output_type": "execute_result"
    }
   ],
   "source": [
    "user_features.head(2)"
   ]
  },
  {
   "cell_type": "code",
   "execution_count": 46,
   "id": "6c7a9be0",
   "metadata": {},
   "outputs": [
    {
     "data": {
      "text/html": [
       "<div>\n",
       "<style scoped>\n",
       "    .dataframe tbody tr th:only-of-type {\n",
       "        vertical-align: middle;\n",
       "    }\n",
       "\n",
       "    .dataframe tbody tr th {\n",
       "        vertical-align: top;\n",
       "    }\n",
       "\n",
       "    .dataframe thead th {\n",
       "        text-align: right;\n",
       "    }\n",
       "</style>\n",
       "<table border=\"1\" class=\"dataframe\">\n",
       "  <thead>\n",
       "    <tr style=\"text-align: right;\">\n",
       "      <th></th>\n",
       "      <th>user_id</th>\n",
       "      <th>item_id</th>\n",
       "      <th>target</th>\n",
       "      <th>manufacturer</th>\n",
       "      <th>department</th>\n",
       "      <th>brand</th>\n",
       "      <th>commodity_desc</th>\n",
       "      <th>sub_commodity_desc</th>\n",
       "      <th>curr_size_of_product</th>\n",
       "      <th>age_desc</th>\n",
       "      <th>marital_status_code</th>\n",
       "      <th>income_desc</th>\n",
       "      <th>homeowner_desc</th>\n",
       "      <th>hh_comp_desc</th>\n",
       "      <th>household_size_desc</th>\n",
       "      <th>kid_category_desc</th>\n",
       "    </tr>\n",
       "  </thead>\n",
       "  <tbody>\n",
       "    <tr>\n",
       "      <th>0</th>\n",
       "      <td>2070</td>\n",
       "      <td>1105426</td>\n",
       "      <td>0.0</td>\n",
       "      <td>69</td>\n",
       "      <td>DELI</td>\n",
       "      <td>Private</td>\n",
       "      <td>SANDWICHES</td>\n",
       "      <td>SANDWICHES - (COLD)</td>\n",
       "      <td></td>\n",
       "      <td>45-54</td>\n",
       "      <td>U</td>\n",
       "      <td>50-74K</td>\n",
       "      <td>Unknown</td>\n",
       "      <td>Unknown</td>\n",
       "      <td>1</td>\n",
       "      <td>None/Unknown</td>\n",
       "    </tr>\n",
       "    <tr>\n",
       "      <th>1</th>\n",
       "      <td>2070</td>\n",
       "      <td>1097350</td>\n",
       "      <td>0.0</td>\n",
       "      <td>2468</td>\n",
       "      <td>GROCERY</td>\n",
       "      <td>National</td>\n",
       "      <td>DOMESTIC WINE</td>\n",
       "      <td>VALUE GLASS WINE</td>\n",
       "      <td>4 LTR</td>\n",
       "      <td>45-54</td>\n",
       "      <td>U</td>\n",
       "      <td>50-74K</td>\n",
       "      <td>Unknown</td>\n",
       "      <td>Unknown</td>\n",
       "      <td>1</td>\n",
       "      <td>None/Unknown</td>\n",
       "    </tr>\n",
       "  </tbody>\n",
       "</table>\n",
       "</div>"
      ],
      "text/plain": [
       "   user_id  item_id  target  manufacturer department     brand commodity_desc  \\\n",
       "0     2070  1105426     0.0            69       DELI   Private     SANDWICHES   \n",
       "1     2070  1097350     0.0          2468    GROCERY  National  DOMESTIC WINE   \n",
       "\n",
       "    sub_commodity_desc curr_size_of_product age_desc marital_status_code  \\\n",
       "0  SANDWICHES - (COLD)                         45-54                   U   \n",
       "1     VALUE GLASS WINE                4 LTR    45-54                   U   \n",
       "\n",
       "  income_desc homeowner_desc hh_comp_desc household_size_desc  \\\n",
       "0      50-74K        Unknown      Unknown                   1   \n",
       "1      50-74K        Unknown      Unknown                   1   \n",
       "\n",
       "  kid_category_desc  \n",
       "0      None/Unknown  \n",
       "1      None/Unknown  "
      ]
     },
     "execution_count": 46,
     "metadata": {},
     "output_type": "execute_result"
    }
   ],
   "source": [
    "df_ranker_train = df_ranker_train.merge(item_features, on='item_id', how='left')\n",
    "df_ranker_train = df_ranker_train.merge(user_features, on='user_id', how='left')\n",
    "\n",
    "df_ranker_train.head(2)"
   ]
  },
  {
   "cell_type": "markdown",
   "id": "65059933",
   "metadata": {},
   "source": [
    "**Фичи user_id:**\n",
    "    - Средний чек\n",
    "    - Средняя сумма покупки 1 товара в каждой категории\n",
    "    - Кол-во покупок в каждой категории\n",
    "    - Частотность покупок раз/месяц\n",
    "    - Долю покупок в выходные\n",
    "    - Долю покупок утром/днем/вечером\n",
    "\n",
    "**Фичи item_id**:\n",
    "    - Кол-во покупок в неделю\n",
    "    - Среднее кол-во покупок 1 товара в категории в неделю\n",
    "    - (Кол-во покупок в неделю) / (Среднее ол-во покупок 1 товара в категории в неделю)\n",
    "    - Цена (Можно посчитать из retil_train.csv)\n",
    "    - Цена / Средняя цена товара в категории\n",
    "    \n",
    "**Фичи пары user_id - item_id**\n",
    "    - (Средняя сумма покупки 1 товара в каждой категории (берем категорию item_id)) - (Цена item_id)\n",
    "    - (Кол-во покупок юзером конкретной категории в неделю) - (Среднее кол-во покупок всеми юзерами конкретной категории в неделю)\n",
    "    - (Кол-во покупок юзером конкретной категории в неделю) / (Среднее кол-во покупок всеми юзерами конкретной категории в неделю)"
   ]
  },
  {
   "cell_type": "code",
   "execution_count": 47,
   "id": "da9fcdf9",
   "metadata": {},
   "outputs": [
    {
     "data": {
      "text/html": [
       "<div>\n",
       "<style scoped>\n",
       "    .dataframe tbody tr th:only-of-type {\n",
       "        vertical-align: middle;\n",
       "    }\n",
       "\n",
       "    .dataframe tbody tr th {\n",
       "        vertical-align: top;\n",
       "    }\n",
       "\n",
       "    .dataframe thead th {\n",
       "        text-align: right;\n",
       "    }\n",
       "</style>\n",
       "<table border=\"1\" class=\"dataframe\">\n",
       "  <thead>\n",
       "    <tr style=\"text-align: right;\">\n",
       "      <th></th>\n",
       "      <th>user_id</th>\n",
       "      <th>item_id</th>\n",
       "      <th>target</th>\n",
       "      <th>manufacturer</th>\n",
       "      <th>department</th>\n",
       "      <th>brand</th>\n",
       "      <th>commodity_desc</th>\n",
       "      <th>sub_commodity_desc</th>\n",
       "      <th>curr_size_of_product</th>\n",
       "      <th>age_desc</th>\n",
       "      <th>marital_status_code</th>\n",
       "      <th>income_desc</th>\n",
       "      <th>homeowner_desc</th>\n",
       "      <th>hh_comp_desc</th>\n",
       "      <th>household_size_desc</th>\n",
       "      <th>kid_category_desc</th>\n",
       "    </tr>\n",
       "  </thead>\n",
       "  <tbody>\n",
       "    <tr>\n",
       "      <th>0</th>\n",
       "      <td>2070</td>\n",
       "      <td>1105426</td>\n",
       "      <td>0.0</td>\n",
       "      <td>69</td>\n",
       "      <td>DELI</td>\n",
       "      <td>Private</td>\n",
       "      <td>SANDWICHES</td>\n",
       "      <td>SANDWICHES - (COLD)</td>\n",
       "      <td></td>\n",
       "      <td>45-54</td>\n",
       "      <td>U</td>\n",
       "      <td>50-74K</td>\n",
       "      <td>Unknown</td>\n",
       "      <td>Unknown</td>\n",
       "      <td>1</td>\n",
       "      <td>None/Unknown</td>\n",
       "    </tr>\n",
       "    <tr>\n",
       "      <th>1</th>\n",
       "      <td>2070</td>\n",
       "      <td>1097350</td>\n",
       "      <td>0.0</td>\n",
       "      <td>2468</td>\n",
       "      <td>GROCERY</td>\n",
       "      <td>National</td>\n",
       "      <td>DOMESTIC WINE</td>\n",
       "      <td>VALUE GLASS WINE</td>\n",
       "      <td>4 LTR</td>\n",
       "      <td>45-54</td>\n",
       "      <td>U</td>\n",
       "      <td>50-74K</td>\n",
       "      <td>Unknown</td>\n",
       "      <td>Unknown</td>\n",
       "      <td>1</td>\n",
       "      <td>None/Unknown</td>\n",
       "    </tr>\n",
       "    <tr>\n",
       "      <th>2</th>\n",
       "      <td>2070</td>\n",
       "      <td>879194</td>\n",
       "      <td>0.0</td>\n",
       "      <td>69</td>\n",
       "      <td>DRUG GM</td>\n",
       "      <td>Private</td>\n",
       "      <td>DIAPERS &amp; DISPOSABLES</td>\n",
       "      <td>BABY DIAPERS</td>\n",
       "      <td>14 CT</td>\n",
       "      <td>45-54</td>\n",
       "      <td>U</td>\n",
       "      <td>50-74K</td>\n",
       "      <td>Unknown</td>\n",
       "      <td>Unknown</td>\n",
       "      <td>1</td>\n",
       "      <td>None/Unknown</td>\n",
       "    </tr>\n",
       "    <tr>\n",
       "      <th>3</th>\n",
       "      <td>2070</td>\n",
       "      <td>948640</td>\n",
       "      <td>0.0</td>\n",
       "      <td>1213</td>\n",
       "      <td>DRUG GM</td>\n",
       "      <td>National</td>\n",
       "      <td>ORAL HYGIENE PRODUCTS</td>\n",
       "      <td>WHITENING SYSTEMS</td>\n",
       "      <td>3 OZ</td>\n",
       "      <td>45-54</td>\n",
       "      <td>U</td>\n",
       "      <td>50-74K</td>\n",
       "      <td>Unknown</td>\n",
       "      <td>Unknown</td>\n",
       "      <td>1</td>\n",
       "      <td>None/Unknown</td>\n",
       "    </tr>\n",
       "    <tr>\n",
       "      <th>4</th>\n",
       "      <td>2070</td>\n",
       "      <td>928263</td>\n",
       "      <td>0.0</td>\n",
       "      <td>69</td>\n",
       "      <td>DRUG GM</td>\n",
       "      <td>Private</td>\n",
       "      <td>DIAPERS &amp; DISPOSABLES</td>\n",
       "      <td>BABY DIAPERS</td>\n",
       "      <td>13 CT</td>\n",
       "      <td>45-54</td>\n",
       "      <td>U</td>\n",
       "      <td>50-74K</td>\n",
       "      <td>Unknown</td>\n",
       "      <td>Unknown</td>\n",
       "      <td>1</td>\n",
       "      <td>None/Unknown</td>\n",
       "    </tr>\n",
       "  </tbody>\n",
       "</table>\n",
       "</div>"
      ],
      "text/plain": [
       "   user_id  item_id  target  manufacturer department     brand  \\\n",
       "0     2070  1105426     0.0            69       DELI   Private   \n",
       "1     2070  1097350     0.0          2468    GROCERY  National   \n",
       "2     2070   879194     0.0            69    DRUG GM   Private   \n",
       "3     2070   948640     0.0          1213    DRUG GM  National   \n",
       "4     2070   928263     0.0            69    DRUG GM   Private   \n",
       "\n",
       "          commodity_desc   sub_commodity_desc curr_size_of_product age_desc  \\\n",
       "0             SANDWICHES  SANDWICHES - (COLD)                         45-54   \n",
       "1          DOMESTIC WINE     VALUE GLASS WINE                4 LTR    45-54   \n",
       "2  DIAPERS & DISPOSABLES         BABY DIAPERS                14 CT    45-54   \n",
       "3  ORAL HYGIENE PRODUCTS    WHITENING SYSTEMS                 3 OZ    45-54   \n",
       "4  DIAPERS & DISPOSABLES         BABY DIAPERS                13 CT    45-54   \n",
       "\n",
       "  marital_status_code income_desc homeowner_desc hh_comp_desc  \\\n",
       "0                   U      50-74K        Unknown      Unknown   \n",
       "1                   U      50-74K        Unknown      Unknown   \n",
       "2                   U      50-74K        Unknown      Unknown   \n",
       "3                   U      50-74K        Unknown      Unknown   \n",
       "4                   U      50-74K        Unknown      Unknown   \n",
       "\n",
       "  household_size_desc kid_category_desc  \n",
       "0                   1      None/Unknown  \n",
       "1                   1      None/Unknown  \n",
       "2                   1      None/Unknown  \n",
       "3                   1      None/Unknown  \n",
       "4                   1      None/Unknown  "
      ]
     },
     "execution_count": 47,
     "metadata": {},
     "output_type": "execute_result"
    }
   ],
   "source": [
    "df_ranker_train.head()"
   ]
  },
  {
   "cell_type": "code",
   "execution_count": 48,
   "id": "356fd935",
   "metadata": {},
   "outputs": [],
   "source": [
    "X_train = df_ranker_train.drop('target', axis=1)\n",
    "y_train = df_ranker_train[['target']]"
   ]
  },
  {
   "cell_type": "code",
   "execution_count": 49,
   "id": "4ddeac37",
   "metadata": {},
   "outputs": [
    {
     "data": {
      "text/plain": [
       "['manufacturer',\n",
       " 'department',\n",
       " 'brand',\n",
       " 'commodity_desc',\n",
       " 'sub_commodity_desc',\n",
       " 'curr_size_of_product',\n",
       " 'age_desc',\n",
       " 'marital_status_code',\n",
       " 'income_desc',\n",
       " 'homeowner_desc',\n",
       " 'hh_comp_desc',\n",
       " 'household_size_desc',\n",
       " 'kid_category_desc']"
      ]
     },
     "execution_count": 49,
     "metadata": {},
     "output_type": "execute_result"
    }
   ],
   "source": [
    "cat_feats = X_train.columns[2:].tolist()\n",
    "X_train[cat_feats] = X_train[cat_feats].astype('category')\n",
    "\n",
    "cat_feats"
   ]
  },
  {
   "cell_type": "markdown",
   "id": "96d360cf",
   "metadata": {},
   "source": [
    "## Обучение модели ранжирования"
   ]
  },
  {
   "cell_type": "code",
   "execution_count": 50,
   "id": "249c2613",
   "metadata": {},
   "outputs": [],
   "source": [
    "from catboost import CatBoost, Pool"
   ]
  },
  {
   "cell_type": "code",
   "execution_count": 51,
   "id": "cb565f6d",
   "metadata": {},
   "outputs": [],
   "source": [
    "# делали на вебинаре, кусок с катбустом\n",
    "\n",
    "\n",
    "# df_bin_feat = pd.get_dummies(X_train)\n",
    "\n",
    "# model = CatBoost(params ={'objective': \"Logloss\",\n",
    "#                           \"iterations\":1000,\n",
    "#                           \"max_depth\":8,\n",
    "#                           \"task_type\":\"GPU\",\n",
    "#                           \"devices\":\"0:1:2:3\"\n",
    "#             })\n",
    "# model.fit(df_bin_juice, y_train, silent=True)\n",
    "\n",
    "# train_preds = model.predict(df_bin_feat,prediction_type=\"Probability\")"
   ]
  },
  {
   "cell_type": "code",
   "execution_count": 52,
   "id": "e1fd0737",
   "metadata": {},
   "outputs": [
    {
     "name": "stderr",
     "output_type": "stream",
     "text": [
      "J:\\Vadim\\lib\\site-packages\\sklearn\\preprocessing\\_label.py:98: DataConversionWarning: A column-vector y was passed when a 1d array was expected. Please change the shape of y to (n_samples, ), for example using ravel().\n",
      "  y = column_or_1d(y, warn=True)\n",
      "J:\\Vadim\\lib\\site-packages\\sklearn\\preprocessing\\_label.py:133: DataConversionWarning: A column-vector y was passed when a 1d array was expected. Please change the shape of y to (n_samples, ), for example using ravel().\n",
      "  y = column_or_1d(y, warn=True)\n",
      "J:\\Vadim\\lib\\site-packages\\lightgbm\\basic.py:1245: UserWarning: categorical_column in param dict is overridden.\n",
      "  _log_warning('{} in param dict is overridden.'.format(cat_alias))\n"
     ]
    }
   ],
   "source": [
    "lgb = LGBMClassifier(objective='binary',\n",
    "                     boosting_type='gbdt',\n",
    "                     max_depth=15,\n",
    "                     num_leaves=50,\n",
    "                     min_child_samples=9,\n",
    "                     n_estimators=600,\n",
    "#                      learning_rate=0.327855,\n",
    "                     learning_rate=0.32785714285714285,\n",
    "                     categorical_column=cat_feats,\n",
    "                     n_jobs=-1,\n",
    "#                      verbose=0\n",
    "                   )\n",
    "\n",
    "lgb.fit(X_train, y_train)\n",
    "\n",
    "train_preds = lgb.predict_proba(X_train)"
   ]
  },
  {
   "cell_type": "code",
   "execution_count": 53,
   "id": "86bdedb9",
   "metadata": {},
   "outputs": [],
   "source": [
    "df_ranker_predict = df_ranker_train.copy()"
   ]
  },
  {
   "cell_type": "code",
   "execution_count": 54,
   "id": "67f89ae2",
   "metadata": {},
   "outputs": [],
   "source": [
    "df_ranker_predict['proba_item_purchase'] = train_preds[:,1]"
   ]
  },
  {
   "cell_type": "code",
   "execution_count": 55,
   "id": "01178200",
   "metadata": {},
   "outputs": [
    {
     "data": {
      "text/plain": [
       "0    0.007077\n",
       "1    0.004982\n",
       "2    0.002526\n",
       "3    0.000335\n",
       "4    0.076191\n",
       "5    0.009673\n",
       "6    0.002602\n",
       "7    0.001171\n",
       "8    0.031995\n",
       "9    0.925443\n",
       "Name: proba_item_purchase, dtype: float64"
      ]
     },
     "execution_count": 55,
     "metadata": {},
     "output_type": "execute_result"
    }
   ],
   "source": [
    "df_ranker_predict['proba_item_purchase'][:10]"
   ]
  },
  {
   "cell_type": "markdown",
   "id": "1a339616",
   "metadata": {},
   "source": [
    "## Подведем итоги\n",
    "\n",
    "    Мы обучили модель ранжирования на покупках из сета data_train_ranker и на кандитатах от own_recommendations, что является тренировочным сетом, и теперь наша задача предсказать и оценить именно на тестовом сете."
   ]
  },
  {
   "cell_type": "markdown",
   "id": "46460dbd",
   "metadata": {},
   "source": [
    "# Evaluation on test dataset"
   ]
  },
  {
   "cell_type": "code",
   "execution_count": 56,
   "id": "b8e51041",
   "metadata": {},
   "outputs": [
    {
     "data": {
      "text/html": [
       "<div>\n",
       "<style scoped>\n",
       "    .dataframe tbody tr th:only-of-type {\n",
       "        vertical-align: middle;\n",
       "    }\n",
       "\n",
       "    .dataframe tbody tr th {\n",
       "        vertical-align: top;\n",
       "    }\n",
       "\n",
       "    .dataframe thead th {\n",
       "        text-align: right;\n",
       "    }\n",
       "</style>\n",
       "<table border=\"1\" class=\"dataframe\">\n",
       "  <thead>\n",
       "    <tr style=\"text-align: right;\">\n",
       "      <th></th>\n",
       "      <th>user_id</th>\n",
       "      <th>actual</th>\n",
       "    </tr>\n",
       "  </thead>\n",
       "  <tbody>\n",
       "    <tr>\n",
       "      <th>0</th>\n",
       "      <td>1</td>\n",
       "      <td>[821867, 834484, 856942, 865456, 889248, 90795...</td>\n",
       "    </tr>\n",
       "    <tr>\n",
       "      <th>1</th>\n",
       "      <td>3</td>\n",
       "      <td>[835476, 851057, 872021, 878302, 879948, 90963...</td>\n",
       "    </tr>\n",
       "  </tbody>\n",
       "</table>\n",
       "</div>"
      ],
      "text/plain": [
       "   user_id                                             actual\n",
       "0        1  [821867, 834484, 856942, 865456, 889248, 90795...\n",
       "1        3  [835476, 851057, 872021, 878302, 879948, 90963..."
      ]
     },
     "execution_count": 56,
     "metadata": {},
     "output_type": "execute_result"
    }
   ],
   "source": [
    "result_eval_ranker = data_val_ranker.groupby(USER_COL)[ITEM_COL].unique().reset_index()\n",
    "result_eval_ranker.columns=[USER_COL, ACTUAL_COL]\n",
    "result_eval_ranker.head(2)"
   ]
  },
  {
   "cell_type": "markdown",
   "id": "4f92dc57",
   "metadata": {},
   "source": [
    "## Eval matching on test dataset"
   ]
  },
  {
   "cell_type": "code",
   "execution_count": 57,
   "id": "8b610d74",
   "metadata": {},
   "outputs": [
    {
     "name": "stdout",
     "output_type": "stream",
     "text": [
      "CPU times: total: 219 ms\n",
      "Wall time: 205 ms\n"
     ]
    }
   ],
   "source": [
    "%%time\n",
    "result_eval_ranker['own_rec'] = result_eval_ranker[USER_COL].apply(lambda x: recommender.get_own_recommendations(x, N=N_PREDICT))"
   ]
  },
  {
   "cell_type": "code",
   "execution_count": 58,
   "id": "a3d0a2f5",
   "metadata": {},
   "outputs": [
    {
     "data": {
      "text/plain": [
       "[('own_rec', 0.1444117647058813)]"
      ]
     },
     "execution_count": 58,
     "metadata": {},
     "output_type": "execute_result"
    }
   ],
   "source": [
    "# померяем precision только модели матчинга, чтобы понимать влияение ранжирования на метрики\n",
    "\n",
    "sorted(calc_precision(result_eval_ranker, TOPK_PRECISION), key=lambda x: x[1], reverse=True)"
   ]
  },
  {
   "cell_type": "markdown",
   "id": "555e966c",
   "metadata": {},
   "source": [
    "## Eval re-ranked matched result on test dataset\n",
    "    Вспомним df_match_candidates сет, который был получен own_recommendations на юзерах, набор пользователей мы фиксировали и он одинаков, значит и прогноз одинаков, поэтому мы можем использовать этот датафрейм для переранжирования.\n",
    " "
   ]
  },
  {
   "cell_type": "code",
   "execution_count": 59,
   "id": "f5e2cb6f",
   "metadata": {},
   "outputs": [],
   "source": [
    "def rerank(user_id):\n",
    "    return df_ranker_predict[df_ranker_predict[USER_COL]==user_id].sort_values('proba_item_purchase', ascending=False).head(5).item_id.tolist()"
   ]
  },
  {
   "cell_type": "code",
   "execution_count": 60,
   "id": "a26fddde",
   "metadata": {},
   "outputs": [],
   "source": [
    "result_eval_ranker['reranked_own_rec'] = result_eval_ranker[USER_COL].apply(lambda user_id: rerank(user_id))"
   ]
  },
  {
   "cell_type": "code",
   "execution_count": 61,
   "id": "eeb5228c",
   "metadata": {},
   "outputs": [
    {
     "name": "stderr",
     "output_type": "stream",
     "text": [
      "C:\\Users\\Вадим\\Desktop\\GeekBrains\\Recommendation-systems\\Homework\\Lesson_6\\metrics.py:20: RuntimeWarning: invalid value encountered in long_scalars\n",
      "  return flags.sum() / len(recommended_list)\n"
     ]
    }
   ],
   "source": [
    "tuple_res = sorted(calc_precision(result_eval_ranker, TOPK_PRECISION), key=lambda x: x[1], reverse=True)[0]"
   ]
  },
  {
   "cell_type": "code",
   "execution_count": 62,
   "id": "48c98eb1",
   "metadata": {},
   "outputs": [
    {
     "data": {
      "text/plain": [
       "'reranked_own_rec'"
      ]
     },
     "execution_count": 62,
     "metadata": {},
     "output_type": "execute_result"
    }
   ],
   "source": [
    "tuple_res[0]"
   ]
  },
  {
   "cell_type": "code",
   "execution_count": 63,
   "id": "caa919c9",
   "metadata": {},
   "outputs": [
    {
     "name": "stdout",
     "output_type": "stream",
     "text": [
      "('reranked_own_rec', 0.1958224543080921)\n",
      "('own_rec', 0.1444117647058813)\n"
     ]
    },
    {
     "name": "stderr",
     "output_type": "stream",
     "text": [
      "C:\\Users\\Вадим\\Desktop\\GeekBrains\\Recommendation-systems\\Homework\\Lesson_6\\metrics.py:20: RuntimeWarning: invalid value encountered in long_scalars\n",
      "  return flags.sum() / len(recommended_list)\n"
     ]
    }
   ],
   "source": [
    "print(*sorted(calc_precision(result_eval_ranker, TOPK_PRECISION), key=lambda x: x[1], reverse=True), sep='\\n')"
   ]
  },
  {
   "cell_type": "markdown",
   "id": "7bdfde64",
   "metadata": {},
   "source": [
    "Берем топ-k предсказаний, ранжированных по вероятности, для каждого юзера"
   ]
  },
  {
   "cell_type": "code",
   "execution_count": null,
   "id": "598cfef4",
   "metadata": {},
   "outputs": [],
   "source": []
  }
 ],
 "metadata": {
  "kernelspec": {
   "display_name": "Python 3 (ipykernel)",
   "language": "python",
   "name": "python3"
  },
  "language_info": {
   "codemirror_mode": {
    "name": "ipython",
    "version": 3
   },
   "file_extension": ".py",
   "mimetype": "text/x-python",
   "name": "python",
   "nbconvert_exporter": "python",
   "pygments_lexer": "ipython3",
   "version": "3.8.8"
  }
 },
 "nbformat": 4,
 "nbformat_minor": 5
}
