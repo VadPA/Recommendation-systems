{
 "cells": [
  {
   "cell_type": "markdown",
   "id": "8b96e7be",
   "metadata": {},
   "source": [
    "# Вебинар 4. Рекоммендательные системы на основе контента. Поиск похожих товаров и пользователей"
   ]
  },
  {
   "cell_type": "markdown",
   "id": "f5c24873",
   "metadata": {},
   "source": [
    "---"
   ]
  },
  {
   "cell_type": "code",
   "execution_count": 1,
   "id": "cf4c7147",
   "metadata": {},
   "outputs": [],
   "source": [
    "import pandas as pd\n",
    "import numpy as np\n",
    "import random\n",
    "\n",
    "import matplotlib.pyplot as plt\n",
    "%matplotlib inline\n",
    "\n",
    "# Для работы с матрицами\n",
    "from scipy.sparse import csr_matrix\n",
    "\n",
    "# Матричная факторизация\n",
    "from implicit.bpr import BayesianPersonalizedRanking\n",
    "from implicit.als import AlternatingLeastSquares\n",
    "from implicit.nearest_neighbours import ItemItemRecommender  # нужен для одного трюка\n",
    "from implicit.nearest_neighbours import bm25_weight, tfidf_weight\n",
    "\n",
    "# Функции из 1-ого вебинара\n",
    "import os, sys\n",
    "\n",
    "module_path = os.path.abspath(os.path.join(os.pardir))\n",
    "if module_path not in sys.path:\n",
    "    sys.path.append(module_path)\n",
    "    \n",
    "from metrics import precision_at_k, recall_at_k\n",
    "from utils import prefilter_items\n",
    "from recommenders import MainRecommender"
   ]
  },
  {
   "cell_type": "code",
   "execution_count": 2,
   "id": "e47911a0",
   "metadata": {},
   "outputs": [
    {
     "data": {
      "text/html": [
       "<div>\n",
       "<style scoped>\n",
       "    .dataframe tbody tr th:only-of-type {\n",
       "        vertical-align: middle;\n",
       "    }\n",
       "\n",
       "    .dataframe tbody tr th {\n",
       "        vertical-align: top;\n",
       "    }\n",
       "\n",
       "    .dataframe thead th {\n",
       "        text-align: right;\n",
       "    }\n",
       "</style>\n",
       "<table border=\"1\" class=\"dataframe\">\n",
       "  <thead>\n",
       "    <tr style=\"text-align: right;\">\n",
       "      <th></th>\n",
       "      <th>user_id</th>\n",
       "      <th>basket_id</th>\n",
       "      <th>day</th>\n",
       "      <th>item_id</th>\n",
       "      <th>quantity</th>\n",
       "      <th>sales_value</th>\n",
       "      <th>store_id</th>\n",
       "      <th>retail_disc</th>\n",
       "      <th>trans_time</th>\n",
       "      <th>week_no</th>\n",
       "      <th>coupon_disc</th>\n",
       "      <th>coupon_match_disc</th>\n",
       "    </tr>\n",
       "  </thead>\n",
       "  <tbody>\n",
       "    <tr>\n",
       "      <th>0</th>\n",
       "      <td>2375</td>\n",
       "      <td>26984851472</td>\n",
       "      <td>1</td>\n",
       "      <td>1004906</td>\n",
       "      <td>1</td>\n",
       "      <td>1.39</td>\n",
       "      <td>364</td>\n",
       "      <td>-0.6</td>\n",
       "      <td>1631</td>\n",
       "      <td>1</td>\n",
       "      <td>0.0</td>\n",
       "      <td>0.0</td>\n",
       "    </tr>\n",
       "    <tr>\n",
       "      <th>1</th>\n",
       "      <td>2375</td>\n",
       "      <td>26984851472</td>\n",
       "      <td>1</td>\n",
       "      <td>1033142</td>\n",
       "      <td>1</td>\n",
       "      <td>0.82</td>\n",
       "      <td>364</td>\n",
       "      <td>0.0</td>\n",
       "      <td>1631</td>\n",
       "      <td>1</td>\n",
       "      <td>0.0</td>\n",
       "      <td>0.0</td>\n",
       "    </tr>\n",
       "  </tbody>\n",
       "</table>\n",
       "</div>"
      ],
      "text/plain": [
       "   user_id    basket_id  day  item_id  quantity  sales_value  store_id  \\\n",
       "0     2375  26984851472    1  1004906         1         1.39       364   \n",
       "1     2375  26984851472    1  1033142         1         0.82       364   \n",
       "\n",
       "   retail_disc  trans_time  week_no  coupon_disc  coupon_match_disc  \n",
       "0         -0.6        1631        1          0.0                0.0  \n",
       "1          0.0        1631        1          0.0                0.0  "
      ]
     },
     "execution_count": 2,
     "metadata": {},
     "output_type": "execute_result"
    }
   ],
   "source": [
    "data = pd.read_csv('../Lecture_2/webinar_2/webinar_2/data/transaction_data.csv')\n",
    "\n",
    "data.columns = [col.lower() for col in data.columns]\n",
    "data.rename(columns={'household_key': 'user_id',\n",
    "                    'product_id': 'item_id'},\n",
    "           inplace=True)\n",
    "\n",
    "\n",
    "test_size_weeks = 3\n",
    "\n",
    "data_train = data[data['week_no'] < data['week_no'].max() - test_size_weeks]\n",
    "data_test = data[data['week_no'] >= data['week_no'].max() - test_size_weeks]\n",
    "\n",
    "data_train.head(2)"
   ]
  },
  {
   "cell_type": "code",
   "execution_count": 3,
   "id": "2fe394f8",
   "metadata": {},
   "outputs": [],
   "source": [
    "def get_recommendations(user, model, N=5):\n",
    "    if user not in userid_to_id:\n",
    "        user = random.choice(list(userid_to_id.keys()))\n",
    "\n",
    "    res = [id_to_itemid[rec[0]] for rec in\n",
    "           model.recommend(userid=userid_to_id[user],\n",
    "                           user_items=csr_matrix(user_item_matrix).tocsr(),  # на вход user-item matrix\n",
    "                           N=N,\n",
    "                           filter_already_liked_items=False,\n",
    "                           filter_items=[itemid_to_id[999999]],  # !!!\n",
    "                           recalculate_user=True)]\n",
    "    return res"
   ]
  },
  {
   "cell_type": "code",
   "execution_count": 4,
   "id": "70ff0d57",
   "metadata": {},
   "outputs": [],
   "source": [
    "def get_rec(model, x):\n",
    "    n = 2\n",
    "    while True:\n",
    "        recs = model.similar_items(itemid_to_id[x], n)\n",
    "        top_rec = recs[n - 1][0]\n",
    "        if id_to_itemid[top_rec] != 999999:\n",
    "            break\n",
    "        else:\n",
    "            n += 1\n",
    "    return id_to_itemid[top_rec]"
   ]
  },
  {
   "cell_type": "code",
   "execution_count": 5,
   "id": "3eedae2b",
   "metadata": {},
   "outputs": [],
   "source": [
    "item_features = pd.read_csv(\n",
    "    'C:/Users/Вадим/Desktop/GeekBrains/Recommendation-systems/Lectures/Lecture_2/webinar_2/webinar_2'\n",
    "    '/data/product.csv')\n",
    "item_features.columns = [col.lower() for col in item_features.columns]\n",
    "item_features.rename(columns={'product_id': 'item_id'}, inplace=True)"
   ]
  },
  {
   "cell_type": "code",
   "execution_count": 6,
   "id": "cafe7418",
   "metadata": {},
   "outputs": [
    {
     "data": {
      "text/html": [
       "<div>\n",
       "<style scoped>\n",
       "    .dataframe tbody tr th:only-of-type {\n",
       "        vertical-align: middle;\n",
       "    }\n",
       "\n",
       "    .dataframe tbody tr th {\n",
       "        vertical-align: top;\n",
       "    }\n",
       "\n",
       "    .dataframe thead th {\n",
       "        text-align: right;\n",
       "    }\n",
       "</style>\n",
       "<table border=\"1\" class=\"dataframe\">\n",
       "  <thead>\n",
       "    <tr style=\"text-align: right;\">\n",
       "      <th></th>\n",
       "      <th>item_id</th>\n",
       "      <th>manufacturer</th>\n",
       "      <th>department</th>\n",
       "      <th>brand</th>\n",
       "      <th>commodity_desc</th>\n",
       "      <th>sub_commodity_desc</th>\n",
       "      <th>curr_size_of_product</th>\n",
       "    </tr>\n",
       "  </thead>\n",
       "  <tbody>\n",
       "    <tr>\n",
       "      <th>0</th>\n",
       "      <td>25671</td>\n",
       "      <td>2</td>\n",
       "      <td>GROCERY</td>\n",
       "      <td>National</td>\n",
       "      <td>FRZN ICE</td>\n",
       "      <td>ICE - CRUSHED/CUBED</td>\n",
       "      <td>22 LB</td>\n",
       "    </tr>\n",
       "    <tr>\n",
       "      <th>1</th>\n",
       "      <td>26081</td>\n",
       "      <td>2</td>\n",
       "      <td>MISC. TRANS.</td>\n",
       "      <td>National</td>\n",
       "      <td>NO COMMODITY DESCRIPTION</td>\n",
       "      <td>NO SUBCOMMODITY DESCRIPTION</td>\n",
       "      <td></td>\n",
       "    </tr>\n",
       "  </tbody>\n",
       "</table>\n",
       "</div>"
      ],
      "text/plain": [
       "   item_id  manufacturer    department     brand            commodity_desc  \\\n",
       "0    25671             2       GROCERY  National                  FRZN ICE   \n",
       "1    26081             2  MISC. TRANS.  National  NO COMMODITY DESCRIPTION   \n",
       "\n",
       "            sub_commodity_desc curr_size_of_product  \n",
       "0          ICE - CRUSHED/CUBED                22 LB  \n",
       "1  NO SUBCOMMODITY DESCRIPTION                       "
      ]
     },
     "execution_count": 6,
     "metadata": {},
     "output_type": "execute_result"
    }
   ],
   "source": [
    "item_features.head(2)"
   ]
  },
  {
   "cell_type": "code",
   "execution_count": 7,
   "id": "49827b96",
   "metadata": {},
   "outputs": [
    {
     "data": {
      "text/html": [
       "<div>\n",
       "<style scoped>\n",
       "    .dataframe tbody tr th:only-of-type {\n",
       "        vertical-align: middle;\n",
       "    }\n",
       "\n",
       "    .dataframe tbody tr th {\n",
       "        vertical-align: top;\n",
       "    }\n",
       "\n",
       "    .dataframe thead th {\n",
       "        text-align: right;\n",
       "    }\n",
       "</style>\n",
       "<table border=\"1\" class=\"dataframe\">\n",
       "  <thead>\n",
       "    <tr style=\"text-align: right;\">\n",
       "      <th></th>\n",
       "      <th>user_id</th>\n",
       "      <th>actual</th>\n",
       "    </tr>\n",
       "  </thead>\n",
       "  <tbody>\n",
       "    <tr>\n",
       "      <th>0</th>\n",
       "      <td>1</td>\n",
       "      <td>[879517, 934369, 1115576, 1124029, 5572301, 65...</td>\n",
       "    </tr>\n",
       "    <tr>\n",
       "      <th>1</th>\n",
       "      <td>3</td>\n",
       "      <td>[823704, 834117, 840244, 913785, 917816, 93870...</td>\n",
       "    </tr>\n",
       "  </tbody>\n",
       "</table>\n",
       "</div>"
      ],
      "text/plain": [
       "   user_id                                             actual\n",
       "0        1  [879517, 934369, 1115576, 1124029, 5572301, 65...\n",
       "1        3  [823704, 834117, 840244, 913785, 917816, 93870..."
      ]
     },
     "execution_count": 7,
     "metadata": {},
     "output_type": "execute_result"
    }
   ],
   "source": [
    "result = data_test.groupby('user_id')['item_id'].unique().reset_index()\n",
    "result.columns = ['user_id', 'actual']\n",
    "result.head(2)"
   ]
  },
  {
   "cell_type": "code",
   "execution_count": 8,
   "id": "ad54ee2a",
   "metadata": {},
   "outputs": [],
   "source": [
    "n_items_before = data_train['item_id'].nunique()\n",
    "\n",
    "data_train, top_n = prefilter_items(data_train, item_features, take_n_popular=5000)\n",
    "\n",
    "n_items_after = data_train['item_id'].nunique()"
   ]
  },
  {
   "cell_type": "code",
   "execution_count": 9,
   "id": "6afe016b",
   "metadata": {},
   "outputs": [
    {
     "data": {
      "text/html": [
       "<div>\n",
       "<style scoped>\n",
       "    .dataframe tbody tr th:only-of-type {\n",
       "        vertical-align: middle;\n",
       "    }\n",
       "\n",
       "    .dataframe tbody tr th {\n",
       "        vertical-align: top;\n",
       "    }\n",
       "\n",
       "    .dataframe thead th {\n",
       "        text-align: right;\n",
       "    }\n",
       "</style>\n",
       "<table border=\"1\" class=\"dataframe\">\n",
       "  <thead>\n",
       "    <tr style=\"text-align: right;\">\n",
       "      <th>item_id</th>\n",
       "      <th>42346</th>\n",
       "      <th>43020</th>\n",
       "      <th>244960</th>\n",
       "      <th>818981</th>\n",
       "      <th>819400</th>\n",
       "      <th>819487</th>\n",
       "      <th>819549</th>\n",
       "      <th>819590</th>\n",
       "      <th>819969</th>\n",
       "      <th>820011</th>\n",
       "      <th>...</th>\n",
       "      <th>16729299</th>\n",
       "      <th>16729363</th>\n",
       "      <th>16734419</th>\n",
       "      <th>16769526</th>\n",
       "      <th>16770147</th>\n",
       "      <th>16770156</th>\n",
       "      <th>16809649</th>\n",
       "      <th>17104444</th>\n",
       "      <th>17105058</th>\n",
       "      <th>17179856</th>\n",
       "    </tr>\n",
       "    <tr>\n",
       "      <th>user_id</th>\n",
       "      <th></th>\n",
       "      <th></th>\n",
       "      <th></th>\n",
       "      <th></th>\n",
       "      <th></th>\n",
       "      <th></th>\n",
       "      <th></th>\n",
       "      <th></th>\n",
       "      <th></th>\n",
       "      <th></th>\n",
       "      <th></th>\n",
       "      <th></th>\n",
       "      <th></th>\n",
       "      <th></th>\n",
       "      <th></th>\n",
       "      <th></th>\n",
       "      <th></th>\n",
       "      <th></th>\n",
       "      <th></th>\n",
       "      <th></th>\n",
       "      <th></th>\n",
       "    </tr>\n",
       "  </thead>\n",
       "  <tbody>\n",
       "    <tr>\n",
       "      <th>1</th>\n",
       "      <td>0.0</td>\n",
       "      <td>0.0</td>\n",
       "      <td>0.0</td>\n",
       "      <td>0.0</td>\n",
       "      <td>0.0</td>\n",
       "      <td>0.0</td>\n",
       "      <td>0.0</td>\n",
       "      <td>0.0</td>\n",
       "      <td>0.0</td>\n",
       "      <td>0.0</td>\n",
       "      <td>...</td>\n",
       "      <td>0.0</td>\n",
       "      <td>0.0</td>\n",
       "      <td>0.0</td>\n",
       "      <td>0.0</td>\n",
       "      <td>0.0</td>\n",
       "      <td>0.0</td>\n",
       "      <td>0.0</td>\n",
       "      <td>0.0</td>\n",
       "      <td>0.0</td>\n",
       "      <td>0.0</td>\n",
       "    </tr>\n",
       "    <tr>\n",
       "      <th>2</th>\n",
       "      <td>0.0</td>\n",
       "      <td>0.0</td>\n",
       "      <td>1.0</td>\n",
       "      <td>0.0</td>\n",
       "      <td>0.0</td>\n",
       "      <td>0.0</td>\n",
       "      <td>0.0</td>\n",
       "      <td>0.0</td>\n",
       "      <td>0.0</td>\n",
       "      <td>0.0</td>\n",
       "      <td>...</td>\n",
       "      <td>0.0</td>\n",
       "      <td>0.0</td>\n",
       "      <td>0.0</td>\n",
       "      <td>0.0</td>\n",
       "      <td>0.0</td>\n",
       "      <td>0.0</td>\n",
       "      <td>0.0</td>\n",
       "      <td>0.0</td>\n",
       "      <td>0.0</td>\n",
       "      <td>0.0</td>\n",
       "    </tr>\n",
       "    <tr>\n",
       "      <th>3</th>\n",
       "      <td>0.0</td>\n",
       "      <td>0.0</td>\n",
       "      <td>0.0</td>\n",
       "      <td>0.0</td>\n",
       "      <td>0.0</td>\n",
       "      <td>0.0</td>\n",
       "      <td>0.0</td>\n",
       "      <td>0.0</td>\n",
       "      <td>0.0</td>\n",
       "      <td>0.0</td>\n",
       "      <td>...</td>\n",
       "      <td>0.0</td>\n",
       "      <td>0.0</td>\n",
       "      <td>0.0</td>\n",
       "      <td>0.0</td>\n",
       "      <td>0.0</td>\n",
       "      <td>0.0</td>\n",
       "      <td>0.0</td>\n",
       "      <td>0.0</td>\n",
       "      <td>0.0</td>\n",
       "      <td>0.0</td>\n",
       "    </tr>\n",
       "  </tbody>\n",
       "</table>\n",
       "<p>3 rows × 5001 columns</p>\n",
       "</div>"
      ],
      "text/plain": [
       "item_id  42346     43020     244960    818981    819400    819487    819549    \\\n",
       "user_id                                                                         \n",
       "1             0.0       0.0       0.0       0.0       0.0       0.0       0.0   \n",
       "2             0.0       0.0       1.0       0.0       0.0       0.0       0.0   \n",
       "3             0.0       0.0       0.0       0.0       0.0       0.0       0.0   \n",
       "\n",
       "item_id  819590    819969    820011    ...  16729299  16729363  16734419  \\\n",
       "user_id                                ...                                 \n",
       "1             0.0       0.0       0.0  ...       0.0       0.0       0.0   \n",
       "2             0.0       0.0       0.0  ...       0.0       0.0       0.0   \n",
       "3             0.0       0.0       0.0  ...       0.0       0.0       0.0   \n",
       "\n",
       "item_id  16769526  16770147  16770156  16809649  17104444  17105058  17179856  \n",
       "user_id                                                                        \n",
       "1             0.0       0.0       0.0       0.0       0.0       0.0       0.0  \n",
       "2             0.0       0.0       0.0       0.0       0.0       0.0       0.0  \n",
       "3             0.0       0.0       0.0       0.0       0.0       0.0       0.0  \n",
       "\n",
       "[3 rows x 5001 columns]"
      ]
     },
     "execution_count": 9,
     "metadata": {},
     "output_type": "execute_result"
    }
   ],
   "source": [
    "user_item_matrix = pd.pivot_table(data_train,\n",
    "                                  index='user_id', columns='item_id',\n",
    "                                  values='quantity',  # Можно пробоват ьдругие варианты\n",
    "                                  aggfunc='count',\n",
    "                                  fill_value=0\n",
    "                                  )\n",
    "\n",
    "user_item_matrix = user_item_matrix.astype(float)  # необходимый тип матрицы для implicit\n",
    "\n",
    "user_item_matrix.head(3)"
   ]
  },
  {
   "cell_type": "code",
   "execution_count": 10,
   "id": "8ad76c7e",
   "metadata": {},
   "outputs": [],
   "source": [
    "userids = user_item_matrix.index.values\n",
    "itemids = user_item_matrix.columns.values\n",
    "\n",
    "matrix_userids = np.arange(len(userids))\n",
    "matrix_itemids = np.arange(len(itemids))\n",
    "\n",
    "id_to_itemid = dict(zip(matrix_itemids, itemids))\n",
    "id_to_userid = dict(zip(matrix_userids, userids))\n",
    "\n",
    "itemid_to_id = dict(zip(itemids, matrix_itemids))\n",
    "userid_to_id = dict(zip(userids, matrix_userids))"
   ]
  },
  {
   "cell_type": "code",
   "execution_count": 11,
   "id": "1a18e175",
   "metadata": {},
   "outputs": [
    {
     "data": {
      "text/plain": [
       "(90386, 5001)"
      ]
     },
     "execution_count": 11,
     "metadata": {},
     "output_type": "execute_result"
    }
   ],
   "source": [
    "n_items_before, n_items_after"
   ]
  },
  {
   "cell_type": "code",
   "execution_count": 12,
   "id": "5904cab9",
   "metadata": {},
   "outputs": [],
   "source": [
    "user_item_matrix = bm25_weight(user_item_matrix.T).T  # Применяется к item-user матрице !"
   ]
  },
  {
   "cell_type": "code",
   "execution_count": 13,
   "id": "102a077a",
   "metadata": {},
   "outputs": [
    {
     "name": "stderr",
     "output_type": "stream",
     "text": [
      "WARNING:root:Intel MKL BLAS detected. Its highly recommend to set the environment variable 'export MKL_NUM_THREADS=1' to disable its internal multithreading\n"
     ]
    },
    {
     "data": {
      "application/vnd.jupyter.widget-view+json": {
       "model_id": "191b57c9ffa444c6b7f1d5cabf4e257a",
       "version_major": 2,
       "version_minor": 0
      },
      "text/plain": [
       "  0%|          | 0/15 [00:00<?, ?it/s]"
      ]
     },
     "metadata": {},
     "output_type": "display_data"
    }
   ],
   "source": [
    "model = AlternatingLeastSquares(factors=128,\n",
    "                                regularization=0.001,\n",
    "                                iterations=15,\n",
    "                                calculate_training_loss=True,\n",
    "                                num_threads=4)\n",
    "\n",
    "model.fit(csr_matrix(user_item_matrix).T.tocsr(),  # На вход item-user matrix\n",
    "          show_progress=True)"
   ]
  },
  {
   "cell_type": "code",
   "execution_count": 14,
   "id": "06e533c4",
   "metadata": {},
   "outputs": [
    {
     "data": {
      "text/plain": [
       "0.10919136112506213"
      ]
     },
     "execution_count": 14,
     "metadata": {},
     "output_type": "execute_result"
    }
   ],
   "source": [
    "result['bm25'] = result['user_id'].apply(lambda x: get_recommendations(x, model=model, N=5))\n",
    "result.apply(lambda row: precision_at_k(row['bm25'], row['actual']), axis=1).mean()"
   ]
  },
  {
   "cell_type": "code",
   "execution_count": 15,
   "id": "32859e1d",
   "metadata": {},
   "outputs": [
    {
     "data": {
      "text/html": [
       "<div>\n",
       "<style scoped>\n",
       "    .dataframe tbody tr th:only-of-type {\n",
       "        vertical-align: middle;\n",
       "    }\n",
       "\n",
       "    .dataframe tbody tr th {\n",
       "        vertical-align: top;\n",
       "    }\n",
       "\n",
       "    .dataframe thead th {\n",
       "        text-align: right;\n",
       "    }\n",
       "</style>\n",
       "<table border=\"1\" class=\"dataframe\">\n",
       "  <thead>\n",
       "    <tr style=\"text-align: right;\">\n",
       "      <th></th>\n",
       "      <th>user_id</th>\n",
       "      <th>actual</th>\n",
       "      <th>bm25</th>\n",
       "    </tr>\n",
       "  </thead>\n",
       "  <tbody>\n",
       "    <tr>\n",
       "      <th>0</th>\n",
       "      <td>1</td>\n",
       "      <td>[879517, 934369, 1115576, 1124029, 5572301, 65...</td>\n",
       "      <td>[9297615, 877391, 5577022, 898121, 1088462]</td>\n",
       "    </tr>\n",
       "    <tr>\n",
       "      <th>1</th>\n",
       "      <td>3</td>\n",
       "      <td>[823704, 834117, 840244, 913785, 917816, 93870...</td>\n",
       "      <td>[1008714, 9677270, 933248, 12132312, 9296795]</td>\n",
       "    </tr>\n",
       "  </tbody>\n",
       "</table>\n",
       "</div>"
      ],
      "text/plain": [
       "   user_id                                             actual  \\\n",
       "0        1  [879517, 934369, 1115576, 1124029, 5572301, 65...   \n",
       "1        3  [823704, 834117, 840244, 913785, 917816, 93870...   \n",
       "\n",
       "                                            bm25  \n",
       "0    [9297615, 877391, 5577022, 898121, 1088462]  \n",
       "1  [1008714, 9677270, 933248, 12132312, 9296795]  "
      ]
     },
     "execution_count": 15,
     "metadata": {},
     "output_type": "execute_result"
    }
   ],
   "source": [
    "result.head(2)"
   ]
  },
  {
   "cell_type": "markdown",
   "id": "00102ea6",
   "metadata": {},
   "source": [
    "----"
   ]
  },
  {
   "cell_type": "markdown",
   "id": "6c4e9a23",
   "metadata": {},
   "source": [
    "# Альтернативные способы предсказаний"
   ]
  },
  {
   "cell_type": "markdown",
   "id": "f9620abf",
   "metadata": {},
   "source": [
    "### Кейс 1. Продажи товаров собственной торговой марки (СТМ)"
   ]
  },
  {
   "cell_type": "markdown",
   "id": "5bcf87c0",
   "metadata": {},
   "source": [
    "У многих ритейлеров есть товары СТМ:\n",
    "    - Азбука Вкуса - Просто Азбука\n",
    "    - Ашан - Каждый день\n",
    "    - ВкусВилл - ВкусВилл\n",
    "    - ...\n",
    "    \n",
    "Как правило, у них маржинальность (~прибыль) > обычные товары.   \n",
    "Как сделать так, чтобы юзеры переключились на товары СТМ? - *рекоммендации!*"
   ]
  },
  {
   "cell_type": "markdown",
   "id": "f73fa127",
   "metadata": {},
   "source": [
    "*Нужно заменить те товары, которые пользователь уже покупает, на товары СТМ*"
   ]
  },
  {
   "cell_type": "code",
   "execution_count": 16,
   "id": "1d230441",
   "metadata": {},
   "outputs": [
    {
     "data": {
      "text/html": [
       "<div>\n",
       "<style scoped>\n",
       "    .dataframe tbody tr th:only-of-type {\n",
       "        vertical-align: middle;\n",
       "    }\n",
       "\n",
       "    .dataframe tbody tr th {\n",
       "        vertical-align: top;\n",
       "    }\n",
       "\n",
       "    .dataframe thead th {\n",
       "        text-align: right;\n",
       "    }\n",
       "</style>\n",
       "<table border=\"1\" class=\"dataframe\">\n",
       "  <thead>\n",
       "    <tr style=\"text-align: right;\">\n",
       "      <th></th>\n",
       "      <th>item_id</th>\n",
       "      <th>manufacturer</th>\n",
       "      <th>department</th>\n",
       "      <th>brand</th>\n",
       "      <th>commodity_desc</th>\n",
       "      <th>sub_commodity_desc</th>\n",
       "      <th>curr_size_of_product</th>\n",
       "    </tr>\n",
       "  </thead>\n",
       "  <tbody>\n",
       "    <tr>\n",
       "      <th>0</th>\n",
       "      <td>25671</td>\n",
       "      <td>2</td>\n",
       "      <td>GROCERY</td>\n",
       "      <td>National</td>\n",
       "      <td>FRZN ICE</td>\n",
       "      <td>ICE - CRUSHED/CUBED</td>\n",
       "      <td>22 LB</td>\n",
       "    </tr>\n",
       "    <tr>\n",
       "      <th>1</th>\n",
       "      <td>26081</td>\n",
       "      <td>2</td>\n",
       "      <td>MISC. TRANS.</td>\n",
       "      <td>National</td>\n",
       "      <td>NO COMMODITY DESCRIPTION</td>\n",
       "      <td>NO SUBCOMMODITY DESCRIPTION</td>\n",
       "      <td></td>\n",
       "    </tr>\n",
       "  </tbody>\n",
       "</table>\n",
       "</div>"
      ],
      "text/plain": [
       "   item_id  manufacturer    department     brand            commodity_desc  \\\n",
       "0    25671             2       GROCERY  National                  FRZN ICE   \n",
       "1    26081             2  MISC. TRANS.  National  NO COMMODITY DESCRIPTION   \n",
       "\n",
       "            sub_commodity_desc curr_size_of_product  \n",
       "0          ICE - CRUSHED/CUBED                22 LB  \n",
       "1  NO SUBCOMMODITY DESCRIPTION                       "
      ]
     },
     "execution_count": 16,
     "metadata": {},
     "output_type": "execute_result"
    }
   ],
   "source": [
    "item_features.head(2)"
   ]
  },
  {
   "cell_type": "code",
   "execution_count": 17,
   "id": "1d5d69eb",
   "metadata": {},
   "outputs": [
    {
     "data": {
      "text/plain": [
       "5001"
      ]
     },
     "execution_count": 17,
     "metadata": {},
     "output_type": "execute_result"
    }
   ],
   "source": [
    "len(itemid_to_id)"
   ]
  },
  {
   "cell_type": "code",
   "execution_count": 18,
   "id": "8a5ff3e6",
   "metadata": {},
   "outputs": [
    {
     "data": {
      "text/plain": [
       "1891"
      ]
     },
     "execution_count": 18,
     "metadata": {},
     "output_type": "execute_result"
    }
   ],
   "source": [
    "itemid_to_id[999_999]"
   ]
  },
  {
   "cell_type": "markdown",
   "id": "b613d990",
   "metadata": {},
   "source": [
    "Отберём в item_features только те товары, которые мы имеем в data_train"
   ]
  },
  {
   "cell_type": "code",
   "execution_count": 19,
   "id": "87f0c647",
   "metadata": {},
   "outputs": [
    {
     "data": {
      "text/plain": [
       "692"
      ]
     },
     "execution_count": 19,
     "metadata": {},
     "output_type": "execute_result"
    }
   ],
   "source": [
    "item_features = item_features[item_features['item_id'].isin(itemid_to_id.keys())]\n",
    "item_features[item_features['brand'] == 'Private'].item_id.nunique()"
   ]
  },
  {
   "cell_type": "markdown",
   "id": "311ed2f9",
   "metadata": {},
   "source": [
    "В item_features имеем 692 товара собственной торговой марки различного назначения."
   ]
  },
  {
   "cell_type": "code",
   "execution_count": 20,
   "id": "dbeaf9a8",
   "metadata": {},
   "outputs": [
    {
     "data": {
      "text/plain": [
       "department\n",
       "GROCERY          407\n",
       "DRUG GM           81\n",
       "MEAT-PCKGD        51\n",
       "SEAFOOD-PCKGD     43\n",
       "DELI              40\n",
       "PASTRY            39\n",
       "NUTRITION         12\n",
       "PRODUCE            9\n",
       "MEAT               5\n",
       "FLORAL             3\n",
       "COSMETICS          1\n",
       "SEAFOOD            1\n",
       "Name: item_id, dtype: int64"
      ]
     },
     "execution_count": 20,
     "metadata": {},
     "output_type": "execute_result"
    }
   ],
   "source": [
    "own_items = item_features[item_features['brand'] == 'Private'].groupby('department')['item_id'].nunique().\\\n",
    "    sort_values(ascending=False)\n",
    "own_items"
   ]
  },
  {
   "cell_type": "markdown",
   "id": "607f2f71",
   "metadata": {},
   "source": [
    "Самая представительная группа собстенной торговой марки - GROCERY (бакалея) - 407 наименований, за ней следует группа DRUG GM - 81 наименования и т.д."
   ]
  },
  {
   "cell_type": "code",
   "execution_count": 21,
   "id": "b17da857",
   "metadata": {},
   "outputs": [],
   "source": [
    "categories_with_own_items = own_items.index.tolist()"
   ]
  },
  {
   "cell_type": "code",
   "execution_count": 22,
   "id": "be051859",
   "metadata": {},
   "outputs": [
    {
     "data": {
      "text/plain": [
       "['GROCERY',\n",
       " 'DRUG GM',\n",
       " 'MEAT-PCKGD',\n",
       " 'SEAFOOD-PCKGD',\n",
       " 'DELI',\n",
       " 'PASTRY',\n",
       " 'NUTRITION',\n",
       " 'PRODUCE',\n",
       " 'MEAT',\n",
       " 'FLORAL',\n",
       " 'COSMETICS',\n",
       " 'SEAFOOD']"
      ]
     },
     "execution_count": 22,
     "metadata": {},
     "output_type": "execute_result"
    }
   ],
   "source": [
    "categories_with_own_items"
   ]
  },
  {
   "cell_type": "code",
   "execution_count": 23,
   "id": "9ee1a552",
   "metadata": {},
   "outputs": [],
   "source": [
    "import pickle\n",
    "\n",
    "from scipy.spatial.distance import cdist\n",
    "\n",
    "from sklearn.decomposition import PCA\n",
    "from sklearn.manifold import TSNE\n",
    "\n",
    "import seaborn as sns"
   ]
  },
  {
   "cell_type": "code",
   "execution_count": 24,
   "id": "b339b8bd",
   "metadata": {},
   "outputs": [],
   "source": [
    "def reduce_dims(df, dims=2, method='pca'):\n",
    "    \n",
    "    assert method in ['pca', 'tsne'], 'Неверно указан метод'\n",
    "    \n",
    "    if method=='pca':\n",
    "        pca = PCA(n_components=dims)\n",
    "        components = pca.fit_transform(df)\n",
    "    elif method == 'tsne':\n",
    "        tsne = TSNE(n_components=dims, learning_rate=250, random_state=42, n_iter=300, n_iter_without_progress=20)\n",
    "        components = tsne.fit_transform(df)\n",
    "    else:\n",
    "        print('Error')\n",
    "        \n",
    "    colnames = ['component_' + str(i) for i in range(1, dims+1)]\n",
    "    return pd.DataFrame(data = components, columns = colnames)"
   ]
  },
  {
   "cell_type": "code",
   "execution_count": 25,
   "id": "4106c41c",
   "metadata": {},
   "outputs": [],
   "source": [
    "def display_components_in_2D_space(components_df, labels='category', marker='D'):\n",
    "    \n",
    "    groups = components_df.groupby(labels)\n",
    "\n",
    "    # Plot\n",
    "    fig, ax = plt.subplots(figsize=(12,8))\n",
    "    ax.margins(0.05) # Optional, just adds 5% padding to the autoscaling\n",
    "    for name, group in groups:\n",
    "        ax.plot(group.component_1, group.component_2, \n",
    "                marker='o', ms=6,\n",
    "                linestyle='',\n",
    "                alpha=0.7,\n",
    "                label=name)\n",
    "    ax.legend(loc='center left', bbox_to_anchor=(1.02, 0.5))\n",
    "\n",
    "    plt.xlabel('component_1')\n",
    "    plt.ylabel('component_2') \n",
    "    plt.show()"
   ]
  },
  {
   "cell_type": "code",
   "execution_count": 26,
   "id": "bd726c11",
   "metadata": {},
   "outputs": [
    {
     "data": {
      "text/plain": [
       "(5001, 128)"
      ]
     },
     "execution_count": 26,
     "metadata": {},
     "output_type": "execute_result"
    }
   ],
   "source": [
    "model.item_factors.shape"
   ]
  },
  {
   "cell_type": "code",
   "execution_count": 27,
   "id": "70526f3c",
   "metadata": {},
   "outputs": [],
   "source": [
    "category = []\n",
    "\n",
    "for idx in range(model.item_factors.shape[0]):\n",
    "\n",
    "    try:\n",
    "        cat = item_features.loc[item_features['item_id'] == id_to_itemid[idx], 'department'].values[0]\n",
    "        category.append(cat)\n",
    "    except:\n",
    "        category.append('UNKNOWN')"
   ]
  },
  {
   "cell_type": "code",
   "execution_count": 28,
   "id": "6c16715e",
   "metadata": {},
   "outputs": [
    {
     "data": {
      "text/plain": [
       "5001"
      ]
     },
     "execution_count": 28,
     "metadata": {},
     "output_type": "execute_result"
    }
   ],
   "source": [
    "len(category)"
   ]
  },
  {
   "cell_type": "code",
   "execution_count": 29,
   "id": "c23b201b",
   "metadata": {},
   "outputs": [
    {
     "name": "stderr",
     "output_type": "stream",
     "text": [
      "J:\\Vadim\\lib\\site-packages\\sklearn\\manifold\\_t_sne.py:780: FutureWarning: The default initialization in TSNE will change from 'random' to 'pca' in 1.2.\n",
      "  warnings.warn(\n"
     ]
    },
    {
     "data": {
      "image/png": "[encoded data removed]",
      "text/plain": [
       "<Figure size 864x576 with 1 Axes>"
      ]
     },
     "metadata": {
      "needs_background": "light"
     },
     "output_type": "display_data"
    },
    {
     "name": "stdout",
     "output_type": "stream",
     "text": [
      "CPU times: total: 2min 16s\n",
      "Wall time: 12.9 s\n"
     ]
    }
   ],
   "source": [
    "%%time\n",
    "item_emb_tsne = reduce_dims(model.item_factors, dims=2, method='tsne')\n",
    "item_emb_tsne['category'] = category  # Добавляем категорию\n",
    "item_emb_tsne['item_id'] = list(itemid_to_id.keys())\n",
    "item_emb_tsne = item_emb_tsne[item_emb_tsne['category'] != 'UNKNOWN']\n",
    "\n",
    "display_components_in_2D_space(item_emb_tsne, labels='category')"
   ]
  },
  {
   "cell_type": "code",
   "execution_count": 30,
   "id": "9828a848",
   "metadata": {},
   "outputs": [],
   "source": [
    "condition_cat = (item_emb_tsne['category'] != 'DRUG GM') & (item_emb_tsne['category'] != 'GROCERY')"
   ]
  },
  {
   "cell_type": "code",
   "execution_count": 31,
   "id": "6a33f7c4",
   "metadata": {},
   "outputs": [],
   "source": [
    "item_emb_tsne_reduced = item_emb_tsne[condition_cat]"
   ]
  },
  {
   "cell_type": "code",
   "execution_count": 32,
   "id": "fcc10dd4",
   "metadata": {},
   "outputs": [
    {
     "data": {
      "image/png": "[encoded data removed]",
      "text/plain": [
       "<Figure size 864x576 with 1 Axes>"
      ]
     },
     "metadata": {
      "needs_background": "light"
     },
     "output_type": "display_data"
    }
   ],
   "source": [
    "display_components_in_2D_space(item_emb_tsne_reduced, labels='category')"
   ]
  },
  {
   "cell_type": "markdown",
   "id": "a551c189",
   "metadata": {},
   "source": [
    "Нарисуем все товары в катгеориях, где есть СТМ"
   ]
  },
  {
   "cell_type": "code",
   "execution_count": 33,
   "id": "7eb06bfc",
   "metadata": {},
   "outputs": [
    {
     "data": {
      "image/png": "[encoded data removed]",
      "text/plain": [
       "<Figure size 864x576 with 1 Axes>"
      ]
     },
     "metadata": {
      "needs_background": "light"
     },
     "output_type": "display_data"
    }
   ],
   "source": [
    "display_components_in_2D_space(item_emb_tsne[item_emb_tsne['category'].isin(categories_with_own_items)], \n",
    "                               labels='category')"
   ]
  },
  {
   "cell_type": "code",
   "execution_count": 35,
   "id": "a03ad745",
   "metadata": {},
   "outputs": [
    {
     "data": {
      "text/plain": [
       "[(13, 1.0000001),\n",
       " (765, 0.7123864),\n",
       " (480, 0.6792782),\n",
       " (1891, 0.67755026),\n",
       " (3240, 0.6649901),\n",
       " (3577, 0.66460073),\n",
       " (2444, 0.6619406),\n",
       " (4996, 0.6589744),\n",
       " (3408, 0.65684646),\n",
       " (1885, 0.6551175)]"
      ]
     },
     "execution_count": 35,
     "metadata": {},
     "output_type": "execute_result"
    }
   ],
   "source": [
    "similar_items = model.similar_items(itemid_to_id[820352], N=50)\n",
    "similar_items[:10]"
   ]
  },
  {
   "cell_type": "code",
   "execution_count": 36,
   "id": "867674ba",
   "metadata": {},
   "outputs": [
    {
     "data": {
      "text/plain": [
       "[820352,\n",
       " 894357,\n",
       " 867008,\n",
       " 999999,\n",
       " 1130951,\n",
       " 6396558,\n",
       " 1057231,\n",
       " 16770156,\n",
       " 5567486,\n",
       " 999375]"
      ]
     },
     "execution_count": 36,
     "metadata": {},
     "output_type": "execute_result"
    }
   ],
   "source": [
    "similar_items = [id_to_itemid[sim[0]] for sim in similar_items]\n",
    "similar_items[:10]"
   ]
  },
  {
   "cell_type": "code",
   "execution_count": 37,
   "id": "67f41a39",
   "metadata": {},
   "outputs": [],
   "source": [
    "similar_items.append(820352)"
   ]
  },
  {
   "cell_type": "code",
   "execution_count": 39,
   "id": "c0048ca6",
   "metadata": {},
   "outputs": [
    {
     "data": {
      "text/html": [
       "<div>\n",
       "<style scoped>\n",
       "    .dataframe tbody tr th:only-of-type {\n",
       "        vertical-align: middle;\n",
       "    }\n",
       "\n",
       "    .dataframe tbody tr th {\n",
       "        vertical-align: top;\n",
       "    }\n",
       "\n",
       "    .dataframe thead th {\n",
       "        text-align: right;\n",
       "    }\n",
       "</style>\n",
       "<table border=\"1\" class=\"dataframe\">\n",
       "  <thead>\n",
       "    <tr style=\"text-align: right;\">\n",
       "      <th></th>\n",
       "      <th>component_1</th>\n",
       "      <th>component_2</th>\n",
       "      <th>category</th>\n",
       "      <th>item_id</th>\n",
       "    </tr>\n",
       "  </thead>\n",
       "  <tbody>\n",
       "    <tr>\n",
       "      <th>13</th>\n",
       "      <td>8.801096</td>\n",
       "      <td>-4.976442</td>\n",
       "      <td>DRUG GM</td>\n",
       "      <td>820352</td>\n",
       "    </tr>\n",
       "  </tbody>\n",
       "</table>\n",
       "</div>"
      ],
      "text/plain": [
       "    component_1  component_2 category  item_id\n",
       "13     8.801096    -4.976442  DRUG GM   820352"
      ]
     },
     "execution_count": 39,
     "metadata": {},
     "output_type": "execute_result"
    }
   ],
   "source": [
    "item_emb_tsne[item_emb_tsne['item_id'] == 820352]"
   ]
  },
  {
   "cell_type": "code",
   "execution_count": 40,
   "id": "b3fc30c9",
   "metadata": {},
   "outputs": [
    {
     "data": {
      "image/png": "[encoded data removed]",
      "text/plain": [
       "<Figure size 864x576 with 1 Axes>"
      ]
     },
     "metadata": {
      "needs_background": "light"
     },
     "output_type": "display_data"
    }
   ],
   "source": [
    "display_components_in_2D_space(item_emb_tsne[item_emb_tsne['item_id'].isin(similar_items)], \n",
    "                               labels='category')"
   ]
  },
  {
   "cell_type": "markdown",
   "id": "b11c8fe7",
   "metadata": {},
   "source": [
    "Берем топ-5 популярных покупок юзера --> находим по 1 наиболее близкому товару СТМ для них --> рекомендуем"
   ]
  },
  {
   "cell_type": "code",
   "execution_count": 41,
   "id": "66c1439b",
   "metadata": {},
   "outputs": [
    {
     "data": {
      "text/html": [
       "<div>\n",
       "<style scoped>\n",
       "    .dataframe tbody tr th:only-of-type {\n",
       "        vertical-align: middle;\n",
       "    }\n",
       "\n",
       "    .dataframe tbody tr th {\n",
       "        vertical-align: top;\n",
       "    }\n",
       "\n",
       "    .dataframe thead th {\n",
       "        text-align: right;\n",
       "    }\n",
       "</style>\n",
       "<table border=\"1\" class=\"dataframe\">\n",
       "  <thead>\n",
       "    <tr style=\"text-align: right;\">\n",
       "      <th></th>\n",
       "      <th>user_id</th>\n",
       "      <th>item_id</th>\n",
       "      <th>quantity</th>\n",
       "    </tr>\n",
       "  </thead>\n",
       "  <tbody>\n",
       "    <tr>\n",
       "      <th>0</th>\n",
       "      <td>1</td>\n",
       "      <td>825123</td>\n",
       "      <td>2</td>\n",
       "    </tr>\n",
       "    <tr>\n",
       "      <th>1</th>\n",
       "      <td>1</td>\n",
       "      <td>831728</td>\n",
       "      <td>1</td>\n",
       "    </tr>\n",
       "    <tr>\n",
       "      <th>2</th>\n",
       "      <td>1</td>\n",
       "      <td>835796</td>\n",
       "      <td>2</td>\n",
       "    </tr>\n",
       "    <tr>\n",
       "      <th>3</th>\n",
       "      <td>1</td>\n",
       "      <td>836423</td>\n",
       "      <td>1</td>\n",
       "    </tr>\n",
       "    <tr>\n",
       "      <th>4</th>\n",
       "      <td>1</td>\n",
       "      <td>837208</td>\n",
       "      <td>1</td>\n",
       "    </tr>\n",
       "    <tr>\n",
       "      <th>...</th>\n",
       "      <td>...</td>\n",
       "      <td>...</td>\n",
       "      <td>...</td>\n",
       "    </tr>\n",
       "    <tr>\n",
       "      <th>166283</th>\n",
       "      <td>2500</td>\n",
       "      <td>13213057</td>\n",
       "      <td>1</td>\n",
       "    </tr>\n",
       "    <tr>\n",
       "      <th>166284</th>\n",
       "      <td>2500</td>\n",
       "      <td>13510934</td>\n",
       "      <td>1</td>\n",
       "    </tr>\n",
       "    <tr>\n",
       "      <th>166285</th>\n",
       "      <td>2500</td>\n",
       "      <td>13512204</td>\n",
       "      <td>1</td>\n",
       "    </tr>\n",
       "    <tr>\n",
       "      <th>166286</th>\n",
       "      <td>2500</td>\n",
       "      <td>15830972</td>\n",
       "      <td>1</td>\n",
       "    </tr>\n",
       "    <tr>\n",
       "      <th>166287</th>\n",
       "      <td>2500</td>\n",
       "      <td>16223404</td>\n",
       "      <td>1</td>\n",
       "    </tr>\n",
       "  </tbody>\n",
       "</table>\n",
       "<p>166288 rows × 3 columns</p>\n",
       "</div>"
      ],
      "text/plain": [
       "        user_id   item_id  quantity\n",
       "0             1    825123         2\n",
       "1             1    831728         1\n",
       "2             1    835796         2\n",
       "3             1    836423         1\n",
       "4             1    837208         1\n",
       "...         ...       ...       ...\n",
       "166283     2500  13213057         1\n",
       "166284     2500  13510934         1\n",
       "166285     2500  13512204         1\n",
       "166286     2500  15830972         1\n",
       "166287     2500  16223404         1\n",
       "\n",
       "[166288 rows x 3 columns]"
      ]
     },
     "execution_count": 41,
     "metadata": {},
     "output_type": "execute_result"
    }
   ],
   "source": [
    "popularity = data_train.groupby(['user_id', 'item_id'])['quantity'].count().reset_index()\n",
    "popularity.sort_values('quantity', ascending=False, inplace=True)\n",
    "\n",
    "popularity = popularity[popularity['item_id'] != 999999]\n",
    "popularity = popularity.groupby('user_id').head(5)\n",
    "popularity.sort_values('user_id', ascending=False, inplace=True)\n"
   ]
  },
  {
   "cell_type": "code",
   "execution_count": 46,
   "id": "ea5cc08e",
   "metadata": {},
   "outputs": [
    {
     "name": "stderr",
     "output_type": "stream",
     "text": [
      "C:\\Users\\Вадим\\AppData\\Local\\Temp\\ipykernel_19052\\2065002444.py:1: SettingWithCopyWarning: \n",
      "A value is trying to be set on a copy of a slice from a DataFrame.\n",
      "Try using .loc[row_indexer,col_indexer] = value instead\n",
      "\n",
      "See the caveats in the documentation: https://pandas.pydata.org/pandas-docs/stable/user_guide/indexing.html#returning-a-view-versus-a-copy\n",
      "  popularity['similar_recommendation'] = popularity['item_id'].apply(lambda x: get_rec(model, x))\n"
     ]
    }
   ],
   "source": [
    "popularity['similar_recommendation'] = popularity['item_id'].apply(lambda x: get_rec(model, x))"
   ]
  },
  {
   "cell_type": "code",
   "execution_count": 48,
   "id": "34c335ca",
   "metadata": {},
   "outputs": [
    {
     "data": {
      "text/html": [
       "<div>\n",
       "<style scoped>\n",
       "    .dataframe tbody tr th:only-of-type {\n",
       "        vertical-align: middle;\n",
       "    }\n",
       "\n",
       "    .dataframe tbody tr th {\n",
       "        vertical-align: top;\n",
       "    }\n",
       "\n",
       "    .dataframe thead th {\n",
       "        text-align: right;\n",
       "    }\n",
       "</style>\n",
       "<table border=\"1\" class=\"dataframe\">\n",
       "  <thead>\n",
       "    <tr style=\"text-align: right;\">\n",
       "      <th></th>\n",
       "      <th>user_id</th>\n",
       "      <th>similar_recommendation</th>\n",
       "    </tr>\n",
       "  </thead>\n",
       "  <tbody>\n",
       "    <tr>\n",
       "      <th>0</th>\n",
       "      <td>1</td>\n",
       "      <td>[1120261, 834932, 9297615, 5577022, 10455984]</td>\n",
       "    </tr>\n",
       "    <tr>\n",
       "      <th>1</th>\n",
       "      <td>2</td>\n",
       "      <td>[952521, 1023021, 9677874, 974743, 819400]</td>\n",
       "    </tr>\n",
       "  </tbody>\n",
       "</table>\n",
       "</div>"
      ],
      "text/plain": [
       "   user_id                         similar_recommendation\n",
       "0        1  [1120261, 834932, 9297615, 5577022, 10455984]\n",
       "1        2     [952521, 1023021, 9677874, 974743, 819400]"
      ]
     },
     "execution_count": 48,
     "metadata": {},
     "output_type": "execute_result"
    }
   ],
   "source": [
    "recommendation_similar_items = popularity.groupby('user_id')['similar_recommendation'].unique().reset_index()\n",
    "recommendation_similar_items.columns=['user_id', 'similar_recommendation']\n",
    "recommendation_similar_items.head(2)"
   ]
  },
  {
   "cell_type": "code",
   "execution_count": 49,
   "id": "ef2978bc",
   "metadata": {},
   "outputs": [
    {
     "data": {
      "text/html": [
       "<div>\n",
       "<style scoped>\n",
       "    .dataframe tbody tr th:only-of-type {\n",
       "        vertical-align: middle;\n",
       "    }\n",
       "\n",
       "    .dataframe tbody tr th {\n",
       "        vertical-align: top;\n",
       "    }\n",
       "\n",
       "    .dataframe thead th {\n",
       "        text-align: right;\n",
       "    }\n",
       "</style>\n",
       "<table border=\"1\" class=\"dataframe\">\n",
       "  <thead>\n",
       "    <tr style=\"text-align: right;\">\n",
       "      <th></th>\n",
       "      <th>user_id</th>\n",
       "      <th>actual</th>\n",
       "      <th>bm25</th>\n",
       "      <th>similar_recommendation</th>\n",
       "    </tr>\n",
       "  </thead>\n",
       "  <tbody>\n",
       "    <tr>\n",
       "      <th>0</th>\n",
       "      <td>1</td>\n",
       "      <td>[879517, 934369, 1115576, 1124029, 5572301, 65...</td>\n",
       "      <td>[9297615, 877391, 5577022, 898121, 1088462]</td>\n",
       "      <td>[1120261, 834932, 9297615, 5577022, 10455984]</td>\n",
       "    </tr>\n",
       "    <tr>\n",
       "      <th>1</th>\n",
       "      <td>3</td>\n",
       "      <td>[823704, 834117, 840244, 913785, 917816, 93870...</td>\n",
       "      <td>[1008714, 9677270, 933248, 12132312, 9296795]</td>\n",
       "      <td>[12132277, 956400, 9677126, 927508, 16223404]</td>\n",
       "    </tr>\n",
       "  </tbody>\n",
       "</table>\n",
       "</div>"
      ],
      "text/plain": [
       "   user_id                                             actual  \\\n",
       "0        1  [879517, 934369, 1115576, 1124029, 5572301, 65...   \n",
       "1        3  [823704, 834117, 840244, 913785, 917816, 93870...   \n",
       "\n",
       "                                            bm25  \\\n",
       "0    [9297615, 877391, 5577022, 898121, 1088462]   \n",
       "1  [1008714, 9677270, 933248, 12132312, 9296795]   \n",
       "\n",
       "                          similar_recommendation  \n",
       "0  [1120261, 834932, 9297615, 5577022, 10455984]  \n",
       "1  [12132277, 956400, 9677126, 927508, 16223404]  "
      ]
     },
     "execution_count": 49,
     "metadata": {},
     "output_type": "execute_result"
    }
   ],
   "source": [
    "result = result.merge(recommendation_similar_items, on='user_id', how='left')\n",
    "result.head(2)"
   ]
  },
  {
   "cell_type": "markdown",
   "id": "74a9efb4",
   "metadata": {},
   "source": [
    "### Кейс 2. Вашим друзьям нравится / Похожим пользователям нравится / ..."
   ]
  },
  {
   "cell_type": "markdown",
   "id": "d50efe7d",
   "metadata": {},
   "source": [
    "Пользователь --> похожих пользовтелей --> рекомендовать те товары, которые купили похожие юзеры"
   ]
  },
  {
   "cell_type": "code",
   "execution_count": 50,
   "id": "a815d92f",
   "metadata": {},
   "outputs": [
    {
     "data": {
      "text/plain": [
       "9"
      ]
     },
     "execution_count": 50,
     "metadata": {},
     "output_type": "execute_result"
    }
   ],
   "source": [
    "userid_to_id[10]"
   ]
  },
  {
   "cell_type": "code",
   "execution_count": 51,
   "id": "e29cc8a8",
   "metadata": {},
   "outputs": [
    {
     "data": {
      "text/plain": [
       "[(9, 1.0000001),\n",
       " (693, 0.5108911),\n",
       " (2400, 0.43816125),\n",
       " (2151, 0.36440694),\n",
       " (181, 0.362155),\n",
       " (26, 0.35603198)]"
      ]
     },
     "execution_count": 51,
     "metadata": {},
     "output_type": "execute_result"
    }
   ],
   "source": [
    "model.similar_users(userid_to_id[10], N=6)"
   ]
  },
  {
   "cell_type": "code",
   "execution_count": 52,
   "id": "773a34e4",
   "metadata": {},
   "outputs": [
    {
     "data": {
      "application/vnd.jupyter.widget-view+json": {
       "model_id": "735b13b54e0a454f8f99c86d14b7a444",
       "version_major": 2,
       "version_minor": 0
      },
      "text/plain": [
       "  0%|          | 0/5001 [00:00<?, ?it/s]"
      ]
     },
     "metadata": {},
     "output_type": "display_data"
    },
    {
     "name": "stdout",
     "output_type": "stream",
     "text": [
      "CPU times: total: 562 ms\n",
      "Wall time: 514 ms\n"
     ]
    }
   ],
   "source": [
    "%%time\n",
    "\n",
    "own = ItemItemRecommender(K=1, num_threads=4) # K - кол-во билжайших соседей\n",
    "\n",
    "own.fit(csr_matrix(user_item_matrix).T.tocsr(), \n",
    "          show_progress=True)\n",
    "\n",
    "recs = model.recommend(userid=userid_to_id[1], \n",
    "                        user_items=csr_matrix(user_item_matrix).tocsr(),   # на вход user-item matrix\n",
    "                        N=5, \n",
    "                        filter_already_liked_items=False, \n",
    "                        filter_items=None, \n",
    "                        recalculate_user=False)"
   ]
  },
  {
   "cell_type": "code",
   "execution_count": 65,
   "id": "2531549a",
   "metadata": {},
   "outputs": [
    {
     "data": {
      "text/plain": [
       "[8015407]"
      ]
     },
     "execution_count": 65,
     "metadata": {},
     "output_type": "execute_result"
    }
   ],
   "source": [
    "get_recommendations(user=2151, model=own, N=1)"
   ]
  },
  {
   "cell_type": "markdown",
   "id": "98c903b9",
   "metadata": {},
   "source": [
    "Выбрали ближайших пользователей"
   ]
  },
  {
   "cell_type": "code",
   "execution_count": 68,
   "id": "96a97352",
   "metadata": {},
   "outputs": [
    {
     "data": {
      "text/plain": [
       "[(9, 1.0000001),\n",
       " (693, 0.5108911),\n",
       " (2400, 0.43816125),\n",
       " (2151, 0.36440694),\n",
       " (181, 0.362155),\n",
       " (26, 0.35603198)]"
      ]
     },
     "execution_count": 68,
     "metadata": {},
     "output_type": "execute_result"
    }
   ],
   "source": [
    "users = model.similar_users(userid_to_id[10], N=6)\n",
    "users"
   ]
  },
  {
   "cell_type": "markdown",
   "id": "163101e4",
   "metadata": {},
   "source": [
    "Получаем список их предпочтений, рекомендуем"
   ]
  },
  {
   "cell_type": "code",
   "execution_count": 78,
   "id": "baa8e646",
   "metadata": {},
   "outputs": [
    {
     "data": {
      "text/plain": [
       "[889692, 821358, 1055403, 8015407, 894360, 978129]"
      ]
     },
     "execution_count": 78,
     "metadata": {},
     "output_type": "execute_result"
    }
   ],
   "source": [
    "rec_list = [get_recommendations(user=users[0], model=own, N=1) for users in model.similar_users(userid_to_id[10], N=6)]\n",
    "rec_list = [int(el[0]) for el in rec_list]\n",
    "rec_list"
   ]
  },
  {
   "cell_type": "code",
   "execution_count": null,
   "id": "77c94162",
   "metadata": {},
   "outputs": [],
   "source": []
  }
 ],
 "metadata": {
  "kernelspec": {
   "display_name": "Python 3 (ipykernel)",
   "language": "python",
   "name": "python3"
  },
  "language_info": {
   "codemirror_mode": {
    "name": "ipython",
    "version": 3
   },
   "file_extension": ".py",
   "mimetype": "text/x-python",
   "name": "python",
   "nbconvert_exporter": "python",
   "pygments_lexer": "ipython3",
   "version": "3.8.8"
  }
 },
 "nbformat": 4,
 "nbformat_minor": 5
}
