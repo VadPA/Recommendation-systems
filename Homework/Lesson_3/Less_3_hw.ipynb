{
 "cells": [
  {
   "cell_type": "code",
   "execution_count": 1,
   "id": "8f7aad00",
   "metadata": {},
   "outputs": [],
   "source": [
    "import pandas as pd\n",
    "import numpy as np\n",
    "import matplotlib.pyplot as plt\n",
    "%matplotlib inline\n",
    "\n",
    "# Для работы с матрицами\n",
    "from scipy.sparse import csr_matrix\n",
    "\n",
    "# Матричная факторизация\n",
    "from implicit.als import AlternatingLeastSquares\n",
    "from implicit.nearest_neighbours import bm25_weight, tfidf_weight\n",
    "\n",
    "from metrics import precision_at_k, recall_at_k\n",
    "\n",
    "from sklearn.preprocessing import MaxAbsScaler"
   ]
  },
  {
   "cell_type": "code",
   "execution_count": 2,
   "id": "a9a7f05c",
   "metadata": {},
   "outputs": [
    {
     "data": {
      "text/html": [
       "<div>\n",
       "<style scoped>\n",
       "    .dataframe tbody tr th:only-of-type {\n",
       "        vertical-align: middle;\n",
       "    }\n",
       "\n",
       "    .dataframe tbody tr th {\n",
       "        vertical-align: top;\n",
       "    }\n",
       "\n",
       "    .dataframe thead th {\n",
       "        text-align: right;\n",
       "    }\n",
       "</style>\n",
       "<table border=\"1\" class=\"dataframe\">\n",
       "  <thead>\n",
       "    <tr style=\"text-align: right;\">\n",
       "      <th></th>\n",
       "      <th>household_key</th>\n",
       "      <th>BASKET_ID</th>\n",
       "      <th>DAY</th>\n",
       "      <th>PRODUCT_ID</th>\n",
       "      <th>QUANTITY</th>\n",
       "      <th>SALES_VALUE</th>\n",
       "      <th>STORE_ID</th>\n",
       "      <th>RETAIL_DISC</th>\n",
       "      <th>TRANS_TIME</th>\n",
       "      <th>WEEK_NO</th>\n",
       "      <th>COUPON_DISC</th>\n",
       "      <th>COUPON_MATCH_DISC</th>\n",
       "    </tr>\n",
       "  </thead>\n",
       "  <tbody>\n",
       "    <tr>\n",
       "      <th>0</th>\n",
       "      <td>2375</td>\n",
       "      <td>26984851472</td>\n",
       "      <td>1</td>\n",
       "      <td>1004906</td>\n",
       "      <td>1</td>\n",
       "      <td>1.39</td>\n",
       "      <td>364</td>\n",
       "      <td>-0.6</td>\n",
       "      <td>1631</td>\n",
       "      <td>1</td>\n",
       "      <td>0.0</td>\n",
       "      <td>0.0</td>\n",
       "    </tr>\n",
       "    <tr>\n",
       "      <th>1</th>\n",
       "      <td>2375</td>\n",
       "      <td>26984851472</td>\n",
       "      <td>1</td>\n",
       "      <td>1033142</td>\n",
       "      <td>1</td>\n",
       "      <td>0.82</td>\n",
       "      <td>364</td>\n",
       "      <td>0.0</td>\n",
       "      <td>1631</td>\n",
       "      <td>1</td>\n",
       "      <td>0.0</td>\n",
       "      <td>0.0</td>\n",
       "    </tr>\n",
       "    <tr>\n",
       "      <th>2</th>\n",
       "      <td>2375</td>\n",
       "      <td>26984851472</td>\n",
       "      <td>1</td>\n",
       "      <td>1036325</td>\n",
       "      <td>1</td>\n",
       "      <td>0.99</td>\n",
       "      <td>364</td>\n",
       "      <td>-0.3</td>\n",
       "      <td>1631</td>\n",
       "      <td>1</td>\n",
       "      <td>0.0</td>\n",
       "      <td>0.0</td>\n",
       "    </tr>\n",
       "  </tbody>\n",
       "</table>\n",
       "</div>"
      ],
      "text/plain": [
       "   household_key    BASKET_ID  DAY  PRODUCT_ID  QUANTITY  SALES_VALUE  \\\n",
       "0           2375  26984851472    1     1004906         1         1.39   \n",
       "1           2375  26984851472    1     1033142         1         0.82   \n",
       "2           2375  26984851472    1     1036325         1         0.99   \n",
       "\n",
       "   STORE_ID  RETAIL_DISC  TRANS_TIME  WEEK_NO  COUPON_DISC  COUPON_MATCH_DISC  \n",
       "0       364         -0.6        1631        1          0.0                0.0  \n",
       "1       364          0.0        1631        1          0.0                0.0  \n",
       "2       364         -0.3        1631        1          0.0                0.0  "
      ]
     },
     "execution_count": 2,
     "metadata": {},
     "output_type": "execute_result"
    }
   ],
   "source": [
    "data = pd.read_csv('../../Lectures/Lecture_2/webinar_2/webinar_2/data/transaction_data.csv')\n",
    "data.head(3)"
   ]
  },
  {
   "cell_type": "code",
   "execution_count": 3,
   "id": "74711821",
   "metadata": {},
   "outputs": [],
   "source": [
    "data.columns = [col.lower() for col in data.columns]"
   ]
  },
  {
   "cell_type": "code",
   "execution_count": 4,
   "id": "40603a4a",
   "metadata": {},
   "outputs": [],
   "source": [
    "data.rename(columns={'household_key': 'user_id',\n",
    "                    'product_id': 'item_id'},\n",
    "           inplace=True)"
   ]
  },
  {
   "cell_type": "code",
   "execution_count": 5,
   "id": "90d7ce6f",
   "metadata": {},
   "outputs": [
    {
     "data": {
      "text/html": [
       "<div>\n",
       "<style scoped>\n",
       "    .dataframe tbody tr th:only-of-type {\n",
       "        vertical-align: middle;\n",
       "    }\n",
       "\n",
       "    .dataframe tbody tr th {\n",
       "        vertical-align: top;\n",
       "    }\n",
       "\n",
       "    .dataframe thead th {\n",
       "        text-align: right;\n",
       "    }\n",
       "</style>\n",
       "<table border=\"1\" class=\"dataframe\">\n",
       "  <thead>\n",
       "    <tr style=\"text-align: right;\">\n",
       "      <th></th>\n",
       "      <th>user_id</th>\n",
       "      <th>basket_id</th>\n",
       "      <th>day</th>\n",
       "      <th>item_id</th>\n",
       "      <th>quantity</th>\n",
       "      <th>sales_value</th>\n",
       "      <th>store_id</th>\n",
       "      <th>retail_disc</th>\n",
       "      <th>trans_time</th>\n",
       "      <th>week_no</th>\n",
       "      <th>coupon_disc</th>\n",
       "      <th>coupon_match_disc</th>\n",
       "    </tr>\n",
       "  </thead>\n",
       "  <tbody>\n",
       "    <tr>\n",
       "      <th>0</th>\n",
       "      <td>2375</td>\n",
       "      <td>26984851472</td>\n",
       "      <td>1</td>\n",
       "      <td>1004906</td>\n",
       "      <td>1</td>\n",
       "      <td>1.39</td>\n",
       "      <td>364</td>\n",
       "      <td>-0.60</td>\n",
       "      <td>1631</td>\n",
       "      <td>1</td>\n",
       "      <td>0.0</td>\n",
       "      <td>0.0</td>\n",
       "    </tr>\n",
       "    <tr>\n",
       "      <th>1</th>\n",
       "      <td>2375</td>\n",
       "      <td>26984851472</td>\n",
       "      <td>1</td>\n",
       "      <td>1033142</td>\n",
       "      <td>1</td>\n",
       "      <td>0.82</td>\n",
       "      <td>364</td>\n",
       "      <td>0.00</td>\n",
       "      <td>1631</td>\n",
       "      <td>1</td>\n",
       "      <td>0.0</td>\n",
       "      <td>0.0</td>\n",
       "    </tr>\n",
       "    <tr>\n",
       "      <th>2</th>\n",
       "      <td>2375</td>\n",
       "      <td>26984851472</td>\n",
       "      <td>1</td>\n",
       "      <td>1036325</td>\n",
       "      <td>1</td>\n",
       "      <td>0.99</td>\n",
       "      <td>364</td>\n",
       "      <td>-0.30</td>\n",
       "      <td>1631</td>\n",
       "      <td>1</td>\n",
       "      <td>0.0</td>\n",
       "      <td>0.0</td>\n",
       "    </tr>\n",
       "    <tr>\n",
       "      <th>3</th>\n",
       "      <td>2375</td>\n",
       "      <td>26984851472</td>\n",
       "      <td>1</td>\n",
       "      <td>1082185</td>\n",
       "      <td>1</td>\n",
       "      <td>1.21</td>\n",
       "      <td>364</td>\n",
       "      <td>0.00</td>\n",
       "      <td>1631</td>\n",
       "      <td>1</td>\n",
       "      <td>0.0</td>\n",
       "      <td>0.0</td>\n",
       "    </tr>\n",
       "    <tr>\n",
       "      <th>4</th>\n",
       "      <td>2375</td>\n",
       "      <td>26984851472</td>\n",
       "      <td>1</td>\n",
       "      <td>8160430</td>\n",
       "      <td>1</td>\n",
       "      <td>1.50</td>\n",
       "      <td>364</td>\n",
       "      <td>-0.39</td>\n",
       "      <td>1631</td>\n",
       "      <td>1</td>\n",
       "      <td>0.0</td>\n",
       "      <td>0.0</td>\n",
       "    </tr>\n",
       "  </tbody>\n",
       "</table>\n",
       "</div>"
      ],
      "text/plain": [
       "   user_id    basket_id  day  item_id  quantity  sales_value  store_id  \\\n",
       "0     2375  26984851472    1  1004906         1         1.39       364   \n",
       "1     2375  26984851472    1  1033142         1         0.82       364   \n",
       "2     2375  26984851472    1  1036325         1         0.99       364   \n",
       "3     2375  26984851472    1  1082185         1         1.21       364   \n",
       "4     2375  26984851472    1  8160430         1         1.50       364   \n",
       "\n",
       "   retail_disc  trans_time  week_no  coupon_disc  coupon_match_disc  \n",
       "0        -0.60        1631        1          0.0                0.0  \n",
       "1         0.00        1631        1          0.0                0.0  \n",
       "2        -0.30        1631        1          0.0                0.0  \n",
       "3         0.00        1631        1          0.0                0.0  \n",
       "4        -0.39        1631        1          0.0                0.0  "
      ]
     },
     "execution_count": 5,
     "metadata": {},
     "output_type": "execute_result"
    }
   ],
   "source": [
    "test_size_weeks = 3\n",
    "\n",
    "data_train = data[data['week_no'] < data['week_no'].max() - test_size_weeks]\n",
    "data_test = data[data['week_no'] >= data['week_no'].max() - test_size_weeks]\n",
    "\n",
    "data_train.head(5)"
   ]
  },
  {
   "cell_type": "code",
   "execution_count": 6,
   "id": "4ea703c0",
   "metadata": {},
   "outputs": [
    {
     "data": {
      "text/html": [
       "<div>\n",
       "<style scoped>\n",
       "    .dataframe tbody tr th:only-of-type {\n",
       "        vertical-align: middle;\n",
       "    }\n",
       "\n",
       "    .dataframe tbody tr th {\n",
       "        vertical-align: top;\n",
       "    }\n",
       "\n",
       "    .dataframe thead th {\n",
       "        text-align: right;\n",
       "    }\n",
       "</style>\n",
       "<table border=\"1\" class=\"dataframe\">\n",
       "  <thead>\n",
       "    <tr style=\"text-align: right;\">\n",
       "      <th></th>\n",
       "      <th>item_id</th>\n",
       "      <th>manufacturer</th>\n",
       "      <th>department</th>\n",
       "      <th>brand</th>\n",
       "      <th>commodity_desc</th>\n",
       "      <th>sub_commodity_desc</th>\n",
       "      <th>curr_size_of_product</th>\n",
       "    </tr>\n",
       "  </thead>\n",
       "  <tbody>\n",
       "    <tr>\n",
       "      <th>0</th>\n",
       "      <td>25671</td>\n",
       "      <td>2</td>\n",
       "      <td>GROCERY</td>\n",
       "      <td>National</td>\n",
       "      <td>FRZN ICE</td>\n",
       "      <td>ICE - CRUSHED/CUBED</td>\n",
       "      <td>22 LB</td>\n",
       "    </tr>\n",
       "    <tr>\n",
       "      <th>1</th>\n",
       "      <td>26081</td>\n",
       "      <td>2</td>\n",
       "      <td>MISC. TRANS.</td>\n",
       "      <td>National</td>\n",
       "      <td>NO COMMODITY DESCRIPTION</td>\n",
       "      <td>NO SUBCOMMODITY DESCRIPTION</td>\n",
       "      <td></td>\n",
       "    </tr>\n",
       "  </tbody>\n",
       "</table>\n",
       "</div>"
      ],
      "text/plain": [
       "   item_id  manufacturer    department     brand            commodity_desc  \\\n",
       "0    25671             2       GROCERY  National                  FRZN ICE   \n",
       "1    26081             2  MISC. TRANS.  National  NO COMMODITY DESCRIPTION   \n",
       "\n",
       "            sub_commodity_desc curr_size_of_product  \n",
       "0          ICE - CRUSHED/CUBED                22 LB  \n",
       "1  NO SUBCOMMODITY DESCRIPTION                       "
      ]
     },
     "execution_count": 6,
     "metadata": {},
     "output_type": "execute_result"
    }
   ],
   "source": [
    "item_features = pd.read_csv('../../Lectures/Lecture_2/webinar_2/webinar_2/data/product.csv')\n",
    "item_features.columns = [col.lower() for col in item_features.columns]\n",
    "item_features.rename(columns={'product_id': 'item_id'}, inplace=True)\n",
    "\n",
    "item_features.head(2)"
   ]
  },
  {
   "cell_type": "code",
   "execution_count": 7,
   "id": "cd2dd293",
   "metadata": {},
   "outputs": [
    {
     "data": {
      "text/plain": [
       "array(['GROCERY', 'MISC. TRANS.', 'PASTRY', 'DRUG GM', 'MEAT-PCKGD',\n",
       "       'SEAFOOD-PCKGD', 'PRODUCE', 'NUTRITION', 'DELI', 'COSMETICS',\n",
       "       'MEAT', 'FLORAL', 'TRAVEL & LEISUR', 'SEAFOOD', 'MISC SALES TRAN',\n",
       "       'SALAD BAR', 'KIOSK-GAS', 'ELECT &PLUMBING', 'GRO BAKERY',\n",
       "       'GM MERCH EXP', 'FROZEN GROCERY', 'COUP/STR & MFG', 'SPIRITS',\n",
       "       'GARDEN CENTER', 'TOYS', 'CHARITABLE CONT', 'RESTAURANT', 'RX',\n",
       "       'PROD-WHS SALES', 'MEAT-WHSE', 'DAIRY DELI', 'CHEF SHOPPE', 'HBC',\n",
       "       'DELI/SNACK BAR', 'PORK', 'AUTOMOTIVE', 'VIDEO RENTAL', ' ',\n",
       "       'CNTRL/STORE SUP', 'HOUSEWARES', 'POSTAL CENTER', 'PHOTO', 'VIDEO',\n",
       "       'PHARMACY SUPPLY'], dtype=object)"
      ]
     },
     "execution_count": 7,
     "metadata": {},
     "output_type": "execute_result"
    }
   ],
   "source": [
    "item_features.department.unique()"
   ]
  },
  {
   "cell_type": "markdown",
   "id": "ceb4882d",
   "metadata": {},
   "source": [
    "#### Создадим датасет, куда будем записывать результаты работы алгоритмов разных моделей с разными параметрами"
   ]
  },
  {
   "cell_type": "code",
   "execution_count": 8,
   "id": "e38544ec",
   "metadata": {},
   "outputs": [
    {
     "data": {
      "text/html": [
       "<div>\n",
       "<style scoped>\n",
       "    .dataframe tbody tr th:only-of-type {\n",
       "        vertical-align: middle;\n",
       "    }\n",
       "\n",
       "    .dataframe tbody tr th {\n",
       "        vertical-align: top;\n",
       "    }\n",
       "\n",
       "    .dataframe thead th {\n",
       "        text-align: right;\n",
       "    }\n",
       "</style>\n",
       "<table border=\"1\" class=\"dataframe\">\n",
       "  <thead>\n",
       "    <tr style=\"text-align: right;\">\n",
       "      <th></th>\n",
       "      <th>user_id</th>\n",
       "      <th>actual</th>\n",
       "    </tr>\n",
       "  </thead>\n",
       "  <tbody>\n",
       "    <tr>\n",
       "      <th>0</th>\n",
       "      <td>1</td>\n",
       "      <td>[879517, 934369, 1115576, 1124029, 5572301, 65...</td>\n",
       "    </tr>\n",
       "    <tr>\n",
       "      <th>1</th>\n",
       "      <td>3</td>\n",
       "      <td>[823704, 834117, 840244, 913785, 917816, 93870...</td>\n",
       "    </tr>\n",
       "  </tbody>\n",
       "</table>\n",
       "</div>"
      ],
      "text/plain": [
       "   user_id                                             actual\n",
       "0        1  [879517, 934369, 1115576, 1124029, 5572301, 65...\n",
       "1        3  [823704, 834117, 840244, 913785, 917816, 93870..."
      ]
     },
     "execution_count": 8,
     "metadata": {},
     "output_type": "execute_result"
    }
   ],
   "source": [
    "result = data_test.groupby('user_id')['item_id'].unique().reset_index()\n",
    "result.columns=['user_id', 'actual']\n",
    "result.head(2)"
   ]
  },
  {
   "cell_type": "markdown",
   "id": "46de7dd8",
   "metadata": {},
   "source": [
    "Определим самые популярные товары и сохраним в список их item_id."
   ]
  },
  {
   "cell_type": "code",
   "execution_count": 9,
   "id": "d68fb3f8",
   "metadata": {},
   "outputs": [],
   "source": [
    "popularity = data_train.groupby('item_id')['quantity'].sum().reset_index()\n",
    "popularity.rename(columns={'quantity': 'n_sold'}, inplace=True)\n",
    "\n",
    "top_5000 = popularity.sort_values('n_sold', ascending=False).head(5000).item_id.tolist()"
   ]
  },
  {
   "cell_type": "code",
   "execution_count": 10,
   "id": "467dbf65",
   "metadata": {},
   "outputs": [
    {
     "data": {
      "text/html": [
       "<div>\n",
       "<style scoped>\n",
       "    .dataframe tbody tr th:only-of-type {\n",
       "        vertical-align: middle;\n",
       "    }\n",
       "\n",
       "    .dataframe tbody tr th {\n",
       "        vertical-align: top;\n",
       "    }\n",
       "\n",
       "    .dataframe thead th {\n",
       "        text-align: right;\n",
       "    }\n",
       "</style>\n",
       "<table border=\"1\" class=\"dataframe\">\n",
       "  <thead>\n",
       "    <tr style=\"text-align: right;\">\n",
       "      <th></th>\n",
       "      <th>item_id</th>\n",
       "      <th>n_sold</th>\n",
       "    </tr>\n",
       "  </thead>\n",
       "  <tbody>\n",
       "    <tr>\n",
       "      <th>0</th>\n",
       "      <td>25671</td>\n",
       "      <td>6</td>\n",
       "    </tr>\n",
       "    <tr>\n",
       "      <th>1</th>\n",
       "      <td>26081</td>\n",
       "      <td>1</td>\n",
       "    </tr>\n",
       "    <tr>\n",
       "      <th>2</th>\n",
       "      <td>26093</td>\n",
       "      <td>1</td>\n",
       "    </tr>\n",
       "    <tr>\n",
       "      <th>3</th>\n",
       "      <td>26190</td>\n",
       "      <td>1</td>\n",
       "    </tr>\n",
       "    <tr>\n",
       "      <th>4</th>\n",
       "      <td>26355</td>\n",
       "      <td>2</td>\n",
       "    </tr>\n",
       "  </tbody>\n",
       "</table>\n",
       "</div>"
      ],
      "text/plain": [
       "   item_id  n_sold\n",
       "0    25671       6\n",
       "1    26081       1\n",
       "2    26093       1\n",
       "3    26190       1\n",
       "4    26355       2"
      ]
     },
     "execution_count": 10,
     "metadata": {},
     "output_type": "execute_result"
    }
   ],
   "source": [
    "popularity.head(5)"
   ]
  },
  {
   "cell_type": "code",
   "execution_count": 11,
   "id": "b277b4cf",
   "metadata": {},
   "outputs": [
    {
     "data": {
      "text/html": [
       "<div>\n",
       "<style scoped>\n",
       "    .dataframe tbody tr th:only-of-type {\n",
       "        vertical-align: middle;\n",
       "    }\n",
       "\n",
       "    .dataframe tbody tr th {\n",
       "        vertical-align: top;\n",
       "    }\n",
       "\n",
       "    .dataframe thead th {\n",
       "        text-align: right;\n",
       "    }\n",
       "</style>\n",
       "<table border=\"1\" class=\"dataframe\">\n",
       "  <thead>\n",
       "    <tr style=\"text-align: right;\">\n",
       "      <th></th>\n",
       "      <th>item_id</th>\n",
       "      <th>n_sold</th>\n",
       "    </tr>\n",
       "  </thead>\n",
       "  <tbody>\n",
       "    <tr>\n",
       "      <th>56632</th>\n",
       "      <td>6534178</td>\n",
       "      <td>207490068</td>\n",
       "    </tr>\n",
       "    <tr>\n",
       "      <th>56592</th>\n",
       "      <td>6533889</td>\n",
       "      <td>17706394</td>\n",
       "    </tr>\n",
       "    <tr>\n",
       "      <th>56627</th>\n",
       "      <td>6534166</td>\n",
       "      <td>13420640</td>\n",
       "    </tr>\n",
       "    <tr>\n",
       "      <th>56744</th>\n",
       "      <td>6544236</td>\n",
       "      <td>2620630</td>\n",
       "    </tr>\n",
       "    <tr>\n",
       "      <th>44379</th>\n",
       "      <td>1404121</td>\n",
       "      <td>1688052</td>\n",
       "    </tr>\n",
       "  </tbody>\n",
       "</table>\n",
       "</div>"
      ],
      "text/plain": [
       "       item_id     n_sold\n",
       "56632  6534178  207490068\n",
       "56592  6533889   17706394\n",
       "56627  6534166   13420640\n",
       "56744  6544236    2620630\n",
       "44379  1404121    1688052"
      ]
     },
     "execution_count": 11,
     "metadata": {},
     "output_type": "execute_result"
    }
   ],
   "source": [
    "popularity.sort_values('n_sold', ascending=False).head(5)"
   ]
  },
  {
   "cell_type": "code",
   "execution_count": 12,
   "id": "ccff32cf",
   "metadata": {},
   "outputs": [
    {
     "data": {
      "text/html": [
       "<div>\n",
       "<style scoped>\n",
       "    .dataframe tbody tr th:only-of-type {\n",
       "        vertical-align: middle;\n",
       "    }\n",
       "\n",
       "    .dataframe tbody tr th {\n",
       "        vertical-align: top;\n",
       "    }\n",
       "\n",
       "    .dataframe thead th {\n",
       "        text-align: right;\n",
       "    }\n",
       "</style>\n",
       "<table border=\"1\" class=\"dataframe\">\n",
       "  <thead>\n",
       "    <tr style=\"text-align: right;\">\n",
       "      <th></th>\n",
       "      <th>item_id</th>\n",
       "      <th>manufacturer</th>\n",
       "      <th>department</th>\n",
       "      <th>brand</th>\n",
       "      <th>commodity_desc</th>\n",
       "      <th>sub_commodity_desc</th>\n",
       "      <th>curr_size_of_product</th>\n",
       "    </tr>\n",
       "  </thead>\n",
       "  <tbody>\n",
       "    <tr>\n",
       "      <th>57221</th>\n",
       "      <td>6534178</td>\n",
       "      <td>69</td>\n",
       "      <td>KIOSK-GAS</td>\n",
       "      <td>Private</td>\n",
       "      <td>COUPON/MISC ITEMS</td>\n",
       "      <td>GASOLINE-REG UNLEADED</td>\n",
       "      <td></td>\n",
       "    </tr>\n",
       "  </tbody>\n",
       "</table>\n",
       "</div>"
      ],
      "text/plain": [
       "       item_id  manufacturer department    brand     commodity_desc  \\\n",
       "57221  6534178            69  KIOSK-GAS  Private  COUPON/MISC ITEMS   \n",
       "\n",
       "          sub_commodity_desc curr_size_of_product  \n",
       "57221  GASOLINE-REG UNLEADED                       "
      ]
     },
     "execution_count": 12,
     "metadata": {},
     "output_type": "execute_result"
    }
   ],
   "source": [
    "item_features.loc[item_features['item_id'] == 6534178]"
   ]
  },
  {
   "cell_type": "markdown",
   "id": "f289f483",
   "metadata": {},
   "source": [
    "#### Заведем фиктивный item_id, которым пометим все товары которые не попали в группу топ-5000"
   ]
  },
  {
   "cell_type": "code",
   "execution_count": 13,
   "id": "a731a668",
   "metadata": {},
   "outputs": [],
   "source": [
    "data_train.loc[~data_train['item_id'].isin(top_5000), 'item_id'] = 999_999"
   ]
  },
  {
   "cell_type": "markdown",
   "id": "ce4fcbfa",
   "metadata": {},
   "source": [
    "Создадим user_item таблицу"
   ]
  },
  {
   "cell_type": "code",
   "execution_count": 14,
   "id": "ddda77db",
   "metadata": {},
   "outputs": [],
   "source": [
    "user_item_matrix = pd.pivot_table(data_train, \n",
    "                                  index='user_id', columns='item_id', \n",
    "                                  values='quantity', # Можно пробоват другие варианты\n",
    "                                  aggfunc='count', \n",
    "                                  fill_value=0\n",
    "                                 )"
   ]
  },
  {
   "cell_type": "code",
   "execution_count": 15,
   "id": "1229abff",
   "metadata": {},
   "outputs": [
    {
     "data": {
      "text/plain": [
       "(2500, 5001)"
      ]
     },
     "execution_count": 15,
     "metadata": {},
     "output_type": "execute_result"
    }
   ],
   "source": [
    "user_item_matrix.shape"
   ]
  },
  {
   "cell_type": "code",
   "execution_count": 16,
   "id": "d10fe3b1",
   "metadata": {},
   "outputs": [
    {
     "data": {
      "text/plain": [
       "908677"
      ]
     },
     "execution_count": 16,
     "metadata": {},
     "output_type": "execute_result"
    }
   ],
   "source": [
    "user_item_matrix[999_999].sum()"
   ]
  },
  {
   "cell_type": "markdown",
   "id": "ffb29694",
   "metadata": {},
   "source": [
    "Под этим item_id мы агрегировали все \"не популярные\" товары. Создадим две матрицы: одна будет содержать этот item_id, а вдругой исключим этот item_id и сравним результаты работы алгоритма на этих двух матрицах. Исключением мы добъемся не получение \"не популярного\" товара в рекомендации тем самым повысив метрику."
   ]
  },
  {
   "cell_type": "code",
   "execution_count": 17,
   "id": "ebd6a9c0",
   "metadata": {},
   "outputs": [
    {
     "data": {
      "text/plain": [
       "(2500, 5000)"
      ]
     },
     "execution_count": 17,
     "metadata": {},
     "output_type": "execute_result"
    }
   ],
   "source": [
    "user_item_matrix_top = user_item_matrix.drop(columns = [999_999], axis = 1)\n",
    "user_item_matrix_top.shape"
   ]
  },
  {
   "cell_type": "code",
   "execution_count": 18,
   "id": "bbc453ab",
   "metadata": {},
   "outputs": [],
   "source": [
    "# Приведем матрицы к необходимому типу для implicit\n",
    "user_item_matrix = user_item_matrix.astype(float) \n",
    "user_item_matrix_top = user_item_matrix_top.astype(float) "
   ]
  },
  {
   "cell_type": "code",
   "execution_count": 19,
   "id": "d8ded7cf",
   "metadata": {},
   "outputs": [],
   "source": [
    "# переведем в формат sparse matrix\n",
    "sparse_user_item = csr_matrix(user_item_matrix)\n",
    "sparse_user_item_top = csr_matrix(user_item_matrix_top)"
   ]
  },
  {
   "cell_type": "code",
   "execution_count": 20,
   "id": "0a478d84",
   "metadata": {},
   "outputs": [],
   "source": [
    "def id_to_id(matrix):\n",
    "    userids = matrix.index.values\n",
    "    itemids = matrix.columns.values\n",
    "    \n",
    "    matrix_userids = np.arange(len(userids))\n",
    "    matrix_itemids = np.arange(len(itemids))\n",
    "    \n",
    "    id_to_itemid = dict(zip(matrix_itemids, itemids))\n",
    "    id_to_userid = dict(zip(matrix_userids, userids))\n",
    "    \n",
    "    itemid_to_id = dict(zip(itemids, matrix_itemids))\n",
    "    userid_to_id = dict(zip(userids, matrix_userids))\n",
    "    \n",
    "    return id_to_itemid, id_to_userid, itemid_to_id, userid_to_id"
   ]
  },
  {
   "cell_type": "code",
   "execution_count": 21,
   "id": "7caa0a24",
   "metadata": {},
   "outputs": [],
   "source": [
    "id_to_itemid, id_to_userid, itemid_to_id, userid_to_id = id_to_id(user_item_matrix)\n",
    "id_to_itemid_top, id_to_userid_top, itemid_to_id_top, userid_to_id_top = id_to_id(user_item_matrix_top)"
   ]
  },
  {
   "cell_type": "code",
   "execution_count": 29,
   "id": "982b2bc2",
   "metadata": {},
   "outputs": [
    {
     "data": {
      "text/plain": [
       "dict"
      ]
     },
     "execution_count": 29,
     "metadata": {},
     "output_type": "execute_result"
    }
   ],
   "source": [
    "type(userid_to_id)"
   ]
  },
  {
   "cell_type": "code",
   "execution_count": 35,
   "id": "40d8c758",
   "metadata": {},
   "outputs": [
    {
     "data": {
      "text/plain": [
       "2485538"
      ]
     },
     "execution_count": 35,
     "metadata": {},
     "output_type": "execute_result"
    }
   ],
   "source": [
    "len(data_train)"
   ]
  },
  {
   "cell_type": "code",
   "execution_count": 34,
   "id": "6e475a52",
   "metadata": {},
   "outputs": [
    {
     "data": {
      "text/plain": [
       "2500"
      ]
     },
     "execution_count": 34,
     "metadata": {},
     "output_type": "execute_result"
    }
   ],
   "source": [
    "len(user_item_matrix.index.values)"
   ]
  },
  {
   "cell_type": "code",
   "execution_count": 31,
   "id": "df4c516a",
   "metadata": {},
   "outputs": [
    {
     "data": {
      "text/plain": [
       "1999"
      ]
     },
     "execution_count": 31,
     "metadata": {},
     "output_type": "execute_result"
    }
   ],
   "source": [
    "userid_to_id[2000]"
   ]
  },
  {
   "cell_type": "markdown",
   "id": "1d4291f9",
   "metadata": {},
   "source": [
    "# ALS"
   ]
  },
  {
   "cell_type": "code",
   "execution_count": 32,
   "id": "1cd0c0d5",
   "metadata": {},
   "outputs": [
    {
     "name": "stdout",
     "output_type": "stream",
     "text": [
      "CPU times: total: 0 ns\n",
      "Wall time: 1 ms\n"
     ]
    }
   ],
   "source": [
    "%%time\n",
    "\n",
    "model = AlternatingLeastSquares(factors=64, \n",
    "                                regularization=0.05,\n",
    "                                iterations=15, \n",
    "                                calculate_training_loss=True, \n",
    "                                num_threads=10,\n",
    "                                use_gpu=False)"
   ]
  },
  {
   "cell_type": "code",
   "execution_count": 23,
   "id": "5577f19e",
   "metadata": {},
   "outputs": [
    {
     "data": {
      "application/vnd.jupyter.widget-view+json": {
       "model_id": "ed5781a7ea8b4096ae4f9cadf18cd6a8",
       "version_major": 2,
       "version_minor": 0
      },
      "text/plain": [
       "  0%|          | 0/15 [00:00<?, ?it/s]"
      ]
     },
     "metadata": {},
     "output_type": "display_data"
    },
    {
     "name": "stdout",
     "output_type": "stream",
     "text": [
      "CPU times: total: 21.2 s\n",
      "Wall time: 2.17 s\n"
     ]
    }
   ],
   "source": [
    "%%time\n",
    "\n",
    "model.fit(csr_matrix(user_item_matrix).T.tocsr(),  # На вход item-user matrix\n",
    "          show_progress=True)"
   ]
  },
  {
   "cell_type": "code",
   "execution_count": 24,
   "id": "4dfdf4de",
   "metadata": {},
   "outputs": [],
   "source": [
    "def get_recommendations(user, sparse_user_item, model, N=5):\n",
    "    res = [id_to_itemid[rec[0]] for rec in \n",
    "                    model.recommend(userid=userid_to_id[user], \n",
    "                                    user_items=sparse_user_item,   # на вход user-item matrix\n",
    "                                    N=N, \n",
    "                                    filter_already_liked_items=False, \n",
    "                                    filter_items=None, \n",
    "                                    recalculate_user=True)]\n",
    "    return res"
   ]
  },
  {
   "cell_type": "code",
   "execution_count": 25,
   "id": "423378eb",
   "metadata": {},
   "outputs": [],
   "source": [
    "def get_recommendations_top(user, sparse_user_item_top, model, N=5):\n",
    "    res = [id_to_itemid_top[rec[0]] for rec in \n",
    "                    model.recommend(userid=userid_to_id_top[user], \n",
    "                                    user_items=sparse_user_item_top,   # на вход user-item matrix\n",
    "                                    N=N, \n",
    "                                    filter_already_liked_items=False, \n",
    "                                    filter_items=None, \n",
    "                                    recalculate_user=True)]\n",
    "    return res"
   ]
  },
  {
   "cell_type": "code",
   "execution_count": 26,
   "id": "ab971505",
   "metadata": {},
   "outputs": [
    {
     "name": "stdout",
     "output_type": "stream",
     "text": [
      "CPU times: total: 7min 9s\n",
      "Wall time: 53.7 s\n"
     ]
    }
   ],
   "source": [
    "%%time\n",
    "    \n",
    "result['als'] = result['user_id'].apply(lambda x: get_recommendations(x, sparse_user_item, model=model, N=5))"
   ]
  },
  {
   "cell_type": "code",
   "execution_count": 27,
   "id": "184f4250",
   "metadata": {},
   "outputs": [
    {
     "data": {
      "text/html": [
       "<div>\n",
       "<style scoped>\n",
       "    .dataframe tbody tr th:only-of-type {\n",
       "        vertical-align: middle;\n",
       "    }\n",
       "\n",
       "    .dataframe tbody tr th {\n",
       "        vertical-align: top;\n",
       "    }\n",
       "\n",
       "    .dataframe thead th {\n",
       "        text-align: right;\n",
       "    }\n",
       "</style>\n",
       "<table border=\"1\" class=\"dataframe\">\n",
       "  <thead>\n",
       "    <tr style=\"text-align: right;\">\n",
       "      <th></th>\n",
       "      <th>user_id</th>\n",
       "      <th>actual</th>\n",
       "      <th>als</th>\n",
       "    </tr>\n",
       "  </thead>\n",
       "  <tbody>\n",
       "    <tr>\n",
       "      <th>0</th>\n",
       "      <td>1</td>\n",
       "      <td>[879517, 934369, 1115576, 1124029, 5572301, 65...</td>\n",
       "      <td>[1005186, 885290, 999999, 5569374, 9527290]</td>\n",
       "    </tr>\n",
       "    <tr>\n",
       "      <th>1</th>\n",
       "      <td>3</td>\n",
       "      <td>[823704, 834117, 840244, 913785, 917816, 93870...</td>\n",
       "      <td>[951590, 5569327, 883404, 1092026, 1106523]</td>\n",
       "    </tr>\n",
       "    <tr>\n",
       "      <th>2</th>\n",
       "      <td>5</td>\n",
       "      <td>[913077, 1118028, 1386668]</td>\n",
       "      <td>[999999, 1082185, 6534178, 1029743, 995242]</td>\n",
       "    </tr>\n",
       "  </tbody>\n",
       "</table>\n",
       "</div>"
      ],
      "text/plain": [
       "   user_id                                             actual  \\\n",
       "0        1  [879517, 934369, 1115576, 1124029, 5572301, 65...   \n",
       "1        3  [823704, 834117, 840244, 913785, 917816, 93870...   \n",
       "2        5                         [913077, 1118028, 1386668]   \n",
       "\n",
       "                                           als  \n",
       "0  [1005186, 885290, 999999, 5569374, 9527290]  \n",
       "1  [951590, 5569327, 883404, 1092026, 1106523]  \n",
       "2  [999999, 1082185, 6534178, 1029743, 995242]  "
      ]
     },
     "execution_count": 27,
     "metadata": {},
     "output_type": "execute_result"
    }
   ],
   "source": [
    "result.head(3)"
   ]
  },
  {
   "cell_type": "markdown",
   "id": "3de7de31",
   "metadata": {},
   "source": [
    "#### Метрика"
   ]
  },
  {
   "cell_type": "code",
   "execution_count": 28,
   "id": "229d0472",
   "metadata": {},
   "outputs": [
    {
     "data": {
      "text/plain": [
       "0.15499748869914406"
      ]
     },
     "execution_count": 28,
     "metadata": {},
     "output_type": "execute_result"
    }
   ],
   "source": [
    "result.apply(lambda row: precision_at_k(row['als'], row['actual']), axis=1).mean()"
   ]
  },
  {
   "cell_type": "markdown",
   "id": "ecad4a01",
   "metadata": {},
   "source": [
    "--------------------------------------------------------------------\n",
    "#### тоже для top-матрицы"
   ]
  },
  {
   "cell_type": "code",
   "execution_count": 33,
   "id": "5013e7e1",
   "metadata": {},
   "outputs": [
    {
     "data": {
      "application/vnd.jupyter.widget-view+json": {
       "model_id": "15bc96ce94cc4431aac8344b7d167740",
       "version_major": 2,
       "version_minor": 0
      },
      "text/plain": [
       "  0%|          | 0/15 [00:00<?, ?it/s]"
      ]
     },
     "metadata": {},
     "output_type": "display_data"
    },
    {
     "name": "stdout",
     "output_type": "stream",
     "text": [
      "CPU times: total: 21.3 s\n",
      "Wall time: 1.81 s\n"
     ]
    }
   ],
   "source": [
    "%%time\n",
    "\n",
    "model.fit(csr_matrix(user_item_matrix_top).T.tocsr(),  # На вход item-user matrix\n",
    "          show_progress=True)"
   ]
  },
  {
   "cell_type": "code",
   "execution_count": 34,
   "id": "2da225a1",
   "metadata": {},
   "outputs": [
    {
     "name": "stdout",
     "output_type": "stream",
     "text": [
      "CPU times: total: 4min 43s\n",
      "Wall time: 35.5 s\n"
     ]
    }
   ],
   "source": [
    "%%time\n",
    "    \n",
    "result['als_top'] = result['user_id'].apply(lambda x: get_recommendations_top(x, sparse_user_item_top, model=model, N=5))"
   ]
  },
  {
   "cell_type": "markdown",
   "id": "ebf7e7bd",
   "metadata": {},
   "source": [
    "#### Метрика"
   ]
  },
  {
   "cell_type": "code",
   "execution_count": 35,
   "id": "56a0dea4",
   "metadata": {},
   "outputs": [
    {
     "data": {
      "text/plain": [
       "0.1842290306378678"
      ]
     },
     "execution_count": 35,
     "metadata": {},
     "output_type": "execute_result"
    }
   ],
   "source": [
    "result.apply(lambda row: precision_at_k(row['als_top'], row['actual']), axis=1).mean()"
   ]
  },
  {
   "cell_type": "code",
   "execution_count": 36,
   "id": "25a9827c",
   "metadata": {},
   "outputs": [
    {
     "data": {
      "text/html": [
       "<div>\n",
       "<style scoped>\n",
       "    .dataframe tbody tr th:only-of-type {\n",
       "        vertical-align: middle;\n",
       "    }\n",
       "\n",
       "    .dataframe tbody tr th {\n",
       "        vertical-align: top;\n",
       "    }\n",
       "\n",
       "    .dataframe thead th {\n",
       "        text-align: right;\n",
       "    }\n",
       "</style>\n",
       "<table border=\"1\" class=\"dataframe\">\n",
       "  <thead>\n",
       "    <tr style=\"text-align: right;\">\n",
       "      <th></th>\n",
       "      <th>user_id</th>\n",
       "      <th>actual</th>\n",
       "      <th>als</th>\n",
       "      <th>als_top</th>\n",
       "    </tr>\n",
       "  </thead>\n",
       "  <tbody>\n",
       "    <tr>\n",
       "      <th>0</th>\n",
       "      <td>1</td>\n",
       "      <td>[879517, 934369, 1115576, 1124029, 5572301, 65...</td>\n",
       "      <td>[1005186, 885290, 999999, 5569374, 9527290]</td>\n",
       "      <td>[1100972, 1033142, 995242, 1051211, 1082185]</td>\n",
       "    </tr>\n",
       "    <tr>\n",
       "      <th>1</th>\n",
       "      <td>3</td>\n",
       "      <td>[823704, 834117, 840244, 913785, 917816, 93870...</td>\n",
       "      <td>[951590, 5569327, 883404, 1092026, 1106523]</td>\n",
       "      <td>[1044078, 951590, 1106523, 1133018, 5569327]</td>\n",
       "    </tr>\n",
       "    <tr>\n",
       "      <th>2</th>\n",
       "      <td>5</td>\n",
       "      <td>[913077, 1118028, 1386668]</td>\n",
       "      <td>[999999, 1082185, 6534178, 1029743, 995242]</td>\n",
       "      <td>[1126899, 1058997, 1082185, 1050851, 981760]</td>\n",
       "    </tr>\n",
       "  </tbody>\n",
       "</table>\n",
       "</div>"
      ],
      "text/plain": [
       "   user_id                                             actual  \\\n",
       "0        1  [879517, 934369, 1115576, 1124029, 5572301, 65...   \n",
       "1        3  [823704, 834117, 840244, 913785, 917816, 93870...   \n",
       "2        5                         [913077, 1118028, 1386668]   \n",
       "\n",
       "                                           als  \\\n",
       "0  [1005186, 885290, 999999, 5569374, 9527290]   \n",
       "1  [951590, 5569327, 883404, 1092026, 1106523]   \n",
       "2  [999999, 1082185, 6534178, 1029743, 995242]   \n",
       "\n",
       "                                        als_top  \n",
       "0  [1100972, 1033142, 995242, 1051211, 1082185]  \n",
       "1  [1044078, 951590, 1106523, 1133018, 5569327]  \n",
       "2  [1126899, 1058997, 1082185, 1050851, 981760]  "
      ]
     },
     "execution_count": 36,
     "metadata": {},
     "output_type": "execute_result"
    }
   ],
   "source": [
    "result.head(3)"
   ]
  },
  {
   "cell_type": "code",
   "execution_count": 63,
   "id": "ecddde67",
   "metadata": {},
   "outputs": [
    {
     "data": {
      "text/plain": [
       "15.85"
      ]
     },
     "execution_count": 63,
     "metadata": {},
     "output_type": "execute_result"
    }
   ],
   "source": [
    "round((1 - 0.1550/0.1842) * 100, 2)"
   ]
  },
  {
   "cell_type": "markdown",
   "id": "286be4e3",
   "metadata": {},
   "source": [
    "### 2. TF-IDF взвешивание"
   ]
  },
  {
   "cell_type": "code",
   "execution_count": 38,
   "id": "a455c41b",
   "metadata": {},
   "outputs": [],
   "source": [
    "user_item_matrix_tfidf = tfidf_weight(user_item_matrix.T).T  \n",
    "user_item_matrix_tfidf_top = tfidf_weight(user_item_matrix_top.T).T  "
   ]
  },
  {
   "cell_type": "code",
   "execution_count": 39,
   "id": "1dabbf86",
   "metadata": {},
   "outputs": [
    {
     "name": "stdout",
     "output_type": "stream",
     "text": [
      "CPU times: total: 0 ns\n",
      "Wall time: 1 ms\n"
     ]
    }
   ],
   "source": [
    "%%time\n",
    "\n",
    "model = AlternatingLeastSquares(factors=64, \n",
    "                                regularization=0.05,\n",
    "                                iterations=15, \n",
    "                                calculate_training_loss=True, \n",
    "                                num_threads=20)"
   ]
  },
  {
   "cell_type": "code",
   "execution_count": 40,
   "id": "88423bc4",
   "metadata": {},
   "outputs": [
    {
     "data": {
      "application/vnd.jupyter.widget-view+json": {
       "model_id": "eecb6ec245a2486aa3a497b1a3849b01",
       "version_major": 2,
       "version_minor": 0
      },
      "text/plain": [
       "  0%|          | 0/15 [00:00<?, ?it/s]"
      ]
     },
     "metadata": {},
     "output_type": "display_data"
    }
   ],
   "source": [
    "model.fit(csr_matrix(user_item_matrix_tfidf).T.tocsr(),\n",
    "          show_progress=True)"
   ]
  },
  {
   "cell_type": "code",
   "execution_count": 41,
   "id": "a9376e00",
   "metadata": {},
   "outputs": [
    {
     "data": {
      "text/plain": [
       "0.16243093922651688"
      ]
     },
     "execution_count": 41,
     "metadata": {},
     "output_type": "execute_result"
    }
   ],
   "source": [
    "result['als_tfidf'] = result['user_id'].apply(lambda x: get_recommendations(x, sparse_user_item, model=model, N=5))\n",
    "\n",
    "result.apply(lambda row: precision_at_k(row['als_tfidf'], row['actual']), axis=1).mean()"
   ]
  },
  {
   "cell_type": "code",
   "execution_count": 62,
   "id": "52b0a6f6",
   "metadata": {},
   "outputs": [
    {
     "data": {
      "text/plain": [
       "4.56"
      ]
     },
     "execution_count": 62,
     "metadata": {},
     "output_type": "execute_result"
    }
   ],
   "source": [
    "round((1 - 0.1550/0.1624) * 100, 2)"
   ]
  },
  {
   "cell_type": "markdown",
   "id": "bb5a779e",
   "metadata": {},
   "source": [
    "--------------------------------------------------------------------\n",
    "#### тоже для top-матрицы"
   ]
  },
  {
   "cell_type": "code",
   "execution_count": 43,
   "id": "6b226528",
   "metadata": {},
   "outputs": [],
   "source": [
    "model = AlternatingLeastSquares(factors=64, \n",
    "                                regularization=0.05,\n",
    "                                iterations=15, \n",
    "                                calculate_training_loss=True, \n",
    "                                num_threads=20)"
   ]
  },
  {
   "cell_type": "code",
   "execution_count": 44,
   "id": "0f943697",
   "metadata": {},
   "outputs": [
    {
     "data": {
      "application/vnd.jupyter.widget-view+json": {
       "model_id": "28a0991bc05340ca96137cb25b274a6b",
       "version_major": 2,
       "version_minor": 0
      },
      "text/plain": [
       "  0%|          | 0/15 [00:00<?, ?it/s]"
      ]
     },
     "metadata": {},
     "output_type": "display_data"
    }
   ],
   "source": [
    "model.fit(csr_matrix(user_item_matrix_tfidf_top).T.tocsr(),\n",
    "          show_progress=True)"
   ]
  },
  {
   "cell_type": "code",
   "execution_count": 45,
   "id": "4faaf398",
   "metadata": {},
   "outputs": [
    {
     "data": {
      "text/plain": [
       "0.19748869914615502"
      ]
     },
     "execution_count": 45,
     "metadata": {},
     "output_type": "execute_result"
    }
   ],
   "source": [
    "result['als_tfidf_top'] = result['user_id'].apply(lambda x: get_recommendations_top(x, sparse_user_item_top, model=model, N=5))\n",
    "\n",
    "result.apply(lambda row: precision_at_k(row['als_tfidf_top'], row['actual']), axis=1).mean()"
   ]
  },
  {
   "cell_type": "code",
   "execution_count": 61,
   "id": "ae4185e4",
   "metadata": {},
   "outputs": [
    {
     "data": {
      "text/plain": [
       "20.76"
      ]
     },
     "execution_count": 61,
     "metadata": {},
     "output_type": "execute_result"
    }
   ],
   "source": [
    "round((1 - 0.1565/0.1975) * 100, 2)"
   ]
  },
  {
   "cell_type": "markdown",
   "id": "8dcf1ae4",
   "metadata": {},
   "source": [
    "### 3. BM25 взвешивание"
   ]
  },
  {
   "cell_type": "code",
   "execution_count": 47,
   "id": "ff646086",
   "metadata": {},
   "outputs": [],
   "source": [
    "user_item_matrix = bm25_weight(user_item_matrix.T).T\n",
    "user_item_matrix_top = bm25_weight(user_item_matrix_top.T).T "
   ]
  },
  {
   "cell_type": "code",
   "execution_count": 48,
   "id": "b280de8c",
   "metadata": {},
   "outputs": [
    {
     "name": "stdout",
     "output_type": "stream",
     "text": [
      "CPU times: total: 0 ns\n",
      "Wall time: 0 ns\n"
     ]
    }
   ],
   "source": [
    "%%time\n",
    "\n",
    "model = AlternatingLeastSquares(factors=128, \n",
    "                                regularization=0.05,\n",
    "                                iterations=15, \n",
    "                                calculate_training_loss=True, \n",
    "                                num_threads=20) # \n",
    "\n",
    "# model = AlternatingLeastSquares(factors=64, \n",
    "#                                 regularization=0.05,\n",
    "#                                 iterations=15, \n",
    "#                                 calculate_training_loss=True, \n",
    "#                                 num_threads=10)"
   ]
  },
  {
   "cell_type": "code",
   "execution_count": 51,
   "id": "b075f1ce",
   "metadata": {},
   "outputs": [
    {
     "data": {
      "application/vnd.jupyter.widget-view+json": {
       "model_id": "b87bffb736ee4f0ba65c1b5ff84d1f48",
       "version_major": 2,
       "version_minor": 0
      },
      "text/plain": [
       "  0%|          | 0/15 [00:00<?, ?it/s]"
      ]
     },
     "metadata": {},
     "output_type": "display_data"
    }
   ],
   "source": [
    "model.fit(csr_matrix(user_item_matrix).T.tocsr(),  # На вход item-user matrix\n",
    "          show_progress=True)\n",
    "\n",
    "result['als_bm25'] = result['user_id'].apply(lambda x: get_recommendations(x, sparse_user_item, model=model, N=5))"
   ]
  },
  {
   "cell_type": "code",
   "execution_count": 52,
   "id": "f110b9a3",
   "metadata": {},
   "outputs": [
    {
     "data": {
      "text/plain": [
       "0.19075841285785758"
      ]
     },
     "execution_count": 52,
     "metadata": {},
     "output_type": "execute_result"
    }
   ],
   "source": [
    "result.apply(lambda row: precision_at_k(row['als_bm25'], row['actual']), axis=1).mean()"
   ]
  },
  {
   "cell_type": "code",
   "execution_count": 58,
   "id": "50fc86c5",
   "metadata": {},
   "outputs": [
    {
     "data": {
      "text/plain": [
       "17.93"
      ]
     },
     "execution_count": 58,
     "metadata": {},
     "output_type": "execute_result"
    }
   ],
   "source": [
    "round((1 - 0.1565/0.1907) * 100, 2)"
   ]
  },
  {
   "cell_type": "markdown",
   "id": "2761a3d1",
   "metadata": {},
   "source": [
    "--------------------------------------------------------------------\n",
    "#### тоже для top-матрицы"
   ]
  },
  {
   "cell_type": "code",
   "execution_count": 54,
   "id": "8fa0bb3b",
   "metadata": {},
   "outputs": [],
   "source": [
    "model = AlternatingLeastSquares(factors=128, \n",
    "                                regularization=0.05,\n",
    "                                iterations=15, \n",
    "                                calculate_training_loss=True, \n",
    "                                num_threads=20) # "
   ]
  },
  {
   "cell_type": "code",
   "execution_count": 55,
   "id": "8c9a461c",
   "metadata": {},
   "outputs": [
    {
     "data": {
      "application/vnd.jupyter.widget-view+json": {
       "model_id": "85676b45a5c54069963639b7c8b7184e",
       "version_major": 2,
       "version_minor": 0
      },
      "text/plain": [
       "  0%|          | 0/15 [00:00<?, ?it/s]"
      ]
     },
     "metadata": {},
     "output_type": "display_data"
    }
   ],
   "source": [
    "model.fit(csr_matrix(user_item_matrix_top).T.tocsr(),  # На вход item-user matrix\n",
    "          show_progress=True)\n",
    "\n",
    "result['als_bm25_top'] = result['user_id'].apply(lambda x: get_recommendations_top(x, sparse_user_item_top, model=model, N=5))"
   ]
  },
  {
   "cell_type": "code",
   "execution_count": 56,
   "id": "9d898a06",
   "metadata": {},
   "outputs": [
    {
     "data": {
      "text/plain": [
       "0.22682069311903277"
      ]
     },
     "execution_count": 56,
     "metadata": {},
     "output_type": "execute_result"
    }
   ],
   "source": [
    "result.apply(lambda row: precision_at_k(row['als_bm25_top'], row['actual']), axis=1).mean()"
   ]
  },
  {
   "cell_type": "code",
   "execution_count": 57,
   "id": "4901ab64",
   "metadata": {},
   "outputs": [
    {
     "data": {
      "text/plain": [
       "31.0"
      ]
     },
     "execution_count": 57,
     "metadata": {},
     "output_type": "execute_result"
    }
   ],
   "source": [
    "round((1 - 0.1565/0.2268) * 100, 2)"
   ]
  },
  {
   "cell_type": "code",
   "execution_count": 59,
   "id": "cc46b55c",
   "metadata": {},
   "outputs": [],
   "source": [
    "model = AlternatingLeastSquares(factors=128, \n",
    "                                regularization=0.01,\n",
    "                                iterations=15, \n",
    "                                calculate_training_loss=True, \n",
    "                                num_threads=20) # "
   ]
  },
  {
   "cell_type": "code",
   "execution_count": 60,
   "id": "afcd96c3",
   "metadata": {},
   "outputs": [
    {
     "data": {
      "application/vnd.jupyter.widget-view+json": {
       "model_id": "c3a8796d293544a6b956cea5f2f9a6d4",
       "version_major": 2,
       "version_minor": 0
      },
      "text/plain": [
       "  0%|          | 0/15 [00:00<?, ?it/s]"
      ]
     },
     "metadata": {},
     "output_type": "display_data"
    }
   ],
   "source": [
    "model.fit(csr_matrix(user_item_matrix_top).T.tocsr(),  # На вход item-user matrix\n",
    "          show_progress=True)\n",
    "\n",
    "result['als_bm25_top_v2'] = result['user_id'].apply(lambda x: get_recommendations_top(x, sparse_user_item_top, model=model, N=5))"
   ]
  },
  {
   "cell_type": "code",
   "execution_count": 64,
   "id": "5b28bfd6",
   "metadata": {},
   "outputs": [
    {
     "data": {
      "text/plain": [
       "0.22189854344550206"
      ]
     },
     "execution_count": 64,
     "metadata": {},
     "output_type": "execute_result"
    }
   ],
   "source": [
    "result.apply(lambda row: precision_at_k(row['als_bm25_top_v2'], row['actual']), axis=1).mean()"
   ]
  },
  {
   "cell_type": "code",
   "execution_count": 65,
   "id": "4840f252",
   "metadata": {},
   "outputs": [
    {
     "data": {
      "text/plain": [
       "29.47"
      ]
     },
     "execution_count": 65,
     "metadata": {},
     "output_type": "execute_result"
    }
   ],
   "source": [
    "round((1 - 0.1565/0.2219) * 100, 2)"
   ]
  },
  {
   "cell_type": "code",
   "execution_count": 66,
   "id": "de63f336",
   "metadata": {},
   "outputs": [],
   "source": [
    "model = AlternatingLeastSquares(factors=128, \n",
    "                                regularization=0.01,\n",
    "                                iterations=25, \n",
    "                                calculate_training_loss=True, \n",
    "                                num_threads=20) # "
   ]
  },
  {
   "cell_type": "code",
   "execution_count": 67,
   "id": "c46bfee5",
   "metadata": {},
   "outputs": [
    {
     "data": {
      "application/vnd.jupyter.widget-view+json": {
       "model_id": "891cadf21c8244edad5ab270eef58129",
       "version_major": 2,
       "version_minor": 0
      },
      "text/plain": [
       "  0%|          | 0/25 [00:00<?, ?it/s]"
      ]
     },
     "metadata": {},
     "output_type": "display_data"
    }
   ],
   "source": [
    "model.fit(csr_matrix(user_item_matrix_top).T.tocsr(),  # На вход item-user matrix\n",
    "          show_progress=True)\n",
    "\n",
    "result['als_bm25_top_v3'] = result['user_id'].apply(lambda x: get_recommendations_top(x, sparse_user_item_top, model=model, N=5))"
   ]
  },
  {
   "cell_type": "code",
   "execution_count": 68,
   "id": "95886bc9",
   "metadata": {},
   "outputs": [
    {
     "data": {
      "text/plain": [
       "0.2213962832747335"
      ]
     },
     "execution_count": 68,
     "metadata": {},
     "output_type": "execute_result"
    }
   ],
   "source": [
    "result.apply(lambda row: precision_at_k(row['als_bm25_top_v3'], row['actual']), axis=1).mean()"
   ]
  },
  {
   "cell_type": "code",
   "execution_count": 69,
   "id": "8dd877aa",
   "metadata": {},
   "outputs": [
    {
     "data": {
      "text/plain": [
       "29.31"
      ]
     },
     "execution_count": 69,
     "metadata": {},
     "output_type": "execute_result"
    }
   ],
   "source": [
    "round((1 - 0.1565/0.2214) * 100, 2)"
   ]
  },
  {
   "cell_type": "code",
   "execution_count": 70,
   "id": "2235375f",
   "metadata": {},
   "outputs": [],
   "source": [
    "model = AlternatingLeastSquares(factors=128, \n",
    "                                regularization=0.08,\n",
    "                                iterations=10, \n",
    "                                calculate_training_loss=True, \n",
    "                                num_threads=20) # "
   ]
  },
  {
   "cell_type": "code",
   "execution_count": 71,
   "id": "d50fe069",
   "metadata": {},
   "outputs": [
    {
     "data": {
      "application/vnd.jupyter.widget-view+json": {
       "model_id": "1a549c9093b340e1b1a3f7677afb4653",
       "version_major": 2,
       "version_minor": 0
      },
      "text/plain": [
       "  0%|          | 0/10 [00:00<?, ?it/s]"
      ]
     },
     "metadata": {},
     "output_type": "display_data"
    }
   ],
   "source": [
    "model.fit(csr_matrix(user_item_matrix_top).T.tocsr(),  # На вход item-user matrix\n",
    "          show_progress=True)\n",
    "\n",
    "result['als_bm25_top_v4'] = result['user_id'].apply(lambda x: get_recommendations_top(x, sparse_user_item_top, model=model, N=5))"
   ]
  },
  {
   "cell_type": "code",
   "execution_count": 72,
   "id": "1f81df6a",
   "metadata": {},
   "outputs": [
    {
     "data": {
      "text/plain": [
       "0.22179809141134815"
      ]
     },
     "execution_count": 72,
     "metadata": {},
     "output_type": "execute_result"
    }
   ],
   "source": [
    "result.apply(lambda row: precision_at_k(row['als_bm25_top_v4'], row['actual']), axis=1).mean()"
   ]
  },
  {
   "cell_type": "code",
   "execution_count": 73,
   "id": "19e5868b",
   "metadata": {},
   "outputs": [
    {
     "data": {
      "text/plain": [
       "29.44"
      ]
     },
     "execution_count": 73,
     "metadata": {},
     "output_type": "execute_result"
    }
   ],
   "source": [
    "round((1 - 0.1565/0.2218) * 100, 2)"
   ]
  },
  {
   "cell_type": "markdown",
   "id": "cdfb64d1",
   "metadata": {},
   "source": [
    "---\n",
    "#### Лучшие метрики (precision_at_k) получили для модели ALS с предварительной обработкой данных методом \"BM25 взвешивание\" для данных из топ-5000 популярных товаров, с относительным приростом в метрике в 31%."
   ]
  },
  {
   "cell_type": "markdown",
   "id": "18cc8c3c",
   "metadata": {},
   "source": [
    "---\n",
    "- А точно нужно сортировать по вероятности? ---\n",
    "- Какую метрику использовать? - ту, которая наиболее отвечает потребности бизнеса на данный момент.\n",
    "- Сколько раз в неделю отпрпавляем рассылку? - Зависит от опыта рекламных кампаний и временных откликов на них.\n",
    "- В какое время отправляем рассылку? - За несколько дней до проведения акций, праздников, выходных.\n",
    "- Будем отправлять одному юзеру много раз наши рекоммендации. Как добиться того, чтобы они хоть немного отличались? ---\n",
    "- Нужно ли, чтобы в одной рассылке были *разные* товары? Как определить, что товары *разные*? Как добиться того, чтобы они были разными?\n",
    "- И многое другое:)"
   ]
  },
  {
   "cell_type": "code",
   "execution_count": null,
   "id": "930730d1",
   "metadata": {},
   "outputs": [],
   "source": []
  }
 ],
 "metadata": {
  "kernelspec": {
   "display_name": "Python 3 (ipykernel)",
   "language": "python",
   "name": "python3"
  },
  "language_info": {
   "codemirror_mode": {
    "name": "ipython",
    "version": 3
   },
   "file_extension": ".py",
   "mimetype": "text/x-python",
   "name": "python",
   "nbconvert_exporter": "python",
   "pygments_lexer": "ipython3",
   "version": "3.8.8"
  }
 },
 "nbformat": 4,
 "nbformat_minor": 5
}
