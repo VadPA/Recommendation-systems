{
 "cells": [
  {
   "cell_type": "code",
   "execution_count": 1,
   "metadata": {
    "collapsed": true,
    "pycharm": {
     "name": "#%%\n"
    }
   },
   "outputs": [
    {
     "name": "stderr",
     "output_type": "stream",
     "text": [
      "J:\\Vadim\\lib\\site-packages\\lightfm\\_lightfm_fast.py:9: UserWarning: LightFM was compiled without OpenMP support. Only a single thread will be used.\n",
      "  warnings.warn(\n"
     ]
    }
   ],
   "source": [
    "import pandas as pd\n",
    "import numpy as np\n",
    "import matplotlib.pyplot as plt\n",
    "%matplotlib inline\n",
    "\n",
    "# Для работы с матрицами\n",
    "from scipy.sparse import csr_matrix, coo_matrix\n",
    "\n",
    "# Матричная факторизация\n",
    "from implicit.als import AlternatingLeastSquares\n",
    "from implicit.nearest_neighbours import bm25_weight, tfidf_weight\n",
    "\n",
    "from lightfm import LightFM\n",
    "\n",
    "from recommenders import MainRecommender"
   ]
  },
  {
   "cell_type": "code",
   "execution_count": 2,
   "outputs": [],
   "source": [
    "from lightfm.evaluation import precision_at_k, recall_at_k\n",
    "\n",
    "from metrics import precision_at_k as custom_precision, recall_at_k\n",
    "from utils import prefilter_items"
   ],
   "metadata": {
    "collapsed": false,
    "pycharm": {
     "name": "#%%\n"
    }
   }
  },
  {
   "cell_type": "code",
   "execution_count": 3,
   "outputs": [
    {
     "data": {
      "text/plain": "   user_id    basket_id  day  item_id  quantity  sales_value  store_id  \\\n0     2375  26984851472    1  1004906         1         1.39       364   \n1     2375  26984851472    1  1033142         1         0.82       364   \n\n   retail_disc  trans_time  week_no  coupon_disc  coupon_match_disc  \n0         -0.6        1631        1          0.0                0.0  \n1          0.0        1631        1          0.0                0.0  ",
      "text/html": "<div>\n<style scoped>\n    .dataframe tbody tr th:only-of-type {\n        vertical-align: middle;\n    }\n\n    .dataframe tbody tr th {\n        vertical-align: top;\n    }\n\n    .dataframe thead th {\n        text-align: right;\n    }\n</style>\n<table border=\"1\" class=\"dataframe\">\n  <thead>\n    <tr style=\"text-align: right;\">\n      <th></th>\n      <th>user_id</th>\n      <th>basket_id</th>\n      <th>day</th>\n      <th>item_id</th>\n      <th>quantity</th>\n      <th>sales_value</th>\n      <th>store_id</th>\n      <th>retail_disc</th>\n      <th>trans_time</th>\n      <th>week_no</th>\n      <th>coupon_disc</th>\n      <th>coupon_match_disc</th>\n    </tr>\n  </thead>\n  <tbody>\n    <tr>\n      <th>0</th>\n      <td>2375</td>\n      <td>26984851472</td>\n      <td>1</td>\n      <td>1004906</td>\n      <td>1</td>\n      <td>1.39</td>\n      <td>364</td>\n      <td>-0.6</td>\n      <td>1631</td>\n      <td>1</td>\n      <td>0.0</td>\n      <td>0.0</td>\n    </tr>\n    <tr>\n      <th>1</th>\n      <td>2375</td>\n      <td>26984851472</td>\n      <td>1</td>\n      <td>1033142</td>\n      <td>1</td>\n      <td>0.82</td>\n      <td>364</td>\n      <td>0.0</td>\n      <td>1631</td>\n      <td>1</td>\n      <td>0.0</td>\n      <td>0.0</td>\n    </tr>\n  </tbody>\n</table>\n</div>"
     },
     "execution_count": 3,
     "metadata": {},
     "output_type": "execute_result"
    }
   ],
   "source": [
    "data = pd.read_csv('C:/Users/Вадим/Desktop/GeekBrains/Recommendation-systems/Lectures/Lecture_2/webinar_2/webinar_2'\n",
    "                   '/data/retail_train.csv')\n",
    "\n",
    "item_features = pd.read_csv('C:/Users/Вадим/Desktop/GeekBrains/Recommendation-systems/Lectures/Lecture_2/webinar_2/webinar_2'\n",
    "                            '/data/product.csv')\n",
    "user_features = pd.read_csv('C:/Users/Вадим/Desktop/GeekBrains/Recommendation-systems/Lectures/Lecture_2/webinar_2/webinar_2'\n",
    "                            '/data/hh_demographic.csv')\n",
    "\n",
    "# column processing\n",
    "item_features.columns = [col.lower() for col in item_features.columns]\n",
    "user_features.columns = [col.lower() for col in user_features.columns]\n",
    "\n",
    "item_features.rename(columns={'product_id': 'item_id'}, inplace=True)\n",
    "user_features.rename(columns={'household_key': 'user_id'}, inplace=True)\n",
    "\n",
    "# train test split\n",
    "test_size_weeks = 3\n",
    "\n",
    "data_train = data[data['week_no'] < data['week_no'].max() - test_size_weeks]\n",
    "data_test = data[data['week_no'] >= data['week_no'].max() - test_size_weeks]\n",
    "\n",
    "data_train.head(2)"
   ],
   "metadata": {
    "collapsed": false,
    "pycharm": {
     "name": "#%%\n"
    }
   }
  },
  {
   "cell_type": "code",
   "execution_count": 4,
   "outputs": [
    {
     "data": {
      "text/plain": "   user_id                                             actual\n0        1  [821867, 834484, 856942, 865456, 889248, 90795...\n1        3  [835476, 851057, 872021, 878302, 879948, 90963...",
      "text/html": "<div>\n<style scoped>\n    .dataframe tbody tr th:only-of-type {\n        vertical-align: middle;\n    }\n\n    .dataframe tbody tr th {\n        vertical-align: top;\n    }\n\n    .dataframe thead th {\n        text-align: right;\n    }\n</style>\n<table border=\"1\" class=\"dataframe\">\n  <thead>\n    <tr style=\"text-align: right;\">\n      <th></th>\n      <th>user_id</th>\n      <th>actual</th>\n    </tr>\n  </thead>\n  <tbody>\n    <tr>\n      <th>0</th>\n      <td>1</td>\n      <td>[821867, 834484, 856942, 865456, 889248, 90795...</td>\n    </tr>\n    <tr>\n      <th>1</th>\n      <td>3</td>\n      <td>[835476, 851057, 872021, 878302, 879948, 90963...</td>\n    </tr>\n  </tbody>\n</table>\n</div>"
     },
     "execution_count": 4,
     "metadata": {},
     "output_type": "execute_result"
    }
   ],
   "source": [
    "result = data_test.groupby('user_id')['item_id'].unique().reset_index()\n",
    "result.columns=['user_id', 'actual']\n",
    "result.head(2)"
   ],
   "metadata": {
    "collapsed": false,
    "pycharm": {
     "name": "#%%\n"
    }
   }
  },
  {
   "cell_type": "code",
   "execution_count": 5,
   "outputs": [
    {
     "data": {
      "text/plain": "   item_id  manufacturer    department     brand            commodity_desc  \\\n0    25671             2       GROCERY  National                  FRZN ICE   \n1    26081             2  MISC. TRANS.  National  NO COMMODITY DESCRIPTION   \n\n            sub_commodity_desc curr_size_of_product  \n0          ICE - CRUSHED/CUBED                22 LB  \n1  NO SUBCOMMODITY DESCRIPTION                       ",
      "text/html": "<div>\n<style scoped>\n    .dataframe tbody tr th:only-of-type {\n        vertical-align: middle;\n    }\n\n    .dataframe tbody tr th {\n        vertical-align: top;\n    }\n\n    .dataframe thead th {\n        text-align: right;\n    }\n</style>\n<table border=\"1\" class=\"dataframe\">\n  <thead>\n    <tr style=\"text-align: right;\">\n      <th></th>\n      <th>item_id</th>\n      <th>manufacturer</th>\n      <th>department</th>\n      <th>brand</th>\n      <th>commodity_desc</th>\n      <th>sub_commodity_desc</th>\n      <th>curr_size_of_product</th>\n    </tr>\n  </thead>\n  <tbody>\n    <tr>\n      <th>0</th>\n      <td>25671</td>\n      <td>2</td>\n      <td>GROCERY</td>\n      <td>National</td>\n      <td>FRZN ICE</td>\n      <td>ICE - CRUSHED/CUBED</td>\n      <td>22 LB</td>\n    </tr>\n    <tr>\n      <th>1</th>\n      <td>26081</td>\n      <td>2</td>\n      <td>MISC. TRANS.</td>\n      <td>National</td>\n      <td>NO COMMODITY DESCRIPTION</td>\n      <td>NO SUBCOMMODITY DESCRIPTION</td>\n      <td></td>\n    </tr>\n  </tbody>\n</table>\n</div>"
     },
     "execution_count": 5,
     "metadata": {},
     "output_type": "execute_result"
    }
   ],
   "source": [
    "item_features.head(2)"
   ],
   "metadata": {
    "collapsed": false,
    "pycharm": {
     "name": "#%%\n"
    }
   }
  },
  {
   "cell_type": "code",
   "execution_count": 6,
   "outputs": [
    {
     "data": {
      "text/plain": "  age_desc marital_status_code income_desc homeowner_desc      hh_comp_desc  \\\n0      65+                   A      35-49K      Homeowner  2 Adults No Kids   \n1    45-54                   A      50-74K      Homeowner  2 Adults No Kids   \n\n  household_size_desc kid_category_desc  user_id  \n0                   2      None/Unknown        1  \n1                   2      None/Unknown        7  ",
      "text/html": "<div>\n<style scoped>\n    .dataframe tbody tr th:only-of-type {\n        vertical-align: middle;\n    }\n\n    .dataframe tbody tr th {\n        vertical-align: top;\n    }\n\n    .dataframe thead th {\n        text-align: right;\n    }\n</style>\n<table border=\"1\" class=\"dataframe\">\n  <thead>\n    <tr style=\"text-align: right;\">\n      <th></th>\n      <th>age_desc</th>\n      <th>marital_status_code</th>\n      <th>income_desc</th>\n      <th>homeowner_desc</th>\n      <th>hh_comp_desc</th>\n      <th>household_size_desc</th>\n      <th>kid_category_desc</th>\n      <th>user_id</th>\n    </tr>\n  </thead>\n  <tbody>\n    <tr>\n      <th>0</th>\n      <td>65+</td>\n      <td>A</td>\n      <td>35-49K</td>\n      <td>Homeowner</td>\n      <td>2 Adults No Kids</td>\n      <td>2</td>\n      <td>None/Unknown</td>\n      <td>1</td>\n    </tr>\n    <tr>\n      <th>1</th>\n      <td>45-54</td>\n      <td>A</td>\n      <td>50-74K</td>\n      <td>Homeowner</td>\n      <td>2 Adults No Kids</td>\n      <td>2</td>\n      <td>None/Unknown</td>\n      <td>7</td>\n    </tr>\n  </tbody>\n</table>\n</div>"
     },
     "execution_count": 6,
     "metadata": {},
     "output_type": "execute_result"
    }
   ],
   "source": [
    "user_features.head(2)"
   ],
   "metadata": {
    "collapsed": false,
    "pycharm": {
     "name": "#%%\n"
    }
   }
  },
  {
   "cell_type": "code",
   "execution_count": 7,
   "outputs": [
    {
     "data": {
      "text/plain": "array(['65+', '45-54', '25-34', '35-44', '19-24', '55-64'], dtype=object)"
     },
     "execution_count": 7,
     "metadata": {},
     "output_type": "execute_result"
    }
   ],
   "source": [
    "user_features['age_desc'].unique()"
   ],
   "metadata": {
    "collapsed": false,
    "pycharm": {
     "name": "#%%\n"
    }
   }
  },
  {
   "cell_type": "code",
   "execution_count": 8,
   "outputs": [
    {
     "data": {
      "text/plain": "array(['A', 'U', 'B'], dtype=object)"
     },
     "execution_count": 8,
     "metadata": {},
     "output_type": "execute_result"
    }
   ],
   "source": [
    "user_features['marital_status_code'].unique()"
   ],
   "metadata": {
    "collapsed": false,
    "pycharm": {
     "name": "#%%\n"
    }
   }
  },
  {
   "cell_type": "code",
   "execution_count": 9,
   "outputs": [
    {
     "data": {
      "text/plain": "array(['2', '3', '4', '1', '5+'], dtype=object)"
     },
     "execution_count": 9,
     "metadata": {},
     "output_type": "execute_result"
    }
   ],
   "source": [
    "user_features['household_size_desc'].unique()"
   ],
   "metadata": {
    "collapsed": false,
    "pycharm": {
     "name": "#%%\n"
    }
   }
  },
  {
   "cell_type": "markdown",
   "source": [
    "## 1. Filter items"
   ],
   "metadata": {
    "collapsed": false,
    "pycharm": {
     "name": "#%% md\n"
    }
   }
  },
  {
   "cell_type": "code",
   "execution_count": 10,
   "outputs": [],
   "source": [
    "n_items_before = data_train['item_id'].nunique()"
   ],
   "metadata": {
    "collapsed": false,
    "pycharm": {
     "name": "#%%\n"
    }
   }
  },
  {
   "cell_type": "code",
   "execution_count": 11,
   "outputs": [
    {
     "name": "stderr",
     "output_type": "stream",
     "text": [
      "C:\\Users\\Вадим\\Documents\\My Notebooks\\Recommenders System\\utils.py:64: SettingWithCopyWarning: \n",
      "A value is trying to be set on a copy of a slice from a DataFrame.\n",
      "Try using .loc[row_indexer,col_indexer] = value instead\n",
      "\n",
      "See the caveats in the documentation: https://pandas.pydata.org/pandas-docs/stable/user_guide/indexing.html#returning-a-view-versus-a-copy\n",
      "  data['price'] = data['sales_value'] / data['quantity']\n"
     ]
    }
   ],
   "source": [
    "data_train_filtered = prefilter_items(data_train, take_n_popular=5000, item_features=item_features)"
   ],
   "metadata": {
    "collapsed": false,
    "pycharm": {
     "name": "#%%\n"
    }
   }
  },
  {
   "cell_type": "code",
   "execution_count": 12,
   "outputs": [
    {
     "name": "stdout",
     "output_type": "stream",
     "text": [
      "Decreased # items from 86865 to 5001\n"
     ]
    }
   ],
   "source": [
    "n_items_after = data_train_filtered['item_id'].nunique()\n",
    "print('Decreased # items from {} to {}'.format(n_items_before, n_items_after))"
   ],
   "metadata": {
    "collapsed": false,
    "pycharm": {
     "name": "#%%\n"
    }
   }
  },
  {
   "cell_type": "markdown",
   "source": [
    "# 2. Prepare data set"
   ],
   "metadata": {
    "collapsed": false,
    "pycharm": {
     "name": "#%% md\n"
    }
   }
  },
  {
   "cell_type": "markdown",
   "source": [
    "## 2.1 Prepare csr train matrix"
   ],
   "metadata": {
    "collapsed": false,
    "pycharm": {
     "name": "#%% md\n"
    }
   }
  },
  {
   "cell_type": "code",
   "execution_count": 13,
   "outputs": [
    {
     "data": {
      "text/plain": "item_id  117847    818981    819255    819308    819400    819487    819590    \\\nuser_id                                                                         \n1             0.0       0.0       0.0       0.0       0.0       0.0       0.0   \n2             0.0       0.0       0.0       0.0       0.0       0.0       0.0   \n\nitem_id  819594    819840    819845    ...  15926775  15926844  15926886  \\\nuser_id                                ...                                 \n1             0.0       0.0       0.0  ...       0.0       1.0       0.0   \n2             0.0       0.0       0.0  ...       0.0       0.0       0.0   \n\nitem_id  15972074  15972298  15972565  15972790  16100266  16729299  16729415  \nuser_id                                                                        \n1             0.0       0.0       0.0       0.0       0.0       0.0       0.0  \n2             0.0       0.0       0.0       0.0       0.0       0.0       0.0  \n\n[2 rows x 5001 columns]",
      "text/html": "<div>\n<style scoped>\n    .dataframe tbody tr th:only-of-type {\n        vertical-align: middle;\n    }\n\n    .dataframe tbody tr th {\n        vertical-align: top;\n    }\n\n    .dataframe thead th {\n        text-align: right;\n    }\n</style>\n<table border=\"1\" class=\"dataframe\">\n  <thead>\n    <tr style=\"text-align: right;\">\n      <th>item_id</th>\n      <th>117847</th>\n      <th>818981</th>\n      <th>819255</th>\n      <th>819308</th>\n      <th>819400</th>\n      <th>819487</th>\n      <th>819590</th>\n      <th>819594</th>\n      <th>819840</th>\n      <th>819845</th>\n      <th>...</th>\n      <th>15926775</th>\n      <th>15926844</th>\n      <th>15926886</th>\n      <th>15972074</th>\n      <th>15972298</th>\n      <th>15972565</th>\n      <th>15972790</th>\n      <th>16100266</th>\n      <th>16729299</th>\n      <th>16729415</th>\n    </tr>\n    <tr>\n      <th>user_id</th>\n      <th></th>\n      <th></th>\n      <th></th>\n      <th></th>\n      <th></th>\n      <th></th>\n      <th></th>\n      <th></th>\n      <th></th>\n      <th></th>\n      <th></th>\n      <th></th>\n      <th></th>\n      <th></th>\n      <th></th>\n      <th></th>\n      <th></th>\n      <th></th>\n      <th></th>\n      <th></th>\n      <th></th>\n    </tr>\n  </thead>\n  <tbody>\n    <tr>\n      <th>1</th>\n      <td>0.0</td>\n      <td>0.0</td>\n      <td>0.0</td>\n      <td>0.0</td>\n      <td>0.0</td>\n      <td>0.0</td>\n      <td>0.0</td>\n      <td>0.0</td>\n      <td>0.0</td>\n      <td>0.0</td>\n      <td>...</td>\n      <td>0.0</td>\n      <td>1.0</td>\n      <td>0.0</td>\n      <td>0.0</td>\n      <td>0.0</td>\n      <td>0.0</td>\n      <td>0.0</td>\n      <td>0.0</td>\n      <td>0.0</td>\n      <td>0.0</td>\n    </tr>\n    <tr>\n      <th>2</th>\n      <td>0.0</td>\n      <td>0.0</td>\n      <td>0.0</td>\n      <td>0.0</td>\n      <td>0.0</td>\n      <td>0.0</td>\n      <td>0.0</td>\n      <td>0.0</td>\n      <td>0.0</td>\n      <td>0.0</td>\n      <td>...</td>\n      <td>0.0</td>\n      <td>0.0</td>\n      <td>0.0</td>\n      <td>0.0</td>\n      <td>0.0</td>\n      <td>0.0</td>\n      <td>0.0</td>\n      <td>0.0</td>\n      <td>0.0</td>\n      <td>0.0</td>\n    </tr>\n  </tbody>\n</table>\n<p>2 rows × 5001 columns</p>\n</div>"
     },
     "execution_count": 13,
     "metadata": {},
     "output_type": "execute_result"
    }
   ],
   "source": [
    "user_item_matrix = pd.pivot_table(data_train_filtered,\n",
    "                                  index='user_id', columns='item_id',\n",
    "                                  values='quantity', # Можно пробоват ьдругие варианты\n",
    "                                  aggfunc='count',\n",
    "                                  fill_value=0\n",
    "                                  )\n",
    "\n",
    "user_item_matrix = user_item_matrix.astype(float) # необходимый тип матрицы для implicit\n",
    "\n",
    "# переведем в формат sparse matrix\n",
    "sparse_user_item = csr_matrix(user_item_matrix).tocsr()\n",
    "\n",
    "user_item_matrix.head(2)"
   ],
   "metadata": {
    "collapsed": false,
    "pycharm": {
     "name": "#%%\n"
    }
   }
  },
  {
   "cell_type": "markdown",
   "source": [
    "## 2.2 Prepare CSR test matrix"
   ],
   "metadata": {
    "collapsed": false,
    "pycharm": {
     "name": "#%% md\n"
    }
   }
  },
  {
   "cell_type": "code",
   "execution_count": 14,
   "outputs": [],
   "source": [
    "data_test = data_test[data_test['item_id'].isin(data_train['item_id'].unique())]\n",
    "\n",
    "test_user_item_matrix = pd.pivot_table(data_test,\n",
    "                                       index='user_id', columns='item_id',\n",
    "                                       values='quantity', # Можно пробоват ьдругие варианты\n",
    "                                       aggfunc='count',\n",
    "                                       fill_value=0\n",
    "                                       )\n",
    "\n",
    "test_user_item_matrix = test_user_item_matrix.astype(float) # необходимый тип матрицы для implicit"
   ],
   "metadata": {
    "collapsed": false,
    "pycharm": {
     "name": "#%%\n"
    }
   }
  },
  {
   "cell_type": "code",
   "execution_count": 15,
   "outputs": [],
   "source": [
    "userids = user_item_matrix.index.values\n",
    "itemids = user_item_matrix.columns.values\n",
    "\n",
    "matrix_userids = np.arange(len(userids))\n",
    "matrix_itemids = np.arange(len(itemids))\n",
    "\n",
    "id_to_itemid = dict(zip(matrix_itemids, itemids))\n",
    "id_to_userid = dict(zip(matrix_userids, userids))\n",
    "\n",
    "itemid_to_id = dict(zip(itemids, matrix_itemids))\n",
    "userid_to_id = dict(zip(userids, matrix_userids))"
   ],
   "metadata": {
    "collapsed": false,
    "pycharm": {
     "name": "#%%\n"
    }
   }
  },
  {
   "cell_type": "markdown",
   "source": [
    "## 3. Prepare user and item features"
   ],
   "metadata": {
    "collapsed": false,
    "pycharm": {
     "name": "#%% md\n"
    }
   }
  },
  {
   "cell_type": "code",
   "execution_count": 16,
   "outputs": [
    {
     "data": {
      "text/plain": "        age_desc marital_status_code income_desc homeowner_desc  \\\nuser_id                                                           \n1            65+                   A      35-49K      Homeowner   \n2            NaN                 NaN         NaN            NaN   \n\n             hh_comp_desc household_size_desc kid_category_desc  \nuser_id                                                          \n1        2 Adults No Kids                   2      None/Unknown  \n2                     NaN                 NaN               NaN  ",
      "text/html": "<div>\n<style scoped>\n    .dataframe tbody tr th:only-of-type {\n        vertical-align: middle;\n    }\n\n    .dataframe tbody tr th {\n        vertical-align: top;\n    }\n\n    .dataframe thead th {\n        text-align: right;\n    }\n</style>\n<table border=\"1\" class=\"dataframe\">\n  <thead>\n    <tr style=\"text-align: right;\">\n      <th></th>\n      <th>age_desc</th>\n      <th>marital_status_code</th>\n      <th>income_desc</th>\n      <th>homeowner_desc</th>\n      <th>hh_comp_desc</th>\n      <th>household_size_desc</th>\n      <th>kid_category_desc</th>\n    </tr>\n    <tr>\n      <th>user_id</th>\n      <th></th>\n      <th></th>\n      <th></th>\n      <th></th>\n      <th></th>\n      <th></th>\n      <th></th>\n    </tr>\n  </thead>\n  <tbody>\n    <tr>\n      <th>1</th>\n      <td>65+</td>\n      <td>A</td>\n      <td>35-49K</td>\n      <td>Homeowner</td>\n      <td>2 Adults No Kids</td>\n      <td>2</td>\n      <td>None/Unknown</td>\n    </tr>\n    <tr>\n      <th>2</th>\n      <td>NaN</td>\n      <td>NaN</td>\n      <td>NaN</td>\n      <td>NaN</td>\n      <td>NaN</td>\n      <td>NaN</td>\n      <td>NaN</td>\n    </tr>\n  </tbody>\n</table>\n</div>"
     },
     "execution_count": 16,
     "metadata": {},
     "output_type": "execute_result"
    }
   ],
   "source": [
    "user_feat = pd.DataFrame(user_item_matrix.index)\n",
    "user_feat = user_feat.merge(user_features, on='user_id', how='left')\n",
    "user_feat.set_index('user_id', inplace=True)\n",
    "user_feat.head(2)"
   ],
   "metadata": {
    "collapsed": false,
    "pycharm": {
     "name": "#%%\n"
    }
   }
  },
  {
   "cell_type": "code",
   "execution_count": 17,
   "outputs": [
    {
     "data": {
      "text/plain": "(2497, 7)"
     },
     "execution_count": 17,
     "metadata": {},
     "output_type": "execute_result"
    }
   ],
   "source": [
    "user_feat.shape"
   ],
   "metadata": {
    "collapsed": false,
    "pycharm": {
     "name": "#%%\n"
    }
   }
  },
  {
   "cell_type": "code",
   "execution_count": 18,
   "outputs": [
    {
     "data": {
      "text/plain": "         manufacturer department     brand commodity_desc sub_commodity_desc  \\\nitem_id                                                                        \n117847          450.0  NUTRITION  National   REFRIGERATED      SOY/RICE MILK   \n818981          194.0    GROCERY  National    COLD CEREAL  ALL FAMILY CEREAL   \n\n        curr_size_of_product  \nitem_id                       \n117847                 64 OZ  \n818981               10.4 OZ  ",
      "text/html": "<div>\n<style scoped>\n    .dataframe tbody tr th:only-of-type {\n        vertical-align: middle;\n    }\n\n    .dataframe tbody tr th {\n        vertical-align: top;\n    }\n\n    .dataframe thead th {\n        text-align: right;\n    }\n</style>\n<table border=\"1\" class=\"dataframe\">\n  <thead>\n    <tr style=\"text-align: right;\">\n      <th></th>\n      <th>manufacturer</th>\n      <th>department</th>\n      <th>brand</th>\n      <th>commodity_desc</th>\n      <th>sub_commodity_desc</th>\n      <th>curr_size_of_product</th>\n    </tr>\n    <tr>\n      <th>item_id</th>\n      <th></th>\n      <th></th>\n      <th></th>\n      <th></th>\n      <th></th>\n      <th></th>\n    </tr>\n  </thead>\n  <tbody>\n    <tr>\n      <th>117847</th>\n      <td>450.0</td>\n      <td>NUTRITION</td>\n      <td>National</td>\n      <td>REFRIGERATED</td>\n      <td>SOY/RICE MILK</td>\n      <td>64 OZ</td>\n    </tr>\n    <tr>\n      <th>818981</th>\n      <td>194.0</td>\n      <td>GROCERY</td>\n      <td>National</td>\n      <td>COLD CEREAL</td>\n      <td>ALL FAMILY CEREAL</td>\n      <td>10.4 OZ</td>\n    </tr>\n  </tbody>\n</table>\n</div>"
     },
     "execution_count": 18,
     "metadata": {},
     "output_type": "execute_result"
    }
   ],
   "source": [
    "item_feat = pd.DataFrame(user_item_matrix.columns)\n",
    "item_feat = item_feat.merge(item_features, on='item_id', how='left')\n",
    "item_feat.set_index('item_id', inplace=True)\n",
    "item_feat.head(2)"
   ],
   "metadata": {
    "collapsed": false,
    "pycharm": {
     "name": "#%%\n"
    }
   }
  },
  {
   "cell_type": "code",
   "execution_count": 19,
   "outputs": [
    {
     "data": {
      "text/plain": "(5001, 6)"
     },
     "execution_count": 19,
     "metadata": {},
     "output_type": "execute_result"
    }
   ],
   "source": [
    "item_feat.shape"
   ],
   "metadata": {
    "collapsed": false,
    "pycharm": {
     "name": "#%%\n"
    }
   }
  },
  {
   "cell_type": "markdown",
   "source": [
    "## Encoding features"
   ],
   "metadata": {
    "collapsed": false,
    "pycharm": {
     "name": "#%% md\n"
    }
   }
  },
  {
   "cell_type": "code",
   "execution_count": 20,
   "outputs": [],
   "source": [
    "user_feat_lightfm = pd.get_dummies(user_feat, columns=user_feat.columns.tolist())\n",
    "item_feat_lightfm = pd.get_dummies(item_feat, columns=item_feat.columns.tolist())"
   ],
   "metadata": {
    "collapsed": false,
    "pycharm": {
     "name": "#%%\n"
    }
   }
  },
  {
   "cell_type": "code",
   "execution_count": 21,
   "outputs": [
    {
     "data": {
      "text/plain": "         age_desc_19-24  age_desc_25-34  age_desc_35-44  age_desc_45-54  \\\nuser_id                                                                   \n1                     0               0               0               0   \n2                     0               0               0               0   \n\n         age_desc_55-64  age_desc_65+  marital_status_code_A  \\\nuser_id                                                        \n1                     0             1                      1   \n2                     0             0                      0   \n\n         marital_status_code_B  marital_status_code_U  income_desc_100-124K  \\\nuser_id                                                                       \n1                            0                      0                     0   \n2                            0                      0                     0   \n\n         ...  hh_comp_desc_Unknown  household_size_desc_1  \\\nuser_id  ...                                                \n1        ...                     0                      0   \n2        ...                     0                      0   \n\n         household_size_desc_2  household_size_desc_3  household_size_desc_4  \\\nuser_id                                                                        \n1                            1                      0                      0   \n2                            0                      0                      0   \n\n         household_size_desc_5+  kid_category_desc_1  kid_category_desc_2  \\\nuser_id                                                                     \n1                             0                    0                    0   \n2                             0                    0                    0   \n\n         kid_category_desc_3+  kid_category_desc_None/Unknown  \nuser_id                                                        \n1                           0                               1  \n2                           0                               0  \n\n[2 rows x 41 columns]",
      "text/html": "<div>\n<style scoped>\n    .dataframe tbody tr th:only-of-type {\n        vertical-align: middle;\n    }\n\n    .dataframe tbody tr th {\n        vertical-align: top;\n    }\n\n    .dataframe thead th {\n        text-align: right;\n    }\n</style>\n<table border=\"1\" class=\"dataframe\">\n  <thead>\n    <tr style=\"text-align: right;\">\n      <th></th>\n      <th>age_desc_19-24</th>\n      <th>age_desc_25-34</th>\n      <th>age_desc_35-44</th>\n      <th>age_desc_45-54</th>\n      <th>age_desc_55-64</th>\n      <th>age_desc_65+</th>\n      <th>marital_status_code_A</th>\n      <th>marital_status_code_B</th>\n      <th>marital_status_code_U</th>\n      <th>income_desc_100-124K</th>\n      <th>...</th>\n      <th>hh_comp_desc_Unknown</th>\n      <th>household_size_desc_1</th>\n      <th>household_size_desc_2</th>\n      <th>household_size_desc_3</th>\n      <th>household_size_desc_4</th>\n      <th>household_size_desc_5+</th>\n      <th>kid_category_desc_1</th>\n      <th>kid_category_desc_2</th>\n      <th>kid_category_desc_3+</th>\n      <th>kid_category_desc_None/Unknown</th>\n    </tr>\n    <tr>\n      <th>user_id</th>\n      <th></th>\n      <th></th>\n      <th></th>\n      <th></th>\n      <th></th>\n      <th></th>\n      <th></th>\n      <th></th>\n      <th></th>\n      <th></th>\n      <th></th>\n      <th></th>\n      <th></th>\n      <th></th>\n      <th></th>\n      <th></th>\n      <th></th>\n      <th></th>\n      <th></th>\n      <th></th>\n      <th></th>\n    </tr>\n  </thead>\n  <tbody>\n    <tr>\n      <th>1</th>\n      <td>0</td>\n      <td>0</td>\n      <td>0</td>\n      <td>0</td>\n      <td>0</td>\n      <td>1</td>\n      <td>1</td>\n      <td>0</td>\n      <td>0</td>\n      <td>0</td>\n      <td>...</td>\n      <td>0</td>\n      <td>0</td>\n      <td>1</td>\n      <td>0</td>\n      <td>0</td>\n      <td>0</td>\n      <td>0</td>\n      <td>0</td>\n      <td>0</td>\n      <td>1</td>\n    </tr>\n    <tr>\n      <th>2</th>\n      <td>0</td>\n      <td>0</td>\n      <td>0</td>\n      <td>0</td>\n      <td>0</td>\n      <td>0</td>\n      <td>0</td>\n      <td>0</td>\n      <td>0</td>\n      <td>0</td>\n      <td>...</td>\n      <td>0</td>\n      <td>0</td>\n      <td>0</td>\n      <td>0</td>\n      <td>0</td>\n      <td>0</td>\n      <td>0</td>\n      <td>0</td>\n      <td>0</td>\n      <td>0</td>\n    </tr>\n  </tbody>\n</table>\n<p>2 rows × 41 columns</p>\n</div>"
     },
     "execution_count": 21,
     "metadata": {},
     "output_type": "execute_result"
    }
   ],
   "source": [
    "user_feat_lightfm.head(2)"
   ],
   "metadata": {
    "collapsed": false,
    "pycharm": {
     "name": "#%%\n"
    }
   }
  },
  {
   "cell_type": "code",
   "execution_count": 22,
   "outputs": [
    {
     "data": {
      "text/plain": "         manufacturer_2.0  manufacturer_5.0  manufacturer_16.0  \\\nitem_id                                                          \n117847                  0                 0                  0   \n818981                  0                 0                  0   \n\n         manufacturer_20.0  manufacturer_26.0  manufacturer_33.0  \\\nitem_id                                                            \n117847                   0                  0                  0   \n818981                   0                  0                  0   \n\n         manufacturer_35.0  manufacturer_36.0  manufacturer_42.0  \\\nitem_id                                                            \n117847                   0                  0                  0   \n818981                   0                  0                  0   \n\n         manufacturer_43.0  ...  curr_size_of_product_L    16 OZ  \\\nitem_id                     ...                                    \n117847                   0  ...                                0   \n818981                   0  ...                                0   \n\n         curr_size_of_product_L  7.75 OZ  curr_size_of_product_L 13.25 OZ  \\\nitem_id                                                                     \n117847                                 0                                0   \n818981                                 0                                0   \n\n         curr_size_of_product_LB  curr_size_of_product_N   12 OZ  \\\nitem_id                                                            \n117847                         0                               0   \n818981                         0                               0   \n\n         curr_size_of_product_N   40 OZ  curr_size_of_product_PINT  \\\nitem_id                                                              \n117847                                0                          0   \n818981                                0                          0   \n\n         curr_size_of_product_PK  curr_size_of_product_PT  \\\nitem_id                                                     \n117847                         0                        0   \n818981                         0                        0   \n\n         curr_size_of_product_QT  \nitem_id                           \n117847                         0  \n818981                         0  \n\n[2 rows x 2718 columns]",
      "text/html": "<div>\n<style scoped>\n    .dataframe tbody tr th:only-of-type {\n        vertical-align: middle;\n    }\n\n    .dataframe tbody tr th {\n        vertical-align: top;\n    }\n\n    .dataframe thead th {\n        text-align: right;\n    }\n</style>\n<table border=\"1\" class=\"dataframe\">\n  <thead>\n    <tr style=\"text-align: right;\">\n      <th></th>\n      <th>manufacturer_2.0</th>\n      <th>manufacturer_5.0</th>\n      <th>manufacturer_16.0</th>\n      <th>manufacturer_20.0</th>\n      <th>manufacturer_26.0</th>\n      <th>manufacturer_33.0</th>\n      <th>manufacturer_35.0</th>\n      <th>manufacturer_36.0</th>\n      <th>manufacturer_42.0</th>\n      <th>manufacturer_43.0</th>\n      <th>...</th>\n      <th>curr_size_of_product_L    16 OZ</th>\n      <th>curr_size_of_product_L  7.75 OZ</th>\n      <th>curr_size_of_product_L 13.25 OZ</th>\n      <th>curr_size_of_product_LB</th>\n      <th>curr_size_of_product_N   12 OZ</th>\n      <th>curr_size_of_product_N   40 OZ</th>\n      <th>curr_size_of_product_PINT</th>\n      <th>curr_size_of_product_PK</th>\n      <th>curr_size_of_product_PT</th>\n      <th>curr_size_of_product_QT</th>\n    </tr>\n    <tr>\n      <th>item_id</th>\n      <th></th>\n      <th></th>\n      <th></th>\n      <th></th>\n      <th></th>\n      <th></th>\n      <th></th>\n      <th></th>\n      <th></th>\n      <th></th>\n      <th></th>\n      <th></th>\n      <th></th>\n      <th></th>\n      <th></th>\n      <th></th>\n      <th></th>\n      <th></th>\n      <th></th>\n      <th></th>\n      <th></th>\n    </tr>\n  </thead>\n  <tbody>\n    <tr>\n      <th>117847</th>\n      <td>0</td>\n      <td>0</td>\n      <td>0</td>\n      <td>0</td>\n      <td>0</td>\n      <td>0</td>\n      <td>0</td>\n      <td>0</td>\n      <td>0</td>\n      <td>0</td>\n      <td>...</td>\n      <td>0</td>\n      <td>0</td>\n      <td>0</td>\n      <td>0</td>\n      <td>0</td>\n      <td>0</td>\n      <td>0</td>\n      <td>0</td>\n      <td>0</td>\n      <td>0</td>\n    </tr>\n    <tr>\n      <th>818981</th>\n      <td>0</td>\n      <td>0</td>\n      <td>0</td>\n      <td>0</td>\n      <td>0</td>\n      <td>0</td>\n      <td>0</td>\n      <td>0</td>\n      <td>0</td>\n      <td>0</td>\n      <td>...</td>\n      <td>0</td>\n      <td>0</td>\n      <td>0</td>\n      <td>0</td>\n      <td>0</td>\n      <td>0</td>\n      <td>0</td>\n      <td>0</td>\n      <td>0</td>\n      <td>0</td>\n    </tr>\n  </tbody>\n</table>\n<p>2 rows × 2718 columns</p>\n</div>"
     },
     "execution_count": 22,
     "metadata": {},
     "output_type": "execute_result"
    }
   ],
   "source": [
    "item_feat_lightfm.head(2)"
   ],
   "metadata": {
    "collapsed": false,
    "pycharm": {
     "name": "#%%\n"
    }
   }
  },
  {
   "cell_type": "markdown",
   "source": [
    "## Init model"
   ],
   "metadata": {
    "collapsed": false,
    "pycharm": {
     "name": "#%% md\n"
    }
   }
  },
  {
   "cell_type": "code",
   "execution_count": 23,
   "outputs": [],
   "source": [
    "model = LightFM(no_components=128,\n",
    "                loss='bpr', # \"logistic\",\"bpr\", \"warp\"\n",
    "                learning_rate=0.01,\n",
    "                item_alpha=0.1,\n",
    "                user_alpha=0.1,\n",
    "                random_state=42,\n",
    "                k=5,\n",
    "                n=15,\n",
    "                max_sampled=100)"
   ],
   "metadata": {
    "collapsed": false,
    "pycharm": {
     "name": "#%%\n"
    }
   }
  },
  {
   "cell_type": "markdown",
   "source": [
    "## Train"
   ],
   "metadata": {
    "collapsed": false,
    "pycharm": {
     "name": "#%% md\n"
    }
   }
  },
  {
   "cell_type": "code",
   "execution_count": 24,
   "outputs": [
    {
     "name": "stderr",
     "output_type": "stream",
     "text": [
      "Epoch: 100%|██████████| 20/20 [13:07<00:00, 39.35s/it]\n"
     ]
    },
    {
     "data": {
      "text/plain": "<lightfm.lightfm.LightFM at 0x1a7208327c0>"
     },
     "execution_count": 24,
     "metadata": {},
     "output_type": "execute_result"
    }
   ],
   "source": [
    "model.fit((sparse_user_item > 0) * 1,  # user-item matrix из 0 и 1\n",
    "          sample_weight=coo_matrix(user_item_matrix),\n",
    "          user_features=csr_matrix(user_feat_lightfm.values).tocsr(),\n",
    "          item_features=csr_matrix(item_feat_lightfm.values).tocsr(),\n",
    "          epochs=20,\n",
    "          num_threads=20,\n",
    "          verbose=True)"
   ],
   "metadata": {
    "collapsed": false,
    "pycharm": {
     "name": "#%%\n"
    }
   }
  },
  {
   "cell_type": "markdown",
   "source": [
    "# Getting embeddings"
   ],
   "metadata": {
    "collapsed": false,
    "pycharm": {
     "name": "#%% md\n"
    }
   }
  },
  {
   "cell_type": "markdown",
   "source": [
    "## вектора по пользователям"
   ],
   "metadata": {
    "collapsed": false,
    "pycharm": {
     "name": "#%% md\n"
    }
   },
   "execution_count": 25
  },
  {
   "cell_type": "code",
   "execution_count": 26,
   "outputs": [],
   "source": [
    "user_emb = model.get_user_representations(features=csr_matrix(user_feat_lightfm.values).tocsr())"
   ],
   "metadata": {
    "collapsed": false,
    "pycharm": {
     "name": "#%%\n"
    }
   }
  },
  {
   "cell_type": "code",
   "execution_count": 27,
   "outputs": [
    {
     "data": {
      "text/plain": "(2497,)"
     },
     "execution_count": 27,
     "metadata": {},
     "output_type": "execute_result"
    }
   ],
   "source": [
    "user_emb[0].shape # biases"
   ],
   "metadata": {
    "collapsed": false,
    "pycharm": {
     "name": "#%%\n"
    }
   }
  },
  {
   "cell_type": "code",
   "execution_count": 28,
   "outputs": [
    {
     "data": {
      "text/plain": "(2497, 128)"
     },
     "execution_count": 28,
     "metadata": {},
     "output_type": "execute_result"
    }
   ],
   "source": [
    "user_emb[1].shape # users vectors"
   ],
   "metadata": {
    "collapsed": false,
    "pycharm": {
     "name": "#%%\n"
    }
   }
  },
  {
   "cell_type": "markdown",
   "source": [
    "## вектора по товарам"
   ],
   "metadata": {
    "collapsed": false,
    "pycharm": {
     "name": "#%% md\n"
    }
   }
  },
  {
   "cell_type": "code",
   "execution_count": 29,
   "outputs": [],
   "source": [
    "item_emb = model.get_item_representations(features=csr_matrix(item_feat_lightfm.values).tocsr())"
   ],
   "metadata": {
    "collapsed": false,
    "pycharm": {
     "name": "#%%\n"
    }
   }
  },
  {
   "cell_type": "code",
   "execution_count": 30,
   "outputs": [
    {
     "data": {
      "text/plain": "(5001,)"
     },
     "execution_count": 30,
     "metadata": {},
     "output_type": "execute_result"
    }
   ],
   "source": [
    "item_emb[0].shape # biases"
   ],
   "metadata": {
    "collapsed": false,
    "pycharm": {
     "name": "#%%\n"
    }
   }
  },
  {
   "cell_type": "code",
   "execution_count": 31,
   "outputs": [
    {
     "data": {
      "text/plain": "(5001, 128)"
     },
     "execution_count": 31,
     "metadata": {},
     "output_type": "execute_result"
    }
   ],
   "source": [
    "item_emb[1].shape # items vectors"
   ],
   "metadata": {
    "collapsed": false,
    "pycharm": {
     "name": "#%%\n"
    }
   }
  },
  {
   "cell_type": "markdown",
   "source": [
    "# Evaluation -> Train precision"
   ],
   "metadata": {
    "collapsed": false,
    "pycharm": {
     "name": "#%% md\n"
    }
   }
  },
  {
   "cell_type": "code",
   "execution_count": 32,
   "outputs": [
    {
     "name": "stdout",
     "output_type": "stream",
     "text": [
      "Train precision 0.4385262429714203\n"
     ]
    }
   ],
   "source": [
    "# мы можем использовать встроенные метрики lightFM\n",
    "\n",
    "train_precision = precision_at_k(model, sparse_user_item,\n",
    "                                 user_features=csr_matrix(user_feat_lightfm.values).tocsr(),\n",
    "                                 item_features=csr_matrix(item_feat_lightfm.values).tocsr(),\n",
    "                                 k=5).mean()\n",
    "\n",
    "print(f\"Train precision {train_precision}\")"
   ],
   "metadata": {
    "collapsed": false,
    "pycharm": {
     "name": "#%%\n"
    }
   }
  },
  {
   "cell_type": "markdown",
   "source": [
    "# Predict"
   ],
   "metadata": {
    "collapsed": false,
    "pycharm": {
     "name": "#%% md\n"
    }
   }
  },
  {
   "cell_type": "code",
   "execution_count": 33,
   "outputs": [],
   "source": [
    "# подготавливаемм id для юзеров и товаров в порядке пар user-item\n",
    "users_ids_row = data_train_filtered['user_id'].apply(lambda x: userid_to_id[x]).values.astype(int)\n",
    "items_ids_row = data_train_filtered['item_id'].apply(lambda x: itemid_to_id[x]).values.astype(int)"
   ],
   "metadata": {
    "collapsed": false,
    "pycharm": {
     "name": "#%%\n"
    }
   }
  },
  {
   "cell_type": "code",
   "execution_count": 34,
   "outputs": [
    {
     "data": {
      "text/plain": "array([2371, 1363, 1363, ..., 1167,  461,  461])"
     },
     "execution_count": 34,
     "metadata": {},
     "output_type": "execute_result"
    }
   ],
   "source": [
    "users_ids_row"
   ],
   "metadata": {
    "collapsed": false,
    "pycharm": {
     "name": "#%%\n"
    }
   }
  },
  {
   "cell_type": "code",
   "execution_count": 35,
   "outputs": [
    {
     "data": {
      "text/plain": "array([2959, 2040, 2040, ..., 2040, 4636, 4808])"
     },
     "execution_count": 35,
     "metadata": {},
     "output_type": "execute_result"
    }
   ],
   "source": [
    "items_ids_row"
   ],
   "metadata": {
    "collapsed": false,
    "pycharm": {
     "name": "#%%\n"
    }
   }
  },
  {
   "cell_type": "code",
   "execution_count": 36,
   "outputs": [],
   "source": [
    "# модель возвращает меру/скор похожести между соответствующим пользователем и товаром\n",
    "predictions = model.predict(user_ids=users_ids_row,\n",
    "                            item_ids=items_ids_row,\n",
    "                            user_features=csr_matrix(user_feat_lightfm.values).tocsr(),\n",
    "                            item_features=csr_matrix(item_feat_lightfm.values).tocsr(),\n",
    "                            num_threads=20)"
   ],
   "metadata": {
    "collapsed": false,
    "pycharm": {
     "name": "#%%\n"
    }
   }
  },
  {
   "cell_type": "markdown",
   "source": [
    "#### добавляем наш полученный скор в трейн датафрейм"
   ],
   "metadata": {
    "collapsed": false,
    "pycharm": {
     "name": "#%% md\n"
    }
   }
  },
  {
   "cell_type": "code",
   "execution_count": null,
   "outputs": [],
   "source": [
    "data_train_filtered['score'] = predictions"
   ],
   "metadata": {
    "collapsed": false,
    "pycharm": {
     "name": "#%%\n"
    }
   }
  },
  {
   "cell_type": "code",
   "execution_count": 38,
   "outputs": [
    {
     "data": {
      "text/plain": "    user_id    basket_id  day  item_id  quantity  sales_value  store_id  \\\n7      2375  26984851516    1  1085983         1         2.99       364   \n11     1364  26984896261    1   999999         1         2.19     31742   \n12     1364  26984896261    1   999999         1         2.99     31742   \n13     1364  26984896261    1   999999         1         3.09     31742   \n14     1364  26984896261    1   937406         1         2.50     31742   \n\n    retail_disc  trans_time  week_no  coupon_disc  coupon_match_disc  price  \\\n7         -0.40        1642        1          0.0                0.0   2.99   \n11         0.00        1520        1          0.0                0.0   2.19   \n12        -0.40        1520        1          0.0                0.0   2.99   \n13         0.00        1520        1          0.0                0.0   3.09   \n14        -0.99        1520        1          0.0                0.0   2.50   \n\n       score  \n7  -0.615264  \n11 -2.780948  \n12 -2.780948  \n13 -2.780948  \n14 -3.307335  ",
      "text/html": "<div>\n<style scoped>\n    .dataframe tbody tr th:only-of-type {\n        vertical-align: middle;\n    }\n\n    .dataframe tbody tr th {\n        vertical-align: top;\n    }\n\n    .dataframe thead th {\n        text-align: right;\n    }\n</style>\n<table border=\"1\" class=\"dataframe\">\n  <thead>\n    <tr style=\"text-align: right;\">\n      <th></th>\n      <th>user_id</th>\n      <th>basket_id</th>\n      <th>day</th>\n      <th>item_id</th>\n      <th>quantity</th>\n      <th>sales_value</th>\n      <th>store_id</th>\n      <th>retail_disc</th>\n      <th>trans_time</th>\n      <th>week_no</th>\n      <th>coupon_disc</th>\n      <th>coupon_match_disc</th>\n      <th>price</th>\n      <th>score</th>\n    </tr>\n  </thead>\n  <tbody>\n    <tr>\n      <th>7</th>\n      <td>2375</td>\n      <td>26984851516</td>\n      <td>1</td>\n      <td>1085983</td>\n      <td>1</td>\n      <td>2.99</td>\n      <td>364</td>\n      <td>-0.40</td>\n      <td>1642</td>\n      <td>1</td>\n      <td>0.0</td>\n      <td>0.0</td>\n      <td>2.99</td>\n      <td>-0.615264</td>\n    </tr>\n    <tr>\n      <th>11</th>\n      <td>1364</td>\n      <td>26984896261</td>\n      <td>1</td>\n      <td>999999</td>\n      <td>1</td>\n      <td>2.19</td>\n      <td>31742</td>\n      <td>0.00</td>\n      <td>1520</td>\n      <td>1</td>\n      <td>0.0</td>\n      <td>0.0</td>\n      <td>2.19</td>\n      <td>-2.780948</td>\n    </tr>\n    <tr>\n      <th>12</th>\n      <td>1364</td>\n      <td>26984896261</td>\n      <td>1</td>\n      <td>999999</td>\n      <td>1</td>\n      <td>2.99</td>\n      <td>31742</td>\n      <td>-0.40</td>\n      <td>1520</td>\n      <td>1</td>\n      <td>0.0</td>\n      <td>0.0</td>\n      <td>2.99</td>\n      <td>-2.780948</td>\n    </tr>\n    <tr>\n      <th>13</th>\n      <td>1364</td>\n      <td>26984896261</td>\n      <td>1</td>\n      <td>999999</td>\n      <td>1</td>\n      <td>3.09</td>\n      <td>31742</td>\n      <td>0.00</td>\n      <td>1520</td>\n      <td>1</td>\n      <td>0.0</td>\n      <td>0.0</td>\n      <td>3.09</td>\n      <td>-2.780948</td>\n    </tr>\n    <tr>\n      <th>14</th>\n      <td>1364</td>\n      <td>26984896261</td>\n      <td>1</td>\n      <td>937406</td>\n      <td>1</td>\n      <td>2.50</td>\n      <td>31742</td>\n      <td>-0.99</td>\n      <td>1520</td>\n      <td>1</td>\n      <td>0.0</td>\n      <td>0.0</td>\n      <td>2.50</td>\n      <td>-3.307335</td>\n    </tr>\n  </tbody>\n</table>\n</div>"
     },
     "execution_count": 38,
     "metadata": {},
     "output_type": "execute_result"
    }
   ],
   "source": [
    "data_train_filtered.head()"
   ],
   "metadata": {
    "collapsed": false,
    "pycharm": {
     "name": "#%%\n"
    }
   }
  },
  {
   "cell_type": "markdown",
   "source": [
    "#### создаем предикт датафрейм в формате списка товаров"
   ],
   "metadata": {
    "collapsed": false,
    "pycharm": {
     "name": "#%% md\n"
    }
   }
  },
  {
   "cell_type": "code",
   "execution_count": 39,
   "outputs": [],
   "source": [
    "predict_result = data_train_filtered[['user_id','item_id','score']][data_train_filtered.item_id != 999999].drop_duplicates().sort_values(by=['user_id','score'], ascending=False).groupby('user_id')['item_id'].unique().reset_index()"
   ],
   "metadata": {
    "collapsed": false,
    "pycharm": {
     "name": "#%%\n"
    }
   }
  },
  {
   "cell_type": "code",
   "execution_count": 40,
   "outputs": [
    {
     "data": {
      "text/plain": "   user_id                                            item_id\n0        1  [1029743, 6034857, 1088462, 838867, 7431408, 7...\n1        2  [1106523, 1075368, 899624, 952163, 6919458, 96...\n2        3  [1106523, 983584, 5585510, 899624, 866211, 112...\n3        4  [1029743, 1075368, 1052294, 7431408, 970760, 1...\n4        5  [1126899, 1029743, 6034991, 825659, 1112387, 1...",
      "text/html": "<div>\n<style scoped>\n    .dataframe tbody tr th:only-of-type {\n        vertical-align: middle;\n    }\n\n    .dataframe tbody tr th {\n        vertical-align: top;\n    }\n\n    .dataframe thead th {\n        text-align: right;\n    }\n</style>\n<table border=\"1\" class=\"dataframe\">\n  <thead>\n    <tr style=\"text-align: right;\">\n      <th></th>\n      <th>user_id</th>\n      <th>item_id</th>\n    </tr>\n  </thead>\n  <tbody>\n    <tr>\n      <th>0</th>\n      <td>1</td>\n      <td>[1029743, 6034857, 1088462, 838867, 7431408, 7...</td>\n    </tr>\n    <tr>\n      <th>1</th>\n      <td>2</td>\n      <td>[1106523, 1075368, 899624, 952163, 6919458, 96...</td>\n    </tr>\n    <tr>\n      <th>2</th>\n      <td>3</td>\n      <td>[1106523, 983584, 5585510, 899624, 866211, 112...</td>\n    </tr>\n    <tr>\n      <th>3</th>\n      <td>4</td>\n      <td>[1029743, 1075368, 1052294, 7431408, 970760, 1...</td>\n    </tr>\n    <tr>\n      <th>4</th>\n      <td>5</td>\n      <td>[1126899, 1029743, 6034991, 825659, 1112387, 1...</td>\n    </tr>\n  </tbody>\n</table>\n</div>"
     },
     "execution_count": 40,
     "metadata": {},
     "output_type": "execute_result"
    }
   ],
   "source": [
    "predict_result.head()"
   ],
   "metadata": {
    "collapsed": false,
    "pycharm": {
     "name": "#%%\n"
    }
   }
  },
  {
   "cell_type": "markdown",
   "source": [
    "#### объединяем предикт и тест датасет для подсчета precision"
   ],
   "metadata": {
    "collapsed": false,
    "pycharm": {
     "name": "#%% md\n"
    }
   }
  },
  {
   "cell_type": "code",
   "execution_count": 41,
   "outputs": [],
   "source": [
    "df_result_for_metrics = result.merge(predict_result, on='user_id', how='inner')"
   ],
   "metadata": {
    "collapsed": false,
    "pycharm": {
     "name": "#%%\n"
    }
   }
  },
  {
   "cell_type": "code",
   "execution_count": 42,
   "outputs": [
    {
     "data": {
      "text/plain": "   user_id                                             actual  \\\n0        1  [821867, 834484, 856942, 865456, 889248, 90795...   \n1        3  [835476, 851057, 872021, 878302, 879948, 90963...   \n2        6  [920308, 926804, 946489, 1006718, 1017061, 107...   \n3        7  [840386, 889774, 898068, 909714, 929067, 95347...   \n4        8  [835098, 872137, 910439, 924610, 992977, 10412...   \n\n                                             item_id  \n0  [1029743, 6034857, 1088462, 838867, 7431408, 7...  \n1  [1106523, 983584, 5585510, 899624, 866211, 112...  \n2  [1070820, 1029743, 1126899, 1121393, 9524291, ...  \n3  [1029743, 1126899, 1106523, 9835880, 1072494, ...  \n4  [1106523, 1070820, 1029743, 6034857, 5585510, ...  ",
      "text/html": "<div>\n<style scoped>\n    .dataframe tbody tr th:only-of-type {\n        vertical-align: middle;\n    }\n\n    .dataframe tbody tr th {\n        vertical-align: top;\n    }\n\n    .dataframe thead th {\n        text-align: right;\n    }\n</style>\n<table border=\"1\" class=\"dataframe\">\n  <thead>\n    <tr style=\"text-align: right;\">\n      <th></th>\n      <th>user_id</th>\n      <th>actual</th>\n      <th>item_id</th>\n    </tr>\n  </thead>\n  <tbody>\n    <tr>\n      <th>0</th>\n      <td>1</td>\n      <td>[821867, 834484, 856942, 865456, 889248, 90795...</td>\n      <td>[1029743, 6034857, 1088462, 838867, 7431408, 7...</td>\n    </tr>\n    <tr>\n      <th>1</th>\n      <td>3</td>\n      <td>[835476, 851057, 872021, 878302, 879948, 90963...</td>\n      <td>[1106523, 983584, 5585510, 899624, 866211, 112...</td>\n    </tr>\n    <tr>\n      <th>2</th>\n      <td>6</td>\n      <td>[920308, 926804, 946489, 1006718, 1017061, 107...</td>\n      <td>[1070820, 1029743, 1126899, 1121393, 9524291, ...</td>\n    </tr>\n    <tr>\n      <th>3</th>\n      <td>7</td>\n      <td>[840386, 889774, 898068, 909714, 929067, 95347...</td>\n      <td>[1029743, 1126899, 1106523, 9835880, 1072494, ...</td>\n    </tr>\n    <tr>\n      <th>4</th>\n      <td>8</td>\n      <td>[835098, 872137, 910439, 924610, 992977, 10412...</td>\n      <td>[1106523, 1070820, 1029743, 6034857, 5585510, ...</td>\n    </tr>\n  </tbody>\n</table>\n</div>"
     },
     "execution_count": 42,
     "metadata": {},
     "output_type": "execute_result"
    }
   ],
   "source": [
    "df_result_for_metrics.head()"
   ],
   "metadata": {
    "collapsed": false,
    "pycharm": {
     "name": "#%%\n"
    }
   }
  },
  {
   "cell_type": "markdown",
   "source": [
    "### Test with custom precision func"
   ],
   "metadata": {
    "collapsed": false,
    "pycharm": {
     "name": "#%% md\n"
    }
   }
  },
  {
   "cell_type": "code",
   "execution_count": 43,
   "outputs": [
    {
     "name": "stdout",
     "output_type": "stream",
     "text": [
      "Precision: 0.14436781609195212\n"
     ]
    }
   ],
   "source": [
    "precision = df_result_for_metrics.apply(lambda row: custom_precision(row['item_id'], row['actual'],k=5), axis=1).mean()\n",
    "print(f\"Precision: {precision}\")"
   ],
   "metadata": {
    "collapsed": false,
    "pycharm": {
     "name": "#%%\n"
    }
   }
  },
  {
   "cell_type": "markdown",
   "source": [
    "#### Запустим модель меняя входные параметры для поиска наилучших метрик"
   ],
   "metadata": {
    "collapsed": false,
    "pycharm": {
     "name": "#%% md\n"
    }
   }
  },
  {
   "cell_type": "code",
   "execution_count": null,
   "outputs": [],
   "source": [
    "import itertools\n",
    "\n",
    "l1 = [10, 20, 30, 40, 50, 60, 70, 80, 90, 100, 110, 120, 130]\n",
    "l2 = np.linspace(0.01, 0.09, 9, endpoint=True)\n",
    "loss = ['bpr', 'warp']  # 'logistic',\n",
    "params = list(itertools.product(l1, l2, loss, repeat=1))"
   ],
   "metadata": {
    "collapsed": false,
    "pycharm": {
     "name": "#%%\n"
    }
   }
  },
  {
   "cell_type": "code",
   "execution_count": null,
   "outputs": [],
   "source": [
    "result_dict = {}\n",
    "i = 0\n",
    "for no_components, item_alpha, loss in params:\n",
    "    model = LightFM(no_components=no_components,\n",
    "                    loss=loss,  # \"logistic\",\"bpr\", \"warp\"\n",
    "                    learning_rate=0.01,\n",
    "                    item_alpha=item_alpha,\n",
    "                    user_alpha=0.1,\n",
    "                    random_state=42,\n",
    "                    k=5,\n",
    "                    n=15,\n",
    "                    max_sampled=100)\n",
    "\n",
    "    model.fit((sparse_user_item > 0) * 1,  # user-item matrix из 0 и 1\n",
    "              sample_weight=coo_matrix(user_item_matrix),\n",
    "              user_features=csr_matrix(user_feat_lightfm.values).tocsr(),\n",
    "              item_features=csr_matrix(item_feat_lightfm.values).tocsr(),\n",
    "              epochs=20,\n",
    "              num_threads=20,\n",
    "              verbose=True)\n",
    "\n",
    "    predictions = model.predict(user_ids=users_ids_row,\n",
    "                                item_ids=items_ids_row,\n",
    "                                user_features=csr_matrix(user_feat_lightfm.values).tocsr(),\n",
    "                                item_features=csr_matrix(item_feat_lightfm.values).tocsr(),\n",
    "                                num_threads=10)\n",
    "\n",
    "    data_train_filtered['score'] = predictions\n",
    "\n",
    "    # создаем предикт датафрейм в формате списка товаров\n",
    "    predict_result = data_train_filtered[['user_id', 'item_id', 'score']][\n",
    "        data_train_filtered.item_id != 999999].drop_duplicates().sort_values(by=['user_id', 'score'],\n",
    "                                                                             ascending=False).groupby('user_id')[\n",
    "        'item_id'].unique().reset_index()\n",
    "    # объединяем предикт и тест датасет для подсчета precision\n",
    "    df_result_for_metrics = result.merge(predict_result, on='user_id', how='inner')\n",
    "    precision = df_result_for_metrics.apply(lambda row: custom_precision(row['item_id'], row['actual'], k=5),\n",
    "                                            axis=1).mean()\n",
    "    print(f\"Precision: {precision}\")\n",
    "    iteration_tuple = ((\"no_components\", no_components),\n",
    "                       (\"loss\", loss),\n",
    "                       (\"item_alpha\", item_alpha),\n",
    "                       (\"precision\", precision))\n",
    "    result_dict[str(i)] = dict(iteration_tuple)\n",
    "    i += 1\n"
   ],
   "metadata": {
    "collapsed": false,
    "pycharm": {
     "name": "#%%\n"
    }
   }
  },
  {
   "cell_type": "markdown",
   "source": [
    "#### Получим следующие результаты (частично)"
   ],
   "metadata": {
    "collapsed": false,
    "pycharm": {
     "name": "#%% md\n"
    }
   }
  },
  {
   "cell_type": "markdown",
   "source": [
    "'0' = {dict: 4} {'no_components': 10, 'loss': 'bpr', 'item_alpha': 0.01, 'precision': 0.15550082101806242}\n",
    "'1' = {dict: 4} {'no_components': 10, 'loss': 'warp', 'item_alpha': 0.01, 'precision': 0.14062397372742202}\n",
    "'2' = {dict: 4} {'no_components': 10, 'loss': 'bpr', 'item_alpha': 0.02, 'precision': 0.15215106732348113}\n",
    "'3' = {dict: 4} {'no_components': 10, 'loss': 'warp', 'item_alpha': 0.02, 'precision': 0.13983579638752053}\n",
    "'4' = {dict: 4} {'no_components': 10, 'loss': 'bpr', 'item_alpha': 0.03, 'precision': 0.15264367816091953}\n",
    "'5' = {dict: 4} {'no_components': 10, 'loss': 'warp', 'item_alpha': 0.03, 'precision': 0.13766830870279148}\n",
    "'6' = {dict: 4} {'no_components': 10, 'loss': 'bpr', 'item_alpha': 0.04, 'precision': 0.149688013136289}\n",
    "'7' = {dict: 4} {'no_components': 10, 'loss': 'warp', 'item_alpha': 0.04, 'precision': 0.1360919540229885}\n",
    "'8' = {dict: 4} {'no_components': 10, 'loss': 'bpr', 'item_alpha': 0.05, 'precision': 0.1485057471264368}\n",
    "'9' = {dict: 4} {'no_components': 10, 'loss': 'warp', 'item_alpha': 0.05, 'precision': 0.13648604269293924}\n",
    "'10' = {dict: 4} {'no_components': 10, 'loss': 'bpr', 'item_alpha': 0.060000000000000005, 'precision': 0.14752052545155994}\n",
    "'11' = {dict: 4} {'no_components': 10, 'loss': 'warp', 'item_alpha': 0.060000000000000005, 'precision': 0.11569786535303778}\n",
    "'12' = {dict: 4} {'no_components': 10, 'loss': 'bpr', 'item_alpha': 0.06999999999999999, 'precision': 0.14545155993431855}\n",
    "'13' = {dict: 4} {'no_components': 10, 'loss': 'warp', 'item_alpha': 0.06999999999999999, 'precision': 0.10367816091954023}\n",
    "'14' = {dict: 4} {'no_components': 10, 'loss': 'bpr', 'item_alpha': 0.08, 'precision': 0.14574712643678162}\n",
    "'15' = {dict: 4} {'no_components': 10, 'loss': 'warp', 'item_alpha': 0.08, 'precision': 0.10151067323481117}\n",
    "'16' = {dict: 4} {'no_components': 10, 'loss': 'bpr', 'item_alpha': 0.09, 'precision': 0.14564860426929394}\n",
    "'17' = {dict: 4} {'no_components': 10, 'loss': 'warp', 'item_alpha': 0.09, 'precision': 0.07983579638752053}\n",
    "'18' = {dict: 4} {'no_components': 20, 'loss': 'bpr', 'item_alpha': 0.01, 'precision': 0.15372742200328407}\n",
    "'19' = {dict: 4} {'no_components': 20, 'loss': 'warp', 'item_alpha': 0.01, 'precision': 0.14082101806239739}\n",
    "'20' = {dict: 4} {'no_components': 20, 'loss': 'bpr', 'item_alpha': 0.02, 'precision': 0.15087027914614123}\n",
    "'21' = {dict: 4} {'no_components': 20, 'loss': 'warp', 'item_alpha': 0.02, 'precision': 0.1393431855500821}\n",
    "'22' = {dict: 4} {'no_components': 20, 'loss': 'bpr', 'item_alpha': 0.03, 'precision': 0.15057471264367814}\n",
    "'23' = {dict: 4} {'no_components': 20, 'loss': 'warp', 'item_alpha': 0.03, 'precision': 0.13668308702791462}\n",
    "'24' = {dict: 4} {'no_components': 20, 'loss': 'bpr', 'item_alpha': 0.04, 'precision': 0.1485057471264368}\n",
    "'25' = {dict: 4} {'no_components': 20, 'loss': 'warp', 'item_alpha': 0.04, 'precision': 0.12535303776683088}\n",
    "'26' = {dict: 4} {'no_components': 20, 'loss': 'bpr', 'item_alpha': 0.05, 'precision': 0.14830870279146144}\n",
    "'27' = {dict: 4} {'no_components': 20, 'loss': 'warp', 'item_alpha': 0.05, 'precision': 0.10614121510673234}\n",
    "'28' = {dict: 4} {'no_components': 20, 'loss': 'bpr', 'item_alpha': 0.060000000000000005, 'precision': 0.14663382594417076}\n",
    "'29' = {dict: 4} {'no_components': 20, 'loss': 'warp', 'item_alpha': 0.060000000000000005, 'precision': 0.10052545155993432}\n",
    "'30' = {dict: 4} {'no_components': 20, 'loss': 'bpr', 'item_alpha': 0.06999999999999999, 'precision': 0.14584564860426932}\n",
    "'31' = {dict: 4} {'no_components': 20, 'loss': 'warp', 'item_alpha': 0.06999999999999999, 'precision': 0.09648604269293924}\n",
    "'32' = {dict: 4} {'no_components': 20, 'loss': 'bpr', 'item_alpha': 0.08, 'precision': 0.14515599343185548}\n",
    "'33' = {dict: 4} {'no_components': 20, 'loss': 'warp', 'item_alpha': 0.08, 'precision': 0.08052545155993432}\n",
    "'34' = {dict: 4} {'no_components': 20, 'loss': 'bpr', 'item_alpha': 0.09, 'precision': 0.14486042692939247}\n",
    "'35' = {dict: 4} {'no_components': 20, 'loss': 'warp', 'item_alpha': 0.09, 'precision': 0.07589490968801313}\n",
    "'36' = {dict: 4} {'no_components': 30, 'loss': 'bpr', 'item_alpha': 0.01, 'precision': 0.1528407224958949}\n",
    "'37' = {dict: 4} {'no_components': 30, 'loss': 'warp', 'item_alpha': 0.01, 'precision': 0.14170771756978653}\n",
    "'38' = {dict: 4} {'no_components': 30, 'loss': 'bpr', 'item_alpha': 0.02, 'precision': 0.15067323481116585}\n",
    "'39' = {dict: 4} {'no_components': 30, 'loss': 'warp', 'item_alpha': 0.02, 'precision': 0.1386535303776683}\n",
    "'40' = {dict: 4} {'no_components': 30, 'loss': 'bpr', 'item_alpha': 0.03, 'precision': 0.14791461412151066}\n",
    "'41' = {dict: 4} {'no_components': 30, 'loss': 'warp', 'item_alpha': 0.03, 'precision': 0.13717569786535305}\n",
    "'42' = {dict: 4} {'no_components': 30, 'loss': 'bpr', 'item_alpha': 0.04, 'precision': 0.1472249589490969}\n",
    "'43' = {dict: 4} {'no_components': 30, 'loss': 'warp', 'item_alpha': 0.04, 'precision': 0.10929392446633826}\n",
    "'44' = {dict: 4} {'no_components': 30, 'loss': 'bpr', 'item_alpha': 0.05, 'precision': 0.14614121510673234}\n",
    "'45' = {dict: 4} {'no_components': 30, 'loss': 'warp', 'item_alpha': 0.05, 'precision': 0.10042692939244664}\n",
    "'46' = {dict: 4} {'no_components': 30, 'loss': 'bpr', 'item_alpha': 0.060000000000000005, 'precision': 0.14545155993431855}\n",
    "'47' = {dict: 4} {'no_components': 30, 'loss': 'warp', 'item_alpha': 0.060000000000000005, 'precision': 0.09776683087027915}\n",
    "'48' = {dict: 4} {'no_components': 30, 'loss': 'bpr', 'item_alpha': 0.06999999999999999, 'precision': 0.1452545155993432}\n",
    "'49' = {dict: 4} {'no_components': 30, 'loss': 'warp', 'item_alpha': 0.06999999999999999, 'precision': 0.08407224958949097}\n",
    "'50' = {dict: 4} {'no_components': 30, 'loss': 'bpr', 'item_alpha': 0.08, 'precision': 0.14417077175697865}\n",
    "'51' = {dict: 4} {'no_components': 30, 'loss': 'warp', 'item_alpha': 0.08, 'precision': 0.07796387520525452}\n",
    "'52' = {dict: 4} {'no_components': 30, 'loss': 'bpr', 'item_alpha': 0.09, 'precision': 0.144367816091954}\n",
    "'53' = {dict: 4} {'no_components': 30, 'loss': 'warp', 'item_alpha': 0.09, 'precision': 0.07540229885057471}\n",
    "'54' = {dict: 4} {'no_components': 40, 'loss': 'bpr', 'item_alpha': 0.01, 'precision': 0.15530377668308704}\n",
    "'55' = {dict: 4} {'no_components': 40, 'loss': 'warp', 'item_alpha': 0.01, 'precision': 0.1401313628899836}\n",
    "'56' = {dict: 4} {'no_components': 40, 'loss': 'bpr', 'item_alpha': 0.02, 'precision': 0.15323481116584567}\n",
    "'57' = {dict: 4} {'no_components': 40, 'loss': 'warp', 'item_alpha': 0.02, 'precision': 0.13530377668308702}\n",
    "'58' = {dict: 4} {'no_components': 40, 'loss': 'bpr', 'item_alpha': 0.03, 'precision': 0.14929392446633827}\n",
    "'59' = {dict: 4} {'no_components': 40, 'loss': 'warp', 'item_alpha': 0.03, 'precision': 0.1289983579638752}\n",
    "'60' = {dict: 4} {'no_components': 40, 'loss': 'bpr', 'item_alpha': 0.04, 'precision': 0.14722495894909687}\n",
    "'61' = {dict: 4} {'no_components': 40, 'loss': 'warp', 'item_alpha': 0.04, 'precision': 0.10446633825944171}\n",
    "'62' = {dict: 4} {'no_components': 40, 'loss': 'bpr', 'item_alpha': 0.05, 'precision': 0.14732348111658458}\n",
    "'63' = {dict: 4} {'no_components': 40, 'loss': 'warp', 'item_alpha': 0.05, 'precision': 0.09944170771756979}\n",
    "'64' = {dict: 4} {'no_components': 40, 'loss': 'bpr', 'item_alpha': 0.060000000000000005, 'precision': 0.14604269293924468}\n",
    "'65' = {dict: 4} {'no_components': 40, 'loss': 'warp', 'item_alpha': 0.060000000000000005, 'precision': 0.09077175697865353}\n",
    "'66' = {dict: 4} {'no_components': 40, 'loss': 'bpr', 'item_alpha': 0.06999999999999999, 'precision': 0.14633825944170772}\n",
    "'67' = {dict: 4} {'no_components': 40, 'loss': 'warp', 'item_alpha': 0.06999999999999999, 'precision': 0.07796387520525451}\n",
    "'68' = {dict: 4} {'no_components': 40, 'loss': 'bpr', 'item_alpha': 0.08, 'precision': 0.14505747126436783}\n",
    "'69' = {dict: 4} {'no_components': 40, 'loss': 'warp', 'item_alpha': 0.08, 'precision': 0.07530377668308703}\n",
    "'70' = {dict: 4} {'no_components': 40, 'loss': 'bpr', 'item_alpha': 0.09, 'precision': 0.14377668308702793}\n",
    "'71' = {dict: 4} {'no_components': 40, 'loss': 'warp', 'item_alpha': 0.09, 'precision': 0.07471264367816091}\n",
    "'72' = {dict: 4} {'no_components': 50, 'loss': 'bpr', 'item_alpha': 0.01, 'precision': 0.15215106732348113}\n",
    "'73' = {dict: 4} {'no_components': 50, 'loss': 'warp', 'item_alpha': 0.01, 'precision': 0.14101806239737275}\n",
    "'74' = {dict: 4} {'no_components': 50, 'loss': 'bpr', 'item_alpha': 0.02, 'precision': 0.15244663382594417}\n",
    "'75' = {dict: 4} {'no_components': 50, 'loss': 'warp', 'item_alpha': 0.02, 'precision': 0.13756978653530377}\n",
    "'76' = {dict: 4} {'no_components': 50, 'loss': 'bpr', 'item_alpha': 0.03, 'precision': 0.15096880131362891}"
   ],
   "metadata": {
    "collapsed": false,
    "pycharm": {
     "name": "#%% md\n"
    }
   }
  },
  {
   "cell_type": "code",
   "execution_count": 45,
   "outputs": [],
   "source": [
    "pr_1 = [0.1555,0.1521,0.1526,0.1496,0.1485,0.1475,0.1454,0.1457,0.1456]\n",
    "pr_2 = [0.1537,0.1508,0.1505,0.1485,0.1483,0.1466,0.1458,0.1451,0.1448]\n",
    "pr_3 = [0.1528,0.1506,0.1479,0.1472,0.1461,0.1454,0.1452,0.1441,0.1443]\n",
    "pr_4 = [0.1553,0.1532,0.1492,0.1472,0.1473,0.1460,0.1463,0.1450,0.1437]"
   ],
   "metadata": {
    "collapsed": false,
    "pycharm": {
     "name": "#%%\n"
    }
   }
  },
  {
   "cell_type": "code",
   "execution_count": 65,
   "outputs": [
    {
     "data": {
      "text/plain": "<matplotlib.legend.Legend at 0x1a750422d30>"
     },
     "execution_count": 65,
     "metadata": {},
     "output_type": "execute_result"
    },
    {
     "data": {
      "text/plain": "<Figure size 576x432 with 1 Axes>",
      "image/png": "[encoded data removed]"
     },
     "metadata": {
      "needs_background": "light"
     },
     "output_type": "display_data"
    }
   ],
   "source": [
    "xticks = [0.01*i for i in range(1,10)]\n",
    "fig, ax = plt.subplots(figsize=(8, 6))\n",
    "ax.plot(xticks, pr_1, \"o-\")\n",
    "ax.plot(xticks, pr_2, \"x--\")\n",
    "ax.plot(xticks, pr_3, \"*-.\")\n",
    "ax.plot(xticks, pr_4, \"8-.\")\n",
    "ax.grid()\n",
    "ax.set_title(\"Plot of the data precision\")\n",
    "ax.set_xlabel(\"x axis label\")\n",
    "ax.set_ylabel(\"y axis label\")\n",
    "ax.legend((\"no_components 10\", \"no_components 20\", \"no_components 30\", \"no_components 40\"))\n"
   ],
   "metadata": {
    "collapsed": false,
    "pycharm": {
     "name": "#%%\n"
    }
   }
  },
  {
   "cell_type": "code",
   "execution_count": null,
   "outputs": [],
   "source": [],
   "metadata": {
    "collapsed": false,
    "pycharm": {
     "name": "#%%\n"
    }
   }
  }
 ],
 "metadata": {
  "kernelspec": {
   "display_name": "Python 3",
   "language": "python",
   "name": "python3"
  },
  "language_info": {
   "codemirror_mode": {
    "name": "ipython",
    "version": 2
   },
   "file_extension": ".py",
   "mimetype": "text/x-python",
   "name": "python",
   "nbconvert_exporter": "python",
   "pygments_lexer": "ipython2",
   "version": "2.7.6"
  }
 },
 "nbformat": 4,
 "nbformat_minor": 0
}