{
 "cells": [
  {
   "cell_type": "code",
   "execution_count": 40,
   "id": "83f79925",
   "metadata": {},
   "outputs": [],
   "source": [
    "import pandas as pd\n",
    "import numpy as np"
   ]
  },
  {
   "cell_type": "markdown",
   "id": "f3cd9fd2",
   "metadata": {},
   "source": [
    "## В чем отличие RecSys от классификации?"
   ]
  },
  {
   "cell_type": "code",
   "execution_count": 41,
   "id": "089257e7",
   "metadata": {},
   "outputs": [
    {
     "data": {
      "text/html": [
       "<div>\n",
       "<style scoped>\n",
       "    .dataframe tbody tr th:only-of-type {\n",
       "        vertical-align: middle;\n",
       "    }\n",
       "\n",
       "    .dataframe tbody tr th {\n",
       "        vertical-align: top;\n",
       "    }\n",
       "\n",
       "    .dataframe thead th {\n",
       "        text-align: right;\n",
       "    }\n",
       "</style>\n",
       "<table border=\"1\" class=\"dataframe\">\n",
       "  <thead>\n",
       "    <tr style=\"text-align: right;\">\n",
       "      <th></th>\n",
       "      <th>user</th>\n",
       "      <th>item</th>\n",
       "      <th>purchase_fact</th>\n",
       "    </tr>\n",
       "  </thead>\n",
       "  <tbody>\n",
       "    <tr>\n",
       "      <th>0</th>\n",
       "      <td>Иван</td>\n",
       "      <td>Хлеб Бородинский</td>\n",
       "      <td>1</td>\n",
       "    </tr>\n",
       "    <tr>\n",
       "      <th>1</th>\n",
       "      <td>Иван</td>\n",
       "      <td>Хлеб Белый</td>\n",
       "      <td>0</td>\n",
       "    </tr>\n",
       "    <tr>\n",
       "      <th>2</th>\n",
       "      <td>Василий</td>\n",
       "      <td>Йогурт Epica</td>\n",
       "      <td>1</td>\n",
       "    </tr>\n",
       "  </tbody>\n",
       "</table>\n",
       "</div>"
      ],
      "text/plain": [
       "      user              item  purchase_fact\n",
       "0     Иван  Хлеб Бородинский              1\n",
       "1     Иван        Хлеб Белый              0\n",
       "2  Василий      Йогурт Epica              1"
      ]
     },
     "execution_count": 41,
     "metadata": {},
     "output_type": "execute_result"
    }
   ],
   "source": [
    "pd.DataFrame([['Иван', 'Хлеб Бородинский', 1],\n",
    "             ['Иван', 'Хлеб Белый', 0],\n",
    "             ['Василий', 'Йогурт Epica', 1]], columns=['user', 'item', 'purchase_fact'])"
   ]
  },
  {
   "cell_type": "markdown",
   "id": "dc331835",
   "metadata": {},
   "source": [
    "Постойте, ведь можно добавить фичи на user (средний чек, кол-во покупок в категориях и т.д), \n",
    "на item (цена, кол-во продаж в неделю и т.д.), и решать задачу классификации. В чем отличие RecSys от классификации?\n",
    "\n",
    " - Много предсказаний для 1 user (extreme classification)\n",
    " - Гораздо больший объем данных: 100K users, 10K items --> 1B предсказаний\n",
    " - Большинство товаров user никогда не видел --> Не взаимодействовал --> 0 не значит \"не понравился\"\n",
    " - Нет явного таргета. Не понятно, что значит \"(не) понравился\"\n",
    " - Feedback loop\n",
    " - Иногда важен порядок рекомендаций"
   ]
  },
  {
   "cell_type": "code",
   "execution_count": 42,
   "id": "f21b54c4",
   "metadata": {},
   "outputs": [
    {
     "data": {
      "text/html": [
       "<div>\n",
       "<style scoped>\n",
       "    .dataframe tbody tr th:only-of-type {\n",
       "        vertical-align: middle;\n",
       "    }\n",
       "\n",
       "    .dataframe tbody tr th {\n",
       "        vertical-align: top;\n",
       "    }\n",
       "\n",
       "    .dataframe thead th {\n",
       "        text-align: right;\n",
       "    }\n",
       "</style>\n",
       "<table border=\"1\" class=\"dataframe\">\n",
       "  <thead>\n",
       "    <tr style=\"text-align: right;\">\n",
       "      <th></th>\n",
       "      <th>user</th>\n",
       "      <th>item</th>\n",
       "      <th>purchase_fact</th>\n",
       "    </tr>\n",
       "  </thead>\n",
       "  <tbody>\n",
       "    <tr>\n",
       "      <th>0</th>\n",
       "      <td>Иван</td>\n",
       "      <td>Хлеб Бородинский</td>\n",
       "      <td>1</td>\n",
       "    </tr>\n",
       "    <tr>\n",
       "      <th>1</th>\n",
       "      <td>Иван</td>\n",
       "      <td>Хлеб Белый</td>\n",
       "      <td>0</td>\n",
       "    </tr>\n",
       "    <tr>\n",
       "      <th>2</th>\n",
       "      <td>Иван</td>\n",
       "      <td>Йогурт Epica</td>\n",
       "      <td>?</td>\n",
       "    </tr>\n",
       "    <tr>\n",
       "      <th>3</th>\n",
       "      <td>Василий</td>\n",
       "      <td>Хлеб Бородинский</td>\n",
       "      <td>?</td>\n",
       "    </tr>\n",
       "    <tr>\n",
       "      <th>4</th>\n",
       "      <td>Василий</td>\n",
       "      <td>Хлеб Белый</td>\n",
       "      <td>?</td>\n",
       "    </tr>\n",
       "    <tr>\n",
       "      <th>5</th>\n",
       "      <td>Василий</td>\n",
       "      <td>Йогурт Epica</td>\n",
       "      <td>1</td>\n",
       "    </tr>\n",
       "  </tbody>\n",
       "</table>\n",
       "</div>"
      ],
      "text/plain": [
       "      user              item purchase_fact\n",
       "0     Иван  Хлеб Бородинский             1\n",
       "1     Иван        Хлеб Белый             0\n",
       "2     Иван      Йогурт Epica             ?\n",
       "3  Василий  Хлеб Бородинский             ?\n",
       "4  Василий        Хлеб Белый             ?\n",
       "5  Василий      Йогурт Epica             1"
      ]
     },
     "execution_count": 42,
     "metadata": {},
     "output_type": "execute_result"
    }
   ],
   "source": [
    "pd.DataFrame([['Иван', 'Хлеб Бородинский', 1],\n",
    "              ['Иван', 'Хлеб Белый', 0],\n",
    "              ['Иван', 'Йогурт Epica', \"?\"],\n",
    "              ['Василий', 'Хлеб Бородинский', \"?\"],\n",
    "              ['Василий', 'Хлеб Белый', \"?\"],\n",
    "              ['Василий', 'Йогурт Epica', 1]], columns=['user', 'item', 'purchase_fact'])"
   ]
  },
  {
   "cell_type": "markdown",
   "id": "da29924a",
   "metadata": {},
   "source": [
    "-----"
   ]
  },
  {
   "cell_type": "markdown",
   "id": "bc3703e9",
   "metadata": {},
   "source": [
    "## Основные типы задач:\n",
    "    \n",
    "**Рекомендация топ-К товаров**: Дан список товаров. Рекомендовать пользователю K товаров, которые ему понравятся\n",
    "    - e-mail рассылки (М.Видео, Hoff, Пятерочка)\n",
    "    - push-уведомления (Delivery Club, HeadHunter, Виктория)\n",
    "    - Рекомендации в отдельном окне на сайте (vk, okko)\n",
    "\n",
    "**Ранжирование товаров**: Дан список товаров. Нужно его отранжировать в порядке убывания интереса для пользователя\n",
    "    - Ранжирование каталога товаров (Wildberries, Lamoda)\n",
    "    - Ранжирование ленты (vk, Я.Дзен)\n",
    "    - Ранжирование поисковой выдачи (Яндекс, Гугл)\n",
    "    - Ранжирование \"каруселей\" товаров (Delivery Club, Я.Еда)\n",
    "    \n",
    "**Поиск похожих товаров**: Дан 1 товар. Нужно найти наиболее похожие на него товары\n",
    "    - \"Вам также может понравиться\" (Ozon, Циан)\n",
    "    - Похожим пользователям понравилось (vk)\n",
    "    - Вы можете быть знакомы (vk, facebook)\n",
    "    \n",
    "**Рекомендация дополнителдьного товара**. Дан 1 товар. Найти товары, которые покупают вместе с этим товаром\n",
    "    - С этим товаром часто покупают (Я.Маркет, Ozon, М.Видео)\n",
    "    \n",
    "   \n",
    "---\n",
    "На 7 вебинаре мы разберем рекомендательные системы из HeadHunter, Я.Дзен и vk"
   ]
  },
  {
   "cell_type": "markdown",
   "id": "9b3f29ad",
   "metadata": {},
   "source": [
    "# 2. ML-mетрики качества"
   ]
  },
  {
   "cell_type": "markdown",
   "id": "a52ea4af",
   "metadata": {},
   "source": [
    "*Хороши ли рекомендации, предлагаемые моделью?*  \n",
    "Обычно считаются для каждого юзера, затем усредняются по юзерам"
   ]
  },
  {
   "cell_type": "markdown",
   "id": "f54543cb",
   "metadata": {},
   "source": [
    "Представим, что в магазине всего 10 товаров"
   ]
  },
  {
   "cell_type": "code",
   "execution_count": 43,
   "id": "a79af1d6",
   "metadata": {},
   "outputs": [],
   "source": [
    "recommended_list = [143, 156, 1134, 991, 27, 1543, 3345, 533, 11, 43] #id товаров\n",
    "bought_list = [521, 32, 143, 991]"
   ]
  },
  {
   "cell_type": "markdown",
   "id": "3d31a795",
   "metadata": {},
   "source": [
    "### 1. Hit rate\n",
    "\n",
    "Hit rate = был ли хотя бы 1 релевантный товар среди рекомендованных\n",
    "\n",
    "- Иногда применяется, когда продаются достаточно дрогие товары (например, бытовая техника) \n",
    "\n",
    "----\n",
    "Hit rate = (был ли хотя бы 1 релевантный товар среди рекомендованных)   \n",
    "\n",
    "Hit rate@k = (был ли хотя бы 1 релевантный товар среди топ-k рекомендованных)"
   ]
  },
  {
   "cell_type": "code",
   "execution_count": 44,
   "id": "106b8c2e",
   "metadata": {},
   "outputs": [],
   "source": [
    "def hit_rate(recommended_list, bought_list):\n",
    "    \n",
    "    bought_list = np.array(bought_list)\n",
    "    recommended_list = np.array(recommended_list)\n",
    "    \n",
    "    flags = np.isin(bought_list, recommended_list)\n",
    "    \n",
    "    hit_rate = (flags.sum() > 0) * 1\n",
    "    \n",
    "    return hit_rate"
   ]
  },
  {
   "cell_type": "code",
   "execution_count": 45,
   "id": "7528f661",
   "metadata": {},
   "outputs": [],
   "source": [
    "def hit_rate_at_k(recommended_list, bought_list, k=5):\n",
    "    return hit_rate(recommended_list[:k], bought_list)"
   ]
  },
  {
   "cell_type": "code",
   "execution_count": 46,
   "id": "afce28bc",
   "metadata": {},
   "outputs": [
    {
     "data": {
      "text/plain": [
       "1"
      ]
     },
     "execution_count": 46,
     "metadata": {},
     "output_type": "execute_result"
    }
   ],
   "source": [
    "hit_rate(recommended_list, bought_list)"
   ]
  },
  {
   "cell_type": "code",
   "execution_count": 47,
   "id": "bc813829",
   "metadata": {},
   "outputs": [
    {
     "data": {
      "text/plain": [
       "1"
      ]
     },
     "execution_count": 47,
     "metadata": {},
     "output_type": "execute_result"
    }
   ],
   "source": [
    "hit_rate_at_k(recommended_list, bought_list, 3)"
   ]
  },
  {
   "cell_type": "markdown",
   "id": "257019c8",
   "metadata": {},
   "source": [
    "### 2. Precision\n",
    "\n",
    "*Precision* - доля релевантных товаров среди рекомендованных = Какой % рекомендованных товаров  юзер купил\n",
    "\n",
    "- Пожалуй, самая приближенная к бизнес-метрикам и самая популярная метрика\n",
    "\n",
    "---\n",
    "\n",
    "Precision= (# of recommended items that are relevant) / (# of recommended items)  \n",
    "\n",
    "Precision@k = (# of recommended items @k that are relevant) / (# of recommended items @k)\n",
    "\n",
    "Money Precision@k = (revenue of recommended items @k that are relevant) / (revenue of recommended items @k)  \n",
    "\n",
    "**Note:** Обычно k в precision@k достаточно невелико (5-20) и определяется из бизнес-логики. Например, 5 товаров в e-mail рассылке, 20 ответов на первой странице google и т.д"
   ]
  },
  {
   "cell_type": "markdown",
   "id": "f475c135",
   "metadata": {},
   "source": [
    "Красная рыба - 400 руб  \n",
    "Молоко - 60 руб  \n",
    "Хлеб = 40 руб  \n",
    "Гречка = 40 руб  \n",
    "Шоколад = 90 руб  \n",
    "\n",
    "------  \n",
    "Варенье - 240 руб  \n",
    "...  \n",
    "\n",
    "**Case 1**  \n",
    "prices_resommended = [400, 60, 40, 40 , 90]  \n",
    "flags = [1, 0, 0, 0 , 1]  \n",
    "\n",
    "$precison@5 = \\frac{1 + 0 + 0 + 0 + 1}{1+1+1+1+1} = 40\\%$  \n",
    "$money precision@5 = \\frac{1*400 + 0*60 + ... + 1*90}{1*400 + 1*60 + ... + 1*90} = 77.7\\%$  \n",
    "\n",
    "  \n",
    "**Case 2**   \n",
    "prices_resommended = [400, 60, 40, 40 , 90]  \n",
    "flags = [0, 1, 0, 0 , 1]  \n",
    "\n",
    "$precison@5 = \\frac{0 + 1 + 0 + 0 + 1}{1+1+1+1+1} = 40\\%$  \n",
    "$money precision@5 = \\frac{0*400 + 1*60 + ... + 1*90}{1*400 + 1*60 + ... + 1*90} = 15.8\\%$"
   ]
  },
  {
   "cell_type": "code",
   "execution_count": 48,
   "id": "50ef4336",
   "metadata": {},
   "outputs": [],
   "source": [
    "def precision(recommended_list, bought_list):\n",
    "    \n",
    "    bought_list = np.array(bought_list)\n",
    "    recommended_list = np.array(recommended_list)\n",
    "    \n",
    "    flags = np.isin(bought_list, recommended_list)\n",
    "    \n",
    "    precision = flags.sum() / len(recommended_list)\n",
    "    \n",
    "    return precision"
   ]
  },
  {
   "cell_type": "code",
   "execution_count": 49,
   "id": "08d8659a",
   "metadata": {},
   "outputs": [],
   "source": [
    "def precision_at_k(recommended_list, bought_list, k=5):\n",
    "    \n",
    "    bought_list = np.array(bought_list)\n",
    "    recommended_list = np.array(recommended_list)\n",
    "    \n",
    "    bought_list = bought_list\n",
    "    recommended_list = recommended_list[:k]\n",
    "    \n",
    "    flags = np.isin(bought_list, recommended_list)\n",
    "    \n",
    "    precision = flags.sum() / len(recommended_list)\n",
    "    \n",
    "    return precision"
   ]
  },
  {
   "cell_type": "code",
   "execution_count": 50,
   "id": "94a30d48",
   "metadata": {},
   "outputs": [],
   "source": [
    "def money_precision_at_k(recommended_list, bought_list, prices_recommended, k=5):\n",
    "        \n",
    "    bought_list = np.array(bought_list)\n",
    "    recommended_list = np.array(recommended_list)\n",
    "\n",
    "    bought_list = bought_list\n",
    "    recommended_list = recommended_list[:k]\n",
    "\n",
    "    flags = np.isin(recommended_list, bought_list) * 1\n",
    "\n",
    "    money_precision = round(sum(flags * prices_recommended[:k]) / sum(prices_recommended[:k]), 3)\n",
    "    \n",
    "    return money_precision"
   ]
  },
  {
   "cell_type": "code",
   "execution_count": 51,
   "id": "a7bcf35d",
   "metadata": {},
   "outputs": [
    {
     "data": {
      "text/plain": [
       "0.2"
      ]
     },
     "execution_count": 51,
     "metadata": {},
     "output_type": "execute_result"
    }
   ],
   "source": [
    "precision(recommended_list, bought_list)"
   ]
  },
  {
   "cell_type": "code",
   "execution_count": 52,
   "id": "debf541a",
   "metadata": {},
   "outputs": [
    {
     "data": {
      "text/plain": [
       "0.4"
      ]
     },
     "execution_count": 52,
     "metadata": {},
     "output_type": "execute_result"
    }
   ],
   "source": [
    "precision_at_k(recommended_list, bought_list, k=5)"
   ]
  },
  {
   "cell_type": "code",
   "execution_count": 53,
   "id": "2e167f76",
   "metadata": {},
   "outputs": [
    {
     "data": {
      "text/plain": [
       "0.3333333333333333"
      ]
     },
     "execution_count": 53,
     "metadata": {},
     "output_type": "execute_result"
    }
   ],
   "source": [
    "precision_at_k(recommended_list, bought_list, k=3)"
   ]
  },
  {
   "cell_type": "code",
   "execution_count": 54,
   "id": "50ef611b",
   "metadata": {},
   "outputs": [],
   "source": [
    "prices_recommended = [400, 60, 40, 40, 90, 55, 70, 25, 10, 35]"
   ]
  },
  {
   "cell_type": "code",
   "execution_count": 55,
   "id": "8ac4842d",
   "metadata": {},
   "outputs": [
    {
     "data": {
      "text/plain": [
       "0.698"
      ]
     },
     "execution_count": 55,
     "metadata": {},
     "output_type": "execute_result"
    }
   ],
   "source": [
    "money_precision_at_k(recommended_list, bought_list, prices_recommended, 5)"
   ]
  },
  {
   "cell_type": "markdown",
   "id": "50ddb67c",
   "metadata": {},
   "source": [
    "### 3. Recall\n",
    "\n",
    "*Recall* - доля рекомендованных товаров среди релевантных = Какой % купленных товаров был среди рекомендованных\n",
    "\n",
    "- Обычно используется для моделей пре-фильтрации товаров (убрать те товары, которые точно не будем рекомендовать)\n",
    "\n",
    "---\n",
    "\n",
    "Recall= (# of recommended items that are relevant) / (# of relevant items)  \n",
    "\n",
    "Recall@k = (# of recommended items @k that are relevant) / (# of relevant items)\n",
    "\n",
    "Money Recall@k = (revenue of recommended items @k that are relevant) / (revenue of relevant items)  \n",
    "\n",
    "    \n",
    "  \n",
    "**Note:** в recall@k число k обычно достаточно большое (50-200), больше чем покупок у среднестатистического юзера"
   ]
  },
  {
   "cell_type": "code",
   "execution_count": 56,
   "id": "a5ce5c9e",
   "metadata": {},
   "outputs": [],
   "source": [
    "def recall(recommended_list, bought_list):\n",
    "    \n",
    "    bought_list = np.array(bought_list)\n",
    "    recommended_list = np.array(recommended_list)\n",
    "    \n",
    "    flags = np.isin(bought_list, recommended_list)\n",
    "    \n",
    "    recall = flags.sum() / len(bought_list)\n",
    "    \n",
    "    return recall"
   ]
  },
  {
   "cell_type": "code",
   "execution_count": 57,
   "id": "d617cbc6",
   "metadata": {},
   "outputs": [],
   "source": [
    "def recall_at_k(recommended_list, bought_list, k=5):\n",
    "    return recall(recommended_list[:k], bought_list)"
   ]
  },
  {
   "cell_type": "code",
   "execution_count": 58,
   "id": "9cc34808",
   "metadata": {},
   "outputs": [],
   "source": [
    "def money_recall_at_k(recommended_list, bought_list, prices_recommended, prices_bought, k=5):\n",
    "    bought_list = np.array(bought_list)\n",
    "    recommended_list = np.array(recommended_list)[:k]\n",
    "    prices_recommended = np.array(prices_recommended)[:k]\n",
    "    prices_bought = np.array(prices_bought)\n",
    "\n",
    "    flags = np.isin(bought_list, recommended_list) * 1\n",
    "\n",
    "    money_recall = round(sum(flags * prices_bought) / prices_bought.sum(), 3)\n",
    "\n",
    "    return money_recall"
   ]
  },
  {
   "cell_type": "code",
   "execution_count": 59,
   "id": "d7ba011b",
   "metadata": {},
   "outputs": [
    {
     "data": {
      "text/plain": [
       "0.5"
      ]
     },
     "execution_count": 59,
     "metadata": {},
     "output_type": "execute_result"
    }
   ],
   "source": [
    "recall(recommended_list, bought_list)"
   ]
  },
  {
   "cell_type": "code",
   "execution_count": 60,
   "id": "e34cfe55",
   "metadata": {},
   "outputs": [
    {
     "data": {
      "text/plain": [
       "0.25"
      ]
     },
     "execution_count": 60,
     "metadata": {},
     "output_type": "execute_result"
    }
   ],
   "source": [
    "recall_at_k(recommended_list, bought_list, 3)"
   ]
  },
  {
   "cell_type": "code",
   "execution_count": 61,
   "id": "f899b782",
   "metadata": {},
   "outputs": [],
   "source": [
    "prices_bought = [20, 140, 40, 40]"
   ]
  },
  {
   "cell_type": "code",
   "execution_count": 62,
   "id": "f5209929",
   "metadata": {},
   "outputs": [
    {
     "data": {
      "text/plain": [
       "0.333"
      ]
     },
     "execution_count": 62,
     "metadata": {},
     "output_type": "execute_result"
    }
   ],
   "source": [
    "money_recall_at_k(recommended_list, bought_list, prices_recommended, prices_bought, k=5)"
   ]
  },
  {
   "cell_type": "markdown",
   "id": "c8d4de63",
   "metadata": {},
   "source": [
    "# Метрики ранжирования"
   ]
  },
  {
   "cell_type": "markdown",
   "id": "79195bca",
   "metadata": {},
   "source": [
    "## AP@k\n",
    "AP@k - average precision at k\n",
    "\n",
    "$$AP@k = \\frac{1}{r} \\sum{[recommended_{relevant_i}] * precision@k}$$\n",
    "\n",
    "- r - кол-во релевантный среди рекомендованных\n",
    "- Суммируем по всем релевантным товарам\n",
    "- Зависит от порядка реокмендаций"
   ]
  },
  {
   "cell_type": "code",
   "execution_count": 65,
   "id": "695fb049",
   "metadata": {},
   "outputs": [],
   "source": [
    "def ap_k(recommended_list, bought_list, k=5):\n",
    "    \n",
    "    bought_list = np.array(bought_list)\n",
    "    recommended_list = np.array(recommended_list)[:k]\n",
    "    \n",
    "    flags = np.isin(recommended_list, bought_list)\n",
    "    \n",
    "    if sum(flags) == 0:\n",
    "        return 0\n",
    "    \n",
    "    sum_ = 0\n",
    "    for i in range(0, k):\n",
    "        \n",
    "        if flags[i] == True:\n",
    "            p_k = precision_at_k(recommended_list, bought_list, k=i+1)\n",
    "            sum_ += p_k\n",
    "            \n",
    "    result = sum_ / sum(flags)\n",
    "    \n",
    "    return round(result, 3)"
   ]
  },
  {
   "cell_type": "code",
   "execution_count": 66,
   "id": "52497bab",
   "metadata": {},
   "outputs": [
    {
     "data": {
      "text/plain": [
       "0.75"
      ]
     },
     "execution_count": 66,
     "metadata": {},
     "output_type": "execute_result"
    }
   ],
   "source": [
    "ap_k(recommended_list, bought_list, k=5)"
   ]
  },
  {
   "cell_type": "code",
   "execution_count": 67,
   "id": "54506097",
   "metadata": {},
   "outputs": [],
   "source": [
    "def ap_k_v2(recommended_list, bought_list, k=5):\n",
    "    \n",
    "    bought_list = np.array(bought_list)\n",
    "    recommended_list = np.array(recommended_list)[:k]\n",
    "    \n",
    "    relevant_indexes = np.nonzero(np.isin(recommended_list, bought_list))[0]\n",
    "    if len(relevant_indexes) == 0:\n",
    "        return 0\n",
    "    \n",
    "    amount_relevant = len(relevant_indexes)\n",
    "    \n",
    "    sum_ = sum([precision_at_k(recommended_list, bought_list, k=index_relevant+1) for index_relevant in relevant_indexes])\n",
    "    \n",
    "    return sum_/amount_relevant"
   ]
  },
  {
   "cell_type": "code",
   "execution_count": 68,
   "id": "bd7cfd7e",
   "metadata": {},
   "outputs": [
    {
     "data": {
      "text/plain": [
       "0.75"
      ]
     },
     "execution_count": 68,
     "metadata": {},
     "output_type": "execute_result"
    }
   ],
   "source": [
    "ap_k_v2(recommended_list, bought_list, k=5)"
   ]
  },
  {
   "cell_type": "markdown",
   "id": "7723df01",
   "metadata": {},
   "source": [
    "### MAP@k\n",
    "\n",
    "MAP@k (Mean Average Precision@k)  \n",
    "Среднее AP@k по всем юзерам\n",
    "- Показывает средневзвешенную точность рекомендаций\n",
    "\n",
    "$$MAP@k = \\frac{1}{|U|} \\sum_u{AP_k}$$\n",
    "  \n",
    "|U| - кол-во юзеров"
   ]
  },
  {
   "cell_type": "code",
   "execution_count": 69,
   "id": "18787ccb",
   "metadata": {},
   "outputs": [],
   "source": [
    "def map_k(recommended_list, users, k=5):\n",
    "    result = [ap_k(recommended_list, el) for el in users['purchased_items']]\n",
    "    return round(sum(result)/users.shape[0], 3)"
   ]
  },
  {
   "cell_type": "code",
   "execution_count": 70,
   "id": "eceaacd0",
   "metadata": {},
   "outputs": [],
   "source": [
    "df_ = [{\"userID\": 0, \"purchased_items\": [521, 32, 143, 991], \"prices_bought\": [20, 140, 40, 40]},\n",
    "      {\"userID\": 1, \"purchased_items\": [27, 15, 100, 1543], \"prices_bought\": [90, 100, 70, 55]},\n",
    "      {\"userID\": 2, \"purchased_items\": [156, 32, 143, 991], \"prices_bought\": [60, 30, 40, 40]},\n",
    "     ]"
   ]
  },
  {
   "cell_type": "code",
   "execution_count": 71,
   "id": "e1b73726",
   "metadata": {},
   "outputs": [
    {
     "data": {
      "text/html": [
       "<div>\n",
       "<style scoped>\n",
       "    .dataframe tbody tr th:only-of-type {\n",
       "        vertical-align: middle;\n",
       "    }\n",
       "\n",
       "    .dataframe tbody tr th {\n",
       "        vertical-align: top;\n",
       "    }\n",
       "\n",
       "    .dataframe thead th {\n",
       "        text-align: right;\n",
       "    }\n",
       "</style>\n",
       "<table border=\"1\" class=\"dataframe\">\n",
       "  <thead>\n",
       "    <tr style=\"text-align: right;\">\n",
       "      <th></th>\n",
       "      <th>userID</th>\n",
       "      <th>purchased_items</th>\n",
       "      <th>prices_bought</th>\n",
       "    </tr>\n",
       "  </thead>\n",
       "  <tbody>\n",
       "    <tr>\n",
       "      <th>0</th>\n",
       "      <td>0</td>\n",
       "      <td>[521, 32, 143, 991]</td>\n",
       "      <td>[20, 140, 40, 40]</td>\n",
       "    </tr>\n",
       "    <tr>\n",
       "      <th>1</th>\n",
       "      <td>1</td>\n",
       "      <td>[27, 15, 100, 1543]</td>\n",
       "      <td>[90, 100, 70, 55]</td>\n",
       "    </tr>\n",
       "    <tr>\n",
       "      <th>2</th>\n",
       "      <td>2</td>\n",
       "      <td>[156, 32, 143, 991]</td>\n",
       "      <td>[60, 30, 40, 40]</td>\n",
       "    </tr>\n",
       "  </tbody>\n",
       "</table>\n",
       "</div>"
      ],
      "text/plain": [
       "   userID      purchased_items      prices_bought\n",
       "0       0  [521, 32, 143, 991]  [20, 140, 40, 40]\n",
       "1       1  [27, 15, 100, 1543]  [90, 100, 70, 55]\n",
       "2       2  [156, 32, 143, 991]   [60, 30, 40, 40]"
      ]
     },
     "execution_count": 71,
     "metadata": {},
     "output_type": "execute_result"
    }
   ],
   "source": [
    "df = pd.DataFrame(df_, columns=['userID', 'purchased_items', 'prices_bought'])\n",
    "df"
   ]
  },
  {
   "cell_type": "code",
   "execution_count": 72,
   "id": "ec4cc71c",
   "metadata": {},
   "outputs": [
    {
     "data": {
      "text/plain": [
       "0.622"
      ]
     },
     "execution_count": 72,
     "metadata": {},
     "output_type": "execute_result"
    }
   ],
   "source": [
    "map_k(recommended_list, users=df, k=3)"
   ]
  },
  {
   "cell_type": "markdown",
   "id": "684ec740",
   "metadata": {},
   "source": [
    "Сделаем проверку вышеуказанных функций на следующих данных"
   ]
  },
  {
   "cell_type": "code",
   "execution_count": 73,
   "id": "ec494807",
   "metadata": {},
   "outputs": [
    {
     "data": {
      "text/plain": [
       "[143, 156, 1134, 991, 27, 1543, 3345, 533, 11, 43]"
      ]
     },
     "execution_count": 73,
     "metadata": {},
     "output_type": "execute_result"
    }
   ],
   "source": [
    "recommended_list"
   ]
  },
  {
   "cell_type": "code",
   "execution_count": 74,
   "id": "ad69d0ee",
   "metadata": {},
   "outputs": [
    {
     "data": {
      "text/plain": [
       "[27, 15, 100, 1543]"
      ]
     },
     "execution_count": 74,
     "metadata": {},
     "output_type": "execute_result"
    }
   ],
   "source": [
    "df['purchased_items'][1]"
   ]
  },
  {
   "cell_type": "code",
   "execution_count": 75,
   "id": "8d04ab80",
   "metadata": {},
   "outputs": [
    {
     "data": {
      "text/plain": [
       "0.3333333333333333"
      ]
     },
     "execution_count": 75,
     "metadata": {},
     "output_type": "execute_result"
    }
   ],
   "source": [
    "precision_at_k(recommended_list, df['purchased_items'][1], k=6)  # Out: True: 2/6 = 0.333"
   ]
  },
  {
   "cell_type": "code",
   "execution_count": 76,
   "id": "a64d8165",
   "metadata": {},
   "outputs": [
    {
     "data": {
      "text/plain": [
       "0.5"
      ]
     },
     "execution_count": 76,
     "metadata": {},
     "output_type": "execute_result"
    }
   ],
   "source": [
    "recall_at_k(recommended_list, df['purchased_items'][1], k=6)  # Ouy: True: 2/4 = 0.5"
   ]
  },
  {
   "cell_type": "code",
   "execution_count": 77,
   "id": "66f4595e",
   "metadata": {},
   "outputs": [
    {
     "data": {
      "text/plain": [
       "[90, 100, 70, 55]"
      ]
     },
     "execution_count": 77,
     "metadata": {},
     "output_type": "execute_result"
    }
   ],
   "source": [
    "df['prices_bought'][1]"
   ]
  },
  {
   "cell_type": "code",
   "execution_count": 78,
   "id": "3e3fbe8d",
   "metadata": {},
   "outputs": [
    {
     "data": {
      "text/plain": [
       "[400, 60, 40, 40, 90, 55, 70, 25, 10, 35]"
      ]
     },
     "execution_count": 78,
     "metadata": {},
     "output_type": "execute_result"
    }
   ],
   "source": [
    "prices_recommended"
   ]
  },
  {
   "cell_type": "code",
   "execution_count": 79,
   "id": "a41dbd0d",
   "metadata": {},
   "outputs": [
    {
     "data": {
      "text/plain": [
       "0.46"
      ]
     },
     "execution_count": 79,
     "metadata": {},
     "output_type": "execute_result"
    }
   ],
   "source": [
    "money_recall_at_k(recommended_list, df['purchased_items'][1], prices_recommended, df['prices_bought'][1], k=6)"
   ]
  },
  {
   "cell_type": "markdown",
   "id": "82a2ad32",
   "metadata": {},
   "source": [
    "### AUC@k\n",
    "AUC для первых k наблюдений  \n",
    "- Можно посчитать как sklern.metrics.roc_auc_score для топ-k предсказаний\n",
    "- Показывает долю верно отранжированных товаров"
   ]
  },
  {
   "cell_type": "markdown",
   "id": "4321ed29",
   "metadata": {},
   "source": [
    "### NDCG@k\n",
    "Normalized discounted cumulative gain\n",
    "\n",
    "$$DCG = \\frac{1}{|r|} \\sum_u{\\frac{[bought fact]}{discount(i)}}$$  \n",
    "\n",
    "$discount(i) = 1$ if $i <= 2$,   \n",
    "$discount(i) = log_2(i)$ if $i > 2$\n",
    "\n",
    "\n",
    "(!) Считаем для первых k рекоммендаций   \n",
    "(!) - существуют вариации с другими $discount(i)$  \n",
    "i - ранк рекомендованного товара  \n",
    "|r| - кол-во рекомендованных товаров \n",
    "\n",
    "$$NDCG = \\frac{DCG}{ideal DCG}$$\n"
   ]
  },
  {
   "cell_type": "markdown",
   "id": "ada6cf92",
   "metadata": {},
   "source": [
    "$DCG@5 = \\frac{1}{5}*(1 / 1 + 0 / 2 + 0 / log(3) + 1 / log(4) + 0 / log(5))$  \n",
    "$ideal DCG@5 = \\frac{1}{5}*(1 / 1 + 1 / 2 + 1 / log(3) + 1 / log(4) + 1 / log(5))$  \n",
    "\n",
    "$NDCG = \\frac{DCG}{ideal DCG}$"
   ]
  },
  {
   "cell_type": "markdown",
   "id": "afa618e7",
   "metadata": {},
   "source": [
    "### MRR@k\n",
    "Mean Reciprocal Rank\n",
    "\n",
    "- Считаем для первых k рекоммендаций\n",
    "- Найти ранк первого релевантного предсказания $k_u$\n",
    "- Посчитать reciprocal rank = $\\frac{1}{k_u}$\n",
    "\n",
    "$$MRR = mean(\\frac{1}{k_u})$$"
   ]
  },
  {
   "cell_type": "code",
   "execution_count": 105,
   "id": "ecb20be2",
   "metadata": {},
   "outputs": [],
   "source": [
    "def reciprocal_rank(recommended_list, bought_list, k=5):\n",
    "    bought_list = np.array(bought_list)\n",
    "    recommended_list = np.array(recommended_list)[:k]\n",
    "\n",
    "    relevant_indexes = np.nonzero(np.isin(recommended_list, bought_list))[0]\n",
    "    \n",
    "    if len(relevant_indexes) >= 1:\n",
    "        own_relevant_index = relevant_indexes[0] + 1\n",
    "    else:\n",
    "        return 0\n",
    "    \n",
    "    return 1 / (own_relevant_index)"
   ]
  },
  {
   "cell_type": "code",
   "execution_count": 88,
   "id": "376a38f4",
   "metadata": {},
   "outputs": [],
   "source": [
    "def mean_reciprocal_rank(recommended_list, users, k=5):\n",
    "    result = [reciprocal_rank(recommended_list, el, k) for el in users['purchased_items']]\n",
    "    return round(sum(result) / users.shape[0], 3)"
   ]
  },
  {
   "cell_type": "code",
   "execution_count": 106,
   "id": "13ff7095",
   "metadata": {},
   "outputs": [
    {
     "data": {
      "text/plain": [
       "0.667"
      ]
     },
     "execution_count": 106,
     "metadata": {},
     "output_type": "execute_result"
    }
   ],
   "source": [
    "mean_reciprocal_rank(recommended_list, users=df, k=3)"
   ]
  },
  {
   "cell_type": "code",
   "execution_count": 86,
   "id": "2fc7403a",
   "metadata": {},
   "outputs": [
    {
     "data": {
      "text/html": [
       "<div>\n",
       "<style scoped>\n",
       "    .dataframe tbody tr th:only-of-type {\n",
       "        vertical-align: middle;\n",
       "    }\n",
       "\n",
       "    .dataframe tbody tr th {\n",
       "        vertical-align: top;\n",
       "    }\n",
       "\n",
       "    .dataframe thead th {\n",
       "        text-align: right;\n",
       "    }\n",
       "</style>\n",
       "<table border=\"1\" class=\"dataframe\">\n",
       "  <thead>\n",
       "    <tr style=\"text-align: right;\">\n",
       "      <th></th>\n",
       "      <th>userID</th>\n",
       "      <th>purchased_items</th>\n",
       "      <th>prices_bought</th>\n",
       "    </tr>\n",
       "  </thead>\n",
       "  <tbody>\n",
       "    <tr>\n",
       "      <th>0</th>\n",
       "      <td>0</td>\n",
       "      <td>[521, 32, 143, 991]</td>\n",
       "      <td>[20, 140, 40, 40]</td>\n",
       "    </tr>\n",
       "    <tr>\n",
       "      <th>1</th>\n",
       "      <td>1</td>\n",
       "      <td>[27, 15, 100, 1543]</td>\n",
       "      <td>[90, 100, 70, 55]</td>\n",
       "    </tr>\n",
       "    <tr>\n",
       "      <th>2</th>\n",
       "      <td>2</td>\n",
       "      <td>[156, 32, 143, 991]</td>\n",
       "      <td>[60, 30, 40, 40]</td>\n",
       "    </tr>\n",
       "  </tbody>\n",
       "</table>\n",
       "</div>"
      ],
      "text/plain": [
       "   userID      purchased_items      prices_bought\n",
       "0       0  [521, 32, 143, 991]  [20, 140, 40, 40]\n",
       "1       1  [27, 15, 100, 1543]  [90, 100, 70, 55]\n",
       "2       2  [156, 32, 143, 991]   [60, 30, 40, 40]"
      ]
     },
     "execution_count": 86,
     "metadata": {},
     "output_type": "execute_result"
    }
   ],
   "source": [
    "df"
   ]
  },
  {
   "cell_type": "code",
   "execution_count": null,
   "id": "7cfd2bc6",
   "metadata": {},
   "outputs": [],
   "source": []
  }
 ],
 "metadata": {
  "kernelspec": {
   "display_name": "Python 3 (ipykernel)",
   "language": "python",
   "name": "python3"
  },
  "language_info": {
   "codemirror_mode": {
    "name": "ipython",
    "version": 3
   },
   "file_extension": ".py",
   "mimetype": "text/x-python",
   "name": "python",
   "nbconvert_exporter": "python",
   "pygments_lexer": "ipython3",
   "version": "3.8.8"
  }
 },
 "nbformat": 4,
 "nbformat_minor": 5
}
