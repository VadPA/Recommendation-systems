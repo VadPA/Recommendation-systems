{
 "cells": [
  {
   "cell_type": "markdown",
   "source": [
    "# Двухуровневые модели рекомендаций"
   ],
   "metadata": {
    "collapsed": false,
    "pycharm": {
     "name": "#%% md\n"
    }
   }
  },
  {
   "cell_type": "markdown",
   "source": [
    "---"
   ],
   "metadata": {
    "collapsed": false,
    "pycharm": {
     "name": "#%% md\n"
    }
   }
  },
  {
   "cell_type": "markdown",
   "source": [
    "# Import libs"
   ],
   "metadata": {
    "collapsed": false,
    "pycharm": {
     "name": "#%% md\n"
    }
   }
  },
  {
   "cell_type": "code",
   "execution_count": 1,
   "outputs": [],
   "source": [
    "import pandas as pd\n",
    "import numpy as np\n",
    "import itertools\n",
    "import matplotlib.pyplot as plt\n",
    "%matplotlib inline\n",
    "\n",
    "# Модель второго уровня\n",
    "from lightgbm import LGBMClassifier"
   ],
   "metadata": {
    "collapsed": false,
    "pycharm": {
     "name": "#%%\n"
    }
   }
  },
  {
   "cell_type": "code",
   "execution_count": 2,
   "outputs": [],
   "source": [
    "# Написанные нами функции\n",
    "from metrics import precision_at_k, recall_at_k\n",
    "from utils import prefilter_items, time_to_cat\n",
    "from recommenders import MainRecommender\n",
    "import MyServiceFunctions"
   ],
   "metadata": {
    "collapsed": false,
    "pycharm": {
     "name": "#%%\n"
    }
   }
  },
  {
   "cell_type": "markdown",
   "source": [
    "## Read data"
   ],
   "metadata": {
    "collapsed": false,
    "pycharm": {
     "name": "#%% md\n"
    }
   }
  },
  {
   "cell_type": "code",
   "execution_count": 3,
   "outputs": [],
   "source": [
    "data = pd.read_csv('C:/Users/Вадим/Desktop/GeekBrains/Recommendation-systems/Lectures/Lecture_2/webinar_2/webinar_2'\n",
    "                   '/data/retail_train.csv')\n",
    "item_features = pd.read_csv('C:/Users/Вадим/Desktop/GeekBrains/Recommendation-systems/Lectures/Lecture_2/webinar_2/webinar_2'\n",
    "                            '/data/product.csv')\n",
    "user_features = pd.read_csv('C:/Users/Вадим/Desktop/GeekBrains/Recommendation-systems/Lectures/Lecture_2/webinar_2/webinar_2'\n",
    "                            '/data/hh_demographic.csv')"
   ],
   "metadata": {
    "collapsed": false,
    "pycharm": {
     "name": "#%%\n"
    }
   }
  },
  {
   "cell_type": "markdown",
   "source": [
    "# Process features dataset"
   ],
   "metadata": {
    "collapsed": false,
    "pycharm": {
     "name": "#%% md\n"
    }
   }
  },
  {
   "cell_type": "code",
   "execution_count": 4,
   "outputs": [
    {
     "data": {
      "text/plain": "   user_id    basket_id  day  item_id  quantity  sales_value  store_id  \\\n0     2375  26984851472    1  1004906         1         1.39       364   \n1     2375  26984851472    1  1033142         1         0.82       364   \n\n   retail_disc  trans_time  week_no  coupon_disc  coupon_match_disc  \n0         -0.6        1631        1          0.0                0.0  \n1          0.0        1631        1          0.0                0.0  ",
      "text/html": "<div>\n<style scoped>\n    .dataframe tbody tr th:only-of-type {\n        vertical-align: middle;\n    }\n\n    .dataframe tbody tr th {\n        vertical-align: top;\n    }\n\n    .dataframe thead th {\n        text-align: right;\n    }\n</style>\n<table border=\"1\" class=\"dataframe\">\n  <thead>\n    <tr style=\"text-align: right;\">\n      <th></th>\n      <th>user_id</th>\n      <th>basket_id</th>\n      <th>day</th>\n      <th>item_id</th>\n      <th>quantity</th>\n      <th>sales_value</th>\n      <th>store_id</th>\n      <th>retail_disc</th>\n      <th>trans_time</th>\n      <th>week_no</th>\n      <th>coupon_disc</th>\n      <th>coupon_match_disc</th>\n    </tr>\n  </thead>\n  <tbody>\n    <tr>\n      <th>0</th>\n      <td>2375</td>\n      <td>26984851472</td>\n      <td>1</td>\n      <td>1004906</td>\n      <td>1</td>\n      <td>1.39</td>\n      <td>364</td>\n      <td>-0.6</td>\n      <td>1631</td>\n      <td>1</td>\n      <td>0.0</td>\n      <td>0.0</td>\n    </tr>\n    <tr>\n      <th>1</th>\n      <td>2375</td>\n      <td>26984851472</td>\n      <td>1</td>\n      <td>1033142</td>\n      <td>1</td>\n      <td>0.82</td>\n      <td>364</td>\n      <td>0.0</td>\n      <td>1631</td>\n      <td>1</td>\n      <td>0.0</td>\n      <td>0.0</td>\n    </tr>\n  </tbody>\n</table>\n</div>"
     },
     "execution_count": 4,
     "metadata": {},
     "output_type": "execute_result"
    }
   ],
   "source": [
    "data.head(2)"
   ],
   "metadata": {
    "collapsed": false,
    "pycharm": {
     "name": "#%%\n"
    }
   }
  },
  {
   "cell_type": "markdown",
   "source": [
    "### Features"
   ],
   "metadata": {
    "collapsed": false,
    "pycharm": {
     "name": "#%% md\n"
    }
   }
  },
  {
   "cell_type": "markdown",
   "source": [
    "- user_id - Уникально идентифицирует каждое домашнее хозяйство.\n",
    "- basket_id - Uniquely identifies a purchase occasion. Однозначно идентифицирует случай покупки.\n",
    "- day - Day when transaction occurred. День, когда произошла транзакция.\n",
    "- item_id - Uniquely identifies each product. Уникально идентифицирует каждый продукт.\n",
    "- quantity - Number of the products purchased during the trip. Количество продуктов, приобретенных во время визита в магазин.\n",
    "- sales_value - Amount of dollars retailer receives from sale. Сумма долларов, которую ритейлер получает от продажи.\n",
    "- store_id - Identifies unique stores. Однозначно идентифицирует магазины.\n",
    "- retail_disc - Discount applied due to retailer's loyalty card program. Скидка, применяемая в связи с программой карты лояльности ритейлера.\n",
    "- trans_time - Time of day when the transaction occurred. Время суток, когда произошла транзакция.\n",
    "- week_no - Week of the transaction. Ranges 1 - 102. Неделя транзакции. Диапазон 1 - 102.\n",
    "- coupon_disc - Discount applied due to manufacturer coupon. Скидка, применяемая в связи с купоном производителя.\n",
    "- coupon_match_disc - Discount applied due to retailer's match of manufacturer coupon. Скидка применяется в связи с совпадением купона продавца с купоном производителя."
   ],
   "metadata": {
    "collapsed": false,
    "pycharm": {
     "name": "#%% md\n"
    }
   }
  },
  {
   "cell_type": "code",
   "execution_count": 5,
   "outputs": [
    {
     "name": "stdout",
     "output_type": "stream",
     "text": [
      "<class 'pandas.core.frame.DataFrame'>\n",
      "RangeIndex: 2396804 entries, 0 to 2396803\n",
      "Data columns (total 12 columns):\n",
      " #   Column             Dtype  \n",
      "---  ------             -----  \n",
      " 0   user_id            int64  \n",
      " 1   basket_id          int64  \n",
      " 2   day                int64  \n",
      " 3   item_id            int64  \n",
      " 4   quantity           int64  \n",
      " 5   sales_value        float64\n",
      " 6   store_id           int64  \n",
      " 7   retail_disc        float64\n",
      " 8   trans_time         int64  \n",
      " 9   week_no            int64  \n",
      " 10  coupon_disc        float64\n",
      " 11  coupon_match_disc  float64\n",
      "dtypes: float64(4), int64(8)\n",
      "memory usage: 219.4 MB\n"
     ]
    }
   ],
   "source": [
    "data.info()"
   ],
   "metadata": {
    "collapsed": false,
    "pycharm": {
     "name": "#%%\n"
    }
   }
  },
  {
   "cell_type": "code",
   "execution_count": 6,
   "outputs": [
    {
     "data": {
      "text/plain": "user_id              0\nbasket_id            0\nday                  0\nitem_id              0\nquantity             0\nsales_value          0\nstore_id             0\nretail_disc          0\ntrans_time           0\nweek_no              0\ncoupon_disc          0\ncoupon_match_disc    0\ndtype: int64"
     },
     "execution_count": 6,
     "metadata": {},
     "output_type": "execute_result"
    }
   ],
   "source": [
    "data.isna().sum()"
   ],
   "metadata": {
    "collapsed": false,
    "pycharm": {
     "name": "#%%\n"
    }
   }
  },
  {
   "cell_type": "markdown",
   "source": [
    "### 1. Selection and construction of new features"
   ],
   "metadata": {
    "collapsed": false,
    "pycharm": {
     "name": "#%% md\n"
    }
   }
  },
  {
   "cell_type": "markdown",
   "source": [
    "#### Введём признак домохозяйства - в какое время дня чаще всего совершаются покупки, для этого расчетаем среднее время совершания покупок."
   ],
   "metadata": {
    "collapsed": false,
    "pycharm": {
     "name": "#%% md\n"
    }
   }
  },
  {
   "cell_type": "code",
   "execution_count": 7,
   "outputs": [
    {
     "data": {
      "text/plain": "   user_id  avr_trans_time\n0        1            1384\n1        2            1805",
      "text/html": "<div>\n<style scoped>\n    .dataframe tbody tr th:only-of-type {\n        vertical-align: middle;\n    }\n\n    .dataframe tbody tr th {\n        vertical-align: top;\n    }\n\n    .dataframe thead th {\n        text-align: right;\n    }\n</style>\n<table border=\"1\" class=\"dataframe\">\n  <thead>\n    <tr style=\"text-align: right;\">\n      <th></th>\n      <th>user_id</th>\n      <th>avr_trans_time</th>\n    </tr>\n  </thead>\n  <tbody>\n    <tr>\n      <th>0</th>\n      <td>1</td>\n      <td>1384</td>\n    </tr>\n    <tr>\n      <th>1</th>\n      <td>2</td>\n      <td>1805</td>\n    </tr>\n  </tbody>\n</table>\n</div>"
     },
     "execution_count": 7,
     "metadata": {},
     "output_type": "execute_result"
    }
   ],
   "source": [
    "df_cat = data.groupby(['user_id'], as_index=False).mean()[['user_id','trans_time']]\n",
    "df_cat = pd.DataFrame(df_cat)\n",
    "df_cat.rename(columns={'trans_time': 'avr_trans_time'}, inplace=True)\n",
    "df_cat['avr_trans_time'] = df_cat['avr_trans_time'].astype(int)\n",
    "df_cat.head(2)"
   ],
   "metadata": {
    "collapsed": false,
    "pycharm": {
     "name": "#%%\n"
    }
   }
  },
  {
   "cell_type": "code",
   "execution_count": 8,
   "outputs": [
    {
     "data": {
      "text/plain": "   user_id    basket_id  day  item_id  quantity  sales_value  store_id  \\\n0     2375  26984851472    1  1004906         1         1.39       364   \n1     2375  26984851472    1  1033142         1         0.82       364   \n\n   retail_disc  trans_time  week_no  coupon_disc  coupon_match_disc  \\\n0         -0.6        1631        1          0.0                0.0   \n1          0.0        1631        1          0.0                0.0   \n\n   avr_trans_time  \n0            1237  \n1            1237  ",
      "text/html": "<div>\n<style scoped>\n    .dataframe tbody tr th:only-of-type {\n        vertical-align: middle;\n    }\n\n    .dataframe tbody tr th {\n        vertical-align: top;\n    }\n\n    .dataframe thead th {\n        text-align: right;\n    }\n</style>\n<table border=\"1\" class=\"dataframe\">\n  <thead>\n    <tr style=\"text-align: right;\">\n      <th></th>\n      <th>user_id</th>\n      <th>basket_id</th>\n      <th>day</th>\n      <th>item_id</th>\n      <th>quantity</th>\n      <th>sales_value</th>\n      <th>store_id</th>\n      <th>retail_disc</th>\n      <th>trans_time</th>\n      <th>week_no</th>\n      <th>coupon_disc</th>\n      <th>coupon_match_disc</th>\n      <th>avr_trans_time</th>\n    </tr>\n  </thead>\n  <tbody>\n    <tr>\n      <th>0</th>\n      <td>2375</td>\n      <td>26984851472</td>\n      <td>1</td>\n      <td>1004906</td>\n      <td>1</td>\n      <td>1.39</td>\n      <td>364</td>\n      <td>-0.6</td>\n      <td>1631</td>\n      <td>1</td>\n      <td>0.0</td>\n      <td>0.0</td>\n      <td>1237</td>\n    </tr>\n    <tr>\n      <th>1</th>\n      <td>2375</td>\n      <td>26984851472</td>\n      <td>1</td>\n      <td>1033142</td>\n      <td>1</td>\n      <td>0.82</td>\n      <td>364</td>\n      <td>0.0</td>\n      <td>1631</td>\n      <td>1</td>\n      <td>0.0</td>\n      <td>0.0</td>\n      <td>1237</td>\n    </tr>\n  </tbody>\n</table>\n</div>"
     },
     "execution_count": 8,
     "metadata": {},
     "output_type": "execute_result"
    }
   ],
   "source": [
    "data = data.merge(df_cat, on=['user_id'])\n",
    "data.head(2)"
   ],
   "metadata": {
    "collapsed": false,
    "pycharm": {
     "name": "#%%\n"
    }
   }
  },
  {
   "cell_type": "code",
   "execution_count": 9,
   "outputs": [
    {
     "data": {
      "text/plain": "   user_id    basket_id  day  item_id  quantity  sales_value  store_id  \\\n0     2375  26984851472    1  1004906         1         1.39       364   \n1     2375  26984851472    1  1033142         1         0.82       364   \n\n   retail_disc  trans_time  week_no  coupon_disc  coupon_match_disc  \\\n0         -0.6        1631        1          0.0                0.0   \n1          0.0        1631        1          0.0                0.0   \n\n   avr_trans_time time_cat  \n0            1237      day  \n1            1237      day  ",
      "text/html": "<div>\n<style scoped>\n    .dataframe tbody tr th:only-of-type {\n        vertical-align: middle;\n    }\n\n    .dataframe tbody tr th {\n        vertical-align: top;\n    }\n\n    .dataframe thead th {\n        text-align: right;\n    }\n</style>\n<table border=\"1\" class=\"dataframe\">\n  <thead>\n    <tr style=\"text-align: right;\">\n      <th></th>\n      <th>user_id</th>\n      <th>basket_id</th>\n      <th>day</th>\n      <th>item_id</th>\n      <th>quantity</th>\n      <th>sales_value</th>\n      <th>store_id</th>\n      <th>retail_disc</th>\n      <th>trans_time</th>\n      <th>week_no</th>\n      <th>coupon_disc</th>\n      <th>coupon_match_disc</th>\n      <th>avr_trans_time</th>\n      <th>time_cat</th>\n    </tr>\n  </thead>\n  <tbody>\n    <tr>\n      <th>0</th>\n      <td>2375</td>\n      <td>26984851472</td>\n      <td>1</td>\n      <td>1004906</td>\n      <td>1</td>\n      <td>1.39</td>\n      <td>364</td>\n      <td>-0.6</td>\n      <td>1631</td>\n      <td>1</td>\n      <td>0.0</td>\n      <td>0.0</td>\n      <td>1237</td>\n      <td>day</td>\n    </tr>\n    <tr>\n      <th>1</th>\n      <td>2375</td>\n      <td>26984851472</td>\n      <td>1</td>\n      <td>1033142</td>\n      <td>1</td>\n      <td>0.82</td>\n      <td>364</td>\n      <td>0.0</td>\n      <td>1631</td>\n      <td>1</td>\n      <td>0.0</td>\n      <td>0.0</td>\n      <td>1237</td>\n      <td>day</td>\n    </tr>\n  </tbody>\n</table>\n</div>"
     },
     "execution_count": 9,
     "metadata": {},
     "output_type": "execute_result"
    }
   ],
   "source": [
    "data = time_to_cat(data)\n",
    "data.head(2)"
   ],
   "metadata": {
    "collapsed": false,
    "pycharm": {
     "name": "#%%\n"
    }
   }
  },
  {
   "cell_type": "markdown",
   "source": [
    "#### Создадим список покупок каждого домохозяйства"
   ],
   "metadata": {
    "collapsed": false,
    "pycharm": {
     "name": "#%% md\n"
    }
   }
  },
  {
   "cell_type": "code",
   "execution_count": 10,
   "outputs": [
    {
     "data": {
      "text/plain": "   user_id                                     list_basket_id\n0        1  {32259826179, 28106322445, 31818756113, 325567...\n1        2  {30035866883, 41008217091, 29157132423, 406185...",
      "text/html": "<div>\n<style scoped>\n    .dataframe tbody tr th:only-of-type {\n        vertical-align: middle;\n    }\n\n    .dataframe tbody tr th {\n        vertical-align: top;\n    }\n\n    .dataframe thead th {\n        text-align: right;\n    }\n</style>\n<table border=\"1\" class=\"dataframe\">\n  <thead>\n    <tr style=\"text-align: right;\">\n      <th></th>\n      <th>user_id</th>\n      <th>list_basket_id</th>\n    </tr>\n  </thead>\n  <tbody>\n    <tr>\n      <th>0</th>\n      <td>1</td>\n      <td>{32259826179, 28106322445, 31818756113, 325567...</td>\n    </tr>\n    <tr>\n      <th>1</th>\n      <td>2</td>\n      <td>{30035866883, 41008217091, 29157132423, 406185...</td>\n    </tr>\n  </tbody>\n</table>\n</div>"
     },
     "execution_count": 10,
     "metadata": {},
     "output_type": "execute_result"
    }
   ],
   "source": [
    "df_cat = data.groupby(['user_id'], as_index=False).agg({'basket_id': lambda x: set(x)})\n",
    "df_cat.columns = ['user_id', 'list_basket_id']\n",
    "df_cat.head(2)"
   ],
   "metadata": {
    "collapsed": false,
    "pycharm": {
     "name": "#%%\n"
    }
   }
  },
  {
   "cell_type": "markdown",
   "source": [
    "#### Создадим признак - количество покупок каждого домохозяйства"
   ],
   "metadata": {
    "collapsed": false,
    "pycharm": {
     "name": "#%% md\n"
    }
   }
  },
  {
   "cell_type": "code",
   "execution_count": 11,
   "outputs": [
    {
     "data": {
      "text/plain": "   user_id  num_of_purchases\n0        1                79\n1        2                44",
      "text/html": "<div>\n<style scoped>\n    .dataframe tbody tr th:only-of-type {\n        vertical-align: middle;\n    }\n\n    .dataframe tbody tr th {\n        vertical-align: top;\n    }\n\n    .dataframe thead th {\n        text-align: right;\n    }\n</style>\n<table border=\"1\" class=\"dataframe\">\n  <thead>\n    <tr style=\"text-align: right;\">\n      <th></th>\n      <th>user_id</th>\n      <th>num_of_purchases</th>\n    </tr>\n  </thead>\n  <tbody>\n    <tr>\n      <th>0</th>\n      <td>1</td>\n      <td>79</td>\n    </tr>\n    <tr>\n      <th>1</th>\n      <td>2</td>\n      <td>44</td>\n    </tr>\n  </tbody>\n</table>\n</div>"
     },
     "execution_count": 11,
     "metadata": {},
     "output_type": "execute_result"
    }
   ],
   "source": [
    "df_cat['num_of_purchases'] = df_cat['list_basket_id'].apply(lambda x: len(x))\n",
    "df_cat.drop('list_basket_id', axis=1,  inplace=True)\n",
    "df_cat.head(2)"
   ],
   "metadata": {
    "collapsed": false,
    "pycharm": {
     "name": "#%%\n"
    }
   }
  },
  {
   "cell_type": "code",
   "execution_count": 12,
   "outputs": [
    {
     "data": {
      "text/plain": "   user_id    basket_id  day  item_id  quantity  sales_value  store_id  \\\n0     2375  26984851472    1  1004906         1         1.39       364   \n1     2375  26984851472    1  1033142         1         0.82       364   \n\n   retail_disc  trans_time  week_no  coupon_disc  coupon_match_disc  \\\n0         -0.6        1631        1          0.0                0.0   \n1          0.0        1631        1          0.0                0.0   \n\n   avr_trans_time time_cat  num_of_purchases  \n0            1237      day               105  \n1            1237      day               105  ",
      "text/html": "<div>\n<style scoped>\n    .dataframe tbody tr th:only-of-type {\n        vertical-align: middle;\n    }\n\n    .dataframe tbody tr th {\n        vertical-align: top;\n    }\n\n    .dataframe thead th {\n        text-align: right;\n    }\n</style>\n<table border=\"1\" class=\"dataframe\">\n  <thead>\n    <tr style=\"text-align: right;\">\n      <th></th>\n      <th>user_id</th>\n      <th>basket_id</th>\n      <th>day</th>\n      <th>item_id</th>\n      <th>quantity</th>\n      <th>sales_value</th>\n      <th>store_id</th>\n      <th>retail_disc</th>\n      <th>trans_time</th>\n      <th>week_no</th>\n      <th>coupon_disc</th>\n      <th>coupon_match_disc</th>\n      <th>avr_trans_time</th>\n      <th>time_cat</th>\n      <th>num_of_purchases</th>\n    </tr>\n  </thead>\n  <tbody>\n    <tr>\n      <th>0</th>\n      <td>2375</td>\n      <td>26984851472</td>\n      <td>1</td>\n      <td>1004906</td>\n      <td>1</td>\n      <td>1.39</td>\n      <td>364</td>\n      <td>-0.6</td>\n      <td>1631</td>\n      <td>1</td>\n      <td>0.0</td>\n      <td>0.0</td>\n      <td>1237</td>\n      <td>day</td>\n      <td>105</td>\n    </tr>\n    <tr>\n      <th>1</th>\n      <td>2375</td>\n      <td>26984851472</td>\n      <td>1</td>\n      <td>1033142</td>\n      <td>1</td>\n      <td>0.82</td>\n      <td>364</td>\n      <td>0.0</td>\n      <td>1631</td>\n      <td>1</td>\n      <td>0.0</td>\n      <td>0.0</td>\n      <td>1237</td>\n      <td>day</td>\n      <td>105</td>\n    </tr>\n  </tbody>\n</table>\n</div>"
     },
     "execution_count": 12,
     "metadata": {},
     "output_type": "execute_result"
    }
   ],
   "source": [
    "data = data.merge(df_cat, on=['user_id'])\n",
    "data.head(2)"
   ],
   "metadata": {
    "collapsed": false,
    "pycharm": {
     "name": "#%%\n"
    }
   }
  },
  {
   "cell_type": "markdown",
   "source": [
    "#### Создадим признак - кол-во недель, в какие совершались покупки"
   ],
   "metadata": {
    "collapsed": false,
    "pycharm": {
     "name": "#%% md\n"
    }
   }
  },
  {
   "cell_type": "code",
   "execution_count": 13,
   "outputs": [
    {
     "data": {
      "text/plain": "   user_id  num_week_no\n0        1           64\n1        2           34",
      "text/html": "<div>\n<style scoped>\n    .dataframe tbody tr th:only-of-type {\n        vertical-align: middle;\n    }\n\n    .dataframe tbody tr th {\n        vertical-align: top;\n    }\n\n    .dataframe thead th {\n        text-align: right;\n    }\n</style>\n<table border=\"1\" class=\"dataframe\">\n  <thead>\n    <tr style=\"text-align: right;\">\n      <th></th>\n      <th>user_id</th>\n      <th>num_week_no</th>\n    </tr>\n  </thead>\n  <tbody>\n    <tr>\n      <th>0</th>\n      <td>1</td>\n      <td>64</td>\n    </tr>\n    <tr>\n      <th>1</th>\n      <td>2</td>\n      <td>34</td>\n    </tr>\n  </tbody>\n</table>\n</div>"
     },
     "execution_count": 13,
     "metadata": {},
     "output_type": "execute_result"
    }
   ],
   "source": [
    "df_cat_1 = data.groupby(['user_id'], as_index=False)['week_no'].nunique()\n",
    "df_cat_1.columns = ['user_id', 'num_week_no']\n",
    "df_cat_1.head(2)"
   ],
   "metadata": {
    "collapsed": false,
    "pycharm": {
     "name": "#%%\n"
    }
   }
  },
  {
   "cell_type": "code",
   "execution_count": 14,
   "outputs": [
    {
     "data": {
      "text/plain": "   user_id    basket_id  day  item_id  quantity  sales_value  store_id  \\\n0     2375  26984851472    1  1004906         1         1.39       364   \n1     2375  26984851472    1  1033142         1         0.82       364   \n\n   retail_disc  trans_time  week_no  coupon_disc  coupon_match_disc  \\\n0         -0.6        1631        1          0.0                0.0   \n1          0.0        1631        1          0.0                0.0   \n\n   avr_trans_time time_cat  num_of_purchases  num_week_no  \n0            1237      day               105           51  \n1            1237      day               105           51  ",
      "text/html": "<div>\n<style scoped>\n    .dataframe tbody tr th:only-of-type {\n        vertical-align: middle;\n    }\n\n    .dataframe tbody tr th {\n        vertical-align: top;\n    }\n\n    .dataframe thead th {\n        text-align: right;\n    }\n</style>\n<table border=\"1\" class=\"dataframe\">\n  <thead>\n    <tr style=\"text-align: right;\">\n      <th></th>\n      <th>user_id</th>\n      <th>basket_id</th>\n      <th>day</th>\n      <th>item_id</th>\n      <th>quantity</th>\n      <th>sales_value</th>\n      <th>store_id</th>\n      <th>retail_disc</th>\n      <th>trans_time</th>\n      <th>week_no</th>\n      <th>coupon_disc</th>\n      <th>coupon_match_disc</th>\n      <th>avr_trans_time</th>\n      <th>time_cat</th>\n      <th>num_of_purchases</th>\n      <th>num_week_no</th>\n    </tr>\n  </thead>\n  <tbody>\n    <tr>\n      <th>0</th>\n      <td>2375</td>\n      <td>26984851472</td>\n      <td>1</td>\n      <td>1004906</td>\n      <td>1</td>\n      <td>1.39</td>\n      <td>364</td>\n      <td>-0.6</td>\n      <td>1631</td>\n      <td>1</td>\n      <td>0.0</td>\n      <td>0.0</td>\n      <td>1237</td>\n      <td>day</td>\n      <td>105</td>\n      <td>51</td>\n    </tr>\n    <tr>\n      <th>1</th>\n      <td>2375</td>\n      <td>26984851472</td>\n      <td>1</td>\n      <td>1033142</td>\n      <td>1</td>\n      <td>0.82</td>\n      <td>364</td>\n      <td>0.0</td>\n      <td>1631</td>\n      <td>1</td>\n      <td>0.0</td>\n      <td>0.0</td>\n      <td>1237</td>\n      <td>day</td>\n      <td>105</td>\n      <td>51</td>\n    </tr>\n  </tbody>\n</table>\n</div>"
     },
     "execution_count": 14,
     "metadata": {},
     "output_type": "execute_result"
    }
   ],
   "source": [
    "data = data.merge(df_cat_1, on=['user_id'])\n",
    "data.head(2)"
   ],
   "metadata": {
    "collapsed": false,
    "pycharm": {
     "name": "#%%\n"
    }
   }
  },
  {
   "cell_type": "markdown",
   "source": [
    "#### Создадим признак - сумма в деньгах всех покупок каждого домохозяйства"
   ],
   "metadata": {
    "collapsed": false,
    "pycharm": {
     "name": "#%% md\n"
    }
   }
  },
  {
   "cell_type": "code",
   "execution_count": 15,
   "outputs": [
    {
     "data": {
      "text/plain": "   user_id  total_amount_of_purchases\n0        1                    3959.91\n1        2                    1823.45",
      "text/html": "<div>\n<style scoped>\n    .dataframe tbody tr th:only-of-type {\n        vertical-align: middle;\n    }\n\n    .dataframe tbody tr th {\n        vertical-align: top;\n    }\n\n    .dataframe thead th {\n        text-align: right;\n    }\n</style>\n<table border=\"1\" class=\"dataframe\">\n  <thead>\n    <tr style=\"text-align: right;\">\n      <th></th>\n      <th>user_id</th>\n      <th>total_amount_of_purchases</th>\n    </tr>\n  </thead>\n  <tbody>\n    <tr>\n      <th>0</th>\n      <td>1</td>\n      <td>3959.91</td>\n    </tr>\n    <tr>\n      <th>1</th>\n      <td>2</td>\n      <td>1823.45</td>\n    </tr>\n  </tbody>\n</table>\n</div>"
     },
     "execution_count": 15,
     "metadata": {},
     "output_type": "execute_result"
    }
   ],
   "source": [
    "df_cat = data.groupby('user_id', as_index=False)['sales_value'].sum()\n",
    "df_cat = pd.DataFrame(df_cat)\n",
    "df_cat.rename(columns={'sales_value': 'total_amount_of_purchases'}, inplace=True)\n",
    "df_cat.sort_values('total_amount_of_purchases')\n",
    "df_cat.head(2)"
   ],
   "metadata": {
    "collapsed": false,
    "pycharm": {
     "name": "#%%\n"
    }
   }
  },
  {
   "cell_type": "code",
   "execution_count": 16,
   "outputs": [
    {
     "data": {
      "text/plain": "   user_id    basket_id  day  item_id  quantity  sales_value  store_id  \\\n0     2375  26984851472    1  1004906         1         1.39       364   \n1     2375  26984851472    1  1033142         1         0.82       364   \n\n   retail_disc  trans_time  week_no  coupon_disc  coupon_match_disc  \\\n0         -0.6        1631        1          0.0                0.0   \n1          0.0        1631        1          0.0                0.0   \n\n   avr_trans_time time_cat  num_of_purchases  num_week_no  \\\n0            1237      day               105           51   \n1            1237      day               105           51   \n\n   total_amount_of_purchases  \n0                    2486.42  \n1                    2486.42  ",
      "text/html": "<div>\n<style scoped>\n    .dataframe tbody tr th:only-of-type {\n        vertical-align: middle;\n    }\n\n    .dataframe tbody tr th {\n        vertical-align: top;\n    }\n\n    .dataframe thead th {\n        text-align: right;\n    }\n</style>\n<table border=\"1\" class=\"dataframe\">\n  <thead>\n    <tr style=\"text-align: right;\">\n      <th></th>\n      <th>user_id</th>\n      <th>basket_id</th>\n      <th>day</th>\n      <th>item_id</th>\n      <th>quantity</th>\n      <th>sales_value</th>\n      <th>store_id</th>\n      <th>retail_disc</th>\n      <th>trans_time</th>\n      <th>week_no</th>\n      <th>coupon_disc</th>\n      <th>coupon_match_disc</th>\n      <th>avr_trans_time</th>\n      <th>time_cat</th>\n      <th>num_of_purchases</th>\n      <th>num_week_no</th>\n      <th>total_amount_of_purchases</th>\n    </tr>\n  </thead>\n  <tbody>\n    <tr>\n      <th>0</th>\n      <td>2375</td>\n      <td>26984851472</td>\n      <td>1</td>\n      <td>1004906</td>\n      <td>1</td>\n      <td>1.39</td>\n      <td>364</td>\n      <td>-0.6</td>\n      <td>1631</td>\n      <td>1</td>\n      <td>0.0</td>\n      <td>0.0</td>\n      <td>1237</td>\n      <td>day</td>\n      <td>105</td>\n      <td>51</td>\n      <td>2486.42</td>\n    </tr>\n    <tr>\n      <th>1</th>\n      <td>2375</td>\n      <td>26984851472</td>\n      <td>1</td>\n      <td>1033142</td>\n      <td>1</td>\n      <td>0.82</td>\n      <td>364</td>\n      <td>0.0</td>\n      <td>1631</td>\n      <td>1</td>\n      <td>0.0</td>\n      <td>0.0</td>\n      <td>1237</td>\n      <td>day</td>\n      <td>105</td>\n      <td>51</td>\n      <td>2486.42</td>\n    </tr>\n  </tbody>\n</table>\n</div>"
     },
     "execution_count": 16,
     "metadata": {},
     "output_type": "execute_result"
    }
   ],
   "source": [
    "data = data.merge(df_cat, on=['user_id'])\n",
    "data.head(2)"
   ],
   "metadata": {
    "collapsed": false,
    "pycharm": {
     "name": "#%%\n"
    }
   }
  },
  {
   "cell_type": "markdown",
   "source": [
    "#### Создадим признак - средний чек покупки каждого домохозяйства"
   ],
   "metadata": {
    "collapsed": false,
    "pycharm": {
     "name": "#%% md\n"
    }
   }
  },
  {
   "cell_type": "code",
   "execution_count": 17,
   "outputs": [
    {
     "data": {
      "text/plain": "   user_id    basket_id  day  item_id  quantity  sales_value  store_id  \\\n0     2375  26984851472    1  1004906         1         1.39       364   \n1     2375  26984851472    1  1033142         1         0.82       364   \n\n   retail_disc  trans_time  week_no  coupon_disc  coupon_match_disc  \\\n0         -0.6        1631        1          0.0                0.0   \n1          0.0        1631        1          0.0                0.0   \n\n   avr_trans_time time_cat  num_of_purchases  num_week_no  \\\n0            1237      day               105           51   \n1            1237      day               105           51   \n\n   total_amount_of_purchases  avr_purchase_receipt  \n0                    2486.42              23.68019  \n1                    2486.42              23.68019  ",
      "text/html": "<div>\n<style scoped>\n    .dataframe tbody tr th:only-of-type {\n        vertical-align: middle;\n    }\n\n    .dataframe tbody tr th {\n        vertical-align: top;\n    }\n\n    .dataframe thead th {\n        text-align: right;\n    }\n</style>\n<table border=\"1\" class=\"dataframe\">\n  <thead>\n    <tr style=\"text-align: right;\">\n      <th></th>\n      <th>user_id</th>\n      <th>basket_id</th>\n      <th>day</th>\n      <th>item_id</th>\n      <th>quantity</th>\n      <th>sales_value</th>\n      <th>store_id</th>\n      <th>retail_disc</th>\n      <th>trans_time</th>\n      <th>week_no</th>\n      <th>coupon_disc</th>\n      <th>coupon_match_disc</th>\n      <th>avr_trans_time</th>\n      <th>time_cat</th>\n      <th>num_of_purchases</th>\n      <th>num_week_no</th>\n      <th>total_amount_of_purchases</th>\n      <th>avr_purchase_receipt</th>\n    </tr>\n  </thead>\n  <tbody>\n    <tr>\n      <th>0</th>\n      <td>2375</td>\n      <td>26984851472</td>\n      <td>1</td>\n      <td>1004906</td>\n      <td>1</td>\n      <td>1.39</td>\n      <td>364</td>\n      <td>-0.6</td>\n      <td>1631</td>\n      <td>1</td>\n      <td>0.0</td>\n      <td>0.0</td>\n      <td>1237</td>\n      <td>day</td>\n      <td>105</td>\n      <td>51</td>\n      <td>2486.42</td>\n      <td>23.68019</td>\n    </tr>\n    <tr>\n      <th>1</th>\n      <td>2375</td>\n      <td>26984851472</td>\n      <td>1</td>\n      <td>1033142</td>\n      <td>1</td>\n      <td>0.82</td>\n      <td>364</td>\n      <td>0.0</td>\n      <td>1631</td>\n      <td>1</td>\n      <td>0.0</td>\n      <td>0.0</td>\n      <td>1237</td>\n      <td>day</td>\n      <td>105</td>\n      <td>51</td>\n      <td>2486.42</td>\n      <td>23.68019</td>\n    </tr>\n  </tbody>\n</table>\n</div>"
     },
     "execution_count": 17,
     "metadata": {},
     "output_type": "execute_result"
    }
   ],
   "source": [
    "data['avr_purchase_receipt'] = data['total_amount_of_purchases'] / data['num_of_purchases']\n",
    "data.head(2)"
   ],
   "metadata": {
    "collapsed": false,
    "pycharm": {
     "name": "#%%\n"
    }
   }
  },
  {
   "cell_type": "markdown",
   "source": [
    "#### Создадим признак - средний недельный чек покупки каждого домохозяйства"
   ],
   "metadata": {
    "collapsed": false,
    "pycharm": {
     "name": "#%% md\n"
    }
   }
  },
  {
   "cell_type": "code",
   "execution_count": 18,
   "outputs": [
    {
     "data": {
      "text/plain": "   user_id    basket_id  day  item_id  quantity  sales_value  store_id  \\\n0     2375  26984851472    1  1004906         1         1.39       364   \n1     2375  26984851472    1  1033142         1         0.82       364   \n\n   retail_disc  trans_time  week_no  coupon_disc  coupon_match_disc  \\\n0         -0.6        1631        1          0.0                0.0   \n1          0.0        1631        1          0.0                0.0   \n\n   avr_trans_time time_cat  num_of_purchases  num_week_no  \\\n0            1237      day               105           51   \n1            1237      day               105           51   \n\n   total_amount_of_purchases  avr_purchase_receipt  \\\n0                    2486.42              23.68019   \n1                    2486.42              23.68019   \n\n   avr_weekly_purchase_receipt  \n0                    48.753333  \n1                    48.753333  ",
      "text/html": "<div>\n<style scoped>\n    .dataframe tbody tr th:only-of-type {\n        vertical-align: middle;\n    }\n\n    .dataframe tbody tr th {\n        vertical-align: top;\n    }\n\n    .dataframe thead th {\n        text-align: right;\n    }\n</style>\n<table border=\"1\" class=\"dataframe\">\n  <thead>\n    <tr style=\"text-align: right;\">\n      <th></th>\n      <th>user_id</th>\n      <th>basket_id</th>\n      <th>day</th>\n      <th>item_id</th>\n      <th>quantity</th>\n      <th>sales_value</th>\n      <th>store_id</th>\n      <th>retail_disc</th>\n      <th>trans_time</th>\n      <th>week_no</th>\n      <th>coupon_disc</th>\n      <th>coupon_match_disc</th>\n      <th>avr_trans_time</th>\n      <th>time_cat</th>\n      <th>num_of_purchases</th>\n      <th>num_week_no</th>\n      <th>total_amount_of_purchases</th>\n      <th>avr_purchase_receipt</th>\n      <th>avr_weekly_purchase_receipt</th>\n    </tr>\n  </thead>\n  <tbody>\n    <tr>\n      <th>0</th>\n      <td>2375</td>\n      <td>26984851472</td>\n      <td>1</td>\n      <td>1004906</td>\n      <td>1</td>\n      <td>1.39</td>\n      <td>364</td>\n      <td>-0.6</td>\n      <td>1631</td>\n      <td>1</td>\n      <td>0.0</td>\n      <td>0.0</td>\n      <td>1237</td>\n      <td>day</td>\n      <td>105</td>\n      <td>51</td>\n      <td>2486.42</td>\n      <td>23.68019</td>\n      <td>48.753333</td>\n    </tr>\n    <tr>\n      <th>1</th>\n      <td>2375</td>\n      <td>26984851472</td>\n      <td>1</td>\n      <td>1033142</td>\n      <td>1</td>\n      <td>0.82</td>\n      <td>364</td>\n      <td>0.0</td>\n      <td>1631</td>\n      <td>1</td>\n      <td>0.0</td>\n      <td>0.0</td>\n      <td>1237</td>\n      <td>day</td>\n      <td>105</td>\n      <td>51</td>\n      <td>2486.42</td>\n      <td>23.68019</td>\n      <td>48.753333</td>\n    </tr>\n  </tbody>\n</table>\n</div>"
     },
     "execution_count": 18,
     "metadata": {},
     "output_type": "execute_result"
    }
   ],
   "source": [
    "data['avr_weekly_purchase_receipt'] = data['total_amount_of_purchases'] / data['num_week_no']\n",
    "data.head(2)"
   ],
   "metadata": {
    "collapsed": false,
    "pycharm": {
     "name": "#%%\n"
    }
   }
  },
  {
   "cell_type": "markdown",
   "source": [
    "#### Создадим признак - количество дней между первой и последней покупкой домохозяйств"
   ],
   "metadata": {
    "collapsed": false,
    "pycharm": {
     "name": "#%% md\n"
    }
   }
  },
  {
   "cell_type": "code",
   "execution_count": 19,
   "outputs": [
    {
     "data": {
      "text/plain": "   user_id  num_days\n0        1       609\n1        2       519\n2        3       527\n3        4       523\n4        5       504",
      "text/html": "<div>\n<style scoped>\n    .dataframe tbody tr th:only-of-type {\n        vertical-align: middle;\n    }\n\n    .dataframe tbody tr th {\n        vertical-align: top;\n    }\n\n    .dataframe thead th {\n        text-align: right;\n    }\n</style>\n<table border=\"1\" class=\"dataframe\">\n  <thead>\n    <tr style=\"text-align: right;\">\n      <th></th>\n      <th>user_id</th>\n      <th>num_days</th>\n    </tr>\n  </thead>\n  <tbody>\n    <tr>\n      <th>0</th>\n      <td>1</td>\n      <td>609</td>\n    </tr>\n    <tr>\n      <th>1</th>\n      <td>2</td>\n      <td>519</td>\n    </tr>\n    <tr>\n      <th>2</th>\n      <td>3</td>\n      <td>527</td>\n    </tr>\n    <tr>\n      <th>3</th>\n      <td>4</td>\n      <td>523</td>\n    </tr>\n    <tr>\n      <th>4</th>\n      <td>5</td>\n      <td>504</td>\n    </tr>\n  </tbody>\n</table>\n</div>"
     },
     "execution_count": 19,
     "metadata": {},
     "output_type": "execute_result"
    }
   ],
   "source": [
    "df_cat = data.groupby(['user_id'], as_index=False).agg({'day': lambda x: list(x)})\n",
    "df_cat.columns = ['user_id', 'list_day']\n",
    "df_cat['num_days'] = df_cat['list_day'].apply(lambda x: (max(x)-min(x)))\n",
    "df_cat.replace({'num_days': {0: 1}}, inplace=True)\n",
    "df_cat.drop('list_day', axis=1,  inplace=True)\n",
    "df_cat.head(5)"
   ],
   "metadata": {
    "collapsed": false,
    "pycharm": {
     "name": "#%%\n"
    }
   }
  },
  {
   "cell_type": "code",
   "execution_count": 20,
   "outputs": [
    {
     "data": {
      "text/plain": "   user_id    basket_id  day  item_id  quantity  sales_value  store_id  \\\n0     2375  26984851472    1  1004906         1         1.39       364   \n1     2375  26984851472    1  1033142         1         0.82       364   \n\n   retail_disc  trans_time  week_no  coupon_disc  coupon_match_disc  \\\n0         -0.6        1631        1          0.0                0.0   \n1          0.0        1631        1          0.0                0.0   \n\n   avr_trans_time time_cat  num_of_purchases  num_week_no  \\\n0            1237      day               105           51   \n1            1237      day               105           51   \n\n   total_amount_of_purchases  avr_purchase_receipt  \\\n0                    2486.42              23.68019   \n1                    2486.42              23.68019   \n\n   avr_weekly_purchase_receipt  num_days  \n0                    48.753333       659  \n1                    48.753333       659  ",
      "text/html": "<div>\n<style scoped>\n    .dataframe tbody tr th:only-of-type {\n        vertical-align: middle;\n    }\n\n    .dataframe tbody tr th {\n        vertical-align: top;\n    }\n\n    .dataframe thead th {\n        text-align: right;\n    }\n</style>\n<table border=\"1\" class=\"dataframe\">\n  <thead>\n    <tr style=\"text-align: right;\">\n      <th></th>\n      <th>user_id</th>\n      <th>basket_id</th>\n      <th>day</th>\n      <th>item_id</th>\n      <th>quantity</th>\n      <th>sales_value</th>\n      <th>store_id</th>\n      <th>retail_disc</th>\n      <th>trans_time</th>\n      <th>week_no</th>\n      <th>coupon_disc</th>\n      <th>coupon_match_disc</th>\n      <th>avr_trans_time</th>\n      <th>time_cat</th>\n      <th>num_of_purchases</th>\n      <th>num_week_no</th>\n      <th>total_amount_of_purchases</th>\n      <th>avr_purchase_receipt</th>\n      <th>avr_weekly_purchase_receipt</th>\n      <th>num_days</th>\n    </tr>\n  </thead>\n  <tbody>\n    <tr>\n      <th>0</th>\n      <td>2375</td>\n      <td>26984851472</td>\n      <td>1</td>\n      <td>1004906</td>\n      <td>1</td>\n      <td>1.39</td>\n      <td>364</td>\n      <td>-0.6</td>\n      <td>1631</td>\n      <td>1</td>\n      <td>0.0</td>\n      <td>0.0</td>\n      <td>1237</td>\n      <td>day</td>\n      <td>105</td>\n      <td>51</td>\n      <td>2486.42</td>\n      <td>23.68019</td>\n      <td>48.753333</td>\n      <td>659</td>\n    </tr>\n    <tr>\n      <th>1</th>\n      <td>2375</td>\n      <td>26984851472</td>\n      <td>1</td>\n      <td>1033142</td>\n      <td>1</td>\n      <td>0.82</td>\n      <td>364</td>\n      <td>0.0</td>\n      <td>1631</td>\n      <td>1</td>\n      <td>0.0</td>\n      <td>0.0</td>\n      <td>1237</td>\n      <td>day</td>\n      <td>105</td>\n      <td>51</td>\n      <td>2486.42</td>\n      <td>23.68019</td>\n      <td>48.753333</td>\n      <td>659</td>\n    </tr>\n  </tbody>\n</table>\n</div>"
     },
     "execution_count": 20,
     "metadata": {},
     "output_type": "execute_result"
    }
   ],
   "source": [
    "data = data.merge(df_cat, on=['user_id'])\n",
    "data.head(2)"
   ],
   "metadata": {
    "collapsed": false,
    "pycharm": {
     "name": "#%%\n"
    }
   }
  },
  {
   "cell_type": "markdown",
   "source": [
    "#### Создадим признак - среднее число покупок домохозяйств в день"
   ],
   "metadata": {
    "collapsed": false,
    "pycharm": {
     "name": "#%% md\n"
    }
   }
  },
  {
   "cell_type": "code",
   "execution_count": 21,
   "outputs": [
    {
     "data": {
      "text/plain": "   user_id    basket_id  day  item_id  quantity  sales_value  store_id  \\\n0     2375  26984851472    1  1004906         1         1.39       364   \n1     2375  26984851472    1  1033142         1         0.82       364   \n\n   retail_disc  trans_time  week_no  ...  coupon_match_disc  avr_trans_time  \\\n0         -0.6        1631        1  ...                0.0            1237   \n1          0.0        1631        1  ...                0.0            1237   \n\n   time_cat num_of_purchases  num_week_no  total_amount_of_purchases  \\\n0       day              105           51                    2486.42   \n1       day              105           51                    2486.42   \n\n   avr_purchase_receipt  avr_weekly_purchase_receipt  num_days  \\\n0              23.68019                    48.753333       659   \n1              23.68019                    48.753333       659   \n\n   avr_num_of_purchases_per_day  \n0                      0.159332  \n1                      0.159332  \n\n[2 rows x 21 columns]",
      "text/html": "<div>\n<style scoped>\n    .dataframe tbody tr th:only-of-type {\n        vertical-align: middle;\n    }\n\n    .dataframe tbody tr th {\n        vertical-align: top;\n    }\n\n    .dataframe thead th {\n        text-align: right;\n    }\n</style>\n<table border=\"1\" class=\"dataframe\">\n  <thead>\n    <tr style=\"text-align: right;\">\n      <th></th>\n      <th>user_id</th>\n      <th>basket_id</th>\n      <th>day</th>\n      <th>item_id</th>\n      <th>quantity</th>\n      <th>sales_value</th>\n      <th>store_id</th>\n      <th>retail_disc</th>\n      <th>trans_time</th>\n      <th>week_no</th>\n      <th>...</th>\n      <th>coupon_match_disc</th>\n      <th>avr_trans_time</th>\n      <th>time_cat</th>\n      <th>num_of_purchases</th>\n      <th>num_week_no</th>\n      <th>total_amount_of_purchases</th>\n      <th>avr_purchase_receipt</th>\n      <th>avr_weekly_purchase_receipt</th>\n      <th>num_days</th>\n      <th>avr_num_of_purchases_per_day</th>\n    </tr>\n  </thead>\n  <tbody>\n    <tr>\n      <th>0</th>\n      <td>2375</td>\n      <td>26984851472</td>\n      <td>1</td>\n      <td>1004906</td>\n      <td>1</td>\n      <td>1.39</td>\n      <td>364</td>\n      <td>-0.6</td>\n      <td>1631</td>\n      <td>1</td>\n      <td>...</td>\n      <td>0.0</td>\n      <td>1237</td>\n      <td>day</td>\n      <td>105</td>\n      <td>51</td>\n      <td>2486.42</td>\n      <td>23.68019</td>\n      <td>48.753333</td>\n      <td>659</td>\n      <td>0.159332</td>\n    </tr>\n    <tr>\n      <th>1</th>\n      <td>2375</td>\n      <td>26984851472</td>\n      <td>1</td>\n      <td>1033142</td>\n      <td>1</td>\n      <td>0.82</td>\n      <td>364</td>\n      <td>0.0</td>\n      <td>1631</td>\n      <td>1</td>\n      <td>...</td>\n      <td>0.0</td>\n      <td>1237</td>\n      <td>day</td>\n      <td>105</td>\n      <td>51</td>\n      <td>2486.42</td>\n      <td>23.68019</td>\n      <td>48.753333</td>\n      <td>659</td>\n      <td>0.159332</td>\n    </tr>\n  </tbody>\n</table>\n<p>2 rows × 21 columns</p>\n</div>"
     },
     "execution_count": 21,
     "metadata": {},
     "output_type": "execute_result"
    }
   ],
   "source": [
    "data['avr_num_of_purchases_per_day'] = data['num_of_purchases'] / data['num_days']\n",
    "data.head(2)"
   ],
   "metadata": {
    "collapsed": false,
    "pycharm": {
     "name": "#%%\n"
    }
   }
  },
  {
   "cell_type": "code",
   "execution_count": 22,
   "outputs": [],
   "source": [
    "ITEM_COL = 'item_id'\n",
    "USER_COL = 'user_id'"
   ],
   "metadata": {
    "collapsed": false,
    "pycharm": {
     "name": "#%%\n"
    }
   }
  },
  {
   "cell_type": "code",
   "execution_count": 23,
   "outputs": [],
   "source": [
    "# column processing\n",
    "item_features.columns = [col.lower() for col in item_features.columns]\n",
    "user_features.columns = [col.lower() for col in user_features.columns]\n",
    "\n",
    "item_features.rename(columns={'product_id': ITEM_COL}, inplace=True)\n",
    "user_features.rename(columns={'household_key': USER_COL }, inplace=True)"
   ],
   "metadata": {
    "collapsed": false,
    "pycharm": {
     "name": "#%%\n"
    }
   }
  },
  {
   "cell_type": "code",
   "execution_count": 24,
   "outputs": [
    {
     "data": {
      "text/plain": "   item_id  manufacturer    department     brand            commodity_desc  \\\n0    25671             2       GROCERY  National                  FRZN ICE   \n1    26081             2  MISC. TRANS.  National  NO COMMODITY DESCRIPTION   \n\n            sub_commodity_desc curr_size_of_product  \n0          ICE - CRUSHED/CUBED                22 LB  \n1  NO SUBCOMMODITY DESCRIPTION                       ",
      "text/html": "<div>\n<style scoped>\n    .dataframe tbody tr th:only-of-type {\n        vertical-align: middle;\n    }\n\n    .dataframe tbody tr th {\n        vertical-align: top;\n    }\n\n    .dataframe thead th {\n        text-align: right;\n    }\n</style>\n<table border=\"1\" class=\"dataframe\">\n  <thead>\n    <tr style=\"text-align: right;\">\n      <th></th>\n      <th>item_id</th>\n      <th>manufacturer</th>\n      <th>department</th>\n      <th>brand</th>\n      <th>commodity_desc</th>\n      <th>sub_commodity_desc</th>\n      <th>curr_size_of_product</th>\n    </tr>\n  </thead>\n  <tbody>\n    <tr>\n      <th>0</th>\n      <td>25671</td>\n      <td>2</td>\n      <td>GROCERY</td>\n      <td>National</td>\n      <td>FRZN ICE</td>\n      <td>ICE - CRUSHED/CUBED</td>\n      <td>22 LB</td>\n    </tr>\n    <tr>\n      <th>1</th>\n      <td>26081</td>\n      <td>2</td>\n      <td>MISC. TRANS.</td>\n      <td>National</td>\n      <td>NO COMMODITY DESCRIPTION</td>\n      <td>NO SUBCOMMODITY DESCRIPTION</td>\n      <td></td>\n    </tr>\n  </tbody>\n</table>\n</div>"
     },
     "execution_count": 24,
     "metadata": {},
     "output_type": "execute_result"
    }
   ],
   "source": [
    "item_features.head(2)"
   ],
   "metadata": {
    "collapsed": false,
    "pycharm": {
     "name": "#%%\n"
    }
   }
  },
  {
   "cell_type": "code",
   "execution_count": 25,
   "outputs": [
    {
     "name": "stdout",
     "output_type": "stream",
     "text": [
      "<class 'pandas.core.frame.DataFrame'>\n",
      "RangeIndex: 92353 entries, 0 to 92352\n",
      "Data columns (total 7 columns):\n",
      " #   Column                Non-Null Count  Dtype \n",
      "---  ------                --------------  ----- \n",
      " 0   item_id               92353 non-null  int64 \n",
      " 1   manufacturer          92353 non-null  int64 \n",
      " 2   department            92353 non-null  object\n",
      " 3   brand                 92353 non-null  object\n",
      " 4   commodity_desc        92353 non-null  object\n",
      " 5   sub_commodity_desc    92353 non-null  object\n",
      " 6   curr_size_of_product  92353 non-null  object\n",
      "dtypes: int64(2), object(5)\n",
      "memory usage: 4.9+ MB\n"
     ]
    }
   ],
   "source": [
    "item_features.info()"
   ],
   "metadata": {
    "collapsed": false,
    "pycharm": {
     "name": "#%%\n"
    }
   }
  },
  {
   "cell_type": "code",
   "execution_count": 26,
   "outputs": [
    {
     "data": {
      "text/plain": "item_id                 0\nmanufacturer            0\ndepartment              0\nbrand                   0\ncommodity_desc          0\nsub_commodity_desc      0\ncurr_size_of_product    0\ndtype: int64"
     },
     "execution_count": 26,
     "metadata": {},
     "output_type": "execute_result"
    }
   ],
   "source": [
    "item_features.isna().sum()"
   ],
   "metadata": {
    "collapsed": false,
    "pycharm": {
     "name": "#%%\n"
    }
   }
  },
  {
   "cell_type": "code",
   "execution_count": 27,
   "outputs": [
    {
     "data": {
      "text/plain": "   item_id  manufacturer    department     brand            commodity_desc  \\\n1    26081             2  MISC. TRANS.  National  NO COMMODITY DESCRIPTION   \n\n            sub_commodity_desc curr_size_of_product  \n1  NO SUBCOMMODITY DESCRIPTION                       ",
      "text/html": "<div>\n<style scoped>\n    .dataframe tbody tr th:only-of-type {\n        vertical-align: middle;\n    }\n\n    .dataframe tbody tr th {\n        vertical-align: top;\n    }\n\n    .dataframe thead th {\n        text-align: right;\n    }\n</style>\n<table border=\"1\" class=\"dataframe\">\n  <thead>\n    <tr style=\"text-align: right;\">\n      <th></th>\n      <th>item_id</th>\n      <th>manufacturer</th>\n      <th>department</th>\n      <th>brand</th>\n      <th>commodity_desc</th>\n      <th>sub_commodity_desc</th>\n      <th>curr_size_of_product</th>\n    </tr>\n  </thead>\n  <tbody>\n    <tr>\n      <th>1</th>\n      <td>26081</td>\n      <td>2</td>\n      <td>MISC. TRANS.</td>\n      <td>National</td>\n      <td>NO COMMODITY DESCRIPTION</td>\n      <td>NO SUBCOMMODITY DESCRIPTION</td>\n      <td></td>\n    </tr>\n  </tbody>\n</table>\n</div>"
     },
     "execution_count": 27,
     "metadata": {},
     "output_type": "execute_result"
    }
   ],
   "source": [
    "item_features.loc[item_features['item_id'] == 26081]"
   ],
   "metadata": {
    "collapsed": false,
    "pycharm": {
     "name": "#%%\n"
    }
   }
  },
  {
   "cell_type": "code",
   "execution_count": 28,
   "outputs": [
    {
     "data": {
      "text/plain": "15"
     },
     "execution_count": 28,
     "metadata": {},
     "output_type": "execute_result"
    }
   ],
   "source": [
    "len(item_features.loc[item_features['sub_commodity_desc'] == ' '])"
   ],
   "metadata": {
    "collapsed": false,
    "pycharm": {
     "name": "#%%\n"
    }
   }
  },
  {
   "cell_type": "code",
   "execution_count": 29,
   "outputs": [
    {
     "data": {
      "text/plain": "30607"
     },
     "execution_count": 29,
     "metadata": {},
     "output_type": "execute_result"
    }
   ],
   "source": [
    "len(item_features.loc[item_features['curr_size_of_product'] == ' '])"
   ],
   "metadata": {
    "collapsed": false,
    "pycharm": {
     "name": "#%%\n"
    }
   }
  },
  {
   "cell_type": "code",
   "execution_count": 30,
   "outputs": [
    {
     "data": {
      "text/plain": "        item_id  manufacturer    department     brand  \\\n1         26081             2  MISC. TRANS.  National   \n2         26093            69        PASTRY   Private   \n8         26636            69        PASTRY   Private   \n11        26889            32       DRUG GM  National   \n13        27021             2       GROCERY  National   \n...         ...           ...           ...       ...   \n92348  18293142          6384       DRUG GM  National   \n92349  18293439          6393       DRUG GM  National   \n92350  18293696          6406       DRUG GM  National   \n92351  18294080          6442       DRUG GM  National   \n92352  18316298           764       GROCERY  National   \n\n                 commodity_desc           sub_commodity_desc  \\\n1      NO COMMODITY DESCRIPTION  NO SUBCOMMODITY DESCRIPTION   \n2                         BREAD         BREAD:ITALIAN/FRENCH   \n8              BREAKFAST SWEETS         SW GDS: SW ROLLS/DAN   \n11                     MAGAZINE            TV/MOVIE-MAGAZINE   \n13                     AIR CARE          AIR CARE - AEROSOLS   \n...                         ...                          ...   \n92348                 BOOKSTORE              PAPERBACK BOOKS   \n92349                 BOOKSTORE            CHILDRENS LOW END   \n92350                 BOOKSTORE        PAPERBACK BEST SELLER   \n92351                 BOOKSTORE              PAPERBACK BOOKS   \n92352              PAPER TOWELS       PAPER TOWELS & HOLDERS   \n\n      curr_size_of_product  \n1                           \n2                           \n8                           \n11                          \n13                          \n...                    ...  \n92348                       \n92349                       \n92350                       \n92351                       \n92352                       \n\n[30607 rows x 7 columns]",
      "text/html": "<div>\n<style scoped>\n    .dataframe tbody tr th:only-of-type {\n        vertical-align: middle;\n    }\n\n    .dataframe tbody tr th {\n        vertical-align: top;\n    }\n\n    .dataframe thead th {\n        text-align: right;\n    }\n</style>\n<table border=\"1\" class=\"dataframe\">\n  <thead>\n    <tr style=\"text-align: right;\">\n      <th></th>\n      <th>item_id</th>\n      <th>manufacturer</th>\n      <th>department</th>\n      <th>brand</th>\n      <th>commodity_desc</th>\n      <th>sub_commodity_desc</th>\n      <th>curr_size_of_product</th>\n    </tr>\n  </thead>\n  <tbody>\n    <tr>\n      <th>1</th>\n      <td>26081</td>\n      <td>2</td>\n      <td>MISC. TRANS.</td>\n      <td>National</td>\n      <td>NO COMMODITY DESCRIPTION</td>\n      <td>NO SUBCOMMODITY DESCRIPTION</td>\n      <td></td>\n    </tr>\n    <tr>\n      <th>2</th>\n      <td>26093</td>\n      <td>69</td>\n      <td>PASTRY</td>\n      <td>Private</td>\n      <td>BREAD</td>\n      <td>BREAD:ITALIAN/FRENCH</td>\n      <td></td>\n    </tr>\n    <tr>\n      <th>8</th>\n      <td>26636</td>\n      <td>69</td>\n      <td>PASTRY</td>\n      <td>Private</td>\n      <td>BREAKFAST SWEETS</td>\n      <td>SW GDS: SW ROLLS/DAN</td>\n      <td></td>\n    </tr>\n    <tr>\n      <th>11</th>\n      <td>26889</td>\n      <td>32</td>\n      <td>DRUG GM</td>\n      <td>National</td>\n      <td>MAGAZINE</td>\n      <td>TV/MOVIE-MAGAZINE</td>\n      <td></td>\n    </tr>\n    <tr>\n      <th>13</th>\n      <td>27021</td>\n      <td>2</td>\n      <td>GROCERY</td>\n      <td>National</td>\n      <td>AIR CARE</td>\n      <td>AIR CARE - AEROSOLS</td>\n      <td></td>\n    </tr>\n    <tr>\n      <th>...</th>\n      <td>...</td>\n      <td>...</td>\n      <td>...</td>\n      <td>...</td>\n      <td>...</td>\n      <td>...</td>\n      <td>...</td>\n    </tr>\n    <tr>\n      <th>92348</th>\n      <td>18293142</td>\n      <td>6384</td>\n      <td>DRUG GM</td>\n      <td>National</td>\n      <td>BOOKSTORE</td>\n      <td>PAPERBACK BOOKS</td>\n      <td></td>\n    </tr>\n    <tr>\n      <th>92349</th>\n      <td>18293439</td>\n      <td>6393</td>\n      <td>DRUG GM</td>\n      <td>National</td>\n      <td>BOOKSTORE</td>\n      <td>CHILDRENS LOW END</td>\n      <td></td>\n    </tr>\n    <tr>\n      <th>92350</th>\n      <td>18293696</td>\n      <td>6406</td>\n      <td>DRUG GM</td>\n      <td>National</td>\n      <td>BOOKSTORE</td>\n      <td>PAPERBACK BEST SELLER</td>\n      <td></td>\n    </tr>\n    <tr>\n      <th>92351</th>\n      <td>18294080</td>\n      <td>6442</td>\n      <td>DRUG GM</td>\n      <td>National</td>\n      <td>BOOKSTORE</td>\n      <td>PAPERBACK BOOKS</td>\n      <td></td>\n    </tr>\n    <tr>\n      <th>92352</th>\n      <td>18316298</td>\n      <td>764</td>\n      <td>GROCERY</td>\n      <td>National</td>\n      <td>PAPER TOWELS</td>\n      <td>PAPER TOWELS &amp; HOLDERS</td>\n      <td></td>\n    </tr>\n  </tbody>\n</table>\n<p>30607 rows × 7 columns</p>\n</div>"
     },
     "execution_count": 30,
     "metadata": {},
     "output_type": "execute_result"
    }
   ],
   "source": [
    "item_features.loc[item_features['curr_size_of_product'] == ' ']"
   ],
   "metadata": {
    "collapsed": false,
    "pycharm": {
     "name": "#%%\n"
    }
   }
  },
  {
   "cell_type": "code",
   "execution_count": 31,
   "outputs": [],
   "source": [
    "item_features.replace({'department': {' ': 'unknown'}, 'commodity_desc': {' ': 'unknown'}, 'sub_commodity_desc': {' ': 'unknown'}}, inplace=True)"
   ],
   "metadata": {
    "collapsed": false,
    "pycharm": {
     "name": "#%%\n"
    }
   }
  },
  {
   "cell_type": "code",
   "execution_count": 32,
   "outputs": [],
   "source": [
    "item_features.replace({'curr_size_of_product': {' ': 'not_defined'}}, inplace=True)"
   ],
   "metadata": {
    "collapsed": false,
    "pycharm": {
     "name": "#%%\n"
    }
   }
  },
  {
   "cell_type": "code",
   "execution_count": 33,
   "outputs": [
    {
     "data": {
      "text/plain": "0"
     },
     "execution_count": 33,
     "metadata": {},
     "output_type": "execute_result"
    }
   ],
   "source": [
    "len(item_features.loc[item_features['curr_size_of_product'] == ' '])"
   ],
   "metadata": {
    "collapsed": false,
    "pycharm": {
     "name": "#%%\n"
    }
   }
  },
  {
   "cell_type": "code",
   "execution_count": 34,
   "outputs": [],
   "source": [
    "item_features['commodity_desc'] = item_features['commodity_desc'].apply(\n",
    "    lambda x: MyServiceFunctions.lower_text(x))\n"
   ],
   "metadata": {
    "collapsed": false,
    "pycharm": {
     "name": "#%%\n"
    }
   }
  },
  {
   "cell_type": "code",
   "execution_count": 35,
   "outputs": [],
   "source": [
    "item_features['sub_commodity_desc'] = item_features['sub_commodity_desc'].apply(\n",
    "    lambda x: MyServiceFunctions.lower_text(x))\n"
   ],
   "metadata": {
    "collapsed": false,
    "pycharm": {
     "name": "#%%\n"
    }
   }
  },
  {
   "cell_type": "code",
   "execution_count": 36,
   "outputs": [],
   "source": [
    "item_features['commodity_desc'] = item_features['commodity_desc'].apply(lambda x: MyServiceFunctions.replace_commodity_desc(x))"
   ],
   "metadata": {
    "collapsed": false,
    "pycharm": {
     "name": "#%%\n"
    }
   }
  },
  {
   "cell_type": "code",
   "execution_count": 37,
   "outputs": [],
   "source": [
    "item_features['sub_commodity_desc'] = item_features['sub_commodity_desc'].apply(lambda x: MyServiceFunctions.replace_sub_commodity_desc(x))"
   ],
   "metadata": {
    "collapsed": false,
    "pycharm": {
     "name": "#%%\n"
    }
   }
  },
  {
   "cell_type": "code",
   "execution_count": 38,
   "outputs": [],
   "source": [
    "item_features['commodity_desc'] = item_features['commodity_desc'].apply(\n",
    "    lambda x: MyServiceFunctions.text_without_stopword(x))\n"
   ],
   "metadata": {
    "collapsed": false,
    "pycharm": {
     "name": "#%%\n"
    }
   }
  },
  {
   "cell_type": "code",
   "execution_count": 39,
   "outputs": [],
   "source": [
    "item_features['sub_commodity_desc'] = item_features['sub_commodity_desc'].apply(\n",
    "    lambda x: MyServiceFunctions.text_without_stopword(x))\n"
   ],
   "metadata": {
    "collapsed": false,
    "pycharm": {
     "name": "#%%\n"
    }
   }
  },
  {
   "cell_type": "code",
   "execution_count": 40,
   "outputs": [
    {
     "data": {
      "text/plain": "   item_id  manufacturer    department     brand         commodity_desc  \\\n0    25671             2       GROCERY  National               frzn ice   \n1    26081             2  MISC. TRANS.  National  commodity description   \n2    26093            69        PASTRY   Private                  bread   \n3    26190            69       GROCERY   Private     fruit shelf stable   \n4    26355            69       GROCERY   Private          cookies cones   \n\n         sub_commodity_desc curr_size_of_product  \n0         ice crushed cubed                22 LB  \n1  subcommodity description          not_defined  \n2      bread italian french          not_defined  \n3               apple sauce                50 OZ  \n4         specialty cookies                14 OZ  ",
      "text/html": "<div>\n<style scoped>\n    .dataframe tbody tr th:only-of-type {\n        vertical-align: middle;\n    }\n\n    .dataframe tbody tr th {\n        vertical-align: top;\n    }\n\n    .dataframe thead th {\n        text-align: right;\n    }\n</style>\n<table border=\"1\" class=\"dataframe\">\n  <thead>\n    <tr style=\"text-align: right;\">\n      <th></th>\n      <th>item_id</th>\n      <th>manufacturer</th>\n      <th>department</th>\n      <th>brand</th>\n      <th>commodity_desc</th>\n      <th>sub_commodity_desc</th>\n      <th>curr_size_of_product</th>\n    </tr>\n  </thead>\n  <tbody>\n    <tr>\n      <th>0</th>\n      <td>25671</td>\n      <td>2</td>\n      <td>GROCERY</td>\n      <td>National</td>\n      <td>frzn ice</td>\n      <td>ice crushed cubed</td>\n      <td>22 LB</td>\n    </tr>\n    <tr>\n      <th>1</th>\n      <td>26081</td>\n      <td>2</td>\n      <td>MISC. TRANS.</td>\n      <td>National</td>\n      <td>commodity description</td>\n      <td>subcommodity description</td>\n      <td>not_defined</td>\n    </tr>\n    <tr>\n      <th>2</th>\n      <td>26093</td>\n      <td>69</td>\n      <td>PASTRY</td>\n      <td>Private</td>\n      <td>bread</td>\n      <td>bread italian french</td>\n      <td>not_defined</td>\n    </tr>\n    <tr>\n      <th>3</th>\n      <td>26190</td>\n      <td>69</td>\n      <td>GROCERY</td>\n      <td>Private</td>\n      <td>fruit shelf stable</td>\n      <td>apple sauce</td>\n      <td>50 OZ</td>\n    </tr>\n    <tr>\n      <th>4</th>\n      <td>26355</td>\n      <td>69</td>\n      <td>GROCERY</td>\n      <td>Private</td>\n      <td>cookies cones</td>\n      <td>specialty cookies</td>\n      <td>14 OZ</td>\n    </tr>\n  </tbody>\n</table>\n</div>"
     },
     "execution_count": 40,
     "metadata": {},
     "output_type": "execute_result"
    }
   ],
   "source": [
    "item_features.head(5)"
   ],
   "metadata": {
    "collapsed": false,
    "pycharm": {
     "name": "#%%\n"
    }
   }
  },
  {
   "cell_type": "code",
   "execution_count": 41,
   "outputs": [
    {
     "data": {
      "text/plain": "['ice crushed cubed',\n 'subcommodity description',\n 'bread italian french',\n 'apple sauce',\n 'specialty cookies',\n 'spices seasonings',\n 'tray pack choc chip cookies',\n 'vitamin minerals',\n 'sweet goods sweet rolls dan',\n 'honey',\n 'traditional',\n 'tv movie magazine',\n 'air care aerosols',\n 'string cheese',\n 'vegetable salad oil',\n 'instant decaf flavor coffee w',\n 'diet control liquors nutritional',\n 'paper foam drinking cups',\n 'mainstream white bread',\n 'natural cheese exact  chunks',\n 'cranberry sauce',\n 'mixed vegetables',\n 'mexican beans refried',\n 'skillet dinners',\n 'hot mustard specialty mustard',\n 'plastic heavy paper premium plate',\n 'individually wrapped slice single cheese',\n 'frozen bagged vegetables plain',\n 'macaroni cheese dinner',\n 'ground coffee',\n 'pie filling mincemeat glazes',\n 'potatoes sweet',\n 'english muffins waffles',\n 'plstc ctlrytblclthstthpksst',\n 'fresh',\n 'miscellaneous cheese',\n 'frozen fruit',\n 'seafood frozen raw fillets',\n 'ammonia',\n 'sweet goods muffins',\n 'seafood frozen individually quick frozen raw shrimp random weight',\n 'freezer bags',\n 'gelatin',\n 'pickles',\n 'cakes layers',\n 'brownie mix',\n 'plastic trash bags',\n 'potatoes russet bulk bag',\n 'fluid milk white',\n 'condensed soup',\n 'sweet goods full size',\n 'dinner rolls',\n 'cookies regular',\n 'abrasives',\n 'noodle side dish mixes',\n 'paper napkins',\n 'rice side dish mixes dry',\n 'vinegar except wine rich',\n 'snacks appetizers',\n 'eggs x large',\n 'refrigerated cookies chub',\n 'eggs medium',\n 'standard oatmeal',\n 'adult cereal',\n 'sugar',\n 'salmon',\n 'family cereal',\n 'popcorn microwave',\n 'loaf cheese',\n 'tomato juice juice',\n 'school supplies',\n 'spinach greens',\n 'cold flu pseudoephedrine',\n 'mainstream wheat multigrain bread',\n 'baby powders',\n 'tortilla nacho chips',\n 'variety beans kidney pinto',\n 'canola oils',\n 'tomato sauce',\n 'frozen breaded prepared chick',\n 'bar soap',\n 'diet light bread',\n 'frozen boxed vegetables plain',\n 'rolls dinner',\n 'hot dog buns',\n 'soy beverage',\n 'gadgets tools',\n 'cheese crackers cheez gold',\n 'fruit snacks',\n 'kids cereal',\n 'butter spray cracker ritz club',\n 'tortilla chips',\n 'snack crackers',\n 'corn',\n 'candy bars multi pack',\n 'bagels',\n 'soft drinks package canned car',\n 'shampoo',\n 'candy bars singles including',\n 'apple juice cider',\n 'butter',\n 'dry beans peas barley bag b',\n 'frozen single serve premium entrees dinner',\n 'corn oil',\n 'mens hair sprays tonics creams',\n 'tools floor furniture',\n 'miscellaneous candy including',\n 'non carbonated drinking mineral water',\n 'cakes angel food cake rolls',\n 'frozen breakfast pastry',\n 'non dairy creamer dry',\n 'designer paper medium weight',\n 'cottage cheese',\n 'linaments',\n 'newspaper',\n 'pasta grain salads prepack',\n 'blended juice combinations ov',\n 'hamburger buns',\n 'personal repellants',\n 'topping mixes whip topping',\n 'rice instant microwave',\n 'mexican seasoning mixes',\n 'organic citrus',\n 'pizza sauce',\n 'decor bulbs',\n 'powder laundry detergent',\n 'prepared beans baked w pork',\n 'dips non refrigerated',\n 'multi pack crackers',\n 'sweet goods coffee cakes',\n 'drinks carbohydrates juice',\n 'isotonic drinks powdered',\n 'bread party breads',\n 'frozen concentrated juice',\n 'rolls sandwich',\n 'fabric softener liquid',\n 'shredded cheese',\n 'isotonic drinks single serve',\n 'sweet goods sweet rolls dan less thn',\n 'carpet cleaners',\n 'tea bags bulk tea',\n 'spaghetti dry',\n 'ant roach',\n 'mexican sauces salsa picante',\n 'gum packaged',\n 'refrigerated coffee creamers',\n 'instant coffee regular',\n 'tomatoes whole',\n 'eggs substitute',\n 'tomatoes stewed diced crmd',\n 'mainstream',\n 'cones',\n 'premium pints',\n 'vanilla wafer kids cookies',\n 'soup crackers saltine oyster',\n 'chocolate covered cookies',\n 'packaged mix',\n 'pretzels',\n 'cover girl',\n 'adult analgesics',\n 'implements sets',\n 'leggs',\n 'dry cat food economy cost cut',\n 'alkaline batteries',\n 'cakes creme pudding',\n 'molasses syrups',\n 'paperback books',\n 'toilet tissue',\n 'frozen cakes types includi',\n 'frozen multi serve entrees',\n 'tuna',\n 'microwavable cups',\n 'breast boneless individually quick frozen',\n 'ramen noodles ramen cups',\n 'bagged popped popcorn',\n 'grill accessories',\n 'multi pack cookies',\n 'bologna',\n 'links cooked',\n 'salad mustard',\n 'body wash',\n 'raisins',\n 'firewood',\n 'macaroni dry',\n 'batteries',\n 'premium',\n 'pourable salad dressings',\n 'snack cake multi pack',\n 'cocktail mixes fluid add liq',\n 'fruit filled cookies',\n 'vitamin individual',\n 'spring water',\n 'frozen garlic bread toast sticks',\n 'lunch combo',\n 'premium cookies exempt pepperidg',\n 'facial soaps scrubs masks',\n 'vacuum packed nuts cans',\n 'mouthwash rinses sprays',\n 'sour creams',\n 'beer ale malt liquors',\n 'infant formula milk base',\n 'dairy case pure juice',\n 'charcoal',\n 'yogurt multi packs',\n 'general purpose bulbs',\n 'semi solid salad dressing may',\n 'grated cheese',\n 'antiperspirants othe',\n 'facial tissue paper handkerchief',\n 'potato chips',\n 'better',\n 'chocolate milk',\n 'ricotta cheese',\n 'dry dog value pet pride klr g',\n 'seasonal candy bags chocolate',\n 'cups push ups',\n 'fem hygienic douches',\n 'refrigeration dips',\n 'dry soup',\n 'coffee filters',\n 'seasonal candy box chocolate',\n 'bits morsels',\n 'sponges bath household',\n 'candy bags non chocolate',\n 'miscellaneous milk',\n 'soft drink liter bottle carbohydrates ',\n 'peanut butter',\n 'dairy case juice drink',\n 'natural cheese exact  slices',\n 'fem hygienic napkins',\n 'chili canned',\n 'cards everyday',\n 'cream cheese',\n 'mixers club soda seltzers flav',\n 'pails',\n 'olive oil',\n 'water ice',\n 'frozen pie shells pastry shell',\n 'canister potato tort chips',\n 'preserves jam marmalade',\n 'soft drink liter bottle carbohydrates including',\n 'sauce mixes gravy mixes dry',\n 'barbecue sauce',\n 'stuffing mixes',\n 'cards seasonal',\n 'margarine tubs bowls',\n 'cake decors icing',\n 'sweet goods donuts',\n 'rice dry bag box',\n 'links raw',\n 'soft drink canisters',\n 'instant oatmeal',\n 'soft drink powder pouches',\n 'green olives',\n 'soft drink bottle non carbohydrates exempt',\n 'isotonic drinks multi serve',\n 'mexican soft tortillas wraps',\n 'jelly',\n 'oriental sauces marinades',\n 'oriental soy sauce',\n 'eggs large',\n 'soft drinks pkpk canned carbohydrates',\n 'ripe olives',\n 'fabric softener sheets',\n 'corn dogs',\n 'bagged cheese snacks',\n 'non individually wrapped slice single cheese',\n 'malted milk syrup powder eggnog',\n 'baking nuts',\n 'steak worchester sauce',\n 'fruit cocktail fruit salad',\n 'sandwich bags',\n 'charcoal lighter fluid utility',\n 'coleslaw',\n 'lemon juice lime juice',\n 'hangers',\n 'lawn leaf bags',\n 'pears',\n 'tea bags herbal flavored',\n 'potatoes dry',\n 'frozen fruit pies cobblers',\n 'table salt popcorn saltice c',\n 'pineapple',\n 'seafood frozen individually quick frozen cooked shrimp',\n 'single serve vend mach snacks chip p',\n 'dairy case tea sugar',\n 'ice cream sandwiches',\n 'kosher specialty',\n 'catsup',\n 'cornmeal',\n 'ice cream toppings',\n 'noodles dry',\n 'nonsense',\n 'beef stew',\n 'egg nog boiled custard',\n 'aseptic pack juice drinks',\n 'puddings dry',\n 'anti acids',\n 'pure extracts',\n 'liquid laundry detergents',\n 'dry dog food super premium one n',\n 'mixers tonic water gngr ale flav',\n 'apple butter',\n 'carrots',\n 'liquid bleach',\n 'paper towels holders',\n 'hot sauce',\n 'mandarin oranges citrus sect',\n 'waffles pancakes french toast',\n 'peaches yellow flesh',\n 'inside frost bulbs',\n 'cantaloupe whole',\n 'tomato paste',\n 'strawberries',\n 'chicken wings',\n 'aluminum foil',\n 'beans green fs  cut',\n 'sandwiches cold',\n 'grapes white',\n 'refrigerated pudding',\n 'rts soup chunky homestyle et',\n 'garden plus',\n 'mexican taco tostado shells',\n 'frozen whipped topping',\n 'scouring pads cloth',\n 'potatoes sweet yams',\n 'hot dog chili sauce',\n 'breadings coatings crumbs',\n 'tape mailing products',\n 'mexican peppers chilies',\n 'carrots mini peeled',\n 'grape juice juice',\n 'apples gold delicious bulk bag',\n 'foam plates',\n 'canned cat food lives frisk',\n 'garbage kitchen compactor ba',\n 'pasta canned',\n 'ham',\n 'package dinners',\n 'garlic whole cloves',\n 'blueberries',\n 'frozen single serve premium entrees dinner n',\n 'fruit bowl cups',\n 'salad spinach',\n 'fasteners',\n 'cigarettes',\n 'lip care medicated',\n 'maybelline',\n 'chicken breast bone',\n 'sandwich sauce',\n 'value',\n 'cooking sprays',\n 'cough syrup long dry expectorant',\n 'soft drinks canned non carbohydrates except',\n 'baby food junior brands',\n 'frozen grilled portions',\n 'yellow summer squash',\n 'croutons',\n 'cabbage',\n 'meat turkey bulk',\n 'select beef',\n 'rye breads',\n 'flour white self rising',\n 'razors blades',\n 'mushrooms canned glass',\n 'vending size single serve cracke',\n 'loaves',\n 'specialty crackers',\n 'pepperoni salami',\n 'kraut cabbage',\n 'frozen french fries',\n 'frozen corn cob',\n 'hair conditioners rinses',\n 'soft drink single serve bottle carbohydrates exempt',\n 'food magazine',\n 'baking powder soda',\n 'corn yellow',\n 'baby juices',\n 'seasonal candy box chocolate w',\n 'cheese cheeseballs spreads',\n 'soft drink multipack package bottle carbohydrates excp',\n 'vegetable salads bulk',\n 'popcorn',\n 'sauerkraut',\n 'chewing gum',\n 'flour miscellaneous specialty blend',\n 'oranges navels',\n 'cucumbers',\n 'miscellaneous',\n 'peaches',\n 'refrigerated biscuits regular',\n 'layer cake mix',\n 'grapes red',\n 'entrees',\n 'grits',\n 'corn chips',\n 'ground flavor regular coffee',\n 'primal',\n 'frozen pizza',\n 'apples bulk bag',\n 'refrigerated pasta',\n 'raspberries',\n 'sweeteners',\n 'peas onions peas carrot',\n 'frozen tater tots extruded',\n 'frozen hash browns potatoes',\n 'meat snacks',\n 'automatic dishwasher detergent',\n 'italian foods',\n 'muffin corn bread mix',\n 'biscuit flour mixes',\n 'sweet goods sweet flavored loaves',\n 'caramel coated snacks',\n 'poultry',\n 'peas green',\n 'refrigerated bagels',\n 'vegetable salads prepack',\n 'walnuts shelled',\n 'basic paper plates',\n 'premium bread',\n 'hand body lotions',\n 'seasonal candy bags non chocolate',\n 'bouillon',\n 'dog biscuits hard biscuit',\n 'asparagus',\n 'beans wax shellies',\n 'toilet bowl manual',\n 'smoked cooked',\n 'tropical fruit',\n 'miscellaneous dairy refrigerated',\n 'marshmallows',\n 'cheese natural bulk',\n 'pie crust mixes shells',\n 'chicken rotisserie hot',\n 'liquid dish detergent',\n 'baby food beginner',\n 'cauliflower whole',\n 'frozen bagged vegetables value',\n 'apples red delicious bulk bag',\n 'marshmallow creme',\n 'frozen bread stick portion',\n 'blackberries',\n 'refrigerated cookies break n b',\n 'refrigerated mexican products',\n 'bathroom cleaners specialty',\n 'nasal spray drops',\n 'margarine stick',\n 'canned dog food gourmet super premium',\n 'pizza traditional',\n 'fabric dry bleach',\n 'dry dog food premium alpo pur',\n 'liquid soap',\n 'mushrooms w whole package',\n 'dry cat food cat chow friskies',\n 'citrus juices',\n 'frozen breakfast entrees sandwiches',\n 'smoked cooked better',\n 'peanuts',\n 'canned milk',\n 'onions',\n 'dried fruit',\n 'feeding accessories bottles',\n 'baby food cereals',\n 'premium beef',\n 'baby wipes',\n 'broth',\n 'ground turkey',\n 'pancake mixes',\n 'refrigerated specialty rolls',\n 'sandwich sauce horseradish sauce',\n 'cold flu dextromethorphan',\n 'basic openstock',\n 'granola bars',\n 'toothpaste',\n 'quarts',\n 'frozen bread whole fillets',\n 'frozen breaded vegetables',\n 'puddinggelatin cups cans',\n 'limes',\n 'solid steak deodorants',\n 'cereal bars',\n 'litter accessories',\n 'candy bags chocolate',\n 'salad salsa dips prepackaged',\n 'tangerines tangelos',\n 'onions white bulk bag',\n 'extension cords',\n 'vienna sausage',\n 'sticks enrobed',\n 'seafood fresh non random weight',\n 'single serve economy entrees dinners',\n 'processed',\n 'breast bone individually quick frozen',\n 'scoop litter',\n 'dairy case citrus punch orange juice subs',\n 'stuffed mixed beef',\n 'hot chocolate cocoa mix',\n 'tea unsweetened',\n 'patties raw',\n 'salad dressing mixes',\n 'croutons salad toppers bread',\n 'pies pumpkin custard',\n 'chili sauce cocktail sauce',\n 'chunk meats',\n 'rolls pork',\n 'cranberry juice',\n 'tomato puree aspic',\n 'instant coffee flavored sweet',\n 'variety pack',\n 'onions sweet bulk bag',\n 'oranges non navel',\n 'cran apple cran grape juice',\n 'authentic asian foods',\n 'cranberries',\n 'toaster pastries',\n 'camping accessories',\n 'frozen meat alternatives',\n 'cider',\n 'bathroom cleaners general',\n 'fem hygienic tampons',\n 'super premium pints',\n 'baking cups',\n 'seafood miscellaneous breeders btr mix',\n 'single use cameras',\n 'peppers red bell',\n 'premium meat',\n 'disposable food storage container',\n 'foot sprays powders',\n 'pizza economy',\n 'shoe care laces polish clot',\n 'baby antibiotic ointments creams',\n 'soil stain remover',\n 'infant formula toddler',\n 'citrus juices u',\n 'sandwiches handhelds',\n 'disposable foilware',\n 'authentic japanese foods',\n 'seafood frozen bread shrimp',\n 'age restricted fireworks',\n 'main meal bread',\n 'cig lighters litre fluid pipes',\n 'meat pates mousse',\n 'standard flowering plants',\n 'frozen boxed vegetables value',\n 'miscellaneous oral hygienic medicated dese',\n 'applicators',\n 'suntan prod w sun protection factor lotion oil',\n 'kitchen multi purpose cleane',\n 'sweet goods muffins lss thn',\n 'garlic jar',\n 'salad desserts prepack',\n 'baby isotonic drinks',\n 'energy drink',\n 'hair sets gels',\n 'regular garden',\n 'diy electrical',\n 'frozen cream pies',\n 'carrots bagged',\n 'dressings',\n 'school paper',\n 'cereal cold',\n 'blends',\n 'aerosol toppings',\n 'dips',\n 'shave creams powders',\n 'salads',\n 'authentic sauces salsa picante',\n 'automobile magazine',\n 'apples granny smith bulk bag',\n 'apples gala bulk bag',\n 'writing instruments',\n 'candles',\n 'metal bakeware',\n 'cake decors birthday candles',\n 'margarine squeeze',\n 'matches',\n 'home plans magazine',\n 'oral hygiene brushes',\n 'rose bouquet',\n 'variety lettuce',\n 'age restricted dvd',\n 'pineapple juice juice',\n 'cakes candles retail access',\n 'mints candy breath lif',\n 'cookies party',\n 'conventional litter',\n 'organic onions',\n 'beets',\n 'sandwich cookies',\n 'bread savory specialty',\n 'bread sweet breakfast',\n 'garden magazine',\n 'dog treats soft treats',\n 'soy rice milk',\n 'refrigeration pizza ingredients n meat de',\n 'cooking chocolate exempt semi sweet',\n 'oriental vegetables',\n 'luncheon meat',\n 'chicken fully cooked',\n 'fem hygienic deodorants',\n 'pickled veg peppers etc',\n 'tea bags bulk tea supplement',\n 'women general magazine',\n 'hams dry cured country',\n 'seasonal miscellaneous',\n 'foot care shoe insole pads',\n 'cut vegetables',\n 'soft lens chemical',\n 'miscellaneous cheesecake mousse mixes',\n 'glass food storage',\n 'central american foods',\n 'herbs cilanto',\n 'mops sponge deck dust',\n 'frozen burgers barbecue meatball',\n 'rolls flavored',\n 'meat included',\n 'cookies sweet goods',\n 'teen magazine',\n 'pantry',\n 'beans',\n 'miscellaneous snacks',\n 'facial creams',\n 'potatoes red bulk bag',\n 'burritos',\n 'frosting',\n 'pizza premium',\n 'coconut',\n 'food storage bags',\n 'economy',\n 'onions yellow bulk bag',\n 'oven cleaners',\n 'seasonal candy box non chocola',\n 'eggs jumbo',\n 'grapefruit',\n 'pre cooked',\n 'kits',\n 'miscellaneous vegetables',\n 'pizza single serve microwave',\n 'serve beverage beverage juice juice',\n 'party seasonal',\n 'greens',\n 'cherries red',\n 'vegetables',\n 'dental floss implements',\n 'peppers green bell',\n 'bouquet non rose',\n 'fabric refreshers dry clean',\n 'watermelon seedless whole',\n 'sinus allergy pseudoephedrine',\n 'meat ham bulk',\n 'acne medications',\n 'meat beef bulk',\n 'mouth sore medicated',\n 'fall winter seasonal',\n 'sinus allergy',\n 'laxatives',\n 'value glass wine',\n 'promotional',\n 'sunburn aftersun products',\n 'pork fully cooked',\n 'frozen ojoj substitutes',\n 'general eye care',\n 'beverage wines',\n 'meat sausage dry prepackaged prslc',\n 'frozen dinner rolls',\n 'soft lens non chemical',\n 'head lettuce',\n 'meat lunchmeat bulk',\n 'lemons',\n 'cheese specialty bulk',\n 'chicken drums',\n 'economy meat',\n 'miscellaneous budget cosmetics',\n 'sweet goods specialty desserts',\n 'overnight processing',\n 'cheese specialty prepack',\n 'meat sausage dry bulk',\n 'broccoli whole crowns',\n 'green onions',\n 'tomatoes hothouse vine',\n 'seafood fresh live shellfish',\n 'lip care',\n 'rolls croissants breadsticks',\n 'hard squash',\n 'adult premium',\n 'pistachios',\n 'premium perennials outdoor',\n 'baby lotions oils',\n 'choice beef',\n 'vitamin non herbal supplement',\n 'pears bartlett',\n 'coolers',\n 'rubber gloves',\n 'pears anjou',\n 'fitness diet bars',\n 'baby soaps',\n 'external',\n 'organic carrots',\n 'apples braeburn bulk bag',\n 'bath accessories',\n 'onions red bulk bag',\n 'pies fruit nut',\n 'kiwi fruit',\n 'peppers',\n 'honeydew whole',\n 'avocado',\n 'carrots bulk',\n 'tomatoes vine ripe bulk',\n 'broccoli cauliflower processed',\n 'apples fuji bulk bag',\n 'squash zucchini',\n 'bananas',\n 'gasoline regular unleaded',\n 'peppers jalapeno',\n 'potatoes white',\n 'plums',\n 'snack mix',\n 'dry',\n 'butts',\n 'nut supplement joint health',\n 'cheese processed bulk',\n 'furniture',\n 'hair dryers stylers setter',\n 'mushrooms portabella',\n 'frozen pasta',\n 'non carbohydrates flavored drnkng mnrl wat',\n 'natural beef',\n 'herbs parsley',\n 'whole hens lbs',\n 'salsa dips',\n 'snacks crackers cookies',\n 'cooking oil peanut safflower',\n 'aseptic milk',\n 'yeast dry',\n 'gift wrap everyday',\n 'chicken frd pc cut hot',\n 'mixed fruit bags',\n 'instore cut fruit',\n 'salad bar fresh fruit',\n 'sphe',\n 'soup stew',\n 'hair combs brushes',\n 'cut fruit',\n 'baby diapers',\n 'cakes birthday celebration sh',\n 'tea sweetened',\n 'salad desserts bulk',\n 'cookware',\n 'smoking cessation',\n 'roma tomatoes bulk package',\n 'novelty candy',\n 'standard stems',\n 'dry cat food supper premium one nut',\n 'infant formula specialty',\n 'celery',\n 'lean',\n 'everyday small',\n 'soft drinks bottle returnable',\n 'prep food entrees cold',\n 'miscellaneous bag snacks',\n 'peppers bell',\n 'gravy canned glass',\n 'tape',\n 'specialty laundry',\n 'auto dish detergent monodose',\n 'cubed meats',\n 'aerosol deodorants',\n 'hair barrettes tailers',\n 'motor trans miscellaneous oil',\n 'chicken breast boneless',\n 'toilet bowl automatic',\n 'indoor floods spots',\n 'hair color developers',\n 'candy boxed chocolates w flour',\n 'pasta grain salads bulk',\n 'dog cat accessories',\n 'lima beans',\n 'vendor size single serve cookie',\n 'authentic pasta rice beans',\n 'soft drinks package package canned carbohydrates',\n 'air care sanitizers',\n 'sausage',\n 'facial moisturizers',\n 'bulk candy',\n 'plastic cups',\n 'blended juice combinations',\n 'microwavable soups',\n 'brushes',\n 'ham steaks cubes slices',\n 'frames',\n 'home decor magazine',\n 'floor dilutables',\n 'miscellaneous sales trans',\n 'flank',\n 'accessories',\n 'serve beverage carbohydrates beverage',\n 'ribs',\n 'spices seasoning',\n 'donations',\n 'bandage tape',\n 'labels post index card',\n 'bread tortillas pita',\n 'meat dept key rings',\n 'seafood frozen random weight',\n 'closet accessories',\n 'kabobs beef',\n 'bridal magazine',\n 'baby basic infant acc toys',\n 'area repellants',\n 'sleeping aids',\n 'rose consumer bunch',\n 'bread loaf snack',\n 'dairy case fruit drinks ju',\n 'cookies holiday special occasion',\n 'enhanced',\n 'solid shortening',\n 'flying insect',\n 'party everyday',\n 'seafood fresh salmon',\n 'interior exterior care',\n 'whole chicken roasters fryer',\n 'mushrooms white sliced package',\n 'specialty chips soy crisps pi',\n 'auto dish detergent gel',\n 'cakes novelties',\n 'meat chicken bulk',\n 'treats',\n 'chicken thighs',\n 'mexican dinners foods',\n 'juice juice',\n 'cookies gourmet',\n 'prep food oriental cold',\n 'grnd patty frozen',\n 'bath bubbles bath soaps additi',\n 'rigid gas permeable',\n 'rawhide chews',\n 'sandwich buns',\n 'flavored',\n 'potatoes',\n 'rinse aids accessories',\n 'social lifestyle magazine',\n 'hams half port bone',\n 'miscellaneous meat sauces',\n 'cleaning wipes',\n 'carbonated water flavored sweet',\n 'mango',\n 'tomatoes vine ripe package',\n 'kabobs',\n 'graham crackers',\n 'chicken value added cold',\n 'J-hook personal care',\n 'protein salads bulk',\n 'hams whole bone',\n 'n deodorant spray gel deodorant',\n 'snack cake single serve',\n 'rice cakes',\n 'tomatoes hot house bulk',\n 'prep food entrees hot',\n 'tabloids magazine',\n 'sweet goods brownie bar cookie',\n 'bobby pins accessories',\n 'air purification filtration',\n 'cold flu',\n 'potatoes gold bulk bag',\n 'consumer bunch non rose',\n 'round leg',\n 'grapefruit juice juice',\n 'snuff',\n 'snack meat',\n 'frozen baked stuffed mashed spec',\n 'dairy case pure juice oth',\n 'vinegar wine rice',\n 'relishes',\n 'drums',\n 'corn fresh packaged',\n 'yogurt',\n 'cheese',\n 'nuts',\n 'miscellaneous holidays',\n 'australian nz wines',\n 'canned cat food gourmet supper premium gr',\n 'ham steaks slices cubes',\n 'corporate deletes use',\n 'ribs spare rib back rib',\n 'bath beads',\n 'loin chops boneless',\n 'grnd patty chuck',\n 'bread toppings seasonings',\n 'womens hair sprays',\n 'miscellaneous repair',\n 'hydrocortizone',\n 'dl spec must oils vinegars',\n 'beerale non alcoholic',\n 'first aid medications',\n 'fighting varietal wines',\n 'fabric liquid bleach',\n 'meat turkey prepackaged preslc',\n 'meat ham prepackaged prslc',\n 'candy',\n 'south american wines',\n 'maraschino cherries',\n 'pasta ramen',\n 'air care continuous action',\n 'miscellaneous first aid products',\n 'fluid milk',\n 'buttermilk',\n 'sweet goods puff pastry',\n 'cotton cotton swabs',\n 'loin steak chop sliced',\n 'bulk plastics',\n 'infant formula soy base',\n 'mushrooms',\n 'tomatoes cherry',\n 'carbonated water unflavored',\n 'premium ml wines',\n 'pregnancy test kits',\n 'ground decaffeinated',\n 'easter egg coloring',\n 'candy bags chocolate w flour',\n 'tool sets',\n 'miscellaneous cooking baking wares',\n 'seafood fresh raw finfish',\n 'holiday dinner cold',\n 'organic salad mix',\n 'meatless vegetarian',\n 'shower heads accessories',\n 'seasonal non basic merchandise',\n 'miscellaneous canned seafoods crab etc',\n 'plastic wrap saranetc',\n 'cigars',\n 'glass cleaners',\n 'grnd patty round',\n 'grapes black blue',\n 'veg juice except tomato ove',\n 'hot dogs beef',\n 'popular ml wines',\n 'suntan products w sun protection factor',\n 'seafood fresh shrimp',\n 'baby creams ointments',\n 'prep food side dishes hot',\n 'liquid nutrition adults',\n 'large rice cakes',\n 'offals',\n 'miscellaneous refrigeration dough products',\n 'tomatoes grape',\n 'ladies sheer hosiery',\n 'candles seasonal',\n 'miscellaneous herring pickles horser',\n 'rib steak chop sliced',\n 'box wines',\n 'chuck shoulder roast',\n 'frozen vegetables',\n 'print film',\n 'organic vegetables others',\n 'balloons shapes',\n 'drain care',\n 'juice',\n 'distilled water',\n 'imitation extracts',\n 'frozen concentrated allieds juice',\n 'windshield',\n 'kosher foods',\n 'premium foliage plants',\n 'seafood miscellaneous sauces marin wet',\n 'store made',\n 'cranberry juice juice',\n 'clementines',\n 'finished electrical',\n 'regular bean',\n 'premium flowering plants',\n 'baking cocoa',\n 'inflatables',\n 'hispanic juice juice',\n 'wings',\n 'hot cold compress packs',\n 'peppers dried',\n 'smoked cooked beef',\n 'corn white',\n 'coupons store manufacturing',\n 'watermelon w seeds whole',\n 'frozen biscuits',\n 'oriental foods meals',\n 'sports participatory magazine',\n 'breaded chicken',\n 'chicken legs quarters',\n 'fruit breakfast bread',\n 'fruit drinks canned glass',\n 'candy bars multi pack w flour',\n 'nail care',\n 'mens activewear adidas',\n 'rubber syrngs hot water btls',\n 'boxed prepared entree dry prep',\n 'sparkling wines',\n 'flavored bean coffee',\n 'peyton gm expense items',\n 'herbs basil',\n 'vacuum bags acc',\n 'fortified energy water',\n 'potatoes white bulk bag',\n 'miscellaneous seasonal items',\n ...]"
     },
     "execution_count": 41,
     "metadata": {},
     "output_type": "execute_result"
    }
   ],
   "source": [
    "item_features['sub_commodity_desc'].unique().tolist()"
   ],
   "metadata": {
    "collapsed": false,
    "pycharm": {
     "name": "#%%\n"
    }
   }
  },
  {
   "cell_type": "code",
   "execution_count": 42,
   "outputs": [
    {
     "data": {
      "text/plain": "  age_desc marital_status_code income_desc homeowner_desc      hh_comp_desc  \\\n0      65+                   A      35-49K      Homeowner  2 Adults No Kids   \n1    45-54                   A      50-74K      Homeowner  2 Adults No Kids   \n\n  household_size_desc kid_category_desc  user_id  \n0                   2      None/Unknown        1  \n1                   2      None/Unknown        7  ",
      "text/html": "<div>\n<style scoped>\n    .dataframe tbody tr th:only-of-type {\n        vertical-align: middle;\n    }\n\n    .dataframe tbody tr th {\n        vertical-align: top;\n    }\n\n    .dataframe thead th {\n        text-align: right;\n    }\n</style>\n<table border=\"1\" class=\"dataframe\">\n  <thead>\n    <tr style=\"text-align: right;\">\n      <th></th>\n      <th>age_desc</th>\n      <th>marital_status_code</th>\n      <th>income_desc</th>\n      <th>homeowner_desc</th>\n      <th>hh_comp_desc</th>\n      <th>household_size_desc</th>\n      <th>kid_category_desc</th>\n      <th>user_id</th>\n    </tr>\n  </thead>\n  <tbody>\n    <tr>\n      <th>0</th>\n      <td>65+</td>\n      <td>A</td>\n      <td>35-49K</td>\n      <td>Homeowner</td>\n      <td>2 Adults No Kids</td>\n      <td>2</td>\n      <td>None/Unknown</td>\n      <td>1</td>\n    </tr>\n    <tr>\n      <th>1</th>\n      <td>45-54</td>\n      <td>A</td>\n      <td>50-74K</td>\n      <td>Homeowner</td>\n      <td>2 Adults No Kids</td>\n      <td>2</td>\n      <td>None/Unknown</td>\n      <td>7</td>\n    </tr>\n  </tbody>\n</table>\n</div>"
     },
     "execution_count": 42,
     "metadata": {},
     "output_type": "execute_result"
    }
   ],
   "source": [
    "user_features.head(2)"
   ],
   "metadata": {
    "collapsed": false,
    "pycharm": {
     "name": "#%%\n"
    }
   }
  },
  {
   "cell_type": "code",
   "execution_count": 45,
   "outputs": [
    {
     "name": "stdout",
     "output_type": "stream",
     "text": [
      "<class 'pandas.core.frame.DataFrame'>\n",
      "RangeIndex: 801 entries, 0 to 800\n",
      "Data columns (total 8 columns):\n",
      " #   Column               Non-Null Count  Dtype \n",
      "---  ------               --------------  ----- \n",
      " 0   age_desc             801 non-null    object\n",
      " 1   marital_status_code  801 non-null    object\n",
      " 2   income_desc          801 non-null    object\n",
      " 3   homeowner_desc       801 non-null    object\n",
      " 4   hh_comp_desc         801 non-null    object\n",
      " 5   household_size_desc  801 non-null    object\n",
      " 6   kid_category_desc    801 non-null    object\n",
      " 7   user_id              801 non-null    int64 \n",
      "dtypes: int64(1), object(7)\n",
      "memory usage: 50.2+ KB\n"
     ]
    }
   ],
   "source": [
    "user_features.info()"
   ],
   "metadata": {
    "collapsed": false,
    "pycharm": {
     "name": "#%%\n"
    }
   }
  },
  {
   "cell_type": "markdown",
   "source": [
    "---"
   ],
   "metadata": {
    "collapsed": false,
    "pycharm": {
     "name": "#%% md\n"
    }
   }
  },
  {
   "cell_type": "markdown",
   "source": [
    "# Split dataset for train, eval, test"
   ],
   "metadata": {
    "collapsed": false,
    "pycharm": {
     "name": "#%% md\n"
    }
   }
  },
  {
   "cell_type": "code",
   "execution_count": 46,
   "outputs": [],
   "source": [
    "VAL_MATCHER_WEEKS = 6\n",
    "VAL_RANKER_WEEKS = 3"
   ],
   "metadata": {
    "collapsed": false,
    "pycharm": {
     "name": "#%%\n"
    }
   }
  },
  {
   "cell_type": "code",
   "execution_count": 47,
   "outputs": [],
   "source": [
    "# берем данные для тренировки matching модели\n",
    "data_train_matcher = data[data['week_no'] < data['week_no'].max() - (VAL_MATCHER_WEEKS + VAL_RANKER_WEEKS)]\n",
    "\n",
    "# берем данные для валидации matching модели\n",
    "data_val_matcher = data[(data['week_no'] >= data['week_no'].max() - (VAL_MATCHER_WEEKS + VAL_RANKER_WEEKS)) &\n",
    "                        (data['week_no'] < data['week_no'].max() - (VAL_RANKER_WEEKS))]\n",
    "\n",
    "\n",
    "# берем данные для тренировки ranking модели\n",
    "data_train_ranker = data_val_matcher.copy()  # Для наглядности. Далее мы добавим изменения, и они будут отличаться\n",
    "\n",
    "# берем данные для теста ranking, matching модели\n",
    "data_val_ranker = data[data['week_no'] >= data['week_no'].max() - VAL_RANKER_WEEKS]"
   ],
   "metadata": {
    "collapsed": false,
    "pycharm": {
     "name": "#%%\n"
    }
   }
  },
  {
   "cell_type": "code",
   "execution_count": 48,
   "outputs": [],
   "source": [
    "def print_stats_data(df_data, name_df):\n",
    "    print(name_df)\n",
    "    print(f\"Shape: {df_data.shape} Users: {df_data[USER_COL].nunique()} Items: {df_data[ITEM_COL].nunique()}\")"
   ],
   "metadata": {
    "collapsed": false,
    "pycharm": {
     "name": "#%%\n"
    }
   }
  },
  {
   "cell_type": "code",
   "execution_count": 49,
   "outputs": [
    {
     "name": "stdout",
     "output_type": "stream",
     "text": [
      "train_matcher\n",
      "Shape: (2108779, 21) Users: 2498 Items: 83685\n",
      "val_matcher\n",
      "Shape: (169711, 21) Users: 2154 Items: 27649\n",
      "train_ranker\n",
      "Shape: (169711, 21) Users: 2154 Items: 27649\n",
      "val_ranker\n",
      "Shape: (118314, 21) Users: 2042 Items: 24329\n"
     ]
    }
   ],
   "source": [
    "print_stats_data(data_train_matcher,'train_matcher')\n",
    "print_stats_data(data_val_matcher,'val_matcher')\n",
    "print_stats_data(data_train_ranker,'train_ranker')\n",
    "print_stats_data(data_val_ranker,'val_ranker')"
   ],
   "metadata": {
    "collapsed": false,
    "pycharm": {
     "name": "#%%\n"
    }
   }
  },
  {
   "cell_type": "code",
   "execution_count": 50,
   "outputs": [
    {
     "data": {
      "text/plain": "   user_id    basket_id  day  item_id  quantity  sales_value  store_id  \\\n0     2375  26984851472    1  1004906         1         1.39       364   \n1     2375  26984851472    1  1033142         1         0.82       364   \n\n   retail_disc  trans_time  week_no  ...  coupon_match_disc  avr_trans_time  \\\n0         -0.6        1631        1  ...                0.0            1237   \n1          0.0        1631        1  ...                0.0            1237   \n\n   time_cat num_of_purchases  num_week_no  total_amount_of_purchases  \\\n0       day              105           51                    2486.42   \n1       day              105           51                    2486.42   \n\n   avr_purchase_receipt  avr_weekly_purchase_receipt  num_days  \\\n0              23.68019                    48.753333       659   \n1              23.68019                    48.753333       659   \n\n   avr_num_of_purchases_per_day  \n0                      0.159332  \n1                      0.159332  \n\n[2 rows x 21 columns]",
      "text/html": "<div>\n<style scoped>\n    .dataframe tbody tr th:only-of-type {\n        vertical-align: middle;\n    }\n\n    .dataframe tbody tr th {\n        vertical-align: top;\n    }\n\n    .dataframe thead th {\n        text-align: right;\n    }\n</style>\n<table border=\"1\" class=\"dataframe\">\n  <thead>\n    <tr style=\"text-align: right;\">\n      <th></th>\n      <th>user_id</th>\n      <th>basket_id</th>\n      <th>day</th>\n      <th>item_id</th>\n      <th>quantity</th>\n      <th>sales_value</th>\n      <th>store_id</th>\n      <th>retail_disc</th>\n      <th>trans_time</th>\n      <th>week_no</th>\n      <th>...</th>\n      <th>coupon_match_disc</th>\n      <th>avr_trans_time</th>\n      <th>time_cat</th>\n      <th>num_of_purchases</th>\n      <th>num_week_no</th>\n      <th>total_amount_of_purchases</th>\n      <th>avr_purchase_receipt</th>\n      <th>avr_weekly_purchase_receipt</th>\n      <th>num_days</th>\n      <th>avr_num_of_purchases_per_day</th>\n    </tr>\n  </thead>\n  <tbody>\n    <tr>\n      <th>0</th>\n      <td>2375</td>\n      <td>26984851472</td>\n      <td>1</td>\n      <td>1004906</td>\n      <td>1</td>\n      <td>1.39</td>\n      <td>364</td>\n      <td>-0.6</td>\n      <td>1631</td>\n      <td>1</td>\n      <td>...</td>\n      <td>0.0</td>\n      <td>1237</td>\n      <td>day</td>\n      <td>105</td>\n      <td>51</td>\n      <td>2486.42</td>\n      <td>23.68019</td>\n      <td>48.753333</td>\n      <td>659</td>\n      <td>0.159332</td>\n    </tr>\n    <tr>\n      <th>1</th>\n      <td>2375</td>\n      <td>26984851472</td>\n      <td>1</td>\n      <td>1033142</td>\n      <td>1</td>\n      <td>0.82</td>\n      <td>364</td>\n      <td>0.0</td>\n      <td>1631</td>\n      <td>1</td>\n      <td>...</td>\n      <td>0.0</td>\n      <td>1237</td>\n      <td>day</td>\n      <td>105</td>\n      <td>51</td>\n      <td>2486.42</td>\n      <td>23.68019</td>\n      <td>48.753333</td>\n      <td>659</td>\n      <td>0.159332</td>\n    </tr>\n  </tbody>\n</table>\n<p>2 rows × 21 columns</p>\n</div>"
     },
     "execution_count": 50,
     "metadata": {},
     "output_type": "execute_result"
    }
   ],
   "source": [
    "data_train_matcher.head(2)"
   ],
   "metadata": {
    "collapsed": false,
    "pycharm": {
     "name": "#%%\n"
    }
   }
  },
  {
   "cell_type": "markdown",
   "source": [
    "# Prefilter items"
   ],
   "metadata": {
    "collapsed": false,
    "pycharm": {
     "name": "#%% md\n"
    }
   }
  },
  {
   "cell_type": "code",
   "execution_count": 51,
   "outputs": [
    {
     "name": "stdout",
     "output_type": "stream",
     "text": [
      "Decreased # items from 83685 to 5001\n"
     ]
    }
   ],
   "source": [
    "n_items_before = data_train_matcher['item_id'].nunique()\n",
    "\n",
    "data_train_matcher = prefilter_items(data_train_matcher, item_features=item_features, take_n_popular=5000)\n",
    "\n",
    "n_items_after = data_train_matcher['item_id'].nunique()\n",
    "print('Decreased # items from {} to {}'.format(n_items_before, n_items_after))"
   ],
   "metadata": {
    "collapsed": false,
    "pycharm": {
     "name": "#%%\n"
    }
   }
  },
  {
   "cell_type": "code",
   "execution_count": 52,
   "outputs": [
    {
     "data": {
      "text/plain": "    user_id    basket_id  day  item_id  quantity  sales_value  store_id  \\\n7      2375  26984851516    1  1085983         1         2.99       364   \n11     2375  27115132404   12   827919         1         2.79       364   \n\n    retail_disc  trans_time  week_no  ...  avr_trans_time  time_cat  \\\n7          -0.4        1642        1  ...            1237       day   \n11          0.0        1936        2  ...            1237       day   \n\n    num_of_purchases num_week_no  total_amount_of_purchases  \\\n7                105          51                    2486.42   \n11               105          51                    2486.42   \n\n    avr_purchase_receipt  avr_weekly_purchase_receipt  num_days  \\\n7               23.68019                    48.753333       659   \n11              23.68019                    48.753333       659   \n\n    avr_num_of_purchases_per_day  price  \n7                       0.159332   2.99  \n11                      0.159332   2.79  \n\n[2 rows x 22 columns]",
      "text/html": "<div>\n<style scoped>\n    .dataframe tbody tr th:only-of-type {\n        vertical-align: middle;\n    }\n\n    .dataframe tbody tr th {\n        vertical-align: top;\n    }\n\n    .dataframe thead th {\n        text-align: right;\n    }\n</style>\n<table border=\"1\" class=\"dataframe\">\n  <thead>\n    <tr style=\"text-align: right;\">\n      <th></th>\n      <th>user_id</th>\n      <th>basket_id</th>\n      <th>day</th>\n      <th>item_id</th>\n      <th>quantity</th>\n      <th>sales_value</th>\n      <th>store_id</th>\n      <th>retail_disc</th>\n      <th>trans_time</th>\n      <th>week_no</th>\n      <th>...</th>\n      <th>avr_trans_time</th>\n      <th>time_cat</th>\n      <th>num_of_purchases</th>\n      <th>num_week_no</th>\n      <th>total_amount_of_purchases</th>\n      <th>avr_purchase_receipt</th>\n      <th>avr_weekly_purchase_receipt</th>\n      <th>num_days</th>\n      <th>avr_num_of_purchases_per_day</th>\n      <th>price</th>\n    </tr>\n  </thead>\n  <tbody>\n    <tr>\n      <th>7</th>\n      <td>2375</td>\n      <td>26984851516</td>\n      <td>1</td>\n      <td>1085983</td>\n      <td>1</td>\n      <td>2.99</td>\n      <td>364</td>\n      <td>-0.4</td>\n      <td>1642</td>\n      <td>1</td>\n      <td>...</td>\n      <td>1237</td>\n      <td>day</td>\n      <td>105</td>\n      <td>51</td>\n      <td>2486.42</td>\n      <td>23.68019</td>\n      <td>48.753333</td>\n      <td>659</td>\n      <td>0.159332</td>\n      <td>2.99</td>\n    </tr>\n    <tr>\n      <th>11</th>\n      <td>2375</td>\n      <td>27115132404</td>\n      <td>12</td>\n      <td>827919</td>\n      <td>1</td>\n      <td>2.79</td>\n      <td>364</td>\n      <td>0.0</td>\n      <td>1936</td>\n      <td>2</td>\n      <td>...</td>\n      <td>1237</td>\n      <td>day</td>\n      <td>105</td>\n      <td>51</td>\n      <td>2486.42</td>\n      <td>23.68019</td>\n      <td>48.753333</td>\n      <td>659</td>\n      <td>0.159332</td>\n      <td>2.79</td>\n    </tr>\n  </tbody>\n</table>\n<p>2 rows × 22 columns</p>\n</div>"
     },
     "execution_count": 52,
     "metadata": {},
     "output_type": "execute_result"
    }
   ],
   "source": [
    "data_train_matcher.head(2)"
   ],
   "metadata": {
    "collapsed": false,
    "pycharm": {
     "name": "#%%\n"
    }
   }
  },
  {
   "cell_type": "markdown",
   "source": [
    "# Make cold-start to warm-start"
   ],
   "metadata": {
    "collapsed": false,
    "pycharm": {
     "name": "#%% md\n"
    }
   }
  },
  {
   "cell_type": "code",
   "execution_count": 53,
   "outputs": [
    {
     "name": "stdout",
     "output_type": "stream",
     "text": [
      "train_matcher\n",
      "Shape: (861401, 22) Users: 2495 Items: 5001\n",
      "val_matcher\n",
      "Shape: (169615, 21) Users: 2151 Items: 27644\n",
      "train_ranker\n",
      "Shape: (169615, 21) Users: 2151 Items: 27644\n",
      "val_ranker\n",
      "Shape: (118282, 21) Users: 2040 Items: 24325\n"
     ]
    }
   ],
   "source": [
    "# ищем общих пользователей\n",
    "common_users = data_train_matcher.user_id.values\n",
    "\n",
    "data_val_matcher = data_val_matcher[data_val_matcher.user_id.isin(common_users)]\n",
    "data_train_ranker = data_train_ranker[data_train_ranker.user_id.isin(common_users)]\n",
    "data_val_ranker = data_val_ranker[data_val_ranker.user_id.isin(common_users)]\n",
    "\n",
    "print_stats_data(data_train_matcher,'train_matcher')\n",
    "print_stats_data(data_val_matcher,'val_matcher')\n",
    "print_stats_data(data_train_ranker,'train_ranker')\n",
    "print_stats_data(data_val_ranker,'val_ranker')"
   ],
   "metadata": {
    "collapsed": false,
    "pycharm": {
     "name": "#%%\n"
    }
   }
  },
  {
   "cell_type": "markdown",
   "source": [
    "# Init/train recommender"
   ],
   "metadata": {
    "collapsed": false,
    "pycharm": {
     "name": "#%% md\n"
    }
   }
  },
  {
   "cell_type": "code",
   "execution_count": 54,
   "outputs": [
    {
     "name": "stderr",
     "output_type": "stream",
     "text": [
      "WARNING:root:Intel MKL BLAS detected. Its highly recommend to set the environment variable 'export MKL_NUM_THREADS=1' to disable its internal multithreading\n"
     ]
    },
    {
     "data": {
      "text/plain": "  0%|          | 0/15 [00:00<?, ?it/s]",
      "application/vnd.jupyter.widget-view+json": {
       "version_major": 2,
       "version_minor": 0,
       "model_id": "2918e4a179994ac6a43c7181e505ce39"
      }
     },
     "metadata": {},
     "output_type": "display_data"
    },
    {
     "data": {
      "text/plain": "  0%|          | 0/15 [00:00<?, ?it/s]",
      "application/vnd.jupyter.widget-view+json": {
       "version_major": 2,
       "version_minor": 0,
       "model_id": "dfbc0d656c534b1cbfd41d075efa64c0"
      }
     },
     "metadata": {},
     "output_type": "display_data"
    },
    {
     "data": {
      "text/plain": "  0%|          | 0/5001 [00:00<?, ?it/s]",
      "application/vnd.jupyter.widget-view+json": {
       "version_major": 2,
       "version_minor": 0,
       "model_id": "36162bd5ee8c4cd1a001928375ea4675"
      }
     },
     "metadata": {},
     "output_type": "display_data"
    }
   ],
   "source": [
    "recommender = MainRecommender(data_train_matcher)"
   ],
   "metadata": {
    "collapsed": false,
    "pycharm": {
     "name": "#%%\n"
    }
   }
  },
  {
   "cell_type": "markdown",
   "source": [
    "# Eval recall of matching"
   ],
   "metadata": {
    "collapsed": false,
    "pycharm": {
     "name": "#%% md\n"
    }
   }
  },
  {
   "cell_type": "code",
   "execution_count": 55,
   "outputs": [],
   "source": [
    "ACTUAL_COL = 'actual'"
   ],
   "metadata": {
    "collapsed": false,
    "pycharm": {
     "name": "#%%\n"
    }
   }
  },
  {
   "cell_type": "code",
   "execution_count": 56,
   "outputs": [
    {
     "data": {
      "text/plain": "   user_id                                             actual\n0        1  [853529, 865456, 867607, 872137, 874905, 87524...\n1        2  [15830248, 838136, 839656, 861272, 866211, 870...",
      "text/html": "<div>\n<style scoped>\n    .dataframe tbody tr th:only-of-type {\n        vertical-align: middle;\n    }\n\n    .dataframe tbody tr th {\n        vertical-align: top;\n    }\n\n    .dataframe thead th {\n        text-align: right;\n    }\n</style>\n<table border=\"1\" class=\"dataframe\">\n  <thead>\n    <tr style=\"text-align: right;\">\n      <th></th>\n      <th>user_id</th>\n      <th>actual</th>\n    </tr>\n  </thead>\n  <tbody>\n    <tr>\n      <th>0</th>\n      <td>1</td>\n      <td>[853529, 865456, 867607, 872137, 874905, 87524...</td>\n    </tr>\n    <tr>\n      <th>1</th>\n      <td>2</td>\n      <td>[15830248, 838136, 839656, 861272, 866211, 870...</td>\n    </tr>\n  </tbody>\n</table>\n</div>"
     },
     "execution_count": 56,
     "metadata": {},
     "output_type": "execute_result"
    }
   ],
   "source": [
    "result_eval_matcher = data_val_matcher.groupby(USER_COL)[ITEM_COL].unique().reset_index()\n",
    "result_eval_matcher.columns=[USER_COL, ACTUAL_COL]\n",
    "result_eval_matcher.head(2)"
   ],
   "metadata": {
    "collapsed": false,
    "pycharm": {
     "name": "#%%\n"
    }
   }
  },
  {
   "cell_type": "code",
   "execution_count": 57,
   "outputs": [],
   "source": [
    "# N = Neighbors\n",
    "N_PREDICT = 50"
   ],
   "metadata": {
    "collapsed": false,
    "pycharm": {
     "name": "#%%\n"
    }
   }
  },
  {
   "cell_type": "code",
   "execution_count": 58,
   "outputs": [],
   "source": [
    "def evalRecall(df_result, result_col_name, target_col_name, recommend_model, N_PREDICT):\n",
    "    df_result[result_col_name] = df_result[target_col_name].apply(lambda x: recommend_model(x, N_PREDICT))\n",
    "    return df_result.apply(lambda row: recall_at_k(row[result_col_name], row[ACTUAL_COL], k=N_PREDICT), axis=1).mean()"
   ],
   "metadata": {
    "collapsed": false,
    "pycharm": {
     "name": "#%%\n"
    }
   }
  },
  {
   "cell_type": "code",
   "execution_count": 59,
   "outputs": [
    {
     "data": {
      "text/plain": "0.044119547395835505"
     },
     "execution_count": 59,
     "metadata": {},
     "output_type": "execute_result"
    }
   ],
   "source": [
    "evalRecall(result_eval_matcher, 'result', USER_COL, recommender.get_own_recommendations, 25)"
   ],
   "metadata": {
    "collapsed": false,
    "pycharm": {
     "name": "#%%\n"
    }
   }
  },
  {
   "cell_type": "code",
   "execution_count": 60,
   "outputs": [],
   "source": [
    "def calc_recall(df_data, top_k):\n",
    "    for col_name in df_data.columns[2:]:\n",
    "        yield col_name, df_data.apply(lambda row: recall_at_k(row[col_name], row[ACTUAL_COL], k=top_k), axis=1).mean()"
   ],
   "metadata": {
    "collapsed": false,
    "pycharm": {
     "name": "#%%\n"
    }
   }
  },
  {
   "cell_type": "code",
   "execution_count": 61,
   "outputs": [],
   "source": [
    "def calc_precision(df_data, top_k):\n",
    "    for col_name in df_data.columns[2:]:\n",
    "        yield col_name, df_data.apply(lambda row: precision_at_k(row[col_name], row[ACTUAL_COL], k=top_k), axis=1).mean()"
   ],
   "metadata": {
    "collapsed": false,
    "pycharm": {
     "name": "#%%\n"
    }
   }
  },
  {
   "cell_type": "code",
   "execution_count": 62,
   "outputs": [],
   "source": [
    "result_eval_matcher['own_rec_45'] = result_eval_matcher[USER_COL].apply(lambda x: recommender.get_own_recommendations(x, 45))\n",
    "result_eval_matcher['als_rec_5'] = result_eval_matcher[USER_COL].apply(lambda x: recommender.get_als_recommendations(x, 5))\n",
    "result_eval_matcher['own_rec_45_+_als_rec_5'] = result_eval_matcher['own_rec_45'] + result_eval_matcher['als_rec_5']"
   ],
   "metadata": {
    "collapsed": false,
    "pycharm": {
     "name": "#%%\n"
    }
   }
  },
  {
   "cell_type": "code",
   "execution_count": 63,
   "outputs": [
    {
     "data": {
      "text/plain": "0.0667090010081626"
     },
     "execution_count": 63,
     "metadata": {},
     "output_type": "execute_result"
    }
   ],
   "source": [
    "result_eval_matcher.apply(lambda row: recall_at_k(row['own_rec_45_+_als_rec_5'], row[ACTUAL_COL], k=50), axis=1).mean()"
   ],
   "metadata": {
    "collapsed": false,
    "pycharm": {
     "name": "#%%\n"
    }
   }
  },
  {
   "cell_type": "code",
   "execution_count": 64,
   "outputs": [
    {
     "data": {
      "text/plain": "0.06525657038145175"
     },
     "execution_count": 64,
     "metadata": {},
     "output_type": "execute_result"
    }
   ],
   "source": [
    "result_eval_matcher['own_rec_50'] = result_eval_matcher[USER_COL].apply(lambda x: recommender.get_own_recommendations(x, 50))\n",
    "result_eval_matcher.apply(lambda row: recall_at_k(row['own_rec_50'], row[ACTUAL_COL], k=50), axis=1).mean()"
   ],
   "metadata": {
    "collapsed": false,
    "pycharm": {
     "name": "#%%\n"
    }
   }
  },
  {
   "cell_type": "code",
   "execution_count": 65,
   "outputs": [
    {
     "data": {
      "text/plain": "0.054910942926714806"
     },
     "execution_count": 65,
     "metadata": {},
     "output_type": "execute_result"
    }
   ],
   "source": [
    "result_eval_matcher['als_rec_50'] = result_eval_matcher[USER_COL].apply(lambda x: recommender.get_als_recommendations(x, 50))\n",
    "result_eval_matcher.apply(lambda row: recall_at_k(row['als_rec_50'], row[ACTUAL_COL], k=50), axis=1).mean()"
   ],
   "metadata": {
    "collapsed": false,
    "pycharm": {
     "name": "#%%\n"
    }
   }
  },
  {
   "cell_type": "markdown",
   "source": [
    "### Recall@50 of matching"
   ],
   "metadata": {
    "collapsed": false,
    "pycharm": {
     "name": "#%% md\n"
    }
   }
  },
  {
   "cell_type": "code",
   "execution_count": 66,
   "outputs": [],
   "source": [
    "TOPK_RECALL = 50"
   ],
   "metadata": {
    "collapsed": false,
    "pycharm": {
     "name": "#%%\n"
    }
   }
  },
  {
   "cell_type": "code",
   "execution_count": 67,
   "outputs": [
    {
     "data": {
      "text/plain": "[('own_rec_45_+_als_rec_5', 0.0667090010081626),\n ('own_rec_50', 0.06525657038145175),\n ('own_rec_45', 0.06212243669915392),\n ('als_rec_50', 0.054910942926714806),\n ('result', 0.044119547395835505),\n ('als_rec_5', 0.015864391764492336)]"
     },
     "execution_count": 67,
     "metadata": {},
     "output_type": "execute_result"
    }
   ],
   "source": [
    "sorted(calc_recall(result_eval_matcher, TOPK_RECALL), key=lambda x: x[1],reverse=True)"
   ],
   "metadata": {
    "collapsed": false,
    "pycharm": {
     "name": "#%%\n"
    }
   }
  },
  {
   "cell_type": "markdown",
   "source": [
    "### Precision@5 of matching"
   ],
   "metadata": {
    "collapsed": false,
    "pycharm": {
     "name": "#%% md\n"
    }
   }
  },
  {
   "cell_type": "code",
   "execution_count": 68,
   "outputs": [],
   "source": [
    "TOPK_PRECISION = 5"
   ],
   "metadata": {
    "collapsed": false,
    "pycharm": {
     "name": "#%%\n"
    }
   }
  },
  {
   "cell_type": "code",
   "execution_count": 69,
   "outputs": [
    {
     "data": {
      "text/plain": "[('result', 0.17712691771268974),\n ('own_rec_45', 0.17712691771268974),\n ('own_rec_45_+_als_rec_5', 0.17712691771268974),\n ('own_rec_50', 0.17712691771268974),\n ('als_rec_5', 0.13314737331473564),\n ('als_rec_50', 0.13314737331473564)]"
     },
     "execution_count": 69,
     "metadata": {},
     "output_type": "execute_result"
    }
   ],
   "source": [
    "sorted(calc_precision(result_eval_matcher, TOPK_PRECISION), key=lambda x: x[1],reverse=True)"
   ],
   "metadata": {
    "collapsed": false,
    "pycharm": {
     "name": "#%%\n"
    }
   }
  },
  {
   "cell_type": "markdown",
   "source": [
    "# Ranking part"
   ],
   "metadata": {
    "collapsed": false,
    "pycharm": {
     "name": "#%% md\n"
    }
   }
  },
  {
   "cell_type": "markdown",
   "source": [
    "## Подготовка данных для трейна"
   ],
   "metadata": {
    "collapsed": false,
    "pycharm": {
     "name": "#%% md\n"
    }
   }
  },
  {
   "cell_type": "code",
   "execution_count": 70,
   "outputs": [],
   "source": [
    "# взяли пользователей из трейна для ранжирования\n",
    "df_match_candidates = pd.DataFrame(data_train_ranker[USER_COL].unique())\n",
    "df_match_candidates.columns = [USER_COL]"
   ],
   "metadata": {
    "collapsed": false,
    "pycharm": {
     "name": "#%%\n"
    }
   }
  },
  {
   "cell_type": "code",
   "execution_count": 71,
   "outputs": [
    {
     "data": {
      "text/plain": "      user_id\n0        2375\n1        1364\n2        1130\n3        1173\n4          98\n...       ...\n2146      540\n2147      338\n2148      615\n2149     1077\n2150     1581\n\n[2151 rows x 1 columns]",
      "text/html": "<div>\n<style scoped>\n    .dataframe tbody tr th:only-of-type {\n        vertical-align: middle;\n    }\n\n    .dataframe tbody tr th {\n        vertical-align: top;\n    }\n\n    .dataframe thead th {\n        text-align: right;\n    }\n</style>\n<table border=\"1\" class=\"dataframe\">\n  <thead>\n    <tr style=\"text-align: right;\">\n      <th></th>\n      <th>user_id</th>\n    </tr>\n  </thead>\n  <tbody>\n    <tr>\n      <th>0</th>\n      <td>2375</td>\n    </tr>\n    <tr>\n      <th>1</th>\n      <td>1364</td>\n    </tr>\n    <tr>\n      <th>2</th>\n      <td>1130</td>\n    </tr>\n    <tr>\n      <th>3</th>\n      <td>1173</td>\n    </tr>\n    <tr>\n      <th>4</th>\n      <td>98</td>\n    </tr>\n    <tr>\n      <th>...</th>\n      <td>...</td>\n    </tr>\n    <tr>\n      <th>2146</th>\n      <td>540</td>\n    </tr>\n    <tr>\n      <th>2147</th>\n      <td>338</td>\n    </tr>\n    <tr>\n      <th>2148</th>\n      <td>615</td>\n    </tr>\n    <tr>\n      <th>2149</th>\n      <td>1077</td>\n    </tr>\n    <tr>\n      <th>2150</th>\n      <td>1581</td>\n    </tr>\n  </tbody>\n</table>\n<p>2151 rows × 1 columns</p>\n</div>"
     },
     "execution_count": 71,
     "metadata": {},
     "output_type": "execute_result"
    }
   ],
   "source": [
    "df_match_candidates"
   ],
   "metadata": {
    "collapsed": false,
    "pycharm": {
     "name": "#%%\n"
    }
   }
  },
  {
   "cell_type": "code",
   "execution_count": 72,
   "outputs": [],
   "source": [
    "# собираем кандитатов с первого этапа (matcher)\n",
    "df_match_candidates['candidates'] = df_match_candidates[USER_COL].apply(lambda x: recommender.get_own_recommendations(x, N=N_PREDICT))"
   ],
   "metadata": {
    "collapsed": false,
    "pycharm": {
     "name": "#%%\n"
    }
   }
  },
  {
   "cell_type": "code",
   "execution_count": 73,
   "outputs": [
    {
     "data": {
      "text/plain": "   user_id                                         candidates\n0     2375  [948640, 918046, 847962, 907099, 873980, 88469...\n1     1364  [1101378, 8090570, 857176, 947013, 1065979, 10...",
      "text/html": "<div>\n<style scoped>\n    .dataframe tbody tr th:only-of-type {\n        vertical-align: middle;\n    }\n\n    .dataframe tbody tr th {\n        vertical-align: top;\n    }\n\n    .dataframe thead th {\n        text-align: right;\n    }\n</style>\n<table border=\"1\" class=\"dataframe\">\n  <thead>\n    <tr style=\"text-align: right;\">\n      <th></th>\n      <th>user_id</th>\n      <th>candidates</th>\n    </tr>\n  </thead>\n  <tbody>\n    <tr>\n      <th>0</th>\n      <td>2375</td>\n      <td>[948640, 918046, 847962, 907099, 873980, 88469...</td>\n    </tr>\n    <tr>\n      <th>1</th>\n      <td>1364</td>\n      <td>[1101378, 8090570, 857176, 947013, 1065979, 10...</td>\n    </tr>\n  </tbody>\n</table>\n</div>"
     },
     "execution_count": 73,
     "metadata": {},
     "output_type": "execute_result"
    }
   ],
   "source": [
    "df_match_candidates.head(2)"
   ],
   "metadata": {
    "collapsed": false,
    "pycharm": {
     "name": "#%%\n"
    }
   }
  },
  {
   "cell_type": "code",
   "execution_count": 74,
   "outputs": [
    {
     "data": {
      "text/plain": "0        948640\n0        918046\n0        847962\n0        907099\n0        873980\n         ...   \n2150     909714\n2150     995478\n2150    1075214\n2150    1138443\n2150    1023720\nLength: 107550, dtype: int64"
     },
     "execution_count": 74,
     "metadata": {},
     "output_type": "execute_result"
    }
   ],
   "source": [
    "df_items = df_match_candidates.apply(lambda x: pd.Series(x['candidates']), axis=1).stack().reset_index(level=1, drop=True)\n",
    "df_items"
   ],
   "metadata": {
    "collapsed": false,
    "pycharm": {
     "name": "#%%\n"
    }
   }
  },
  {
   "cell_type": "code",
   "execution_count": 75,
   "outputs": [
    {
     "data": {
      "text/plain": "0        948640\n0        918046\n0        847962\n0        907099\n0        873980\n         ...   \n2150     909714\n2150     995478\n2150    1075214\n2150    1138443\n2150    1023720\nName: item_id, Length: 107550, dtype: int64"
     },
     "execution_count": 75,
     "metadata": {},
     "output_type": "execute_result"
    }
   ],
   "source": [
    "df_items.name = 'item_id'\n",
    "df_items"
   ],
   "metadata": {
    "collapsed": false,
    "pycharm": {
     "name": "#%%\n"
    }
   }
  },
  {
   "cell_type": "code",
   "execution_count": 76,
   "outputs": [
    {
     "data": {
      "text/plain": "   user_id  item_id\n0     2375   948640\n0     2375   918046\n0     2375   847962\n0     2375   907099",
      "text/html": "<div>\n<style scoped>\n    .dataframe tbody tr th:only-of-type {\n        vertical-align: middle;\n    }\n\n    .dataframe tbody tr th {\n        vertical-align: top;\n    }\n\n    .dataframe thead th {\n        text-align: right;\n    }\n</style>\n<table border=\"1\" class=\"dataframe\">\n  <thead>\n    <tr style=\"text-align: right;\">\n      <th></th>\n      <th>user_id</th>\n      <th>item_id</th>\n    </tr>\n  </thead>\n  <tbody>\n    <tr>\n      <th>0</th>\n      <td>2375</td>\n      <td>948640</td>\n    </tr>\n    <tr>\n      <th>0</th>\n      <td>2375</td>\n      <td>918046</td>\n    </tr>\n    <tr>\n      <th>0</th>\n      <td>2375</td>\n      <td>847962</td>\n    </tr>\n    <tr>\n      <th>0</th>\n      <td>2375</td>\n      <td>907099</td>\n    </tr>\n  </tbody>\n</table>\n</div>"
     },
     "execution_count": 76,
     "metadata": {},
     "output_type": "execute_result"
    }
   ],
   "source": [
    "df_match_candidates = df_match_candidates.drop('candidates', axis=1).join(df_items)\n",
    "df_match_candidates.head(4)"
   ],
   "metadata": {
    "collapsed": false,
    "pycharm": {
     "name": "#%%\n"
    }
   }
  },
  {
   "cell_type": "markdown",
   "source": [
    "### Check warm start"
   ],
   "metadata": {
    "collapsed": false,
    "pycharm": {
     "name": "#%% md\n"
    }
   }
  },
  {
   "cell_type": "code",
   "execution_count": 77,
   "outputs": [
    {
     "name": "stdout",
     "output_type": "stream",
     "text": [
      "match_candidates\n",
      "Shape: (107550, 2) Users: 2151 Items: 4574\n"
     ]
    }
   ],
   "source": [
    "print_stats_data(df_match_candidates, 'match_candidates')"
   ],
   "metadata": {
    "collapsed": false,
    "pycharm": {
     "name": "#%%\n"
    }
   }
  },
  {
   "cell_type": "code",
   "execution_count": 78,
   "outputs": [],
   "source": [
    "df_ranker_train = data_train_ranker.copy()\n",
    "df_ranker_train['target'] = 1  # тут только покупки"
   ],
   "metadata": {
    "collapsed": false,
    "pycharm": {
     "name": "#%%\n"
    }
   }
  },
  {
   "cell_type": "code",
   "execution_count": 79,
   "outputs": [
    {
     "data": {
      "text/plain": "     user_id    basket_id  day  item_id  quantity  sales_value  store_id  \\\n563     2375  40630425577  594   835300         1         4.73       364   \n564     2375  40630425577  594   848029         1        11.21       364   \n565     2375  40630425577  594   862714         3         2.37       364   \n566     2375  40630425577  594   896613         2         6.24       364   \n567     2375  40630425577  594   923746         1         1.49       364   \n\n     retail_disc  trans_time  week_no  ...  avr_trans_time  time_cat  \\\n563         0.00        1305       86  ...            1237       day   \n564        -4.50        1305       86  ...            1237       day   \n565        -0.60        1305       86  ...            1237       day   \n566        -2.71        1305       86  ...            1237       day   \n567         0.00        1305       86  ...            1237       day   \n\n     num_of_purchases num_week_no  total_amount_of_purchases  \\\n563               105          51                    2486.42   \n564               105          51                    2486.42   \n565               105          51                    2486.42   \n566               105          51                    2486.42   \n567               105          51                    2486.42   \n\n     avr_purchase_receipt  avr_weekly_purchase_receipt  num_days  \\\n563              23.68019                    48.753333       659   \n564              23.68019                    48.753333       659   \n565              23.68019                    48.753333       659   \n566              23.68019                    48.753333       659   \n567              23.68019                    48.753333       659   \n\n     avr_num_of_purchases_per_day  target  \n563                      0.159332       1  \n564                      0.159332       1  \n565                      0.159332       1  \n566                      0.159332       1  \n567                      0.159332       1  \n\n[5 rows x 22 columns]",
      "text/html": "<div>\n<style scoped>\n    .dataframe tbody tr th:only-of-type {\n        vertical-align: middle;\n    }\n\n    .dataframe tbody tr th {\n        vertical-align: top;\n    }\n\n    .dataframe thead th {\n        text-align: right;\n    }\n</style>\n<table border=\"1\" class=\"dataframe\">\n  <thead>\n    <tr style=\"text-align: right;\">\n      <th></th>\n      <th>user_id</th>\n      <th>basket_id</th>\n      <th>day</th>\n      <th>item_id</th>\n      <th>quantity</th>\n      <th>sales_value</th>\n      <th>store_id</th>\n      <th>retail_disc</th>\n      <th>trans_time</th>\n      <th>week_no</th>\n      <th>...</th>\n      <th>avr_trans_time</th>\n      <th>time_cat</th>\n      <th>num_of_purchases</th>\n      <th>num_week_no</th>\n      <th>total_amount_of_purchases</th>\n      <th>avr_purchase_receipt</th>\n      <th>avr_weekly_purchase_receipt</th>\n      <th>num_days</th>\n      <th>avr_num_of_purchases_per_day</th>\n      <th>target</th>\n    </tr>\n  </thead>\n  <tbody>\n    <tr>\n      <th>563</th>\n      <td>2375</td>\n      <td>40630425577</td>\n      <td>594</td>\n      <td>835300</td>\n      <td>1</td>\n      <td>4.73</td>\n      <td>364</td>\n      <td>0.00</td>\n      <td>1305</td>\n      <td>86</td>\n      <td>...</td>\n      <td>1237</td>\n      <td>day</td>\n      <td>105</td>\n      <td>51</td>\n      <td>2486.42</td>\n      <td>23.68019</td>\n      <td>48.753333</td>\n      <td>659</td>\n      <td>0.159332</td>\n      <td>1</td>\n    </tr>\n    <tr>\n      <th>564</th>\n      <td>2375</td>\n      <td>40630425577</td>\n      <td>594</td>\n      <td>848029</td>\n      <td>1</td>\n      <td>11.21</td>\n      <td>364</td>\n      <td>-4.50</td>\n      <td>1305</td>\n      <td>86</td>\n      <td>...</td>\n      <td>1237</td>\n      <td>day</td>\n      <td>105</td>\n      <td>51</td>\n      <td>2486.42</td>\n      <td>23.68019</td>\n      <td>48.753333</td>\n      <td>659</td>\n      <td>0.159332</td>\n      <td>1</td>\n    </tr>\n    <tr>\n      <th>565</th>\n      <td>2375</td>\n      <td>40630425577</td>\n      <td>594</td>\n      <td>862714</td>\n      <td>3</td>\n      <td>2.37</td>\n      <td>364</td>\n      <td>-0.60</td>\n      <td>1305</td>\n      <td>86</td>\n      <td>...</td>\n      <td>1237</td>\n      <td>day</td>\n      <td>105</td>\n      <td>51</td>\n      <td>2486.42</td>\n      <td>23.68019</td>\n      <td>48.753333</td>\n      <td>659</td>\n      <td>0.159332</td>\n      <td>1</td>\n    </tr>\n    <tr>\n      <th>566</th>\n      <td>2375</td>\n      <td>40630425577</td>\n      <td>594</td>\n      <td>896613</td>\n      <td>2</td>\n      <td>6.24</td>\n      <td>364</td>\n      <td>-2.71</td>\n      <td>1305</td>\n      <td>86</td>\n      <td>...</td>\n      <td>1237</td>\n      <td>day</td>\n      <td>105</td>\n      <td>51</td>\n      <td>2486.42</td>\n      <td>23.68019</td>\n      <td>48.753333</td>\n      <td>659</td>\n      <td>0.159332</td>\n      <td>1</td>\n    </tr>\n    <tr>\n      <th>567</th>\n      <td>2375</td>\n      <td>40630425577</td>\n      <td>594</td>\n      <td>923746</td>\n      <td>1</td>\n      <td>1.49</td>\n      <td>364</td>\n      <td>0.00</td>\n      <td>1305</td>\n      <td>86</td>\n      <td>...</td>\n      <td>1237</td>\n      <td>day</td>\n      <td>105</td>\n      <td>51</td>\n      <td>2486.42</td>\n      <td>23.68019</td>\n      <td>48.753333</td>\n      <td>659</td>\n      <td>0.159332</td>\n      <td>1</td>\n    </tr>\n  </tbody>\n</table>\n<p>5 rows × 22 columns</p>\n</div>"
     },
     "execution_count": 79,
     "metadata": {},
     "output_type": "execute_result"
    }
   ],
   "source": [
    "df_ranker_train.head(5)"
   ],
   "metadata": {
    "collapsed": false,
    "pycharm": {
     "name": "#%%\n"
    }
   }
  },
  {
   "cell_type": "markdown",
   "source": [
    "#### Не хватает нулей в датасете, поэтому добавляем наших кандитатов в качество нулей"
   ],
   "metadata": {
    "collapsed": false,
    "pycharm": {
     "name": "#%% md\n"
    }
   }
  },
  {
   "cell_type": "code",
   "execution_count": 80,
   "outputs": [],
   "source": [
    "df_ranker_train = df_match_candidates.merge(df_ranker_train, on=[USER_COL, ITEM_COL], how='left')\n",
    "\n",
    "# чистим дубликаты\n",
    "df_ranker_train = df_ranker_train.drop_duplicates(subset=[USER_COL, ITEM_COL])\n",
    "\n",
    "df_ranker_train['target'].fillna(0, inplace= True)"
   ],
   "metadata": {
    "collapsed": false,
    "pycharm": {
     "name": "#%%\n"
    }
   }
  },
  {
   "cell_type": "markdown",
   "source": [
    "## Подготавливаем фичи для обучения модели"
   ],
   "metadata": {
    "collapsed": false,
    "pycharm": {
     "name": "#%% md\n"
    }
   }
  },
  {
   "cell_type": "code",
   "execution_count": 81,
   "outputs": [
    {
     "data": {
      "text/plain": "   item_id  manufacturer    department     brand         commodity_desc  \\\n0    25671             2       GROCERY  National               frzn ice   \n1    26081             2  MISC. TRANS.  National  commodity description   \n\n         sub_commodity_desc curr_size_of_product  \n0         ice crushed cubed                22 LB  \n1  subcommodity description          not_defined  ",
      "text/html": "<div>\n<style scoped>\n    .dataframe tbody tr th:only-of-type {\n        vertical-align: middle;\n    }\n\n    .dataframe tbody tr th {\n        vertical-align: top;\n    }\n\n    .dataframe thead th {\n        text-align: right;\n    }\n</style>\n<table border=\"1\" class=\"dataframe\">\n  <thead>\n    <tr style=\"text-align: right;\">\n      <th></th>\n      <th>item_id</th>\n      <th>manufacturer</th>\n      <th>department</th>\n      <th>brand</th>\n      <th>commodity_desc</th>\n      <th>sub_commodity_desc</th>\n      <th>curr_size_of_product</th>\n    </tr>\n  </thead>\n  <tbody>\n    <tr>\n      <th>0</th>\n      <td>25671</td>\n      <td>2</td>\n      <td>GROCERY</td>\n      <td>National</td>\n      <td>frzn ice</td>\n      <td>ice crushed cubed</td>\n      <td>22 LB</td>\n    </tr>\n    <tr>\n      <th>1</th>\n      <td>26081</td>\n      <td>2</td>\n      <td>MISC. TRANS.</td>\n      <td>National</td>\n      <td>commodity description</td>\n      <td>subcommodity description</td>\n      <td>not_defined</td>\n    </tr>\n  </tbody>\n</table>\n</div>"
     },
     "execution_count": 81,
     "metadata": {},
     "output_type": "execute_result"
    }
   ],
   "source": [
    "item_features.head(2)"
   ],
   "metadata": {
    "collapsed": false,
    "pycharm": {
     "name": "#%%\n"
    }
   }
  },
  {
   "cell_type": "code",
   "execution_count": 82,
   "outputs": [
    {
     "data": {
      "text/plain": "   user_id  item_id  basket_id  day  quantity  sales_value  store_id  \\\n0     2375   948640        NaN  NaN       NaN          NaN       NaN   \n1     2375   918046        NaN  NaN       NaN          NaN       NaN   \n\n   retail_disc  trans_time  week_no  ...         commodity_desc  \\\n0          NaN         NaN      NaN  ...  oral hygiene products   \n1          NaN         NaN      NaN  ...             cigarettes   \n\n   sub_commodity_desc  curr_size_of_product age_desc  marital_status_code  \\\n0   whitening systems                  3 OZ      NaN                  NaN   \n1          cigarettes            971838  PK      NaN                  NaN   \n\n   income_desc  homeowner_desc  hh_comp_desc  household_size_desc  \\\n0          NaN             NaN           NaN                  NaN   \n1          NaN             NaN           NaN                  NaN   \n\n   kid_category_desc  \n0                NaN  \n1                NaN  \n\n[2 rows x 35 columns]",
      "text/html": "<div>\n<style scoped>\n    .dataframe tbody tr th:only-of-type {\n        vertical-align: middle;\n    }\n\n    .dataframe tbody tr th {\n        vertical-align: top;\n    }\n\n    .dataframe thead th {\n        text-align: right;\n    }\n</style>\n<table border=\"1\" class=\"dataframe\">\n  <thead>\n    <tr style=\"text-align: right;\">\n      <th></th>\n      <th>user_id</th>\n      <th>item_id</th>\n      <th>basket_id</th>\n      <th>day</th>\n      <th>quantity</th>\n      <th>sales_value</th>\n      <th>store_id</th>\n      <th>retail_disc</th>\n      <th>trans_time</th>\n      <th>week_no</th>\n      <th>...</th>\n      <th>commodity_desc</th>\n      <th>sub_commodity_desc</th>\n      <th>curr_size_of_product</th>\n      <th>age_desc</th>\n      <th>marital_status_code</th>\n      <th>income_desc</th>\n      <th>homeowner_desc</th>\n      <th>hh_comp_desc</th>\n      <th>household_size_desc</th>\n      <th>kid_category_desc</th>\n    </tr>\n  </thead>\n  <tbody>\n    <tr>\n      <th>0</th>\n      <td>2375</td>\n      <td>948640</td>\n      <td>NaN</td>\n      <td>NaN</td>\n      <td>NaN</td>\n      <td>NaN</td>\n      <td>NaN</td>\n      <td>NaN</td>\n      <td>NaN</td>\n      <td>NaN</td>\n      <td>...</td>\n      <td>oral hygiene products</td>\n      <td>whitening systems</td>\n      <td>3 OZ</td>\n      <td>NaN</td>\n      <td>NaN</td>\n      <td>NaN</td>\n      <td>NaN</td>\n      <td>NaN</td>\n      <td>NaN</td>\n      <td>NaN</td>\n    </tr>\n    <tr>\n      <th>1</th>\n      <td>2375</td>\n      <td>918046</td>\n      <td>NaN</td>\n      <td>NaN</td>\n      <td>NaN</td>\n      <td>NaN</td>\n      <td>NaN</td>\n      <td>NaN</td>\n      <td>NaN</td>\n      <td>NaN</td>\n      <td>...</td>\n      <td>cigarettes</td>\n      <td>cigarettes</td>\n      <td>971838  PK</td>\n      <td>NaN</td>\n      <td>NaN</td>\n      <td>NaN</td>\n      <td>NaN</td>\n      <td>NaN</td>\n      <td>NaN</td>\n      <td>NaN</td>\n    </tr>\n  </tbody>\n</table>\n<p>2 rows × 35 columns</p>\n</div>"
     },
     "execution_count": 82,
     "metadata": {},
     "output_type": "execute_result"
    }
   ],
   "source": [
    "df_ranker_train = df_ranker_train.merge(item_features, on='item_id', how='left')\n",
    "df_ranker_train = df_ranker_train.merge(user_features, on='user_id', how='left')\n",
    "\n",
    "df_ranker_train.head(2)"
   ],
   "metadata": {
    "collapsed": false,
    "pycharm": {
     "name": "#%%\n"
    }
   }
  },
  {
   "cell_type": "code",
   "execution_count": 83,
   "outputs": [],
   "source": [
    "X_train = df_ranker_train.drop('target', axis=1)\n",
    "y_train = df_ranker_train[['target']]"
   ],
   "metadata": {
    "collapsed": false,
    "pycharm": {
     "name": "#%%\n"
    }
   }
  },
  {
   "cell_type": "code",
   "execution_count": 84,
   "outputs": [],
   "source": [
    "from sklearn.preprocessing import StandardScaler\n",
    "from sklearn.feature_extraction.text import TfidfVectorizer\n",
    "from sklearn.linear_model import LogisticRegression\n",
    "from scipy.sparse import hstack\n",
    "from sklearn.pipeline import Pipeline, make_pipeline"
   ],
   "metadata": {
    "collapsed": false,
    "pycharm": {
     "name": "#%%\n"
    }
   }
  },
  {
   "cell_type": "code",
   "execution_count": 85,
   "outputs": [],
   "source": [
    "from sklearn.pipeline import FeatureUnion"
   ],
   "metadata": {
    "collapsed": false,
    "pycharm": {
     "name": "#%%\n"
    }
   }
  },
  {
   "cell_type": "code",
   "execution_count": 86,
   "outputs": [],
   "source": [
    "def rerank(user_id):\n",
    "    return df_ranker_predict[df_ranker_predict[USER_COL]==user_id].sort_values('proba_item_purchase', ascending=False).head(5).item_id.tolist()"
   ],
   "metadata": {
    "collapsed": false,
    "pycharm": {
     "name": "#%%\n"
    }
   }
  },
  {
   "cell_type": "code",
   "execution_count": 87,
   "outputs": [],
   "source": [
    "from sklearn.ensemble import RandomForestClassifier"
   ],
   "metadata": {
    "collapsed": false,
    "pycharm": {
     "name": "#%%\n"
    }
   }
  },
  {
   "cell_type": "code",
   "execution_count": 88,
   "outputs": [],
   "source": [
    "continuos_cols = ['manufacturer', 'day', 'quantity', 'sales_value', 'store_id', 'retail_disc', 'trans_time', 'week_no', 'coupon_disc',\n",
    "                  'coupon_match_disc', 'avr_trans_time', 'num_of_purchases', 'num_week_no', 'total_amount_of_purchases',\n",
    "                  'avr_purchase_receipt', 'avr_weekly_purchase_receipt', 'num_days', 'avr_num_of_purchases_per_day']\n",
    "cat_cols = ['income_desc', 'age_desc', 'hh_comp_desc', 'marital_status_code', 'household_size_desc', 'kid_category_desc', 'time_cat']  #  , 'homeowner_des'\n",
    "base_cols = ['brand']\n",
    "text_cols = ['department', 'commodity_desc', 'sub_commodity_desc']"
   ],
   "metadata": {
    "collapsed": false,
    "pycharm": {
     "name": "#%%\n"
    }
   }
  },
  {
   "cell_type": "code",
   "execution_count": 89,
   "outputs": [
    {
     "data": {
      "text/plain": "   user_id  item_id  basket_id  day  quantity  sales_value  store_id  \\\n0     2375   948640        NaN  NaN       NaN          NaN       NaN   \n1     2375   918046        NaN  NaN       NaN          NaN       NaN   \n\n   retail_disc  trans_time  week_no  ...         commodity_desc  \\\n0          NaN         NaN      NaN  ...  oral hygiene products   \n1          NaN         NaN      NaN  ...             cigarettes   \n\n   sub_commodity_desc  curr_size_of_product age_desc  marital_status_code  \\\n0   whitening systems                  3 OZ      NaN                  NaN   \n1          cigarettes            971838  PK      NaN                  NaN   \n\n   income_desc  homeowner_desc  hh_comp_desc  household_size_desc  \\\n0          NaN             NaN           NaN                  NaN   \n1          NaN             NaN           NaN                  NaN   \n\n   kid_category_desc  \n0                NaN  \n1                NaN  \n\n[2 rows x 35 columns]",
      "text/html": "<div>\n<style scoped>\n    .dataframe tbody tr th:only-of-type {\n        vertical-align: middle;\n    }\n\n    .dataframe tbody tr th {\n        vertical-align: top;\n    }\n\n    .dataframe thead th {\n        text-align: right;\n    }\n</style>\n<table border=\"1\" class=\"dataframe\">\n  <thead>\n    <tr style=\"text-align: right;\">\n      <th></th>\n      <th>user_id</th>\n      <th>item_id</th>\n      <th>basket_id</th>\n      <th>day</th>\n      <th>quantity</th>\n      <th>sales_value</th>\n      <th>store_id</th>\n      <th>retail_disc</th>\n      <th>trans_time</th>\n      <th>week_no</th>\n      <th>...</th>\n      <th>commodity_desc</th>\n      <th>sub_commodity_desc</th>\n      <th>curr_size_of_product</th>\n      <th>age_desc</th>\n      <th>marital_status_code</th>\n      <th>income_desc</th>\n      <th>homeowner_desc</th>\n      <th>hh_comp_desc</th>\n      <th>household_size_desc</th>\n      <th>kid_category_desc</th>\n    </tr>\n  </thead>\n  <tbody>\n    <tr>\n      <th>0</th>\n      <td>2375</td>\n      <td>948640</td>\n      <td>NaN</td>\n      <td>NaN</td>\n      <td>NaN</td>\n      <td>NaN</td>\n      <td>NaN</td>\n      <td>NaN</td>\n      <td>NaN</td>\n      <td>NaN</td>\n      <td>...</td>\n      <td>oral hygiene products</td>\n      <td>whitening systems</td>\n      <td>3 OZ</td>\n      <td>NaN</td>\n      <td>NaN</td>\n      <td>NaN</td>\n      <td>NaN</td>\n      <td>NaN</td>\n      <td>NaN</td>\n      <td>NaN</td>\n    </tr>\n    <tr>\n      <th>1</th>\n      <td>2375</td>\n      <td>918046</td>\n      <td>NaN</td>\n      <td>NaN</td>\n      <td>NaN</td>\n      <td>NaN</td>\n      <td>NaN</td>\n      <td>NaN</td>\n      <td>NaN</td>\n      <td>NaN</td>\n      <td>...</td>\n      <td>cigarettes</td>\n      <td>cigarettes</td>\n      <td>971838  PK</td>\n      <td>NaN</td>\n      <td>NaN</td>\n      <td>NaN</td>\n      <td>NaN</td>\n      <td>NaN</td>\n      <td>NaN</td>\n      <td>NaN</td>\n    </tr>\n  </tbody>\n</table>\n<p>2 rows × 35 columns</p>\n</div>"
     },
     "execution_count": 89,
     "metadata": {},
     "output_type": "execute_result"
    }
   ],
   "source": [
    "df_ranker_train.head(2)"
   ],
   "metadata": {
    "collapsed": false,
    "pycharm": {
     "name": "#%%\n"
    }
   }
  },
  {
   "cell_type": "code",
   "execution_count": 91,
   "outputs": [
    {
     "data": {
      "text/plain": "0         Unknown\n1         Unknown\n2         Unknown\n3         Unknown\n4         Unknown\n           ...   \n106967    Unknown\n106968    Unknown\n106969    Unknown\n106970    Unknown\n106971    Unknown\nName: age_desc, Length: 106972, dtype: object"
     },
     "execution_count": 91,
     "metadata": {},
     "output_type": "execute_result"
    }
   ],
   "source": [
    "X_train.loc[X_train['age_desc'].isna(), 'age_desc'] = 'Unknown'\n",
    "X_train['age_desc']"
   ],
   "metadata": {
    "collapsed": false,
    "pycharm": {
     "name": "#%%\n"
    }
   }
  },
  {
   "cell_type": "code",
   "execution_count": 92,
   "outputs": [],
   "source": [
    "X_train.loc[X_train['marital_status_code'].isna(), 'marital_status_code'] = 'Unknown'\n",
    "X_train.loc[X_train['income_desc'].isna(), 'income_desc'] = 'Unknown'\n",
    "X_train.loc[X_train['homeowner_desc'].isna(), 'homeowner_desc'] = 'Unknown'\n",
    "X_train.loc[X_train['hh_comp_desc'].isna(), 'hh_comp_desc'] = 'Unknown'\n",
    "X_train.loc[X_train['household_size_desc'].isna(), 'household_size_desc'] = 'Unknown'\n",
    "X_train.loc[X_train['kid_category_desc'].isna(), 'kid_category_desc'] = 'Unknown'"
   ],
   "metadata": {
    "collapsed": false,
    "pycharm": {
     "name": "#%%\n"
    }
   }
  },
  {
   "cell_type": "code",
   "execution_count": 93,
   "outputs": [],
   "source": [
    "continuos_transformers = []\n",
    "cat_transformers = []\n",
    "base_transformers = []\n",
    "text_transformers = []\n",
    "\n",
    "for cont_col in continuos_cols:\n",
    "    transfomer =  Pipeline([\n",
    "        ('selector', MyServiceFunctions.NumberSelector(key=cont_col)),\n",
    "        ('standard', StandardScaler())\n",
    "    ])\n",
    "    continuos_transformers.append((cont_col, transfomer))\n",
    "\n",
    "for cat_col in cat_cols:\n",
    "    cat_transformer = Pipeline([\n",
    "        ('selector', MyServiceFunctions.FeatureSelector(key=cat_col)),\n",
    "        ('ohe', MyServiceFunctions.OHEEncoder(key=cat_col))\n",
    "    ])\n",
    "    cat_transformers.append((cat_col, cat_transformer))\n",
    "\n",
    "for base_col in base_cols:\n",
    "    base_transformer = Pipeline([\n",
    "        ('selector', MyServiceFunctions.NumberSelector(key=base_col)),\n",
    "        ('ohe_bin', MyServiceFunctions.OHEEncoderBin(key=base_col))\n",
    "    ])\n",
    "    base_transformers.append((base_col, base_transformer))\n",
    "\n",
    "for text_col in text_cols:\n",
    "    text_transformer = Pipeline([\n",
    "        ('selector', MyServiceFunctions.FeatureSelector(key=text_col)),\n",
    "        ('description_tfidf', TfidfVectorizer(analyzer='word'))\n",
    "    ])\n",
    "    text_transformers.append((text_col, text_transformer))"
   ],
   "metadata": {
    "collapsed": false,
    "pycharm": {
     "name": "#%%\n"
    }
   }
  },
  {
   "cell_type": "code",
   "execution_count": 94,
   "outputs": [],
   "source": [
    "feats = FeatureUnion(continuos_transformers+cat_transformers+base_transformers+text_transformers)\n",
    "# feats = FeatureUnion(continuos_transformers+base_transformers+text_transformers)\n",
    "feature_processing = Pipeline([('feats', feats)])"
   ],
   "metadata": {
    "collapsed": false,
    "pycharm": {
     "name": "#%%\n"
    }
   }
  },
  {
   "cell_type": "code",
   "execution_count": 95,
   "outputs": [
    {
     "name": "stdout",
     "output_type": "stream",
     "text": [
      "<class 'pandas.core.frame.DataFrame'>\n",
      "Int64Index: 106972 entries, 0 to 106971\n",
      "Data columns (total 34 columns):\n",
      " #   Column                        Non-Null Count   Dtype  \n",
      "---  ------                        --------------   -----  \n",
      " 0   user_id                       106972 non-null  int64  \n",
      " 1   item_id                       106972 non-null  int64  \n",
      " 2   basket_id                     7795 non-null    float64\n",
      " 3   day                           7795 non-null    float64\n",
      " 4   quantity                      7795 non-null    float64\n",
      " 5   sales_value                   7795 non-null    float64\n",
      " 6   store_id                      7795 non-null    float64\n",
      " 7   retail_disc                   7795 non-null    float64\n",
      " 8   trans_time                    7795 non-null    float64\n",
      " 9   week_no                       7795 non-null    float64\n",
      " 10  coupon_disc                   7795 non-null    float64\n",
      " 11  coupon_match_disc             7795 non-null    float64\n",
      " 12  avr_trans_time                7795 non-null    float64\n",
      " 13  time_cat                      7795 non-null    object \n",
      " 14  num_of_purchases              7795 non-null    float64\n",
      " 15  num_week_no                   7795 non-null    float64\n",
      " 16  total_amount_of_purchases     7795 non-null    float64\n",
      " 17  avr_purchase_receipt          7795 non-null    float64\n",
      " 18  avr_weekly_purchase_receipt   7795 non-null    float64\n",
      " 19  num_days                      7795 non-null    float64\n",
      " 20  avr_num_of_purchases_per_day  7795 non-null    float64\n",
      " 21  manufacturer                  106972 non-null  int64  \n",
      " 22  department                    106972 non-null  object \n",
      " 23  brand                         106972 non-null  object \n",
      " 24  commodity_desc                106972 non-null  object \n",
      " 25  sub_commodity_desc            106972 non-null  object \n",
      " 26  curr_size_of_product          106972 non-null  object \n",
      " 27  age_desc                      106972 non-null  object \n",
      " 28  marital_status_code           106972 non-null  object \n",
      " 29  income_desc                   106972 non-null  object \n",
      " 30  homeowner_desc                106972 non-null  object \n",
      " 31  hh_comp_desc                  106972 non-null  object \n",
      " 32  household_size_desc           106972 non-null  object \n",
      " 33  kid_category_desc             106972 non-null  object \n",
      "dtypes: float64(18), int64(3), object(13)\n",
      "memory usage: 28.6+ MB\n"
     ]
    }
   ],
   "source": [
    "X_train.info()"
   ],
   "metadata": {
    "collapsed": false,
    "pycharm": {
     "name": "#%%\n"
    }
   }
  },
  {
   "cell_type": "code",
   "execution_count": 189,
   "outputs": [
    {
     "data": {
      "text/plain": "Pipeline(steps=[('feats',\n                 FeatureUnion(transformer_list=[('manufacturer',\n                                                 Pipeline(steps=[('selector',\n                                                                  NumberSelector(key='manufacturer')),\n                                                                 ('standard',\n                                                                  StandardScaler())])),\n                                                ('day',\n                                                 Pipeline(steps=[('selector',\n                                                                  NumberSelector(key='day')),\n                                                                 ('standard',\n                                                                  StandardScaler())])),\n                                                ('quantity',\n                                                 Pipeline(steps=[('selector',\n                                                                  NumberSelector(key='quantity')),\n                                                                 ('standard',\n                                                                  St...\n                                                 Pipeline(steps=[('selector',\n                                                                  FeatureSelector(key='department')),\n                                                                 ('description_tfidf',\n                                                                  TfidfVectorizer())])),\n                                                ('commodity_desc',\n                                                 Pipeline(steps=[('selector',\n                                                                  FeatureSelector(key='commodity_desc')),\n                                                                 ('description_tfidf',\n                                                                  TfidfVectorizer())])),\n                                                ('sub_commodity_desc',\n                                                 Pipeline(steps=[('selector',\n                                                                  FeatureSelector(key='sub_commodity_desc')),\n                                                                 ('description_tfidf',\n                                                                  TfidfVectorizer())]))]))])"
     },
     "execution_count": 189,
     "metadata": {},
     "output_type": "execute_result"
    }
   ],
   "source": [
    "feature_processing.fit(X_train)"
   ],
   "metadata": {
    "collapsed": false,
    "pycharm": {
     "name": "#%%\n"
    }
   }
  },
  {
   "cell_type": "code",
   "execution_count": 456,
   "outputs": [
    {
     "data": {
      "text/plain": "['basket_id',\n 'day',\n 'quantity',\n 'sales_value',\n 'store_id',\n 'retail_disc',\n 'trans_time',\n 'week_no',\n 'coupon_disc',\n 'coupon_match_disc',\n 'avr_trans_time',\n 'time_cat',\n 'num_of_purchases',\n 'num_week_no',\n 'total_amount_of_purchases',\n 'avr_purchase_receipt',\n 'avr_weekly_purchase_receipt',\n 'num_days',\n 'avr_num_of_purchases_per_day',\n 'manufacturer',\n 'department',\n 'brand',\n 'commodity_desc',\n 'sub_commodity_desc',\n 'curr_size_of_product',\n 'age_desc',\n 'marital_status_code',\n 'income_desc',\n 'homeowner_desc',\n 'hh_comp_desc',\n 'household_size_desc',\n 'kid_category_desc']"
     },
     "execution_count": 456,
     "metadata": {},
     "output_type": "execute_result"
    }
   ],
   "source": [
    "cat_feats = X_train.columns[2:].tolist()\n",
    "X_train[cat_feats] = X_train[cat_feats].astype('category')\n",
    "\n",
    "cat_feats"
   ],
   "metadata": {
    "collapsed": false,
    "pycharm": {
     "name": "#%%\n"
    }
   }
  },
  {
   "cell_type": "code",
   "execution_count": 227,
   "outputs": [],
   "source": [
    "# classifier_lgb = Pipeline([\n",
    "#     ('features', feats),\n",
    "#     ('classifier', LogisticRegression()),\n",
    "# ])\n"
   ],
   "metadata": {
    "collapsed": false,
    "pycharm": {
     "name": "#%%\n"
    }
   }
  },
  {
   "cell_type": "code",
   "execution_count": 705,
   "outputs": [],
   "source": [
    "from catboost import CatBoost, Pool"
   ],
   "metadata": {
    "collapsed": false,
    "pycharm": {
     "name": "#%%\n"
    }
   }
  },
  {
   "cell_type": "code",
   "execution_count": 706,
   "outputs": [],
   "source": [
    "# df_bin_feat = pd.get_dummies(X_train)\n",
    "#\n",
    "# model = CatBoost(params ={'objective': \"Logloss\",\n",
    "#                           \"iterations\":1000,\n",
    "#                           \"max_depth\":8,\n",
    "#                           \"task_type\":\"GPU\",\n",
    "#                           \"devices\":\"0:1:2:3\"\n",
    "#             })\n",
    "# model.fit(df_bin_feat, y_train, silent=True)\n",
    "#\n",
    "# train_preds = model.predict(df_bin_feat,prediction_type=\"Probability\")"
   ],
   "metadata": {
    "collapsed": false,
    "pycharm": {
     "name": "#%%\n"
    }
   }
  },
  {
   "cell_type": "code",
   "execution_count": 96,
   "outputs": [],
   "source": [
    "classifier_lgb = Pipeline([\n",
    "    ('features', feats),\n",
    "    ('classifier', LGBMClassifier(objective='binary',\n",
    "                                  boosting_type='gbdt',\n",
    "                                  max_depth=55,\n",
    "                                  num_leaves=10,\n",
    "                                  min_child_samples=9,\n",
    "                                  n_estimators=200,\n",
    "                                  # learning_rate=0.327855,\n",
    "                                  # learning_rate=0.0032785714285714285,\n",
    "                                  learning_rate=0.0012785714285714285,\n",
    "                                  # categorical_column=cat_feats,\n",
    "                                  n_jobs=-1,\n",
    "                                  #                      verbose=0\n",
    "                                  )),\n",
    "])\n"
   ],
   "metadata": {
    "collapsed": false,
    "pycharm": {
     "name": "#%%\n"
    }
   }
  },
  {
   "cell_type": "code",
   "execution_count": 97,
   "outputs": [
    {
     "data": {
      "text/plain": "Pipeline(steps=[('features',\n                 FeatureUnion(transformer_list=[('manufacturer',\n                                                 Pipeline(steps=[('selector',\n                                                                  NumberSelector(key='manufacturer')),\n                                                                 ('standard',\n                                                                  StandardScaler())])),\n                                                ('day',\n                                                 Pipeline(steps=[('selector',\n                                                                  NumberSelector(key='day')),\n                                                                 ('standard',\n                                                                  StandardScaler())])),\n                                                ('quantity',\n                                                 Pipeline(steps=[('selector',\n                                                                  NumberSelector(key='quantity')),\n                                                                 ('standard'...\n                                                                  FeatureSelector(key='commodity_desc')),\n                                                                 ('description_tfidf',\n                                                                  TfidfVectorizer())])),\n                                                ('sub_commodity_desc',\n                                                 Pipeline(steps=[('selector',\n                                                                  FeatureSelector(key='sub_commodity_desc')),\n                                                                 ('description_tfidf',\n                                                                  TfidfVectorizer())]))])),\n                ('classifier',\n                 LGBMClassifier(learning_rate=0.0012785714285714284,\n                                max_depth=55, min_child_samples=9,\n                                n_estimators=200, num_leaves=10,\n                                objective='binary'))])"
     },
     "execution_count": 97,
     "metadata": {},
     "output_type": "execute_result"
    }
   ],
   "source": [
    "classifier_lgb.fit(X_train, y_train)"
   ],
   "metadata": {
    "collapsed": false,
    "pycharm": {
     "name": "#%%\n"
    }
   }
  },
  {
   "cell_type": "code",
   "execution_count": 98,
   "outputs": [],
   "source": [
    "train_preds = classifier_lgb.predict_proba(X_train)"
   ],
   "metadata": {
    "collapsed": false,
    "pycharm": {
     "name": "#%%\n"
    }
   }
  },
  {
   "cell_type": "code",
   "execution_count": 99,
   "outputs": [],
   "source": [
    "df_ranker_predict = df_ranker_train.copy()"
   ],
   "metadata": {
    "collapsed": false,
    "pycharm": {
     "name": "#%%\n"
    }
   }
  },
  {
   "cell_type": "code",
   "execution_count": 100,
   "outputs": [],
   "source": [
    "df_ranker_predict['proba_item_purchase'] = train_preds[:,1]"
   ],
   "metadata": {
    "collapsed": false,
    "pycharm": {
     "name": "#%%\n"
    }
   }
  },
  {
   "cell_type": "code",
   "execution_count": 101,
   "outputs": [
    {
     "data": {
      "text/plain": "0    0.056427\n1    0.056427\n2    0.282688\n3    0.056427\n4    0.056427\n5    0.056427\n6    0.056427\n7    0.056427\n8    0.056427\n9    0.056427\nName: proba_item_purchase, dtype: float64"
     },
     "execution_count": 101,
     "metadata": {},
     "output_type": "execute_result"
    }
   ],
   "source": [
    "df_ranker_predict['proba_item_purchase'][:10]"
   ],
   "metadata": {
    "collapsed": false,
    "pycharm": {
     "name": "#%%\n"
    }
   }
  },
  {
   "cell_type": "markdown",
   "source": [
    "# Evaluation on test dataset"
   ],
   "metadata": {
    "collapsed": false,
    "pycharm": {
     "name": "#%% md\n"
    }
   }
  },
  {
   "cell_type": "code",
   "execution_count": 102,
   "outputs": [
    {
     "data": {
      "text/plain": "   user_id                                             actual\n0        1  [821867, 834484, 856942, 865456, 889248, 90795...\n1        3  [835476, 851057, 872021, 878302, 879948, 90963...",
      "text/html": "<div>\n<style scoped>\n    .dataframe tbody tr th:only-of-type {\n        vertical-align: middle;\n    }\n\n    .dataframe tbody tr th {\n        vertical-align: top;\n    }\n\n    .dataframe thead th {\n        text-align: right;\n    }\n</style>\n<table border=\"1\" class=\"dataframe\">\n  <thead>\n    <tr style=\"text-align: right;\">\n      <th></th>\n      <th>user_id</th>\n      <th>actual</th>\n    </tr>\n  </thead>\n  <tbody>\n    <tr>\n      <th>0</th>\n      <td>1</td>\n      <td>[821867, 834484, 856942, 865456, 889248, 90795...</td>\n    </tr>\n    <tr>\n      <th>1</th>\n      <td>3</td>\n      <td>[835476, 851057, 872021, 878302, 879948, 90963...</td>\n    </tr>\n  </tbody>\n</table>\n</div>"
     },
     "execution_count": 102,
     "metadata": {},
     "output_type": "execute_result"
    }
   ],
   "source": [
    "result_eval_ranker = data_val_ranker.groupby(USER_COL)[ITEM_COL].unique().reset_index()\n",
    "result_eval_ranker.columns=[USER_COL, ACTUAL_COL]\n",
    "result_eval_ranker.head(2)"
   ],
   "metadata": {
    "collapsed": false,
    "pycharm": {
     "name": "#%%\n"
    }
   }
  },
  {
   "cell_type": "markdown",
   "source": [
    "## Eval matching on test dataset"
   ],
   "metadata": {
    "collapsed": false,
    "pycharm": {
     "name": "#%% md\n"
    }
   }
  },
  {
   "cell_type": "code",
   "execution_count": 103,
   "outputs": [
    {
     "name": "stdout",
     "output_type": "stream",
     "text": [
      "CPU times: total: 203 ms\n",
      "Wall time: 190 ms\n"
     ]
    }
   ],
   "source": [
    "%%time\n",
    "result_eval_ranker['own_rec'] = result_eval_ranker[USER_COL].apply(lambda x: recommender.get_own_recommendations(x, N=N_PREDICT))"
   ],
   "metadata": {
    "collapsed": false,
    "pycharm": {
     "name": "#%%\n"
    }
   }
  },
  {
   "cell_type": "code",
   "execution_count": 104,
   "outputs": [
    {
     "data": {
      "text/plain": "[('own_rec', 0.1444117647058813)]"
     },
     "execution_count": 104,
     "metadata": {},
     "output_type": "execute_result"
    }
   ],
   "source": [
    "# померяем precision только модели матчинга, чтобы понимать влияение ранжирования на метрики\n",
    "\n",
    "sorted(calc_precision(result_eval_ranker, TOPK_PRECISION), key=lambda x: x[1], reverse=True)"
   ],
   "metadata": {
    "collapsed": false,
    "pycharm": {
     "name": "#%%\n"
    }
   }
  },
  {
   "cell_type": "markdown",
   "source": [
    "## Eval re-ranked matched result on test dataset\n",
    "    Вспомним df_match_candidates сет, который был получен own_recommendations на юзерах, набор пользователей мы фиксировали и он одинаков, значит и прогноз одинаков, поэтому мы можем использовать этот датафрейм для переранжирования.\n"
   ],
   "metadata": {
    "collapsed": false,
    "pycharm": {
     "name": "#%% md\n"
    }
   }
  },
  {
   "cell_type": "code",
   "execution_count": 105,
   "outputs": [],
   "source": [
    "result_eval_ranker['reranked_own_rec'] = result_eval_ranker[USER_COL].apply(lambda user_id: rerank(user_id))"
   ],
   "metadata": {
    "collapsed": false,
    "pycharm": {
     "name": "#%%\n"
    }
   }
  },
  {
   "cell_type": "code",
   "execution_count": 106,
   "outputs": [],
   "source": [
    "tuple_res = sorted(calc_precision(result_eval_ranker, TOPK_PRECISION), key=lambda x: x[1], reverse=True)[0]"
   ],
   "metadata": {
    "collapsed": false,
    "pycharm": {
     "name": "#%%\n"
    }
   }
  },
  {
   "cell_type": "code",
   "execution_count": 107,
   "outputs": [
    {
     "data": {
      "text/plain": "'reranked_own_rec'"
     },
     "execution_count": 107,
     "metadata": {},
     "output_type": "execute_result"
    }
   ],
   "source": [
    "tuple_res[0]"
   ],
   "metadata": {
    "collapsed": false,
    "pycharm": {
     "name": "#%%\n"
    }
   }
  },
  {
   "cell_type": "code",
   "execution_count": 108,
   "outputs": [
    {
     "name": "stdout",
     "output_type": "stream",
     "text": [
      "('reranked_own_rec', 0.19446475195822263)\n",
      "('own_rec', 0.1444117647058813)\n"
     ]
    }
   ],
   "source": [
    "print(*sorted(calc_precision(result_eval_ranker, TOPK_PRECISION), key=lambda x: x[1], reverse=True), sep='\\n')"
   ],
   "metadata": {
    "collapsed": false,
    "pycharm": {
     "name": "#%%\n"
    }
   }
  },
  {
   "cell_type": "code",
   "execution_count": null,
   "outputs": [],
   "source": [],
   "metadata": {
    "collapsed": false,
    "pycharm": {
     "name": "#%%\n"
    }
   }
  }
 ],
 "metadata": {
  "kernelspec": {
   "display_name": "Python 3",
   "language": "python",
   "name": "python3"
  },
  "language_info": {
   "codemirror_mode": {
    "name": "ipython",
    "version": 2
   },
   "file_extension": ".py",
   "mimetype": "text/x-python",
   "name": "python",
   "nbconvert_exporter": "python",
   "pygments_lexer": "ipython2",
   "version": "2.7.6"
  }
 },
 "nbformat": 4,
 "nbformat_minor": 0
}